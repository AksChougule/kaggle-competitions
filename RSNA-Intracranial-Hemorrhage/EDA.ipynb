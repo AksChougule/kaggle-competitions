{
 "cells": [
  {
   "cell_type": "code",
   "execution_count": 3,
   "metadata": {},
   "outputs": [],
   "source": [
    "import numpy as np\n",
    "import pandas as pd\n",
    "import pydicom\n",
    "from matplotlib import pyplot as plt\n",
    "#from path import Path\n",
    "from pathlib import Path\n",
    "import glob\n",
    "from PIL import Image\n",
    "from fastai2.basics import *\n",
    "from fastai2.medical.imaging import *"
   ]
  },
  {
   "cell_type": "code",
   "execution_count": 4,
   "metadata": {},
   "outputs": [],
   "source": [
    "root = '/home/ubuntu/datasets/rsna-hemorrhage/'"
   ]
  },
  {
   "cell_type": "code",
   "execution_count": 9,
   "metadata": {},
   "outputs": [
    {
     "name": "stdout",
     "output_type": "stream",
     "text": [
      "ID_00008ce3c.jpg\n",
      "ID_0000aee4b.jpg\n",
      "ID_0002003a8.jpg\n",
      "ID_0002081b6.jpg\n",
      "ID_00027cbb1.jpg\n",
      "ls: write error: Broken pipe\n"
     ]
    }
   ],
   "source": [
    "!ls $root'rsna-hemorrhage-jpg/train_jpg/train_jpg/' | head -n 5"
   ]
  },
  {
   "cell_type": "code",
   "execution_count": 10,
   "metadata": {},
   "outputs": [
    {
     "name": "stdout",
     "output_type": "stream",
     "text": [
      "ID_fffd8342d.jpg\r\n",
      "ID_ffff53123.jpg\r\n",
      "ID_ffff73ede.jpg\r\n",
      "ID_ffff80705.jpg\r\n",
      "ID_ffff922b9.jpg\r\n"
     ]
    }
   ],
   "source": [
    "!ls $root'rsna-hemorrhage-jpg/train_jpg/train_jpg/' | tail -n 5"
   ]
  },
  {
   "cell_type": "code",
   "execution_count": 11,
   "metadata": {},
   "outputs": [
    {
     "name": "stdout",
     "output_type": "stream",
     "text": [
      "194082\r\n"
     ]
    }
   ],
   "source": [
    "!ls $root'rsna-hemorrhage-jpg/train_jpg/train_jpg/' | wc -l"
   ]
  },
  {
   "cell_type": "code",
   "execution_count": null,
   "metadata": {},
   "outputs": [],
   "source": []
  }
 ],
 "metadata": {
  "kernelspec": {
   "display_name": "Python 3",
   "language": "python",
   "name": "python3"
  },
  "language_info": {
   "codemirror_mode": {
    "name": "ipython",
    "version": 3
   },
   "file_extension": ".py",
   "mimetype": "text/x-python",
   "name": "python",
   "nbconvert_exporter": "python",
   "pygments_lexer": "ipython3",
   "version": "3.7.6"
  }
 },
 "nbformat": 4,
 "nbformat_minor": 4
}
