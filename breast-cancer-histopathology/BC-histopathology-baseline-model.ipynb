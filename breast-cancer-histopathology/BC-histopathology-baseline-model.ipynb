{
 "cells": [
  {
   "cell_type": "markdown",
   "metadata": {},
   "source": [
    "This notebook aims to build abaseline model on the Breast Cancer IDC histopathology images."
   ]
  },
  {
   "cell_type": "code",
   "execution_count": 1,
   "metadata": {},
   "outputs": [],
   "source": [
    "%matplotlib inline "
   ]
  },
  {
   "cell_type": "code",
   "execution_count": 2,
   "metadata": {},
   "outputs": [],
   "source": [
    "import pandas as pd\n",
    "import numpy as np\n",
    "import seaborn as sns\n",
    "from PIL import Image\n",
    "import matplotlib as plt\n",
    "import matplotlib.pyplot as pyplt\n",
    "import matplotlib.image as mpimg\n",
    "from skimage import io"
   ]
  },
  {
   "cell_type": "code",
   "execution_count": 3,
   "metadata": {},
   "outputs": [],
   "source": [
    "import wget\n",
    "import time\n",
    "import os\n",
    "import copy"
   ]
  },
  {
   "cell_type": "code",
   "execution_count": 4,
   "metadata": {},
   "outputs": [],
   "source": [
    "import torch\n",
    "import torch.optim as optim\n",
    "from torch.utils.data import Dataset, DataLoader\n",
    "from torchvision import datasets, models, transforms"
   ]
  },
  {
   "cell_type": "code",
   "execution_count": 5,
   "metadata": {},
   "outputs": [],
   "source": [
    "import fastai\n",
    "from fastai.vision.image import *\n",
    "from fastai.vision import *\n",
    "from fastai.metrics import *"
   ]
  },
  {
   "cell_type": "code",
   "execution_count": 6,
   "metadata": {},
   "outputs": [
    {
     "data": {
      "text/plain": [
       "'1.0.60'"
      ]
     },
     "execution_count": 6,
     "metadata": {},
     "output_type": "execute_result"
    }
   ],
   "source": [
    "fastai.__version__"
   ]
  },
  {
   "cell_type": "code",
   "execution_count": 7,
   "metadata": {},
   "outputs": [],
   "source": [
    "data_root = \"/home/ubuntu/datasets/breast-histopathology-images/\""
   ]
  },
  {
   "cell_type": "code",
   "execution_count": 8,
   "metadata": {},
   "outputs": [
    {
     "name": "stdout",
     "output_type": "stream",
     "text": [
      "total 3283148\r\n",
      "drwxr-xr-x   4 ubuntu ubuntu       4096 Feb  2 17:51 10253\r\n",
      "drwxr-xr-x   4 ubuntu ubuntu       4096 Feb  2 17:51 10254\r\n",
      "drwxr-xr-x   4 ubuntu ubuntu       4096 Feb  2 17:51 10255\r\n",
      "drwxr-xr-x   4 ubuntu ubuntu       4096 Feb  2 17:51 10256\r\n",
      "ls: write error: Broken pipe\r\n"
     ]
    }
   ],
   "source": [
    "!ls -l $data_root | head -5"
   ]
  },
  {
   "cell_type": "code",
   "execution_count": 9,
   "metadata": {},
   "outputs": [
    {
     "name": "stdout",
     "output_type": "stream",
     "text": [
      "drwxr-xr-x   4 ubuntu ubuntu       4096 Feb  2 17:52 9382\r\n",
      "drwxr-xr-x   4 ubuntu ubuntu       4096 Feb  2 17:52 9383\r\n",
      "-rw-rw-r--   1 ubuntu ubuntu 3326820824 Jan 31 15:54 breast-histopathology-images.zip\r\n",
      "drwxr-xr-x 281 ubuntu ubuntu      12288 Feb  2 17:52 IDC_regular_ps50_idx5\r\n",
      "-rw-r--r--   1 ubuntu ubuntu   33957737 Feb 18 22:06 train_labels.csv\r\n"
     ]
    }
   ],
   "source": [
    "!ls -l $data_root | tail -5"
   ]
  },
  {
   "cell_type": "code",
   "execution_count": 10,
   "metadata": {},
   "outputs": [
    {
     "name": "stdout",
     "output_type": "stream",
     "text": [
      "283\r\n"
     ]
    }
   ],
   "source": [
    "!ls -l $data_root | wc -l"
   ]
  },
  {
   "cell_type": "markdown",
   "metadata": {},
   "source": [
    "Seems we have the data of 279 patients. (subtracting the 3 irrelevant entries)"
   ]
  },
  {
   "cell_type": "code",
   "execution_count": 11,
   "metadata": {},
   "outputs": [],
   "source": [
    "from glob import glob\n",
    "import fnmatch"
   ]
  },
  {
   "cell_type": "code",
   "execution_count": 12,
   "metadata": {},
   "outputs": [
    {
     "data": {
      "text/plain": [
       "(277524,\n",
       " ['/home/ubuntu/datasets/breast-histopathology-images/IDC_regular_ps50_idx5/10273/1/10273_idx5_x2051_y1451_class1.png',\n",
       "  '/home/ubuntu/datasets/breast-histopathology-images/IDC_regular_ps50_idx5/10273/1/10273_idx5_x2751_y1401_class1.png',\n",
       "  '/home/ubuntu/datasets/breast-histopathology-images/IDC_regular_ps50_idx5/10273/1/10273_idx5_x1251_y1701_class1.png',\n",
       "  '/home/ubuntu/datasets/breast-histopathology-images/IDC_regular_ps50_idx5/10273/1/10273_idx5_x2351_y1001_class1.png',\n",
       "  '/home/ubuntu/datasets/breast-histopathology-images/IDC_regular_ps50_idx5/10273/1/10273_idx5_x1951_y1001_class1.png'])"
      ]
     },
     "execution_count": 12,
     "metadata": {},
     "output_type": "execute_result"
    }
   ],
   "source": [
    "# glob is a very useful library when training data is distributed across multiple directories\n",
    "image_patches = glob('/home/ubuntu/datasets/breast-histopathology-images/IDC_regular_ps50_idx5/**/*.png', recursive=True)\n",
    "len(image_patches), image_patches[:5]"
   ]
  },
  {
   "cell_type": "code",
   "execution_count": 13,
   "metadata": {},
   "outputs": [
    {
     "data": {
      "text/html": [
       "<div>\n",
       "<style scoped>\n",
       "    .dataframe tbody tr th:only-of-type {\n",
       "        vertical-align: middle;\n",
       "    }\n",
       "\n",
       "    .dataframe tbody tr th {\n",
       "        vertical-align: top;\n",
       "    }\n",
       "\n",
       "    .dataframe thead th {\n",
       "        text-align: right;\n",
       "    }\n",
       "</style>\n",
       "<table border=\"1\" class=\"dataframe\">\n",
       "  <thead>\n",
       "    <tr style=\"text-align: right;\">\n",
       "      <th></th>\n",
       "      <th>0</th>\n",
       "    </tr>\n",
       "  </thead>\n",
       "  <tbody>\n",
       "    <tr>\n",
       "      <th>0</th>\n",
       "      <td>/home/ubuntu/datasets/breast-histopathology-im...</td>\n",
       "    </tr>\n",
       "    <tr>\n",
       "      <th>1</th>\n",
       "      <td>/home/ubuntu/datasets/breast-histopathology-im...</td>\n",
       "    </tr>\n",
       "    <tr>\n",
       "      <th>2</th>\n",
       "      <td>/home/ubuntu/datasets/breast-histopathology-im...</td>\n",
       "    </tr>\n",
       "    <tr>\n",
       "      <th>3</th>\n",
       "      <td>/home/ubuntu/datasets/breast-histopathology-im...</td>\n",
       "    </tr>\n",
       "  </tbody>\n",
       "</table>\n",
       "</div>"
      ],
      "text/plain": [
       "                                                   0\n",
       "0  /home/ubuntu/datasets/breast-histopathology-im...\n",
       "1  /home/ubuntu/datasets/breast-histopathology-im...\n",
       "2  /home/ubuntu/datasets/breast-histopathology-im...\n",
       "3  /home/ubuntu/datasets/breast-histopathology-im..."
      ]
     },
     "execution_count": 13,
     "metadata": {},
     "output_type": "execute_result"
    }
   ],
   "source": [
    "tt = pd.DataFrame(image_patches)\n",
    "tt.head(4)"
   ]
  },
  {
   "cell_type": "code",
   "execution_count": 14,
   "metadata": {},
   "outputs": [
    {
     "data": {
      "text/html": [
       "<div>\n",
       "<style scoped>\n",
       "    .dataframe tbody tr th:only-of-type {\n",
       "        vertical-align: middle;\n",
       "    }\n",
       "\n",
       "    .dataframe tbody tr th {\n",
       "        vertical-align: top;\n",
       "    }\n",
       "\n",
       "    .dataframe thead th {\n",
       "        text-align: right;\n",
       "    }\n",
       "</style>\n",
       "<table border=\"1\" class=\"dataframe\">\n",
       "  <thead>\n",
       "    <tr style=\"text-align: right;\">\n",
       "      <th></th>\n",
       "      <th>patient_id</th>\n",
       "      <th>target</th>\n",
       "      <th>image</th>\n",
       "      <th>path</th>\n",
       "    </tr>\n",
       "  </thead>\n",
       "  <tbody>\n",
       "    <tr>\n",
       "      <th>0</th>\n",
       "      <td>10273</td>\n",
       "      <td>1</td>\n",
       "      <td>10273_idx5_x2051_y1451_class1.png</td>\n",
       "      <td>/home/ubuntu/datasets/breast-histopathology-im...</td>\n",
       "    </tr>\n",
       "    <tr>\n",
       "      <th>1</th>\n",
       "      <td>10273</td>\n",
       "      <td>1</td>\n",
       "      <td>10273_idx5_x2751_y1401_class1.png</td>\n",
       "      <td>/home/ubuntu/datasets/breast-histopathology-im...</td>\n",
       "    </tr>\n",
       "    <tr>\n",
       "      <th>2</th>\n",
       "      <td>10273</td>\n",
       "      <td>1</td>\n",
       "      <td>10273_idx5_x1251_y1701_class1.png</td>\n",
       "      <td>/home/ubuntu/datasets/breast-histopathology-im...</td>\n",
       "    </tr>\n",
       "    <tr>\n",
       "      <th>3</th>\n",
       "      <td>10273</td>\n",
       "      <td>1</td>\n",
       "      <td>10273_idx5_x2351_y1001_class1.png</td>\n",
       "      <td>/home/ubuntu/datasets/breast-histopathology-im...</td>\n",
       "    </tr>\n",
       "    <tr>\n",
       "      <th>4</th>\n",
       "      <td>10273</td>\n",
       "      <td>1</td>\n",
       "      <td>10273_idx5_x1951_y1001_class1.png</td>\n",
       "      <td>/home/ubuntu/datasets/breast-histopathology-im...</td>\n",
       "    </tr>\n",
       "  </tbody>\n",
       "</table>\n",
       "</div>"
      ],
      "text/plain": [
       "  patient_id target                              image  \\\n",
       "0      10273      1  10273_idx5_x2051_y1451_class1.png   \n",
       "1      10273      1  10273_idx5_x2751_y1401_class1.png   \n",
       "2      10273      1  10273_idx5_x1251_y1701_class1.png   \n",
       "3      10273      1  10273_idx5_x2351_y1001_class1.png   \n",
       "4      10273      1  10273_idx5_x1951_y1001_class1.png   \n",
       "\n",
       "                                                path  \n",
       "0  /home/ubuntu/datasets/breast-histopathology-im...  \n",
       "1  /home/ubuntu/datasets/breast-histopathology-im...  \n",
       "2  /home/ubuntu/datasets/breast-histopathology-im...  \n",
       "3  /home/ubuntu/datasets/breast-histopathology-im...  \n",
       "4  /home/ubuntu/datasets/breast-histopathology-im...  "
      ]
     },
     "execution_count": 14,
     "metadata": {},
     "output_type": "execute_result"
    }
   ],
   "source": [
    "tt2 = tt[0].str.split(\"/\").to_list()\n",
    "names = [\"1\", \"2\", \"3\", \"4\", \"5\", \"6\", \"patient_id\", \"target\", \"image\"]\n",
    "train_df = pd.DataFrame(tt2, columns=names)\n",
    "train_df.drop(['1', '2', '3', '4', '5', '6'], axis=1, inplace=True)\n",
    "train_df['path'] = tt[0]\n",
    "\n",
    "train_df.iloc[:5,:]"
   ]
  },
  {
   "cell_type": "code",
   "execution_count": 15,
   "metadata": {},
   "outputs": [
    {
     "data": {
      "text/html": [
       "<div>\n",
       "<style scoped>\n",
       "    .dataframe tbody tr th:only-of-type {\n",
       "        vertical-align: middle;\n",
       "    }\n",
       "\n",
       "    .dataframe tbody tr th {\n",
       "        vertical-align: top;\n",
       "    }\n",
       "\n",
       "    .dataframe thead th {\n",
       "        text-align: right;\n",
       "    }\n",
       "</style>\n",
       "<table border=\"1\" class=\"dataframe\">\n",
       "  <thead>\n",
       "    <tr style=\"text-align: right;\">\n",
       "      <th></th>\n",
       "      <th>patient_id</th>\n",
       "      <th>target</th>\n",
       "      <th>image</th>\n",
       "      <th>path</th>\n",
       "      <th>x_coords</th>\n",
       "      <th>y_coords</th>\n",
       "    </tr>\n",
       "  </thead>\n",
       "  <tbody>\n",
       "    <tr>\n",
       "      <th>0</th>\n",
       "      <td>10273</td>\n",
       "      <td>1</td>\n",
       "      <td>10273_idx5_x2051_y1451_class1.png</td>\n",
       "      <td>/home/ubuntu/datasets/breast-histopathology-im...</td>\n",
       "      <td>2051</td>\n",
       "      <td>1451</td>\n",
       "    </tr>\n",
       "    <tr>\n",
       "      <th>1</th>\n",
       "      <td>10273</td>\n",
       "      <td>1</td>\n",
       "      <td>10273_idx5_x2751_y1401_class1.png</td>\n",
       "      <td>/home/ubuntu/datasets/breast-histopathology-im...</td>\n",
       "      <td>2751</td>\n",
       "      <td>1401</td>\n",
       "    </tr>\n",
       "    <tr>\n",
       "      <th>2</th>\n",
       "      <td>10273</td>\n",
       "      <td>1</td>\n",
       "      <td>10273_idx5_x1251_y1701_class1.png</td>\n",
       "      <td>/home/ubuntu/datasets/breast-histopathology-im...</td>\n",
       "      <td>1251</td>\n",
       "      <td>1701</td>\n",
       "    </tr>\n",
       "    <tr>\n",
       "      <th>3</th>\n",
       "      <td>10273</td>\n",
       "      <td>1</td>\n",
       "      <td>10273_idx5_x2351_y1001_class1.png</td>\n",
       "      <td>/home/ubuntu/datasets/breast-histopathology-im...</td>\n",
       "      <td>2351</td>\n",
       "      <td>1001</td>\n",
       "    </tr>\n",
       "    <tr>\n",
       "      <th>4</th>\n",
       "      <td>10273</td>\n",
       "      <td>1</td>\n",
       "      <td>10273_idx5_x1951_y1001_class1.png</td>\n",
       "      <td>/home/ubuntu/datasets/breast-histopathology-im...</td>\n",
       "      <td>1951</td>\n",
       "      <td>1001</td>\n",
       "    </tr>\n",
       "  </tbody>\n",
       "</table>\n",
       "</div>"
      ],
      "text/plain": [
       "  patient_id target                              image  \\\n",
       "0      10273      1  10273_idx5_x2051_y1451_class1.png   \n",
       "1      10273      1  10273_idx5_x2751_y1401_class1.png   \n",
       "2      10273      1  10273_idx5_x1251_y1701_class1.png   \n",
       "3      10273      1  10273_idx5_x2351_y1001_class1.png   \n",
       "4      10273      1  10273_idx5_x1951_y1001_class1.png   \n",
       "\n",
       "                                                path  x_coords  y_coords  \n",
       "0  /home/ubuntu/datasets/breast-histopathology-im...      2051      1451  \n",
       "1  /home/ubuntu/datasets/breast-histopathology-im...      2751      1401  \n",
       "2  /home/ubuntu/datasets/breast-histopathology-im...      1251      1701  \n",
       "3  /home/ubuntu/datasets/breast-histopathology-im...      2351      1001  \n",
       "4  /home/ubuntu/datasets/breast-histopathology-im...      1951      1001  "
      ]
     },
     "execution_count": 15,
     "metadata": {},
     "output_type": "execute_result"
    }
   ],
   "source": [
    "img_coords = [img.split('_',4)[2:4] for img in train_df['image']]\n",
    "train_df['x_coords'] = [int(coords[0][1:]) for coords in img_coords]\n",
    "train_df['y_coords'] = [int(coords[1][1:]) for coords in img_coords]\n",
    "\n",
    "train_df.iloc[:5,:]"
   ]
  },
  {
   "cell_type": "code",
   "execution_count": 16,
   "metadata": {},
   "outputs": [],
   "source": [
    "train_labels = train_df[['path','target']]\n",
    "train_labels.to_csv('/home/ubuntu/datasets/breast-histopathology-images/train_labels.csv')"
   ]
  },
  {
   "cell_type": "markdown",
   "metadata": {},
   "source": [
    "### Create the databunch"
   ]
  },
  {
   "cell_type": "markdown",
   "metadata": {},
   "source": [
    "This section extensively uses code from Amerii's kernel from here: https://www.kaggle.com/amerii/breast-cancer-classification-end-to-end"
   ]
  },
  {
   "cell_type": "code",
   "execution_count": 17,
   "metadata": {},
   "outputs": [
    {
     "data": {
      "text/plain": [
       "device(type='cuda', index=0)"
      ]
     },
     "execution_count": 17,
     "metadata": {},
     "output_type": "execute_result"
    }
   ],
   "source": [
    "device = torch.device(\"cuda:0\" if torch.cuda.is_available() else \"cpu\")\n",
    "device"
   ]
  },
  {
   "cell_type": "code",
   "execution_count": 18,
   "metadata": {},
   "outputs": [],
   "source": [
    "additional_aug=[*zoom_crop(scale=(0.95,1.05), do_rand=False), \n",
    "#                     brightness(scale=(0.4, 0.6)), \n",
    "#                     contrast(scale=(0.6, 1.4), p=0.75)\n",
    "                   ]\n",
    "tfms = get_transforms(dihedral_affine(),max_lighting=0.2, max_zoom=1.15, xtra_tfms=additional_aug)"
   ]
  },
  {
   "cell_type": "code",
   "execution_count": 19,
   "metadata": {},
   "outputs": [
    {
     "data": {
      "text/plain": [
       "([PosixPath('/home/ubuntu/datasets/breast-histopathology-images/train_labels.csv'),\n",
       "  PosixPath('/home/ubuntu/datasets/breast-histopathology-images/breast-histopathology-images.zip'),\n",
       "  PosixPath('/home/ubuntu/datasets/breast-histopathology-images/10273/1/10273_idx5_x2051_y1451_class1.png'),\n",
       "  PosixPath('/home/ubuntu/datasets/breast-histopathology-images/10273/1/10273_idx5_x2751_y1401_class1.png'),\n",
       "  PosixPath('/home/ubuntu/datasets/breast-histopathology-images/10273/1/10273_idx5_x1251_y1701_class1.png')],\n",
       " [PosixPath('/home/ubuntu/datasets/breast-histopathology-images/9036/0/9036_idx5_x1801_y451_class0.png'),\n",
       "  PosixPath('/home/ubuntu/datasets/breast-histopathology-images/9036/0/9036_idx5_x2051_y2051_class0.png'),\n",
       "  PosixPath('/home/ubuntu/datasets/breast-histopathology-images/9036/0/9036_idx5_x951_y2451_class0.png'),\n",
       "  PosixPath('/home/ubuntu/datasets/breast-histopathology-images/9036/0/9036_idx5_x1051_y2001_class0.png'),\n",
       "  PosixPath('/home/ubuntu/datasets/breast-histopathology-images/9036/0/9036_idx5_x1251_y1701_class0.png')])"
      ]
     },
     "execution_count": 19,
     "metadata": {},
     "output_type": "execute_result"
    }
   ],
   "source": [
    "fnames=get_files(data_root, recurse=True)\n",
    "fnames[:5], fnames[-5:]"
   ]
  },
  {
   "cell_type": "code",
   "execution_count": 20,
   "metadata": {},
   "outputs": [
    {
     "data": {
      "text/plain": [
       "list"
      ]
     },
     "execution_count": 20,
     "metadata": {},
     "output_type": "execute_result"
    }
   ],
   "source": [
    "type(fnames)"
   ]
  },
  {
   "cell_type": "code",
   "execution_count": 21,
   "metadata": {},
   "outputs": [
    {
     "data": {
      "text/plain": [
       "[PosixPath('/home/ubuntu/datasets/breast-histopathology-images/10273/1/10273_idx5_x2051_y1451_class1.png'),\n",
       " PosixPath('/home/ubuntu/datasets/breast-histopathology-images/10273/1/10273_idx5_x2751_y1401_class1.png'),\n",
       " PosixPath('/home/ubuntu/datasets/breast-histopathology-images/10273/1/10273_idx5_x1251_y1701_class1.png'),\n",
       " PosixPath('/home/ubuntu/datasets/breast-histopathology-images/10273/1/10273_idx5_x2351_y1001_class1.png'),\n",
       " PosixPath('/home/ubuntu/datasets/breast-histopathology-images/10273/1/10273_idx5_x1951_y1001_class1.png')]"
      ]
     },
     "execution_count": 21,
     "metadata": {},
     "output_type": "execute_result"
    }
   ],
   "source": [
    "fnames.pop(0)\n",
    "fnames.pop(0)\n",
    "fnames[:5]"
   ]
  },
  {
   "cell_type": "code",
   "execution_count": 22,
   "metadata": {},
   "outputs": [],
   "source": [
    "pattern= r'([^/_]+).png'\n",
    "data = ImageDataBunch.from_name_re(data_root, fnames, pattern, ds_tfms=tfms, size=50, bs=256,num_workers=2\n",
    "                                  ).normalize()"
   ]
  },
  {
   "cell_type": "code",
   "execution_count": 23,
   "metadata": {},
   "outputs": [
    {
     "data": {
      "image/png": "[encoded data removed]",
      "text/plain": [
       "<Figure size 576x576 with 9 Axes>"
      ]
     },
     "metadata": {
      "needs_background": "light"
     },
     "output_type": "display_data"
    }
   ],
   "source": [
    "data.show_batch(rows=3, figsize=(8,8))"
   ]
  },
  {
   "cell_type": "code",
   "execution_count": 24,
   "metadata": {},
   "outputs": [],
   "source": [
    "arch = models.resnet34\n",
    "learn= cnn_learner(data, arch, metrics=[accuracy, error_rate], model_dir='/home/ubuntu/outputs/working/')"
   ]
  },
  {
   "cell_type": "code",
   "execution_count": 25,
   "metadata": {},
   "outputs": [
    {
     "data": {
      "text/html": [
       "\n",
       "    <div>\n",
       "        <style>\n",
       "            /* Turns off some styling */\n",
       "            progress {\n",
       "                /* gets rid of default border in Firefox and Opera. */\n",
       "                border: none;\n",
       "                /* Needs to be in here for Safari polyfill so background images work as expected. */\n",
       "                background-size: auto;\n",
       "            }\n",
       "            .progress-bar-interrupted, .progress-bar-interrupted::-webkit-progress-bar {\n",
       "                background: #F44336;\n",
       "            }\n",
       "        </style>\n",
       "      <progress value='0' class='' max='1', style='width:300px; height:20px; vertical-align: middle;'></progress>\n",
       "      0.00% [0/1 00:00<00:00]\n",
       "    </div>\n",
       "    \n",
       "<table border=\"1\" class=\"dataframe\">\n",
       "  <thead>\n",
       "    <tr style=\"text-align: left;\">\n",
       "      <th>epoch</th>\n",
       "      <th>train_loss</th>\n",
       "      <th>valid_loss</th>\n",
       "      <th>accuracy</th>\n",
       "      <th>error_rate</th>\n",
       "      <th>time</th>\n",
       "    </tr>\n",
       "  </thead>\n",
       "  <tbody>\n",
       "  </tbody>\n",
       "</table><p>\n",
       "\n",
       "    <div>\n",
       "        <style>\n",
       "            /* Turns off some styling */\n",
       "            progress {\n",
       "                /* gets rid of default border in Firefox and Opera. */\n",
       "                border: none;\n",
       "                /* Needs to be in here for Safari polyfill so background images work as expected. */\n",
       "                background-size: auto;\n",
       "            }\n",
       "            .progress-bar-interrupted, .progress-bar-interrupted::-webkit-progress-bar {\n",
       "                background: #F44336;\n",
       "            }\n",
       "        </style>\n",
       "      <progress value='88' class='' max='1734', style='width:300px; height:20px; vertical-align: middle;'></progress>\n",
       "      5.07% [88/1734 00:14<04:23 1.7414]\n",
       "    </div>\n",
       "    "
      ],
      "text/plain": [
       "<IPython.core.display.HTML object>"
      ]
     },
     "metadata": {},
     "output_type": "display_data"
    },
    {
     "name": "stdout",
     "output_type": "stream",
     "text": [
      "LR Finder is complete, type {learner_name}.recorder.plot() to see the graph.\n"
     ]
    },
    {
     "data": {
      "image/png": "[encoded data removed]",
      "text/plain": [
       "<Figure size 432x288 with 1 Axes>"
      ]
     },
     "metadata": {
      "needs_background": "light"
     },
     "output_type": "display_data"
    }
   ],
   "source": [
    "learn.lr_find()\n",
    "learn.recorder.plot()"
   ]
  },
  {
   "cell_type": "code",
   "execution_count": 26,
   "metadata": {},
   "outputs": [
    {
     "data": {
      "text/html": [
       "<table border=\"1\" class=\"dataframe\">\n",
       "  <thead>\n",
       "    <tr style=\"text-align: left;\">\n",
       "      <th>epoch</th>\n",
       "      <th>train_loss</th>\n",
       "      <th>valid_loss</th>\n",
       "      <th>accuracy</th>\n",
       "      <th>error_rate</th>\n",
       "      <th>time</th>\n",
       "    </tr>\n",
       "  </thead>\n",
       "  <tbody>\n",
       "    <tr>\n",
       "      <td>0</td>\n",
       "      <td>0.298704</td>\n",
       "      <td>0.311037</td>\n",
       "      <td>0.863930</td>\n",
       "      <td>0.136070</td>\n",
       "      <td>04:29</td>\n",
       "    </tr>\n",
       "    <tr>\n",
       "      <td>1</td>\n",
       "      <td>0.291462</td>\n",
       "      <td>0.321583</td>\n",
       "      <td>0.864200</td>\n",
       "      <td>0.135800</td>\n",
       "      <td>04:34</td>\n",
       "    </tr>\n",
       "    <tr>\n",
       "      <td>2</td>\n",
       "      <td>0.278421</td>\n",
       "      <td>0.298016</td>\n",
       "      <td>0.872749</td>\n",
       "      <td>0.127251</td>\n",
       "      <td>04:30</td>\n",
       "    </tr>\n",
       "    <tr>\n",
       "      <td>3</td>\n",
       "      <td>0.261412</td>\n",
       "      <td>0.308786</td>\n",
       "      <td>0.870110</td>\n",
       "      <td>0.129890</td>\n",
       "      <td>04:28</td>\n",
       "    </tr>\n",
       "    <tr>\n",
       "      <td>4</td>\n",
       "      <td>0.260967</td>\n",
       "      <td>0.281058</td>\n",
       "      <td>0.881154</td>\n",
       "      <td>0.118846</td>\n",
       "      <td>04:31</td>\n",
       "    </tr>\n",
       "  </tbody>\n",
       "</table>"
      ],
      "text/plain": [
       "<IPython.core.display.HTML object>"
      ]
     },
     "metadata": {},
     "output_type": "display_data"
    }
   ],
   "source": [
    "lr=1e-2\n",
    "learn.fit_one_cycle(5, lr)"
   ]
  },
  {
   "cell_type": "code",
   "execution_count": 27,
   "metadata": {},
   "outputs": [
    {
     "data": {
      "image/png": "[encoded data removed]",
      "text/plain": [
       "<Figure size 432x288 with 1 Axes>"
      ]
     },
     "metadata": {
      "needs_background": "light"
     },
     "output_type": "display_data"
    }
   ],
   "source": [
    "learn.recorder.plot_losses()"
   ]
  },
  {
   "cell_type": "code",
   "execution_count": 28,
   "metadata": {},
   "outputs": [],
   "source": [
    "learn.save('BC-IDC-histopathology-stage-1-resnet34')"
   ]
  },
  {
   "cell_type": "code",
   "execution_count": 29,
   "metadata": {},
   "outputs": [
    {
     "data": {
      "text/html": [
       "\n",
       "    <div>\n",
       "        <style>\n",
       "            /* Turns off some styling */\n",
       "            progress {\n",
       "                /* gets rid of default border in Firefox and Opera. */\n",
       "                border: none;\n",
       "                /* Needs to be in here for Safari polyfill so background images work as expected. */\n",
       "                background-size: auto;\n",
       "            }\n",
       "            .progress-bar-interrupted, .progress-bar-interrupted::-webkit-progress-bar {\n",
       "                background: #F44336;\n",
       "            }\n",
       "        </style>\n",
       "      <progress value='0' class='' max='1', style='width:300px; height:20px; vertical-align: middle;'></progress>\n",
       "      0.00% [0/1 00:00<00:00]\n",
       "    </div>\n",
       "    \n",
       "<table border=\"1\" class=\"dataframe\">\n",
       "  <thead>\n",
       "    <tr style=\"text-align: left;\">\n",
       "      <th>epoch</th>\n",
       "      <th>train_loss</th>\n",
       "      <th>valid_loss</th>\n",
       "      <th>accuracy</th>\n",
       "      <th>error_rate</th>\n",
       "      <th>time</th>\n",
       "    </tr>\n",
       "  </thead>\n",
       "  <tbody>\n",
       "  </tbody>\n",
       "</table><p>\n",
       "\n",
       "    <div>\n",
       "        <style>\n",
       "            /* Turns off some styling */\n",
       "            progress {\n",
       "                /* gets rid of default border in Firefox and Opera. */\n",
       "                border: none;\n",
       "                /* Needs to be in here for Safari polyfill so background images work as expected. */\n",
       "                background-size: auto;\n",
       "            }\n",
       "            .progress-bar-interrupted, .progress-bar-interrupted::-webkit-progress-bar {\n",
       "                background: #F44336;\n",
       "            }\n",
       "        </style>\n",
       "      <progress value='84' class='' max='1734', style='width:300px; height:20px; vertical-align: middle;'></progress>\n",
       "      4.84% [84/1734 00:12<04:05 0.9116]\n",
       "    </div>\n",
       "    "
      ],
      "text/plain": [
       "<IPython.core.display.HTML object>"
      ]
     },
     "metadata": {},
     "output_type": "display_data"
    },
    {
     "name": "stdout",
     "output_type": "stream",
     "text": [
      "LR Finder is complete, type {learner_name}.recorder.plot() to see the graph.\n"
     ]
    },
    {
     "data": {
      "image/png": "[encoded data removed]",
      "text/plain": [
       "<Figure size 432x288 with 1 Axes>"
      ]
     },
     "metadata": {
      "needs_background": "light"
     },
     "output_type": "display_data"
    }
   ],
   "source": [
    "learn.unfreeze()\n",
    "\n",
    "learn.lr_find()\n",
    "learn.recorder.plot()"
   ]
  },
  {
   "cell_type": "code",
   "execution_count": 30,
   "metadata": {},
   "outputs": [
    {
     "data": {
      "text/html": [
       "<table border=\"1\" class=\"dataframe\">\n",
       "  <thead>\n",
       "    <tr style=\"text-align: left;\">\n",
       "      <th>epoch</th>\n",
       "      <th>train_loss</th>\n",
       "      <th>valid_loss</th>\n",
       "      <th>accuracy</th>\n",
       "      <th>error_rate</th>\n",
       "      <th>time</th>\n",
       "    </tr>\n",
       "  </thead>\n",
       "  <tbody>\n",
       "    <tr>\n",
       "      <td>0</td>\n",
       "      <td>0.257050</td>\n",
       "      <td>0.276276</td>\n",
       "      <td>0.882478</td>\n",
       "      <td>0.117522</td>\n",
       "      <td>04:30</td>\n",
       "    </tr>\n",
       "    <tr>\n",
       "      <td>1</td>\n",
       "      <td>0.256331</td>\n",
       "      <td>0.279050</td>\n",
       "      <td>0.882280</td>\n",
       "      <td>0.117720</td>\n",
       "      <td>04:29</td>\n",
       "    </tr>\n",
       "    <tr>\n",
       "      <td>2</td>\n",
       "      <td>0.248662</td>\n",
       "      <td>0.280064</td>\n",
       "      <td>0.882136</td>\n",
       "      <td>0.117864</td>\n",
       "      <td>04:27</td>\n",
       "    </tr>\n",
       "    <tr>\n",
       "      <td>3</td>\n",
       "      <td>0.255731</td>\n",
       "      <td>0.266875</td>\n",
       "      <td>0.887099</td>\n",
       "      <td>0.112901</td>\n",
       "      <td>04:28</td>\n",
       "    </tr>\n",
       "    <tr>\n",
       "      <td>4</td>\n",
       "      <td>0.253477</td>\n",
       "      <td>0.275716</td>\n",
       "      <td>0.883460</td>\n",
       "      <td>0.116540</td>\n",
       "      <td>04:31</td>\n",
       "    </tr>\n",
       "    <tr>\n",
       "      <td>5</td>\n",
       "      <td>0.248062</td>\n",
       "      <td>0.275226</td>\n",
       "      <td>0.883298</td>\n",
       "      <td>0.116702</td>\n",
       "      <td>04:30</td>\n",
       "    </tr>\n",
       "  </tbody>\n",
       "</table>"
      ],
      "text/plain": [
       "<IPython.core.display.HTML object>"
      ]
     },
     "metadata": {},
     "output_type": "display_data"
    }
   ],
   "source": [
    "learn.fit_one_cycle(6,slice(1e-6,1e-5))"
   ]
  },
  {
   "cell_type": "code",
   "execution_count": 31,
   "metadata": {},
   "outputs": [],
   "source": [
    "learn.save('BC-IDC-histopathology-stage-2-resnet34')"
   ]
  },
  {
   "cell_type": "code",
   "execution_count": 32,
   "metadata": {},
   "outputs": [
    {
     "data": {
      "text/html": [],
      "text/plain": [
       "<IPython.core.display.HTML object>"
      ]
     },
     "metadata": {},
     "output_type": "display_data"
    },
    {
     "data": {
      "image/png": "[encoded data removed]",
      "text/plain": [
       "<Figure size 432x432 with 1 Axes>"
      ]
     },
     "metadata": {
      "needs_background": "light"
     },
     "output_type": "display_data"
    }
   ],
   "source": [
    "interp= ClassificationInterpretation.from_learner(learn)\n",
    "interp.plot_confusion_matrix(figsize=(6,6))"
   ]
  }
 ],
 "metadata": {
  "kernelspec": {
   "display_name": "Python 3",
   "language": "python",
   "name": "python3"
  },
  "language_info": {
   "codemirror_mode": {
    "name": "ipython",
    "version": 3
   },
   "file_extension": ".py",
   "mimetype": "text/x-python",
   "name": "python",
   "nbconvert_exporter": "python",
   "pygments_lexer": "ipython3",
   "version": "3.7.3"
  }
 },
 "nbformat": 4,
 "nbformat_minor": 2
}
