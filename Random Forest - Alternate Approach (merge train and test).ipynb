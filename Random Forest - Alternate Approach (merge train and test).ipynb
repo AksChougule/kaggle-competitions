{
 "cells": [
  {
   "cell_type": "markdown",
   "metadata": {},
   "source": [
    "## SF-crime Kaggle competition"
   ]
  },
  {
   "cell_type": "code",
   "execution_count": 1,
   "metadata": {},
   "outputs": [],
   "source": [
    "# Let's start by some standard code\n",
    "%load_ext autoreload\n",
    "%autoreload 2\n",
    "%matplotlib inline"
   ]
  },
  {
   "cell_type": "code",
   "execution_count": 2,
   "metadata": {},
   "outputs": [],
   "source": [
    "from fastai.imports import *\n",
    "from fastai.structured import *\n",
    "\n",
    "from pandas_summary import DataFrameSummary\n",
    "from sklearn.ensemble import RandomForestClassifier\n",
    "from sklearn.decomposition import PCA\n",
    "from IPython.display import display\n",
    "\n",
    "from sklearn import metrics\n",
    "from graphviz import *"
   ]
  },
  {
   "cell_type": "code",
   "execution_count": 3,
   "metadata": {},
   "outputs": [],
   "source": [
    "PATH = \"data/sf-crime/\""
   ]
  },
  {
   "cell_type": "code",
   "execution_count": 4,
   "metadata": {},
   "outputs": [
    {
     "name": "stdout",
     "output_type": "stream",
     "text": [
      "\u001b[34mold_results\u001b[m\u001b[m          results_m4.csv       results_m7.csv\r\n",
      "results_m1.csv       results_m4_sub.csv   results_m7_sub.csv\r\n",
      "results_m1_sub.csv   results_m5.csv       sampleSubmission.csv\r\n",
      "results_m2.csv       results_m5_sub.csv   test.csv\r\n",
      "results_m3.csv       results_m6.csv       train.csv\r\n",
      "results_m3_sub.csv   results_m6_sub.csv\r\n"
     ]
    }
   ],
   "source": [
    "!ls {PATH}"
   ]
  },
  {
   "cell_type": "markdown",
   "metadata": {},
   "source": [
    "### 1. Let's load and explore the data"
   ]
  },
  {
   "cell_type": "code",
   "execution_count": 5,
   "metadata": {},
   "outputs": [],
   "source": [
    "train=pd.read_csv(f'{PATH}train.csv',parse_dates=['Dates'])"
   ]
  },
  {
   "cell_type": "code",
   "execution_count": 6,
   "metadata": {},
   "outputs": [
    {
     "data": {
      "text/plain": [
       "Index(['Dates', 'Category', 'Descript', 'DayOfWeek', 'PdDistrict',\n",
       "       'Resolution', 'Address', 'X', 'Y'],\n",
       "      dtype='object')"
      ]
     },
     "execution_count": 6,
     "metadata": {},
     "output_type": "execute_result"
    }
   ],
   "source": [
    "train.columns"
   ]
  },
  {
   "cell_type": "code",
   "execution_count": 7,
   "metadata": {},
   "outputs": [
    {
     "data": {
      "text/html": [
       "<div>\n",
       "<style scoped>\n",
       "    .dataframe tbody tr th:only-of-type {\n",
       "        vertical-align: middle;\n",
       "    }\n",
       "\n",
       "    .dataframe tbody tr th {\n",
       "        vertical-align: top;\n",
       "    }\n",
       "\n",
       "    .dataframe thead th {\n",
       "        text-align: right;\n",
       "    }\n",
       "</style>\n",
       "<table border=\"1\" class=\"dataframe\">\n",
       "  <thead>\n",
       "    <tr style=\"text-align: right;\">\n",
       "      <th></th>\n",
       "      <th>Dates</th>\n",
       "      <th>Category</th>\n",
       "      <th>Descript</th>\n",
       "      <th>DayOfWeek</th>\n",
       "      <th>PdDistrict</th>\n",
       "      <th>Resolution</th>\n",
       "      <th>Address</th>\n",
       "      <th>X</th>\n",
       "      <th>Y</th>\n",
       "    </tr>\n",
       "  </thead>\n",
       "  <tbody>\n",
       "    <tr>\n",
       "      <th>0</th>\n",
       "      <td>2015-05-13 23:53:00</td>\n",
       "      <td>WARRANTS</td>\n",
       "      <td>WARRANT ARREST</td>\n",
       "      <td>Wednesday</td>\n",
       "      <td>NORTHERN</td>\n",
       "      <td>ARREST, BOOKED</td>\n",
       "      <td>OAK ST / LAGUNA ST</td>\n",
       "      <td>-122.425892</td>\n",
       "      <td>37.774599</td>\n",
       "    </tr>\n",
       "    <tr>\n",
       "      <th>1</th>\n",
       "      <td>2015-05-13 23:53:00</td>\n",
       "      <td>OTHER OFFENSES</td>\n",
       "      <td>TRAFFIC VIOLATION ARREST</td>\n",
       "      <td>Wednesday</td>\n",
       "      <td>NORTHERN</td>\n",
       "      <td>ARREST, BOOKED</td>\n",
       "      <td>OAK ST / LAGUNA ST</td>\n",
       "      <td>-122.425892</td>\n",
       "      <td>37.774599</td>\n",
       "    </tr>\n",
       "    <tr>\n",
       "      <th>2</th>\n",
       "      <td>2015-05-13 23:33:00</td>\n",
       "      <td>OTHER OFFENSES</td>\n",
       "      <td>TRAFFIC VIOLATION ARREST</td>\n",
       "      <td>Wednesday</td>\n",
       "      <td>NORTHERN</td>\n",
       "      <td>ARREST, BOOKED</td>\n",
       "      <td>VANNESS AV / GREENWICH ST</td>\n",
       "      <td>-122.424363</td>\n",
       "      <td>37.800414</td>\n",
       "    </tr>\n",
       "    <tr>\n",
       "      <th>3</th>\n",
       "      <td>2015-05-13 23:30:00</td>\n",
       "      <td>LARCENY/THEFT</td>\n",
       "      <td>GRAND THEFT FROM LOCKED AUTO</td>\n",
       "      <td>Wednesday</td>\n",
       "      <td>NORTHERN</td>\n",
       "      <td>NONE</td>\n",
       "      <td>1500 Block of LOMBARD ST</td>\n",
       "      <td>-122.426995</td>\n",
       "      <td>37.800873</td>\n",
       "    </tr>\n",
       "    <tr>\n",
       "      <th>4</th>\n",
       "      <td>2015-05-13 23:30:00</td>\n",
       "      <td>LARCENY/THEFT</td>\n",
       "      <td>GRAND THEFT FROM LOCKED AUTO</td>\n",
       "      <td>Wednesday</td>\n",
       "      <td>PARK</td>\n",
       "      <td>NONE</td>\n",
       "      <td>100 Block of BRODERICK ST</td>\n",
       "      <td>-122.438738</td>\n",
       "      <td>37.771541</td>\n",
       "    </tr>\n",
       "  </tbody>\n",
       "</table>\n",
       "</div>"
      ],
      "text/plain": [
       "                Dates        Category                      Descript  \\\n",
       "0 2015-05-13 23:53:00        WARRANTS                WARRANT ARREST   \n",
       "1 2015-05-13 23:53:00  OTHER OFFENSES      TRAFFIC VIOLATION ARREST   \n",
       "2 2015-05-13 23:33:00  OTHER OFFENSES      TRAFFIC VIOLATION ARREST   \n",
       "3 2015-05-13 23:30:00   LARCENY/THEFT  GRAND THEFT FROM LOCKED AUTO   \n",
       "4 2015-05-13 23:30:00   LARCENY/THEFT  GRAND THEFT FROM LOCKED AUTO   \n",
       "\n",
       "   DayOfWeek PdDistrict      Resolution                    Address  \\\n",
       "0  Wednesday   NORTHERN  ARREST, BOOKED         OAK ST / LAGUNA ST   \n",
       "1  Wednesday   NORTHERN  ARREST, BOOKED         OAK ST / LAGUNA ST   \n",
       "2  Wednesday   NORTHERN  ARREST, BOOKED  VANNESS AV / GREENWICH ST   \n",
       "3  Wednesday   NORTHERN            NONE   1500 Block of LOMBARD ST   \n",
       "4  Wednesday       PARK            NONE  100 Block of BRODERICK ST   \n",
       "\n",
       "            X          Y  \n",
       "0 -122.425892  37.774599  \n",
       "1 -122.425892  37.774599  \n",
       "2 -122.424363  37.800414  \n",
       "3 -122.426995  37.800873  \n",
       "4 -122.438738  37.771541  "
      ]
     },
     "metadata": {},
     "output_type": "display_data"
    }
   ],
   "source": [
    "display(train.head())"
   ]
  },
  {
   "cell_type": "code",
   "execution_count": 8,
   "metadata": {},
   "outputs": [
    {
     "data": {
      "text/plain": [
       "Address       0.0\n",
       "Category      0.0\n",
       "Dates         0.0\n",
       "DayOfWeek     0.0\n",
       "Descript      0.0\n",
       "PdDistrict    0.0\n",
       "Resolution    0.0\n",
       "X             0.0\n",
       "Y             0.0\n",
       "dtype: float64"
      ]
     },
     "metadata": {},
     "output_type": "display_data"
    }
   ],
   "source": [
    "display(train.isnull().sum().sort_index()/len(train))"
   ]
  },
  {
   "cell_type": "markdown",
   "metadata": {},
   "source": [
    "### What we see in the data\n",
    "1. One date field. So the date formatting and feature extraction is required.\n",
    "2. A few categorical variables. We will have to convert these into numbers.\n",
    "3. No missing values."
   ]
  },
  {
   "cell_type": "markdown",
   "metadata": {},
   "source": [
    "### Let's explore the response variable (y)"
   ]
  },
  {
   "cell_type": "code",
   "execution_count": 9,
   "metadata": {},
   "outputs": [
    {
     "data": {
      "text/plain": [
       "array(['WARRANTS', 'OTHER OFFENSES', 'LARCENY/THEFT', 'VEHICLE THEFT', 'VANDALISM', 'NON-CRIMINAL',\n",
       "       'ROBBERY', 'ASSAULT', 'WEAPON LAWS', 'BURGLARY', 'SUSPICIOUS OCC', 'DRUNKENNESS',\n",
       "       'FORGERY/COUNTERFEITING', 'DRUG/NARCOTIC', 'STOLEN PROPERTY', 'SECONDARY CODES', 'TRESPASS',\n",
       "       'MISSING PERSON', 'FRAUD', 'KIDNAPPING', 'RUNAWAY', 'DRIVING UNDER THE INFLUENCE',\n",
       "       'SEX OFFENSES FORCIBLE', 'PROSTITUTION', 'DISORDERLY CONDUCT', 'ARSON', 'FAMILY OFFENSES',\n",
       "       'LIQUOR LAWS', 'BRIBERY', 'EMBEZZLEMENT', 'SUICIDE', 'LOITERING', 'SEX OFFENSES NON FORCIBLE',\n",
       "       'EXTORTION', 'GAMBLING', 'BAD CHECKS', 'TREA', 'RECOVERED VEHICLE', 'PORNOGRAPHY/OBSCENE MAT'],\n",
       "      dtype=object)"
      ]
     },
     "execution_count": 9,
     "metadata": {},
     "output_type": "execute_result"
    }
   ],
   "source": [
    "train['Category'].unique()"
   ]
  },
  {
   "cell_type": "code",
   "execution_count": 10,
   "metadata": {},
   "outputs": [
    {
     "data": {
      "text/html": [
       "<div>\n",
       "<style scoped>\n",
       "    .dataframe tbody tr th:only-of-type {\n",
       "        vertical-align: middle;\n",
       "    }\n",
       "\n",
       "    .dataframe tbody tr th {\n",
       "        vertical-align: top;\n",
       "    }\n",
       "\n",
       "    .dataframe thead th {\n",
       "        text-align: right;\n",
       "    }\n",
       "</style>\n",
       "<table border=\"1\" class=\"dataframe\">\n",
       "  <thead>\n",
       "    <tr style=\"text-align: right;\">\n",
       "      <th></th>\n",
       "      <th>Dates</th>\n",
       "      <th>Descript</th>\n",
       "      <th>DayOfWeek</th>\n",
       "      <th>PdDistrict</th>\n",
       "      <th>Resolution</th>\n",
       "      <th>Address</th>\n",
       "      <th>X</th>\n",
       "      <th>Y</th>\n",
       "    </tr>\n",
       "    <tr>\n",
       "      <th>Category</th>\n",
       "      <th></th>\n",
       "      <th></th>\n",
       "      <th></th>\n",
       "      <th></th>\n",
       "      <th></th>\n",
       "      <th></th>\n",
       "      <th></th>\n",
       "      <th></th>\n",
       "    </tr>\n",
       "  </thead>\n",
       "  <tbody>\n",
       "    <tr>\n",
       "      <th>TREA</th>\n",
       "      <td>6</td>\n",
       "      <td>6</td>\n",
       "      <td>6</td>\n",
       "      <td>6</td>\n",
       "      <td>6</td>\n",
       "      <td>6</td>\n",
       "      <td>6</td>\n",
       "      <td>6</td>\n",
       "    </tr>\n",
       "    <tr>\n",
       "      <th>PORNOGRAPHY/OBSCENE MAT</th>\n",
       "      <td>22</td>\n",
       "      <td>22</td>\n",
       "      <td>22</td>\n",
       "      <td>22</td>\n",
       "      <td>22</td>\n",
       "      <td>22</td>\n",
       "      <td>22</td>\n",
       "      <td>22</td>\n",
       "    </tr>\n",
       "    <tr>\n",
       "      <th>GAMBLING</th>\n",
       "      <td>146</td>\n",
       "      <td>146</td>\n",
       "      <td>146</td>\n",
       "      <td>146</td>\n",
       "      <td>146</td>\n",
       "      <td>146</td>\n",
       "      <td>146</td>\n",
       "      <td>146</td>\n",
       "    </tr>\n",
       "    <tr>\n",
       "      <th>SEX OFFENSES NON FORCIBLE</th>\n",
       "      <td>148</td>\n",
       "      <td>148</td>\n",
       "      <td>148</td>\n",
       "      <td>148</td>\n",
       "      <td>148</td>\n",
       "      <td>148</td>\n",
       "      <td>148</td>\n",
       "      <td>148</td>\n",
       "    </tr>\n",
       "    <tr>\n",
       "      <th>EXTORTION</th>\n",
       "      <td>256</td>\n",
       "      <td>256</td>\n",
       "      <td>256</td>\n",
       "      <td>256</td>\n",
       "      <td>256</td>\n",
       "      <td>256</td>\n",
       "      <td>256</td>\n",
       "      <td>256</td>\n",
       "    </tr>\n",
       "    <tr>\n",
       "      <th>BRIBERY</th>\n",
       "      <td>289</td>\n",
       "      <td>289</td>\n",
       "      <td>289</td>\n",
       "      <td>289</td>\n",
       "      <td>289</td>\n",
       "      <td>289</td>\n",
       "      <td>289</td>\n",
       "      <td>289</td>\n",
       "    </tr>\n",
       "    <tr>\n",
       "      <th>BAD CHECKS</th>\n",
       "      <td>406</td>\n",
       "      <td>406</td>\n",
       "      <td>406</td>\n",
       "      <td>406</td>\n",
       "      <td>406</td>\n",
       "      <td>406</td>\n",
       "      <td>406</td>\n",
       "      <td>406</td>\n",
       "    </tr>\n",
       "    <tr>\n",
       "      <th>FAMILY OFFENSES</th>\n",
       "      <td>491</td>\n",
       "      <td>491</td>\n",
       "      <td>491</td>\n",
       "      <td>491</td>\n",
       "      <td>491</td>\n",
       "      <td>491</td>\n",
       "      <td>491</td>\n",
       "      <td>491</td>\n",
       "    </tr>\n",
       "    <tr>\n",
       "      <th>SUICIDE</th>\n",
       "      <td>508</td>\n",
       "      <td>508</td>\n",
       "      <td>508</td>\n",
       "      <td>508</td>\n",
       "      <td>508</td>\n",
       "      <td>508</td>\n",
       "      <td>508</td>\n",
       "      <td>508</td>\n",
       "    </tr>\n",
       "    <tr>\n",
       "      <th>EMBEZZLEMENT</th>\n",
       "      <td>1166</td>\n",
       "      <td>1166</td>\n",
       "      <td>1166</td>\n",
       "      <td>1166</td>\n",
       "      <td>1166</td>\n",
       "      <td>1166</td>\n",
       "      <td>1166</td>\n",
       "      <td>1166</td>\n",
       "    </tr>\n",
       "    <tr>\n",
       "      <th>LOITERING</th>\n",
       "      <td>1225</td>\n",
       "      <td>1225</td>\n",
       "      <td>1225</td>\n",
       "      <td>1225</td>\n",
       "      <td>1225</td>\n",
       "      <td>1225</td>\n",
       "      <td>1225</td>\n",
       "      <td>1225</td>\n",
       "    </tr>\n",
       "    <tr>\n",
       "      <th>ARSON</th>\n",
       "      <td>1513</td>\n",
       "      <td>1513</td>\n",
       "      <td>1513</td>\n",
       "      <td>1513</td>\n",
       "      <td>1513</td>\n",
       "      <td>1513</td>\n",
       "      <td>1513</td>\n",
       "      <td>1513</td>\n",
       "    </tr>\n",
       "    <tr>\n",
       "      <th>LIQUOR LAWS</th>\n",
       "      <td>1903</td>\n",
       "      <td>1903</td>\n",
       "      <td>1903</td>\n",
       "      <td>1903</td>\n",
       "      <td>1903</td>\n",
       "      <td>1903</td>\n",
       "      <td>1903</td>\n",
       "      <td>1903</td>\n",
       "    </tr>\n",
       "    <tr>\n",
       "      <th>RUNAWAY</th>\n",
       "      <td>1946</td>\n",
       "      <td>1946</td>\n",
       "      <td>1946</td>\n",
       "      <td>1946</td>\n",
       "      <td>1946</td>\n",
       "      <td>1946</td>\n",
       "      <td>1946</td>\n",
       "      <td>1946</td>\n",
       "    </tr>\n",
       "    <tr>\n",
       "      <th>DRIVING UNDER THE INFLUENCE</th>\n",
       "      <td>2268</td>\n",
       "      <td>2268</td>\n",
       "      <td>2268</td>\n",
       "      <td>2268</td>\n",
       "      <td>2268</td>\n",
       "      <td>2268</td>\n",
       "      <td>2268</td>\n",
       "      <td>2268</td>\n",
       "    </tr>\n",
       "    <tr>\n",
       "      <th>KIDNAPPING</th>\n",
       "      <td>2341</td>\n",
       "      <td>2341</td>\n",
       "      <td>2341</td>\n",
       "      <td>2341</td>\n",
       "      <td>2341</td>\n",
       "      <td>2341</td>\n",
       "      <td>2341</td>\n",
       "      <td>2341</td>\n",
       "    </tr>\n",
       "    <tr>\n",
       "      <th>RECOVERED VEHICLE</th>\n",
       "      <td>3138</td>\n",
       "      <td>3138</td>\n",
       "      <td>3138</td>\n",
       "      <td>3138</td>\n",
       "      <td>3138</td>\n",
       "      <td>3138</td>\n",
       "      <td>3138</td>\n",
       "      <td>3138</td>\n",
       "    </tr>\n",
       "    <tr>\n",
       "      <th>DRUNKENNESS</th>\n",
       "      <td>4280</td>\n",
       "      <td>4280</td>\n",
       "      <td>4280</td>\n",
       "      <td>4280</td>\n",
       "      <td>4280</td>\n",
       "      <td>4280</td>\n",
       "      <td>4280</td>\n",
       "      <td>4280</td>\n",
       "    </tr>\n",
       "    <tr>\n",
       "      <th>DISORDERLY CONDUCT</th>\n",
       "      <td>4320</td>\n",
       "      <td>4320</td>\n",
       "      <td>4320</td>\n",
       "      <td>4320</td>\n",
       "      <td>4320</td>\n",
       "      <td>4320</td>\n",
       "      <td>4320</td>\n",
       "      <td>4320</td>\n",
       "    </tr>\n",
       "    <tr>\n",
       "      <th>SEX OFFENSES FORCIBLE</th>\n",
       "      <td>4388</td>\n",
       "      <td>4388</td>\n",
       "      <td>4388</td>\n",
       "      <td>4388</td>\n",
       "      <td>4388</td>\n",
       "      <td>4388</td>\n",
       "      <td>4388</td>\n",
       "      <td>4388</td>\n",
       "    </tr>\n",
       "    <tr>\n",
       "      <th>STOLEN PROPERTY</th>\n",
       "      <td>4540</td>\n",
       "      <td>4540</td>\n",
       "      <td>4540</td>\n",
       "      <td>4540</td>\n",
       "      <td>4540</td>\n",
       "      <td>4540</td>\n",
       "      <td>4540</td>\n",
       "      <td>4540</td>\n",
       "    </tr>\n",
       "    <tr>\n",
       "      <th>TRESPASS</th>\n",
       "      <td>7326</td>\n",
       "      <td>7326</td>\n",
       "      <td>7326</td>\n",
       "      <td>7326</td>\n",
       "      <td>7326</td>\n",
       "      <td>7326</td>\n",
       "      <td>7326</td>\n",
       "      <td>7326</td>\n",
       "    </tr>\n",
       "    <tr>\n",
       "      <th>PROSTITUTION</th>\n",
       "      <td>7484</td>\n",
       "      <td>7484</td>\n",
       "      <td>7484</td>\n",
       "      <td>7484</td>\n",
       "      <td>7484</td>\n",
       "      <td>7484</td>\n",
       "      <td>7484</td>\n",
       "      <td>7484</td>\n",
       "    </tr>\n",
       "    <tr>\n",
       "      <th>WEAPON LAWS</th>\n",
       "      <td>8555</td>\n",
       "      <td>8555</td>\n",
       "      <td>8555</td>\n",
       "      <td>8555</td>\n",
       "      <td>8555</td>\n",
       "      <td>8555</td>\n",
       "      <td>8555</td>\n",
       "      <td>8555</td>\n",
       "    </tr>\n",
       "    <tr>\n",
       "      <th>SECONDARY CODES</th>\n",
       "      <td>9985</td>\n",
       "      <td>9985</td>\n",
       "      <td>9985</td>\n",
       "      <td>9985</td>\n",
       "      <td>9985</td>\n",
       "      <td>9985</td>\n",
       "      <td>9985</td>\n",
       "      <td>9985</td>\n",
       "    </tr>\n",
       "    <tr>\n",
       "      <th>FORGERY/COUNTERFEITING</th>\n",
       "      <td>10609</td>\n",
       "      <td>10609</td>\n",
       "      <td>10609</td>\n",
       "      <td>10609</td>\n",
       "      <td>10609</td>\n",
       "      <td>10609</td>\n",
       "      <td>10609</td>\n",
       "      <td>10609</td>\n",
       "    </tr>\n",
       "    <tr>\n",
       "      <th>FRAUD</th>\n",
       "      <td>16679</td>\n",
       "      <td>16679</td>\n",
       "      <td>16679</td>\n",
       "      <td>16679</td>\n",
       "      <td>16679</td>\n",
       "      <td>16679</td>\n",
       "      <td>16679</td>\n",
       "      <td>16679</td>\n",
       "    </tr>\n",
       "    <tr>\n",
       "      <th>ROBBERY</th>\n",
       "      <td>23000</td>\n",
       "      <td>23000</td>\n",
       "      <td>23000</td>\n",
       "      <td>23000</td>\n",
       "      <td>23000</td>\n",
       "      <td>23000</td>\n",
       "      <td>23000</td>\n",
       "      <td>23000</td>\n",
       "    </tr>\n",
       "    <tr>\n",
       "      <th>MISSING PERSON</th>\n",
       "      <td>25989</td>\n",
       "      <td>25989</td>\n",
       "      <td>25989</td>\n",
       "      <td>25989</td>\n",
       "      <td>25989</td>\n",
       "      <td>25989</td>\n",
       "      <td>25989</td>\n",
       "      <td>25989</td>\n",
       "    </tr>\n",
       "    <tr>\n",
       "      <th>SUSPICIOUS OCC</th>\n",
       "      <td>31414</td>\n",
       "      <td>31414</td>\n",
       "      <td>31414</td>\n",
       "      <td>31414</td>\n",
       "      <td>31414</td>\n",
       "      <td>31414</td>\n",
       "      <td>31414</td>\n",
       "      <td>31414</td>\n",
       "    </tr>\n",
       "    <tr>\n",
       "      <th>BURGLARY</th>\n",
       "      <td>36755</td>\n",
       "      <td>36755</td>\n",
       "      <td>36755</td>\n",
       "      <td>36755</td>\n",
       "      <td>36755</td>\n",
       "      <td>36755</td>\n",
       "      <td>36755</td>\n",
       "      <td>36755</td>\n",
       "    </tr>\n",
       "    <tr>\n",
       "      <th>WARRANTS</th>\n",
       "      <td>42214</td>\n",
       "      <td>42214</td>\n",
       "      <td>42214</td>\n",
       "      <td>42214</td>\n",
       "      <td>42214</td>\n",
       "      <td>42214</td>\n",
       "      <td>42214</td>\n",
       "      <td>42214</td>\n",
       "    </tr>\n",
       "    <tr>\n",
       "      <th>VANDALISM</th>\n",
       "      <td>44725</td>\n",
       "      <td>44725</td>\n",
       "      <td>44725</td>\n",
       "      <td>44725</td>\n",
       "      <td>44725</td>\n",
       "      <td>44725</td>\n",
       "      <td>44725</td>\n",
       "      <td>44725</td>\n",
       "    </tr>\n",
       "    <tr>\n",
       "      <th>VEHICLE THEFT</th>\n",
       "      <td>53781</td>\n",
       "      <td>53781</td>\n",
       "      <td>53781</td>\n",
       "      <td>53781</td>\n",
       "      <td>53781</td>\n",
       "      <td>53781</td>\n",
       "      <td>53781</td>\n",
       "      <td>53781</td>\n",
       "    </tr>\n",
       "    <tr>\n",
       "      <th>DRUG/NARCOTIC</th>\n",
       "      <td>53971</td>\n",
       "      <td>53971</td>\n",
       "      <td>53971</td>\n",
       "      <td>53971</td>\n",
       "      <td>53971</td>\n",
       "      <td>53971</td>\n",
       "      <td>53971</td>\n",
       "      <td>53971</td>\n",
       "    </tr>\n",
       "    <tr>\n",
       "      <th>ASSAULT</th>\n",
       "      <td>76876</td>\n",
       "      <td>76876</td>\n",
       "      <td>76876</td>\n",
       "      <td>76876</td>\n",
       "      <td>76876</td>\n",
       "      <td>76876</td>\n",
       "      <td>76876</td>\n",
       "      <td>76876</td>\n",
       "    </tr>\n",
       "    <tr>\n",
       "      <th>NON-CRIMINAL</th>\n",
       "      <td>92304</td>\n",
       "      <td>92304</td>\n",
       "      <td>92304</td>\n",
       "      <td>92304</td>\n",
       "      <td>92304</td>\n",
       "      <td>92304</td>\n",
       "      <td>92304</td>\n",
       "      <td>92304</td>\n",
       "    </tr>\n",
       "    <tr>\n",
       "      <th>OTHER OFFENSES</th>\n",
       "      <td>126182</td>\n",
       "      <td>126182</td>\n",
       "      <td>126182</td>\n",
       "      <td>126182</td>\n",
       "      <td>126182</td>\n",
       "      <td>126182</td>\n",
       "      <td>126182</td>\n",
       "      <td>126182</td>\n",
       "    </tr>\n",
       "    <tr>\n",
       "      <th>LARCENY/THEFT</th>\n",
       "      <td>174900</td>\n",
       "      <td>174900</td>\n",
       "      <td>174900</td>\n",
       "      <td>174900</td>\n",
       "      <td>174900</td>\n",
       "      <td>174900</td>\n",
       "      <td>174900</td>\n",
       "      <td>174900</td>\n",
       "    </tr>\n",
       "  </tbody>\n",
       "</table>\n",
       "</div>"
      ],
      "text/plain": [
       "                              Dates  Descript  DayOfWeek  PdDistrict  \\\n",
       "Category                                                               \n",
       "TREA                              6         6          6           6   \n",
       "PORNOGRAPHY/OBSCENE MAT          22        22         22          22   \n",
       "GAMBLING                        146       146        146         146   \n",
       "SEX OFFENSES NON FORCIBLE       148       148        148         148   \n",
       "EXTORTION                       256       256        256         256   \n",
       "BRIBERY                         289       289        289         289   \n",
       "BAD CHECKS                      406       406        406         406   \n",
       "FAMILY OFFENSES                 491       491        491         491   \n",
       "SUICIDE                         508       508        508         508   \n",
       "EMBEZZLEMENT                   1166      1166       1166        1166   \n",
       "LOITERING                      1225      1225       1225        1225   \n",
       "ARSON                          1513      1513       1513        1513   \n",
       "LIQUOR LAWS                    1903      1903       1903        1903   \n",
       "RUNAWAY                        1946      1946       1946        1946   \n",
       "DRIVING UNDER THE INFLUENCE    2268      2268       2268        2268   \n",
       "KIDNAPPING                     2341      2341       2341        2341   \n",
       "RECOVERED VEHICLE              3138      3138       3138        3138   \n",
       "DRUNKENNESS                    4280      4280       4280        4280   \n",
       "DISORDERLY CONDUCT             4320      4320       4320        4320   \n",
       "SEX OFFENSES FORCIBLE          4388      4388       4388        4388   \n",
       "STOLEN PROPERTY                4540      4540       4540        4540   \n",
       "TRESPASS                       7326      7326       7326        7326   \n",
       "PROSTITUTION                   7484      7484       7484        7484   \n",
       "WEAPON LAWS                    8555      8555       8555        8555   \n",
       "SECONDARY CODES                9985      9985       9985        9985   \n",
       "FORGERY/COUNTERFEITING        10609     10609      10609       10609   \n",
       "FRAUD                         16679     16679      16679       16679   \n",
       "ROBBERY                       23000     23000      23000       23000   \n",
       "MISSING PERSON                25989     25989      25989       25989   \n",
       "SUSPICIOUS OCC                31414     31414      31414       31414   \n",
       "BURGLARY                      36755     36755      36755       36755   \n",
       "WARRANTS                      42214     42214      42214       42214   \n",
       "VANDALISM                     44725     44725      44725       44725   \n",
       "VEHICLE THEFT                 53781     53781      53781       53781   \n",
       "DRUG/NARCOTIC                 53971     53971      53971       53971   \n",
       "ASSAULT                       76876     76876      76876       76876   \n",
       "NON-CRIMINAL                  92304     92304      92304       92304   \n",
       "OTHER OFFENSES               126182    126182     126182      126182   \n",
       "LARCENY/THEFT                174900    174900     174900      174900   \n",
       "\n",
       "                             Resolution  Address       X       Y  \n",
       "Category                                                          \n",
       "TREA                                  6        6       6       6  \n",
       "PORNOGRAPHY/OBSCENE MAT              22       22      22      22  \n",
       "GAMBLING                            146      146     146     146  \n",
       "SEX OFFENSES NON FORCIBLE           148      148     148     148  \n",
       "EXTORTION                           256      256     256     256  \n",
       "BRIBERY                             289      289     289     289  \n",
       "BAD CHECKS                          406      406     406     406  \n",
       "FAMILY OFFENSES                     491      491     491     491  \n",
       "SUICIDE                             508      508     508     508  \n",
       "EMBEZZLEMENT                       1166     1166    1166    1166  \n",
       "LOITERING                          1225     1225    1225    1225  \n",
       "ARSON                              1513     1513    1513    1513  \n",
       "LIQUOR LAWS                        1903     1903    1903    1903  \n",
       "RUNAWAY                            1946     1946    1946    1946  \n",
       "DRIVING UNDER THE INFLUENCE        2268     2268    2268    2268  \n",
       "KIDNAPPING                         2341     2341    2341    2341  \n",
       "RECOVERED VEHICLE                  3138     3138    3138    3138  \n",
       "DRUNKENNESS                        4280     4280    4280    4280  \n",
       "DISORDERLY CONDUCT                 4320     4320    4320    4320  \n",
       "SEX OFFENSES FORCIBLE              4388     4388    4388    4388  \n",
       "STOLEN PROPERTY                    4540     4540    4540    4540  \n",
       "TRESPASS                           7326     7326    7326    7326  \n",
       "PROSTITUTION                       7484     7484    7484    7484  \n",
       "WEAPON LAWS                        8555     8555    8555    8555  \n",
       "SECONDARY CODES                    9985     9985    9985    9985  \n",
       "FORGERY/COUNTERFEITING            10609    10609   10609   10609  \n",
       "FRAUD                             16679    16679   16679   16679  \n",
       "ROBBERY                           23000    23000   23000   23000  \n",
       "MISSING PERSON                    25989    25989   25989   25989  \n",
       "SUSPICIOUS OCC                    31414    31414   31414   31414  \n",
       "BURGLARY                          36755    36755   36755   36755  \n",
       "WARRANTS                          42214    42214   42214   42214  \n",
       "VANDALISM                         44725    44725   44725   44725  \n",
       "VEHICLE THEFT                     53781    53781   53781   53781  \n",
       "DRUG/NARCOTIC                     53971    53971   53971   53971  \n",
       "ASSAULT                           76876    76876   76876   76876  \n",
       "NON-CRIMINAL                      92304    92304   92304   92304  \n",
       "OTHER OFFENSES                   126182   126182  126182  126182  \n",
       "LARCENY/THEFT                    174900   174900  174900  174900  "
      ]
     },
     "execution_count": 10,
     "metadata": {},
     "output_type": "execute_result"
    }
   ],
   "source": [
    "train.groupby('Category').count().sort_values('Dates')"
   ]
  },
  {
   "cell_type": "code",
   "execution_count": 11,
   "metadata": {},
   "outputs": [
    {
     "data": {
      "text/plain": [
       "878.049"
      ]
     },
     "execution_count": 11,
     "metadata": {},
     "output_type": "execute_result"
    }
   ],
   "source": [
    "# The 0.1% of the data would be:\n",
    "len(train)*0.001"
   ]
  },
  {
   "cell_type": "code",
   "execution_count": 12,
   "metadata": {},
   "outputs": [
    {
     "data": {
      "text/html": [
       "<div>\n",
       "<style scoped>\n",
       "    .dataframe tbody tr th:only-of-type {\n",
       "        vertical-align: middle;\n",
       "    }\n",
       "\n",
       "    .dataframe tbody tr th {\n",
       "        vertical-align: top;\n",
       "    }\n",
       "\n",
       "    .dataframe thead th {\n",
       "        text-align: right;\n",
       "    }\n",
       "</style>\n",
       "<table border=\"1\" class=\"dataframe\">\n",
       "  <thead>\n",
       "    <tr style=\"text-align: right;\">\n",
       "      <th></th>\n",
       "      <th>Dates</th>\n",
       "      <th>Descript</th>\n",
       "      <th>DayOfWeek</th>\n",
       "      <th>PdDistrict</th>\n",
       "      <th>Resolution</th>\n",
       "      <th>Address</th>\n",
       "      <th>X</th>\n",
       "      <th>Y</th>\n",
       "    </tr>\n",
       "    <tr>\n",
       "      <th>Category</th>\n",
       "      <th></th>\n",
       "      <th></th>\n",
       "      <th></th>\n",
       "      <th></th>\n",
       "      <th></th>\n",
       "      <th></th>\n",
       "      <th></th>\n",
       "      <th></th>\n",
       "    </tr>\n",
       "  </thead>\n",
       "  <tbody>\n",
       "    <tr>\n",
       "      <th>TREA</th>\n",
       "      <td>6</td>\n",
       "      <td>6</td>\n",
       "      <td>6</td>\n",
       "      <td>6</td>\n",
       "      <td>6</td>\n",
       "      <td>6</td>\n",
       "      <td>6</td>\n",
       "      <td>6</td>\n",
       "    </tr>\n",
       "    <tr>\n",
       "      <th>PORNOGRAPHY/OBSCENE MAT</th>\n",
       "      <td>22</td>\n",
       "      <td>22</td>\n",
       "      <td>22</td>\n",
       "      <td>22</td>\n",
       "      <td>22</td>\n",
       "      <td>22</td>\n",
       "      <td>22</td>\n",
       "      <td>22</td>\n",
       "    </tr>\n",
       "    <tr>\n",
       "      <th>GAMBLING</th>\n",
       "      <td>146</td>\n",
       "      <td>146</td>\n",
       "      <td>146</td>\n",
       "      <td>146</td>\n",
       "      <td>146</td>\n",
       "      <td>146</td>\n",
       "      <td>146</td>\n",
       "      <td>146</td>\n",
       "    </tr>\n",
       "    <tr>\n",
       "      <th>SEX OFFENSES NON FORCIBLE</th>\n",
       "      <td>148</td>\n",
       "      <td>148</td>\n",
       "      <td>148</td>\n",
       "      <td>148</td>\n",
       "      <td>148</td>\n",
       "      <td>148</td>\n",
       "      <td>148</td>\n",
       "      <td>148</td>\n",
       "    </tr>\n",
       "    <tr>\n",
       "      <th>EXTORTION</th>\n",
       "      <td>256</td>\n",
       "      <td>256</td>\n",
       "      <td>256</td>\n",
       "      <td>256</td>\n",
       "      <td>256</td>\n",
       "      <td>256</td>\n",
       "      <td>256</td>\n",
       "      <td>256</td>\n",
       "    </tr>\n",
       "    <tr>\n",
       "      <th>BRIBERY</th>\n",
       "      <td>289</td>\n",
       "      <td>289</td>\n",
       "      <td>289</td>\n",
       "      <td>289</td>\n",
       "      <td>289</td>\n",
       "      <td>289</td>\n",
       "      <td>289</td>\n",
       "      <td>289</td>\n",
       "    </tr>\n",
       "    <tr>\n",
       "      <th>BAD CHECKS</th>\n",
       "      <td>406</td>\n",
       "      <td>406</td>\n",
       "      <td>406</td>\n",
       "      <td>406</td>\n",
       "      <td>406</td>\n",
       "      <td>406</td>\n",
       "      <td>406</td>\n",
       "      <td>406</td>\n",
       "    </tr>\n",
       "    <tr>\n",
       "      <th>FAMILY OFFENSES</th>\n",
       "      <td>491</td>\n",
       "      <td>491</td>\n",
       "      <td>491</td>\n",
       "      <td>491</td>\n",
       "      <td>491</td>\n",
       "      <td>491</td>\n",
       "      <td>491</td>\n",
       "      <td>491</td>\n",
       "    </tr>\n",
       "    <tr>\n",
       "      <th>SUICIDE</th>\n",
       "      <td>508</td>\n",
       "      <td>508</td>\n",
       "      <td>508</td>\n",
       "      <td>508</td>\n",
       "      <td>508</td>\n",
       "      <td>508</td>\n",
       "      <td>508</td>\n",
       "      <td>508</td>\n",
       "    </tr>\n",
       "    <tr>\n",
       "      <th>EMBEZZLEMENT</th>\n",
       "      <td>1166</td>\n",
       "      <td>1166</td>\n",
       "      <td>1166</td>\n",
       "      <td>1166</td>\n",
       "      <td>1166</td>\n",
       "      <td>1166</td>\n",
       "      <td>1166</td>\n",
       "      <td>1166</td>\n",
       "    </tr>\n",
       "  </tbody>\n",
       "</table>\n",
       "</div>"
      ],
      "text/plain": [
       "                           Dates  Descript  DayOfWeek  PdDistrict  Resolution  \\\n",
       "Category                                                                        \n",
       "TREA                           6         6          6           6           6   \n",
       "PORNOGRAPHY/OBSCENE MAT       22        22         22          22          22   \n",
       "GAMBLING                     146       146        146         146         146   \n",
       "SEX OFFENSES NON FORCIBLE    148       148        148         148         148   \n",
       "EXTORTION                    256       256        256         256         256   \n",
       "BRIBERY                      289       289        289         289         289   \n",
       "BAD CHECKS                   406       406        406         406         406   \n",
       "FAMILY OFFENSES              491       491        491         491         491   \n",
       "SUICIDE                      508       508        508         508         508   \n",
       "EMBEZZLEMENT                1166      1166       1166        1166        1166   \n",
       "\n",
       "                           Address     X     Y  \n",
       "Category                                        \n",
       "TREA                             6     6     6  \n",
       "PORNOGRAPHY/OBSCENE MAT         22    22    22  \n",
       "GAMBLING                       146   146   146  \n",
       "SEX OFFENSES NON FORCIBLE      148   148   148  \n",
       "EXTORTION                      256   256   256  \n",
       "BRIBERY                        289   289   289  \n",
       "BAD CHECKS                     406   406   406  \n",
       "FAMILY OFFENSES                491   491   491  \n",
       "SUICIDE                        508   508   508  \n",
       "EMBEZZLEMENT                  1166  1166  1166  "
      ]
     },
     "execution_count": 12,
     "metadata": {},
     "output_type": "execute_result"
    }
   ],
   "source": [
    "train.groupby('Category').count().sort_values('Dates').head(10)"
   ]
  },
  {
   "cell_type": "code",
   "execution_count": 13,
   "metadata": {},
   "outputs": [
    {
     "data": {
      "text/plain": [
       "39"
      ]
     },
     "execution_count": 13,
     "metadata": {},
     "output_type": "execute_result"
    }
   ],
   "source": [
    "len(train[\"Category\"].unique())"
   ]
  },
  {
   "cell_type": "markdown",
   "metadata": {},
   "source": [
    "### 2. Load Test data"
   ]
  },
  {
   "cell_type": "code",
   "execution_count": 14,
   "metadata": {},
   "outputs": [],
   "source": [
    "test = pd.read_csv(f'{PATH}test.csv',date_parser='Dates')"
   ]
  },
  {
   "cell_type": "code",
   "execution_count": 15,
   "metadata": {},
   "outputs": [
    {
     "data": {
      "text/html": [
       "<div>\n",
       "<style scoped>\n",
       "    .dataframe tbody tr th:only-of-type {\n",
       "        vertical-align: middle;\n",
       "    }\n",
       "\n",
       "    .dataframe tbody tr th {\n",
       "        vertical-align: top;\n",
       "    }\n",
       "\n",
       "    .dataframe thead th {\n",
       "        text-align: right;\n",
       "    }\n",
       "</style>\n",
       "<table border=\"1\" class=\"dataframe\">\n",
       "  <thead>\n",
       "    <tr style=\"text-align: right;\">\n",
       "      <th></th>\n",
       "      <th>Id</th>\n",
       "      <th>Dates</th>\n",
       "      <th>DayOfWeek</th>\n",
       "      <th>PdDistrict</th>\n",
       "      <th>Address</th>\n",
       "      <th>X</th>\n",
       "      <th>Y</th>\n",
       "    </tr>\n",
       "  </thead>\n",
       "  <tbody>\n",
       "    <tr>\n",
       "      <th>0</th>\n",
       "      <td>0</td>\n",
       "      <td>2015-05-10 23:59:00</td>\n",
       "      <td>Sunday</td>\n",
       "      <td>BAYVIEW</td>\n",
       "      <td>2000 Block of THOMAS AV</td>\n",
       "      <td>-122.399588</td>\n",
       "      <td>37.735051</td>\n",
       "    </tr>\n",
       "    <tr>\n",
       "      <th>1</th>\n",
       "      <td>1</td>\n",
       "      <td>2015-05-10 23:51:00</td>\n",
       "      <td>Sunday</td>\n",
       "      <td>BAYVIEW</td>\n",
       "      <td>3RD ST / REVERE AV</td>\n",
       "      <td>-122.391523</td>\n",
       "      <td>37.732432</td>\n",
       "    </tr>\n",
       "    <tr>\n",
       "      <th>2</th>\n",
       "      <td>2</td>\n",
       "      <td>2015-05-10 23:50:00</td>\n",
       "      <td>Sunday</td>\n",
       "      <td>NORTHERN</td>\n",
       "      <td>2000 Block of GOUGH ST</td>\n",
       "      <td>-122.426002</td>\n",
       "      <td>37.792212</td>\n",
       "    </tr>\n",
       "    <tr>\n",
       "      <th>3</th>\n",
       "      <td>3</td>\n",
       "      <td>2015-05-10 23:45:00</td>\n",
       "      <td>Sunday</td>\n",
       "      <td>INGLESIDE</td>\n",
       "      <td>4700 Block of MISSION ST</td>\n",
       "      <td>-122.437394</td>\n",
       "      <td>37.721412</td>\n",
       "    </tr>\n",
       "    <tr>\n",
       "      <th>4</th>\n",
       "      <td>4</td>\n",
       "      <td>2015-05-10 23:45:00</td>\n",
       "      <td>Sunday</td>\n",
       "      <td>INGLESIDE</td>\n",
       "      <td>4700 Block of MISSION ST</td>\n",
       "      <td>-122.437394</td>\n",
       "      <td>37.721412</td>\n",
       "    </tr>\n",
       "  </tbody>\n",
       "</table>\n",
       "</div>"
      ],
      "text/plain": [
       "   Id                Dates DayOfWeek PdDistrict                   Address  \\\n",
       "0   0  2015-05-10 23:59:00    Sunday    BAYVIEW   2000 Block of THOMAS AV   \n",
       "1   1  2015-05-10 23:51:00    Sunday    BAYVIEW        3RD ST / REVERE AV   \n",
       "2   2  2015-05-10 23:50:00    Sunday   NORTHERN    2000 Block of GOUGH ST   \n",
       "3   3  2015-05-10 23:45:00    Sunday  INGLESIDE  4700 Block of MISSION ST   \n",
       "4   4  2015-05-10 23:45:00    Sunday  INGLESIDE  4700 Block of MISSION ST   \n",
       "\n",
       "            X          Y  \n",
       "0 -122.399588  37.735051  \n",
       "1 -122.391523  37.732432  \n",
       "2 -122.426002  37.792212  \n",
       "3 -122.437394  37.721412  \n",
       "4 -122.437394  37.721412  "
      ]
     },
     "execution_count": 15,
     "metadata": {},
     "output_type": "execute_result"
    }
   ],
   "source": [
    "test.head()"
   ]
  },
  {
   "cell_type": "markdown",
   "metadata": {},
   "source": [
    "### 3. Merge the data"
   ]
  },
  {
   "cell_type": "code",
   "execution_count": 16,
   "metadata": {},
   "outputs": [
    {
     "data": {
      "text/plain": [
       "Index(['Dates', 'Category', 'Descript', 'DayOfWeek', 'PdDistrict',\n",
       "       'Resolution', 'Address', 'X', 'Y'],\n",
       "      dtype='object')"
      ]
     },
     "execution_count": 16,
     "metadata": {},
     "output_type": "execute_result"
    }
   ],
   "source": [
    "train.columns"
   ]
  },
  {
   "cell_type": "code",
   "execution_count": 17,
   "metadata": {},
   "outputs": [
    {
     "data": {
      "text/plain": [
       "Index(['Id', 'Dates', 'DayOfWeek', 'PdDistrict', 'Address', 'X', 'Y'], dtype='object')"
      ]
     },
     "execution_count": 17,
     "metadata": {},
     "output_type": "execute_result"
    }
   ],
   "source": [
    "test.columns"
   ]
  },
  {
   "cell_type": "code",
   "execution_count": 18,
   "metadata": {},
   "outputs": [],
   "source": [
    "# Let's remove extra columns\n",
    "train.drop(['Descript','Resolution'],axis=1,inplace=True)\n",
    "test.drop(['Id'],axis=1,inplace=True)\n",
    "# Add dummy column in test dataset, which we will remove later\n",
    "test['Category']='TREA'\n",
    "# Add dataset identifier\n",
    "train['is_train'] = 1\n",
    "test['is_train'] = 0"
   ]
  },
  {
   "cell_type": "code",
   "execution_count": 19,
   "metadata": {},
   "outputs": [
    {
     "data": {
      "text/plain": [
       "Index(['Dates', 'Category', 'DayOfWeek', 'PdDistrict', 'Address', 'X', 'Y',\n",
       "       'is_train'],\n",
       "      dtype='object')"
      ]
     },
     "execution_count": 19,
     "metadata": {},
     "output_type": "execute_result"
    }
   ],
   "source": [
    "train.columns"
   ]
  },
  {
   "cell_type": "code",
   "execution_count": 20,
   "metadata": {},
   "outputs": [
    {
     "data": {
      "text/plain": [
       "Index(['Dates', 'DayOfWeek', 'PdDistrict', 'Address', 'X', 'Y', 'Category',\n",
       "       'is_train'],\n",
       "      dtype='object')"
      ]
     },
     "execution_count": 20,
     "metadata": {},
     "output_type": "execute_result"
    }
   ],
   "source": [
    "test.columns"
   ]
  },
  {
   "cell_type": "code",
   "execution_count": 21,
   "metadata": {},
   "outputs": [],
   "source": [
    "df_master = pd.concat([train,test],axis=0,sort=True,ignore_index=True)"
   ]
  },
  {
   "cell_type": "code",
   "execution_count": 22,
   "metadata": {},
   "outputs": [
    {
     "data": {
      "text/html": [
       "<div>\n",
       "<style scoped>\n",
       "    .dataframe tbody tr th:only-of-type {\n",
       "        vertical-align: middle;\n",
       "    }\n",
       "\n",
       "    .dataframe tbody tr th {\n",
       "        vertical-align: top;\n",
       "    }\n",
       "\n",
       "    .dataframe thead th {\n",
       "        text-align: right;\n",
       "    }\n",
       "</style>\n",
       "<table border=\"1\" class=\"dataframe\">\n",
       "  <thead>\n",
       "    <tr style=\"text-align: right;\">\n",
       "      <th></th>\n",
       "      <th>Address</th>\n",
       "      <th>Category</th>\n",
       "      <th>Dates</th>\n",
       "      <th>DayOfWeek</th>\n",
       "      <th>PdDistrict</th>\n",
       "      <th>X</th>\n",
       "      <th>Y</th>\n",
       "      <th>is_train</th>\n",
       "    </tr>\n",
       "  </thead>\n",
       "  <tbody>\n",
       "    <tr>\n",
       "      <th>0</th>\n",
       "      <td>OAK ST / LAGUNA ST</td>\n",
       "      <td>WARRANTS</td>\n",
       "      <td>2015-05-13 23:53:00</td>\n",
       "      <td>Wednesday</td>\n",
       "      <td>NORTHERN</td>\n",
       "      <td>-122.425892</td>\n",
       "      <td>37.774599</td>\n",
       "      <td>1</td>\n",
       "    </tr>\n",
       "    <tr>\n",
       "      <th>1</th>\n",
       "      <td>OAK ST / LAGUNA ST</td>\n",
       "      <td>OTHER OFFENSES</td>\n",
       "      <td>2015-05-13 23:53:00</td>\n",
       "      <td>Wednesday</td>\n",
       "      <td>NORTHERN</td>\n",
       "      <td>-122.425892</td>\n",
       "      <td>37.774599</td>\n",
       "      <td>1</td>\n",
       "    </tr>\n",
       "    <tr>\n",
       "      <th>2</th>\n",
       "      <td>VANNESS AV / GREENWICH ST</td>\n",
       "      <td>OTHER OFFENSES</td>\n",
       "      <td>2015-05-13 23:33:00</td>\n",
       "      <td>Wednesday</td>\n",
       "      <td>NORTHERN</td>\n",
       "      <td>-122.424363</td>\n",
       "      <td>37.800414</td>\n",
       "      <td>1</td>\n",
       "    </tr>\n",
       "    <tr>\n",
       "      <th>3</th>\n",
       "      <td>1500 Block of LOMBARD ST</td>\n",
       "      <td>LARCENY/THEFT</td>\n",
       "      <td>2015-05-13 23:30:00</td>\n",
       "      <td>Wednesday</td>\n",
       "      <td>NORTHERN</td>\n",
       "      <td>-122.426995</td>\n",
       "      <td>37.800873</td>\n",
       "      <td>1</td>\n",
       "    </tr>\n",
       "    <tr>\n",
       "      <th>4</th>\n",
       "      <td>100 Block of BRODERICK ST</td>\n",
       "      <td>LARCENY/THEFT</td>\n",
       "      <td>2015-05-13 23:30:00</td>\n",
       "      <td>Wednesday</td>\n",
       "      <td>PARK</td>\n",
       "      <td>-122.438738</td>\n",
       "      <td>37.771541</td>\n",
       "      <td>1</td>\n",
       "    </tr>\n",
       "  </tbody>\n",
       "</table>\n",
       "</div>"
      ],
      "text/plain": [
       "                     Address        Category                Dates  DayOfWeek  \\\n",
       "0         OAK ST / LAGUNA ST        WARRANTS  2015-05-13 23:53:00  Wednesday   \n",
       "1         OAK ST / LAGUNA ST  OTHER OFFENSES  2015-05-13 23:53:00  Wednesday   \n",
       "2  VANNESS AV / GREENWICH ST  OTHER OFFENSES  2015-05-13 23:33:00  Wednesday   \n",
       "3   1500 Block of LOMBARD ST   LARCENY/THEFT  2015-05-13 23:30:00  Wednesday   \n",
       "4  100 Block of BRODERICK ST   LARCENY/THEFT  2015-05-13 23:30:00  Wednesday   \n",
       "\n",
       "  PdDistrict           X          Y  is_train  \n",
       "0   NORTHERN -122.425892  37.774599         1  \n",
       "1   NORTHERN -122.425892  37.774599         1  \n",
       "2   NORTHERN -122.424363  37.800414         1  \n",
       "3   NORTHERN -122.426995  37.800873         1  \n",
       "4       PARK -122.438738  37.771541         1  "
      ]
     },
     "execution_count": 22,
     "metadata": {},
     "output_type": "execute_result"
    }
   ],
   "source": [
    "df_master.head()"
   ]
  },
  {
   "cell_type": "code",
   "execution_count": 23,
   "metadata": {},
   "outputs": [
    {
     "data": {
      "text/html": [
       "<div>\n",
       "<style scoped>\n",
       "    .dataframe tbody tr th:only-of-type {\n",
       "        vertical-align: middle;\n",
       "    }\n",
       "\n",
       "    .dataframe tbody tr th {\n",
       "        vertical-align: top;\n",
       "    }\n",
       "\n",
       "    .dataframe thead th {\n",
       "        text-align: right;\n",
       "    }\n",
       "</style>\n",
       "<table border=\"1\" class=\"dataframe\">\n",
       "  <thead>\n",
       "    <tr style=\"text-align: right;\">\n",
       "      <th></th>\n",
       "      <th>Address</th>\n",
       "      <th>Category</th>\n",
       "      <th>Dates</th>\n",
       "      <th>DayOfWeek</th>\n",
       "      <th>PdDistrict</th>\n",
       "      <th>X</th>\n",
       "      <th>Y</th>\n",
       "      <th>is_train</th>\n",
       "    </tr>\n",
       "  </thead>\n",
       "  <tbody>\n",
       "    <tr>\n",
       "      <th>1762306</th>\n",
       "      <td>2600 Block of BRYANT ST</td>\n",
       "      <td>TREA</td>\n",
       "      <td>2003-01-01 00:01:00</td>\n",
       "      <td>Wednesday</td>\n",
       "      <td>MISSION</td>\n",
       "      <td>-122.408983</td>\n",
       "      <td>37.751987</td>\n",
       "      <td>0</td>\n",
       "    </tr>\n",
       "    <tr>\n",
       "      <th>1762307</th>\n",
       "      <td>1900 Block of WASHINGTON ST</td>\n",
       "      <td>TREA</td>\n",
       "      <td>2003-01-01 00:01:00</td>\n",
       "      <td>Wednesday</td>\n",
       "      <td>NORTHERN</td>\n",
       "      <td>-122.425342</td>\n",
       "      <td>37.792681</td>\n",
       "      <td>0</td>\n",
       "    </tr>\n",
       "    <tr>\n",
       "      <th>1762308</th>\n",
       "      <td>5500 Block of MISSION ST</td>\n",
       "      <td>TREA</td>\n",
       "      <td>2003-01-01 00:01:00</td>\n",
       "      <td>Wednesday</td>\n",
       "      <td>INGLESIDE</td>\n",
       "      <td>-122.445418</td>\n",
       "      <td>37.712075</td>\n",
       "      <td>0</td>\n",
       "    </tr>\n",
       "    <tr>\n",
       "      <th>1762309</th>\n",
       "      <td>1500 Block of HUDSON AV</td>\n",
       "      <td>TREA</td>\n",
       "      <td>2003-01-01 00:01:00</td>\n",
       "      <td>Wednesday</td>\n",
       "      <td>BAYVIEW</td>\n",
       "      <td>-122.387394</td>\n",
       "      <td>37.739479</td>\n",
       "      <td>0</td>\n",
       "    </tr>\n",
       "    <tr>\n",
       "      <th>1762310</th>\n",
       "      <td>1500 Block of SLOAT BL</td>\n",
       "      <td>TREA</td>\n",
       "      <td>2003-01-01 00:01:00</td>\n",
       "      <td>Wednesday</td>\n",
       "      <td>TARAVAL</td>\n",
       "      <td>-122.489714</td>\n",
       "      <td>37.733950</td>\n",
       "      <td>0</td>\n",
       "    </tr>\n",
       "  </tbody>\n",
       "</table>\n",
       "</div>"
      ],
      "text/plain": [
       "                             Address Category                Dates  DayOfWeek  \\\n",
       "1762306      2600 Block of BRYANT ST     TREA  2003-01-01 00:01:00  Wednesday   \n",
       "1762307  1900 Block of WASHINGTON ST     TREA  2003-01-01 00:01:00  Wednesday   \n",
       "1762308     5500 Block of MISSION ST     TREA  2003-01-01 00:01:00  Wednesday   \n",
       "1762309      1500 Block of HUDSON AV     TREA  2003-01-01 00:01:00  Wednesday   \n",
       "1762310       1500 Block of SLOAT BL     TREA  2003-01-01 00:01:00  Wednesday   \n",
       "\n",
       "        PdDistrict           X          Y  is_train  \n",
       "1762306    MISSION -122.408983  37.751987         0  \n",
       "1762307   NORTHERN -122.425342  37.792681         0  \n",
       "1762308  INGLESIDE -122.445418  37.712075         0  \n",
       "1762309    BAYVIEW -122.387394  37.739479         0  \n",
       "1762310    TARAVAL -122.489714  37.733950         0  "
      ]
     },
     "execution_count": 23,
     "metadata": {},
     "output_type": "execute_result"
    }
   ],
   "source": [
    "df_master.tail()"
   ]
  },
  {
   "cell_type": "code",
   "execution_count": 24,
   "metadata": {},
   "outputs": [
    {
     "data": {
      "text/plain": [
       "(878049, 884262, 1762311)"
      ]
     },
     "execution_count": 24,
     "metadata": {},
     "output_type": "execute_result"
    }
   ],
   "source": [
    "len(train), len(test), len(df_master)"
   ]
  },
  {
   "cell_type": "markdown",
   "metadata": {},
   "source": [
    "### 4. Feature Engineering"
   ]
  },
  {
   "cell_type": "code",
   "execution_count": 25,
   "metadata": {},
   "outputs": [
    {
     "data": {
      "text/plain": [
       "Index(['Address', 'Category', 'Dates', 'DayOfWeek', 'PdDistrict', 'X', 'Y',\n",
       "       'is_train'],\n",
       "      dtype='object')"
      ]
     },
     "execution_count": 25,
     "metadata": {},
     "output_type": "execute_result"
    }
   ],
   "source": [
    "df_master.columns"
   ]
  },
  {
   "cell_type": "markdown",
   "metadata": {},
   "source": [
    "#### Add data-time features"
   ]
  },
  {
   "cell_type": "code",
   "execution_count": 26,
   "metadata": {},
   "outputs": [],
   "source": [
    "add_datepart(df=df_master,fldname='Dates',time=True)"
   ]
  },
  {
   "cell_type": "code",
   "execution_count": 27,
   "metadata": {},
   "outputs": [
    {
     "data": {
      "text/plain": [
       "Index(['Address', 'Category', 'DayOfWeek', 'PdDistrict', 'X', 'Y', 'is_train',\n",
       "       'DatesYear', 'DatesMonth', 'DatesWeek', 'DatesDay', 'DatesDayofweek',\n",
       "       'DatesDayofyear', 'DatesIs_month_end', 'DatesIs_month_start',\n",
       "       'DatesIs_quarter_end', 'DatesIs_quarter_start', 'DatesIs_year_end',\n",
       "       'DatesIs_year_start', 'DatesHour', 'DatesMinute', 'DatesSecond',\n",
       "       'DatesElapsed'],\n",
       "      dtype='object')"
      ]
     },
     "execution_count": 27,
     "metadata": {},
     "output_type": "execute_result"
    }
   ],
   "source": [
    "df_master.columns"
   ]
  },
  {
   "cell_type": "code",
   "execution_count": 28,
   "metadata": {},
   "outputs": [],
   "source": [
    "df_master['YearMonth']= df_master['DatesYear'].map(str)  + df_master['DatesMonth'].map(str) "
   ]
  },
  {
   "cell_type": "code",
   "execution_count": 29,
   "metadata": {},
   "outputs": [
    {
     "data": {
      "text/plain": [
       "(0    20155\n",
       " 1    20155\n",
       " 2    20155\n",
       " 3    20155\n",
       " 4    20155\n",
       " Name: YearMonth, dtype: object, 1762306    20031\n",
       " 1762307    20031\n",
       " 1762308    20031\n",
       " 1762309    20031\n",
       " 1762310    20031\n",
       " Name: YearMonth, dtype: object)"
      ]
     },
     "execution_count": 29,
     "metadata": {},
     "output_type": "execute_result"
    }
   ],
   "source": [
    "df_master['YearMonth'].head(), df_master['YearMonth'].tail()"
   ]
  },
  {
   "cell_type": "markdown",
   "metadata": {},
   "source": [
    "#### Add X, Y features"
   ]
  },
  {
   "cell_type": "code",
   "execution_count": 30,
   "metadata": {},
   "outputs": [],
   "source": [
    "# Lets' created scaled transform of the X and Y coordinates\n",
    "xy_scaler = StandardScaler()\n",
    "xy_scaler.fit(df_master.loc[:,['X','Y']])\n",
    "xy_scaled = xy_scaler.transform(df_master.loc[:,['X','Y']])\n",
    "\n",
    "# PCA on X and Y, select top 2 components\n",
    "xy_pca = PCA(n_components=2, whiten=True).fit_transform(xy_scaled)\n",
    "\n",
    "# Rotation\n",
    "rot45_X = .707* xy_scaled[:,1] + .707* xy_scaled[:,0] \n",
    "rot45_Y = .707* xy_scaled[:,1] - .707* xy_scaled[:,0]\n",
    "\n",
    "rot30_X = (1.732/2)* xy_scaled[:,0] + (1./2)* xy_scaled[:,1]\n",
    "rot30_Y = (1.732/2)* xy_scaled[:,1] - (1./2)* xy_scaled[:,0]\n",
    "\n",
    "rot60_X = (1./2)* xy_scaled[:,0] + (1.732/2)* xy_scaled[:,1] \n",
    "rot60_Y = (1./2)* xy_scaled[:,1] - (1.732/2)* xy_scaled[:,0]\n",
    "\n",
    "# Polar coordinates\n",
    "radial_r = np.sqrt( np.power(xy_scaled[:,1],2) + np.power(xy_scaled[:,0],2) )\n",
    "radial_phi = np.arctan2(xy_scaled[:,1], xy_scaled[:,0])\n",
    "\n",
    "xy_scaled_df=pd.DataFrame(xy_scaled)\n",
    "xy_pca_df=pd.DataFrame(xy_pca)"
   ]
  },
  {
   "cell_type": "code",
   "execution_count": 31,
   "metadata": {},
   "outputs": [],
   "source": [
    "df_master['xy_scaled_1']    = xy_scaled_df[0]\n",
    "df_master['xy_scaled_2']    = xy_scaled_df[1]\n",
    "df_master['xy_pca_1']       = xy_pca_df[0]\n",
    "df_master['xy_pca_2']       = xy_pca_df[1]\n",
    "df_master['xy_x_rotate_30'] = rot30_X\n",
    "df_master['xy_x_rotate_45'] = rot45_X\n",
    "df_master['xy_x_rotate_60'] = rot60_X\n",
    "df_master['xy_y_rotate_30'] = rot30_Y\n",
    "df_master['xy_y_rotate_45'] = rot45_Y\n",
    "df_master['xy_y_rotate_60'] = rot60_Y\n",
    "df_master['xy_radial_r']    = radial_r\n",
    "df_master['xy_radial_phi']  = radial_phi"
   ]
  },
  {
   "cell_type": "markdown",
   "metadata": {},
   "source": [
    "#### Add Address features"
   ]
  },
  {
   "cell_type": "code",
   "execution_count": 32,
   "metadata": {},
   "outputs": [
    {
     "data": {
      "text/html": [
       "<div>\n",
       "<style scoped>\n",
       "    .dataframe tbody tr th:only-of-type {\n",
       "        vertical-align: middle;\n",
       "    }\n",
       "\n",
       "    .dataframe tbody tr th {\n",
       "        vertical-align: top;\n",
       "    }\n",
       "\n",
       "    .dataframe thead th {\n",
       "        text-align: right;\n",
       "    }\n",
       "</style>\n",
       "<table border=\"1\" class=\"dataframe\">\n",
       "  <thead>\n",
       "    <tr style=\"text-align: right;\">\n",
       "      <th></th>\n",
       "      <th>Address</th>\n",
       "      <th>add_part1</th>\n",
       "      <th>add_part2</th>\n",
       "    </tr>\n",
       "  </thead>\n",
       "  <tbody>\n",
       "    <tr>\n",
       "      <th>0</th>\n",
       "      <td>OAK ST / LAGUNA ST</td>\n",
       "      <td>OAK ST</td>\n",
       "      <td>LAGUNA ST</td>\n",
       "    </tr>\n",
       "    <tr>\n",
       "      <th>1</th>\n",
       "      <td>OAK ST / LAGUNA ST</td>\n",
       "      <td>OAK ST</td>\n",
       "      <td>LAGUNA ST</td>\n",
       "    </tr>\n",
       "    <tr>\n",
       "      <th>2</th>\n",
       "      <td>VANNESS AV / GREENWICH ST</td>\n",
       "      <td>VANNESS AV</td>\n",
       "      <td>GREENWICH ST</td>\n",
       "    </tr>\n",
       "    <tr>\n",
       "      <th>3</th>\n",
       "      <td>1500 Block of LOMBARD ST</td>\n",
       "      <td>1500 Block of LOMBARD ST</td>\n",
       "      <td>NaN</td>\n",
       "    </tr>\n",
       "    <tr>\n",
       "      <th>4</th>\n",
       "      <td>100 Block of BRODERICK ST</td>\n",
       "      <td>100 Block of BRODERICK ST</td>\n",
       "      <td>NaN</td>\n",
       "    </tr>\n",
       "    <tr>\n",
       "      <th>5</th>\n",
       "      <td>0 Block of TEDDY AV</td>\n",
       "      <td>0 Block of TEDDY AV</td>\n",
       "      <td>NaN</td>\n",
       "    </tr>\n",
       "    <tr>\n",
       "      <th>6</th>\n",
       "      <td>AVALON AV / PERU AV</td>\n",
       "      <td>AVALON AV</td>\n",
       "      <td>PERU AV</td>\n",
       "    </tr>\n",
       "    <tr>\n",
       "      <th>7</th>\n",
       "      <td>KIRKWOOD AV / DONAHUE ST</td>\n",
       "      <td>KIRKWOOD AV</td>\n",
       "      <td>DONAHUE ST</td>\n",
       "    </tr>\n",
       "    <tr>\n",
       "      <th>8</th>\n",
       "      <td>600 Block of 47TH AV</td>\n",
       "      <td>600 Block of 47TH AV</td>\n",
       "      <td>NaN</td>\n",
       "    </tr>\n",
       "    <tr>\n",
       "      <th>9</th>\n",
       "      <td>JEFFERSON ST / LEAVENWORTH ST</td>\n",
       "      <td>JEFFERSON ST</td>\n",
       "      <td>LEAVENWORTH ST</td>\n",
       "    </tr>\n",
       "    <tr>\n",
       "      <th>10</th>\n",
       "      <td>JEFFERSON ST / LEAVENWORTH ST</td>\n",
       "      <td>JEFFERSON ST</td>\n",
       "      <td>LEAVENWORTH ST</td>\n",
       "    </tr>\n",
       "    <tr>\n",
       "      <th>11</th>\n",
       "      <td>0 Block of ESCOLTA WY</td>\n",
       "      <td>0 Block of ESCOLTA WY</td>\n",
       "      <td>NaN</td>\n",
       "    </tr>\n",
       "    <tr>\n",
       "      <th>12</th>\n",
       "      <td>TURK ST / JONES ST</td>\n",
       "      <td>TURK ST</td>\n",
       "      <td>JONES ST</td>\n",
       "    </tr>\n",
       "    <tr>\n",
       "      <th>13</th>\n",
       "      <td>FILLMORE ST / GEARY BL</td>\n",
       "      <td>FILLMORE ST</td>\n",
       "      <td>GEARY BL</td>\n",
       "    </tr>\n",
       "    <tr>\n",
       "      <th>14</th>\n",
       "      <td>200 Block of WILLIAMS AV</td>\n",
       "      <td>200 Block of WILLIAMS AV</td>\n",
       "      <td>NaN</td>\n",
       "    </tr>\n",
       "  </tbody>\n",
       "</table>\n",
       "</div>"
      ],
      "text/plain": [
       "                          Address                  add_part1       add_part2\n",
       "0              OAK ST / LAGUNA ST                     OAK ST       LAGUNA ST\n",
       "1              OAK ST / LAGUNA ST                     OAK ST       LAGUNA ST\n",
       "2       VANNESS AV / GREENWICH ST                 VANNESS AV    GREENWICH ST\n",
       "3        1500 Block of LOMBARD ST   1500 Block of LOMBARD ST             NaN\n",
       "4       100 Block of BRODERICK ST  100 Block of BRODERICK ST             NaN\n",
       "5             0 Block of TEDDY AV        0 Block of TEDDY AV             NaN\n",
       "6             AVALON AV / PERU AV                  AVALON AV         PERU AV\n",
       "7        KIRKWOOD AV / DONAHUE ST                KIRKWOOD AV      DONAHUE ST\n",
       "8            600 Block of 47TH AV       600 Block of 47TH AV             NaN\n",
       "9   JEFFERSON ST / LEAVENWORTH ST               JEFFERSON ST  LEAVENWORTH ST\n",
       "10  JEFFERSON ST / LEAVENWORTH ST               JEFFERSON ST  LEAVENWORTH ST\n",
       "11          0 Block of ESCOLTA WY      0 Block of ESCOLTA WY             NaN\n",
       "12             TURK ST / JONES ST                    TURK ST        JONES ST\n",
       "13         FILLMORE ST / GEARY BL                FILLMORE ST        GEARY BL\n",
       "14       200 Block of WILLIAMS AV   200 Block of WILLIAMS AV             NaN"
      ]
     },
     "execution_count": 32,
     "metadata": {},
     "output_type": "execute_result"
    }
   ],
   "source": [
    "# Create a feature for street intersection\n",
    "df_master['add_contains_intersection']=df_master['Address'].str.contains('/')\n",
    "\n",
    "# Create a feature for block or no-block in the address\n",
    "add_upper=df_master['Address'].str.upper()\n",
    "df_master['add_contains_block']=add_upper.str.contains('BLOCK')\n",
    "\n",
    "# Create a feature to capture the data before and after the '/'\n",
    "add_p1, add_p2 = df_master['Address'].str.split('/', 1).str\n",
    "\n",
    "add_p1=add_p1.str.rstrip()\n",
    "df_master['add_part1']=add_p1.str.lstrip()\n",
    "add_p2=add_p2.str.rstrip()\n",
    "df_master['add_part2']=add_p2.str.lstrip()\n",
    "\n",
    "# Check if the split went well\n",
    "df_master[['Address','add_part1','add_part2']].head(15)"
   ]
  },
  {
   "cell_type": "code",
   "execution_count": 33,
   "metadata": {},
   "outputs": [
    {
     "data": {
      "text/plain": [
       "array(['80', 'AL', 'AR', 'AV', 'AY', 'BL', 'CR', 'CT', 'DR', 'ER', 'EX', 'HY', 'LN', 'MS', 'NO', 'PL', 'PZ',\n",
       "       'RD', 'RK', 'RW', 'ST', 'TI', 'TR', 'WK', 'WY'], dtype=object)"
      ]
     },
     "execution_count": 33,
     "metadata": {},
     "output_type": "execute_result"
    }
   ],
   "source": [
    "# Type of the first part of address (ST, AV BL etc)\n",
    "df_master['add_part1_type']=df_master['add_part1'].str[-2:]\n",
    "np.unique(df_master['add_part1_type'])"
   ]
  },
  {
   "cell_type": "markdown",
   "metadata": {},
   "source": [
    "#### PdDistrict one-hot-encoding"
   ]
  },
  {
   "cell_type": "code",
   "execution_count": 34,
   "metadata": {},
   "outputs": [
    {
     "data": {
      "text/plain": [
       "(   BAYVIEW  CENTRAL  INGLESIDE  MISSION  NORTHERN  PARK  RICHMOND  SOUTHERN  \\\n",
       " 0        0        0          0        0         1     0         0         0   \n",
       " 1        0        0          0        0         1     0         0         0   \n",
       " 2        0        0          0        0         1     0         0         0   \n",
       " 3        0        0          0        0         1     0         0         0   \n",
       " 4        0        0          0        0         0     1         0         0   \n",
       " \n",
       "    TARAVAL  TENDERLOIN  \n",
       " 0        0           0  \n",
       " 1        0           0  \n",
       " 2        0           0  \n",
       " 3        0           0  \n",
       " 4        0           0  , (878049, 10))"
      ]
     },
     "execution_count": 34,
     "metadata": {},
     "output_type": "execute_result"
    }
   ],
   "source": [
    "districts_ohe = pd.get_dummies(train['PdDistrict'],dtype='i',)\n",
    "districts_ohe.head(), districts_ohe.shape"
   ]
  },
  {
   "cell_type": "code",
   "execution_count": 35,
   "metadata": {},
   "outputs": [
    {
     "data": {
      "text/html": [
       "<div>\n",
       "<style scoped>\n",
       "    .dataframe tbody tr th:only-of-type {\n",
       "        vertical-align: middle;\n",
       "    }\n",
       "\n",
       "    .dataframe tbody tr th {\n",
       "        vertical-align: top;\n",
       "    }\n",
       "\n",
       "    .dataframe thead th {\n",
       "        text-align: right;\n",
       "    }\n",
       "</style>\n",
       "<table border=\"1\" class=\"dataframe\">\n",
       "  <thead>\n",
       "    <tr style=\"text-align: right;\">\n",
       "      <th></th>\n",
       "      <th>Address</th>\n",
       "      <th>Category</th>\n",
       "      <th>DayOfWeek</th>\n",
       "      <th>PdDistrict</th>\n",
       "      <th>X</th>\n",
       "      <th>Y</th>\n",
       "      <th>is_train</th>\n",
       "      <th>DatesYear</th>\n",
       "      <th>DatesMonth</th>\n",
       "      <th>DatesWeek</th>\n",
       "      <th>...</th>\n",
       "      <th>BAYVIEW</th>\n",
       "      <th>CENTRAL</th>\n",
       "      <th>INGLESIDE</th>\n",
       "      <th>MISSION</th>\n",
       "      <th>NORTHERN</th>\n",
       "      <th>PARK</th>\n",
       "      <th>RICHMOND</th>\n",
       "      <th>SOUTHERN</th>\n",
       "      <th>TARAVAL</th>\n",
       "      <th>TENDERLOIN</th>\n",
       "    </tr>\n",
       "  </thead>\n",
       "  <tbody>\n",
       "    <tr>\n",
       "      <th>0</th>\n",
       "      <td>OAK ST / LAGUNA ST</td>\n",
       "      <td>WARRANTS</td>\n",
       "      <td>Wednesday</td>\n",
       "      <td>NORTHERN</td>\n",
       "      <td>-122.425892</td>\n",
       "      <td>37.774599</td>\n",
       "      <td>1</td>\n",
       "      <td>2015</td>\n",
       "      <td>5</td>\n",
       "      <td>20</td>\n",
       "      <td>...</td>\n",
       "      <td>0.0</td>\n",
       "      <td>0.0</td>\n",
       "      <td>0.0</td>\n",
       "      <td>0.0</td>\n",
       "      <td>1.0</td>\n",
       "      <td>0.0</td>\n",
       "      <td>0.0</td>\n",
       "      <td>0.0</td>\n",
       "      <td>0.0</td>\n",
       "      <td>0.0</td>\n",
       "    </tr>\n",
       "    <tr>\n",
       "      <th>1</th>\n",
       "      <td>OAK ST / LAGUNA ST</td>\n",
       "      <td>OTHER OFFENSES</td>\n",
       "      <td>Wednesday</td>\n",
       "      <td>NORTHERN</td>\n",
       "      <td>-122.425892</td>\n",
       "      <td>37.774599</td>\n",
       "      <td>1</td>\n",
       "      <td>2015</td>\n",
       "      <td>5</td>\n",
       "      <td>20</td>\n",
       "      <td>...</td>\n",
       "      <td>0.0</td>\n",
       "      <td>0.0</td>\n",
       "      <td>0.0</td>\n",
       "      <td>0.0</td>\n",
       "      <td>1.0</td>\n",
       "      <td>0.0</td>\n",
       "      <td>0.0</td>\n",
       "      <td>0.0</td>\n",
       "      <td>0.0</td>\n",
       "      <td>0.0</td>\n",
       "    </tr>\n",
       "    <tr>\n",
       "      <th>2</th>\n",
       "      <td>VANNESS AV / GREENWICH ST</td>\n",
       "      <td>OTHER OFFENSES</td>\n",
       "      <td>Wednesday</td>\n",
       "      <td>NORTHERN</td>\n",
       "      <td>-122.424363</td>\n",
       "      <td>37.800414</td>\n",
       "      <td>1</td>\n",
       "      <td>2015</td>\n",
       "      <td>5</td>\n",
       "      <td>20</td>\n",
       "      <td>...</td>\n",
       "      <td>0.0</td>\n",
       "      <td>0.0</td>\n",
       "      <td>0.0</td>\n",
       "      <td>0.0</td>\n",
       "      <td>1.0</td>\n",
       "      <td>0.0</td>\n",
       "      <td>0.0</td>\n",
       "      <td>0.0</td>\n",
       "      <td>0.0</td>\n",
       "      <td>0.0</td>\n",
       "    </tr>\n",
       "    <tr>\n",
       "      <th>3</th>\n",
       "      <td>1500 Block of LOMBARD ST</td>\n",
       "      <td>LARCENY/THEFT</td>\n",
       "      <td>Wednesday</td>\n",
       "      <td>NORTHERN</td>\n",
       "      <td>-122.426995</td>\n",
       "      <td>37.800873</td>\n",
       "      <td>1</td>\n",
       "      <td>2015</td>\n",
       "      <td>5</td>\n",
       "      <td>20</td>\n",
       "      <td>...</td>\n",
       "      <td>0.0</td>\n",
       "      <td>0.0</td>\n",
       "      <td>0.0</td>\n",
       "      <td>0.0</td>\n",
       "      <td>1.0</td>\n",
       "      <td>0.0</td>\n",
       "      <td>0.0</td>\n",
       "      <td>0.0</td>\n",
       "      <td>0.0</td>\n",
       "      <td>0.0</td>\n",
       "    </tr>\n",
       "    <tr>\n",
       "      <th>4</th>\n",
       "      <td>100 Block of BRODERICK ST</td>\n",
       "      <td>LARCENY/THEFT</td>\n",
       "      <td>Wednesday</td>\n",
       "      <td>PARK</td>\n",
       "      <td>-122.438738</td>\n",
       "      <td>37.771541</td>\n",
       "      <td>1</td>\n",
       "      <td>2015</td>\n",
       "      <td>5</td>\n",
       "      <td>20</td>\n",
       "      <td>...</td>\n",
       "      <td>0.0</td>\n",
       "      <td>0.0</td>\n",
       "      <td>0.0</td>\n",
       "      <td>0.0</td>\n",
       "      <td>0.0</td>\n",
       "      <td>1.0</td>\n",
       "      <td>0.0</td>\n",
       "      <td>0.0</td>\n",
       "      <td>0.0</td>\n",
       "      <td>0.0</td>\n",
       "    </tr>\n",
       "  </tbody>\n",
       "</table>\n",
       "<p>5 rows × 51 columns</p>\n",
       "</div>"
      ],
      "text/plain": [
       "                     Address        Category  DayOfWeek PdDistrict  \\\n",
       "0         OAK ST / LAGUNA ST        WARRANTS  Wednesday   NORTHERN   \n",
       "1         OAK ST / LAGUNA ST  OTHER OFFENSES  Wednesday   NORTHERN   \n",
       "2  VANNESS AV / GREENWICH ST  OTHER OFFENSES  Wednesday   NORTHERN   \n",
       "3   1500 Block of LOMBARD ST   LARCENY/THEFT  Wednesday   NORTHERN   \n",
       "4  100 Block of BRODERICK ST   LARCENY/THEFT  Wednesday       PARK   \n",
       "\n",
       "            X          Y  is_train  DatesYear  DatesMonth  DatesWeek  \\\n",
       "0 -122.425892  37.774599         1       2015           5         20   \n",
       "1 -122.425892  37.774599         1       2015           5         20   \n",
       "2 -122.424363  37.800414         1       2015           5         20   \n",
       "3 -122.426995  37.800873         1       2015           5         20   \n",
       "4 -122.438738  37.771541         1       2015           5         20   \n",
       "\n",
       "      ...      BAYVIEW  CENTRAL  INGLESIDE  MISSION  NORTHERN  PARK  RICHMOND  \\\n",
       "0     ...          0.0      0.0        0.0      0.0       1.0   0.0       0.0   \n",
       "1     ...          0.0      0.0        0.0      0.0       1.0   0.0       0.0   \n",
       "2     ...          0.0      0.0        0.0      0.0       1.0   0.0       0.0   \n",
       "3     ...          0.0      0.0        0.0      0.0       1.0   0.0       0.0   \n",
       "4     ...          0.0      0.0        0.0      0.0       0.0   1.0       0.0   \n",
       "\n",
       "   SOUTHERN  TARAVAL  TENDERLOIN  \n",
       "0       0.0      0.0         0.0  \n",
       "1       0.0      0.0         0.0  \n",
       "2       0.0      0.0         0.0  \n",
       "3       0.0      0.0         0.0  \n",
       "4       0.0      0.0         0.0  \n",
       "\n",
       "[5 rows x 51 columns]"
      ]
     },
     "execution_count": 35,
     "metadata": {},
     "output_type": "execute_result"
    }
   ],
   "source": [
    "df_master=pd.concat([df_master, districts_ohe],axis=1)\n",
    "df_master.head()"
   ]
  },
  {
   "cell_type": "code",
   "execution_count": 36,
   "metadata": {},
   "outputs": [],
   "source": [
    "df_master.drop('PdDistrict',axis=1,inplace=True)"
   ]
  },
  {
   "cell_type": "markdown",
   "metadata": {},
   "source": [
    "### 5. Format the data"
   ]
  },
  {
   "cell_type": "code",
   "execution_count": 37,
   "metadata": {},
   "outputs": [],
   "source": [
    "train_cats(df_master)"
   ]
  },
  {
   "cell_type": "code",
   "execution_count": 38,
   "metadata": {},
   "outputs": [],
   "source": [
    "x_all, y_all, nas = proc_df(df_master,'Category')"
   ]
  },
  {
   "cell_type": "code",
   "execution_count": 39,
   "metadata": {},
   "outputs": [
    {
     "data": {
      "text/html": [
       "<div>\n",
       "<style scoped>\n",
       "    .dataframe tbody tr th:only-of-type {\n",
       "        vertical-align: middle;\n",
       "    }\n",
       "\n",
       "    .dataframe tbody tr th {\n",
       "        vertical-align: top;\n",
       "    }\n",
       "\n",
       "    .dataframe thead th {\n",
       "        text-align: right;\n",
       "    }\n",
       "</style>\n",
       "<table border=\"1\" class=\"dataframe\">\n",
       "  <thead>\n",
       "    <tr style=\"text-align: right;\">\n",
       "      <th></th>\n",
       "      <th>Address</th>\n",
       "      <th>DayOfWeek</th>\n",
       "      <th>X</th>\n",
       "      <th>Y</th>\n",
       "      <th>is_train</th>\n",
       "      <th>DatesYear</th>\n",
       "      <th>DatesMonth</th>\n",
       "      <th>DatesWeek</th>\n",
       "      <th>DatesDay</th>\n",
       "      <th>DatesDayofweek</th>\n",
       "      <th>...</th>\n",
       "      <th>BAYVIEW_na</th>\n",
       "      <th>CENTRAL_na</th>\n",
       "      <th>INGLESIDE_na</th>\n",
       "      <th>MISSION_na</th>\n",
       "      <th>NORTHERN_na</th>\n",
       "      <th>PARK_na</th>\n",
       "      <th>RICHMOND_na</th>\n",
       "      <th>SOUTHERN_na</th>\n",
       "      <th>TARAVAL_na</th>\n",
       "      <th>TENDERLOIN_na</th>\n",
       "    </tr>\n",
       "  </thead>\n",
       "  <tbody>\n",
       "    <tr>\n",
       "      <th>0</th>\n",
       "      <td>20896</td>\n",
       "      <td>7</td>\n",
       "      <td>-122.425892</td>\n",
       "      <td>37.774599</td>\n",
       "      <td>1</td>\n",
       "      <td>2015</td>\n",
       "      <td>5</td>\n",
       "      <td>20</td>\n",
       "      <td>13</td>\n",
       "      <td>2</td>\n",
       "      <td>...</td>\n",
       "      <td>False</td>\n",
       "      <td>False</td>\n",
       "      <td>False</td>\n",
       "      <td>False</td>\n",
       "      <td>False</td>\n",
       "      <td>False</td>\n",
       "      <td>False</td>\n",
       "      <td>False</td>\n",
       "      <td>False</td>\n",
       "      <td>False</td>\n",
       "    </tr>\n",
       "    <tr>\n",
       "      <th>1</th>\n",
       "      <td>20896</td>\n",
       "      <td>7</td>\n",
       "      <td>-122.425892</td>\n",
       "      <td>37.774599</td>\n",
       "      <td>1</td>\n",
       "      <td>2015</td>\n",
       "      <td>5</td>\n",
       "      <td>20</td>\n",
       "      <td>13</td>\n",
       "      <td>2</td>\n",
       "      <td>...</td>\n",
       "      <td>False</td>\n",
       "      <td>False</td>\n",
       "      <td>False</td>\n",
       "      <td>False</td>\n",
       "      <td>False</td>\n",
       "      <td>False</td>\n",
       "      <td>False</td>\n",
       "      <td>False</td>\n",
       "      <td>False</td>\n",
       "      <td>False</td>\n",
       "    </tr>\n",
       "    <tr>\n",
       "      <th>2</th>\n",
       "      <td>24170</td>\n",
       "      <td>7</td>\n",
       "      <td>-122.424363</td>\n",
       "      <td>37.800414</td>\n",
       "      <td>1</td>\n",
       "      <td>2015</td>\n",
       "      <td>5</td>\n",
       "      <td>20</td>\n",
       "      <td>13</td>\n",
       "      <td>2</td>\n",
       "      <td>...</td>\n",
       "      <td>False</td>\n",
       "      <td>False</td>\n",
       "      <td>False</td>\n",
       "      <td>False</td>\n",
       "      <td>False</td>\n",
       "      <td>False</td>\n",
       "      <td>False</td>\n",
       "      <td>False</td>\n",
       "      <td>False</td>\n",
       "      <td>False</td>\n",
       "    </tr>\n",
       "    <tr>\n",
       "      <th>3</th>\n",
       "      <td>4419</td>\n",
       "      <td>7</td>\n",
       "      <td>-122.426995</td>\n",
       "      <td>37.800873</td>\n",
       "      <td>1</td>\n",
       "      <td>2015</td>\n",
       "      <td>5</td>\n",
       "      <td>20</td>\n",
       "      <td>13</td>\n",
       "      <td>2</td>\n",
       "      <td>...</td>\n",
       "      <td>False</td>\n",
       "      <td>False</td>\n",
       "      <td>False</td>\n",
       "      <td>False</td>\n",
       "      <td>False</td>\n",
       "      <td>False</td>\n",
       "      <td>False</td>\n",
       "      <td>False</td>\n",
       "      <td>False</td>\n",
       "      <td>False</td>\n",
       "    </tr>\n",
       "    <tr>\n",
       "      <th>4</th>\n",
       "      <td>1924</td>\n",
       "      <td>7</td>\n",
       "      <td>-122.438738</td>\n",
       "      <td>37.771541</td>\n",
       "      <td>1</td>\n",
       "      <td>2015</td>\n",
       "      <td>5</td>\n",
       "      <td>20</td>\n",
       "      <td>13</td>\n",
       "      <td>2</td>\n",
       "      <td>...</td>\n",
       "      <td>False</td>\n",
       "      <td>False</td>\n",
       "      <td>False</td>\n",
       "      <td>False</td>\n",
       "      <td>False</td>\n",
       "      <td>False</td>\n",
       "      <td>False</td>\n",
       "      <td>False</td>\n",
       "      <td>False</td>\n",
       "      <td>False</td>\n",
       "    </tr>\n",
       "  </tbody>\n",
       "</table>\n",
       "<p>5 rows × 59 columns</p>\n",
       "</div>"
      ],
      "text/plain": [
       "   Address  DayOfWeek           X          Y  is_train  DatesYear  DatesMonth  \\\n",
       "0    20896          7 -122.425892  37.774599         1       2015           5   \n",
       "1    20896          7 -122.425892  37.774599         1       2015           5   \n",
       "2    24170          7 -122.424363  37.800414         1       2015           5   \n",
       "3     4419          7 -122.426995  37.800873         1       2015           5   \n",
       "4     1924          7 -122.438738  37.771541         1       2015           5   \n",
       "\n",
       "   DatesWeek  DatesDay  DatesDayofweek      ...        BAYVIEW_na  CENTRAL_na  \\\n",
       "0         20        13               2      ...             False       False   \n",
       "1         20        13               2      ...             False       False   \n",
       "2         20        13               2      ...             False       False   \n",
       "3         20        13               2      ...             False       False   \n",
       "4         20        13               2      ...             False       False   \n",
       "\n",
       "   INGLESIDE_na  MISSION_na  NORTHERN_na  PARK_na  RICHMOND_na  SOUTHERN_na  \\\n",
       "0         False       False        False    False        False        False   \n",
       "1         False       False        False    False        False        False   \n",
       "2         False       False        False    False        False        False   \n",
       "3         False       False        False    False        False        False   \n",
       "4         False       False        False    False        False        False   \n",
       "\n",
       "   TARAVAL_na  TENDERLOIN_na  \n",
       "0       False          False  \n",
       "1       False          False  \n",
       "2       False          False  \n",
       "3       False          False  \n",
       "4       False          False  \n",
       "\n",
       "[5 rows x 59 columns]"
      ]
     },
     "execution_count": 39,
     "metadata": {},
     "output_type": "execute_result"
    }
   ],
   "source": [
    "x_all.head()"
   ]
  },
  {
   "cell_type": "code",
   "execution_count": 40,
   "metadata": {},
   "outputs": [
    {
     "data": {
      "text/html": [
       "<div>\n",
       "<style scoped>\n",
       "    .dataframe tbody tr th:only-of-type {\n",
       "        vertical-align: middle;\n",
       "    }\n",
       "\n",
       "    .dataframe tbody tr th {\n",
       "        vertical-align: top;\n",
       "    }\n",
       "\n",
       "    .dataframe thead th {\n",
       "        text-align: right;\n",
       "    }\n",
       "</style>\n",
       "<table border=\"1\" class=\"dataframe\">\n",
       "  <thead>\n",
       "    <tr style=\"text-align: right;\">\n",
       "      <th></th>\n",
       "      <th>Address</th>\n",
       "      <th>DayOfWeek</th>\n",
       "      <th>X</th>\n",
       "      <th>Y</th>\n",
       "      <th>is_train</th>\n",
       "      <th>DatesYear</th>\n",
       "      <th>DatesMonth</th>\n",
       "      <th>DatesWeek</th>\n",
       "      <th>DatesDay</th>\n",
       "      <th>DatesDayofweek</th>\n",
       "      <th>...</th>\n",
       "      <th>BAYVIEW_na</th>\n",
       "      <th>CENTRAL_na</th>\n",
       "      <th>INGLESIDE_na</th>\n",
       "      <th>MISSION_na</th>\n",
       "      <th>NORTHERN_na</th>\n",
       "      <th>PARK_na</th>\n",
       "      <th>RICHMOND_na</th>\n",
       "      <th>SOUTHERN_na</th>\n",
       "      <th>TARAVAL_na</th>\n",
       "      <th>TENDERLOIN_na</th>\n",
       "    </tr>\n",
       "  </thead>\n",
       "  <tbody>\n",
       "    <tr>\n",
       "      <th>1762306</th>\n",
       "      <td>7920</td>\n",
       "      <td>7</td>\n",
       "      <td>-122.408983</td>\n",
       "      <td>37.751987</td>\n",
       "      <td>0</td>\n",
       "      <td>2003</td>\n",
       "      <td>1</td>\n",
       "      <td>1</td>\n",
       "      <td>1</td>\n",
       "      <td>2</td>\n",
       "      <td>...</td>\n",
       "      <td>True</td>\n",
       "      <td>True</td>\n",
       "      <td>True</td>\n",
       "      <td>True</td>\n",
       "      <td>True</td>\n",
       "      <td>True</td>\n",
       "      <td>True</td>\n",
       "      <td>True</td>\n",
       "      <td>True</td>\n",
       "      <td>True</td>\n",
       "    </tr>\n",
       "    <tr>\n",
       "      <th>1762307</th>\n",
       "      <td>5597</td>\n",
       "      <td>7</td>\n",
       "      <td>-122.425342</td>\n",
       "      <td>37.792681</td>\n",
       "      <td>0</td>\n",
       "      <td>2003</td>\n",
       "      <td>1</td>\n",
       "      <td>1</td>\n",
       "      <td>1</td>\n",
       "      <td>2</td>\n",
       "      <td>...</td>\n",
       "      <td>True</td>\n",
       "      <td>True</td>\n",
       "      <td>True</td>\n",
       "      <td>True</td>\n",
       "      <td>True</td>\n",
       "      <td>True</td>\n",
       "      <td>True</td>\n",
       "      <td>True</td>\n",
       "      <td>True</td>\n",
       "      <td>True</td>\n",
       "    </tr>\n",
       "    <tr>\n",
       "      <th>1762308</th>\n",
       "      <td>11613</td>\n",
       "      <td>7</td>\n",
       "      <td>-122.445418</td>\n",
       "      <td>37.712075</td>\n",
       "      <td>0</td>\n",
       "      <td>2003</td>\n",
       "      <td>1</td>\n",
       "      <td>1</td>\n",
       "      <td>1</td>\n",
       "      <td>2</td>\n",
       "      <td>...</td>\n",
       "      <td>True</td>\n",
       "      <td>True</td>\n",
       "      <td>True</td>\n",
       "      <td>True</td>\n",
       "      <td>True</td>\n",
       "      <td>True</td>\n",
       "      <td>True</td>\n",
       "      <td>True</td>\n",
       "      <td>True</td>\n",
       "      <td>True</td>\n",
       "    </tr>\n",
       "    <tr>\n",
       "      <th>1762309</th>\n",
       "      <td>4394</td>\n",
       "      <td>7</td>\n",
       "      <td>-122.387394</td>\n",
       "      <td>37.739479</td>\n",
       "      <td>0</td>\n",
       "      <td>2003</td>\n",
       "      <td>1</td>\n",
       "      <td>1</td>\n",
       "      <td>1</td>\n",
       "      <td>2</td>\n",
       "      <td>...</td>\n",
       "      <td>True</td>\n",
       "      <td>True</td>\n",
       "      <td>True</td>\n",
       "      <td>True</td>\n",
       "      <td>True</td>\n",
       "      <td>True</td>\n",
       "      <td>True</td>\n",
       "      <td>True</td>\n",
       "      <td>True</td>\n",
       "      <td>True</td>\n",
       "    </tr>\n",
       "    <tr>\n",
       "      <th>1762310</th>\n",
       "      <td>4477</td>\n",
       "      <td>7</td>\n",
       "      <td>-122.489714</td>\n",
       "      <td>37.733950</td>\n",
       "      <td>0</td>\n",
       "      <td>2003</td>\n",
       "      <td>1</td>\n",
       "      <td>1</td>\n",
       "      <td>1</td>\n",
       "      <td>2</td>\n",
       "      <td>...</td>\n",
       "      <td>True</td>\n",
       "      <td>True</td>\n",
       "      <td>True</td>\n",
       "      <td>True</td>\n",
       "      <td>True</td>\n",
       "      <td>True</td>\n",
       "      <td>True</td>\n",
       "      <td>True</td>\n",
       "      <td>True</td>\n",
       "      <td>True</td>\n",
       "    </tr>\n",
       "  </tbody>\n",
       "</table>\n",
       "<p>5 rows × 59 columns</p>\n",
       "</div>"
      ],
      "text/plain": [
       "         Address  DayOfWeek           X          Y  is_train  DatesYear  \\\n",
       "1762306     7920          7 -122.408983  37.751987         0       2003   \n",
       "1762307     5597          7 -122.425342  37.792681         0       2003   \n",
       "1762308    11613          7 -122.445418  37.712075         0       2003   \n",
       "1762309     4394          7 -122.387394  37.739479         0       2003   \n",
       "1762310     4477          7 -122.489714  37.733950         0       2003   \n",
       "\n",
       "         DatesMonth  DatesWeek  DatesDay  DatesDayofweek      ...        \\\n",
       "1762306           1          1         1               2      ...         \n",
       "1762307           1          1         1               2      ...         \n",
       "1762308           1          1         1               2      ...         \n",
       "1762309           1          1         1               2      ...         \n",
       "1762310           1          1         1               2      ...         \n",
       "\n",
       "         BAYVIEW_na  CENTRAL_na  INGLESIDE_na  MISSION_na  NORTHERN_na  \\\n",
       "1762306        True        True          True        True         True   \n",
       "1762307        True        True          True        True         True   \n",
       "1762308        True        True          True        True         True   \n",
       "1762309        True        True          True        True         True   \n",
       "1762310        True        True          True        True         True   \n",
       "\n",
       "         PARK_na  RICHMOND_na  SOUTHERN_na  TARAVAL_na  TENDERLOIN_na  \n",
       "1762306     True         True         True        True           True  \n",
       "1762307     True         True         True        True           True  \n",
       "1762308     True         True         True        True           True  \n",
       "1762309     True         True         True        True           True  \n",
       "1762310     True         True         True        True           True  \n",
       "\n",
       "[5 rows x 59 columns]"
      ]
     },
     "execution_count": 40,
     "metadata": {},
     "output_type": "execute_result"
    }
   ],
   "source": [
    "x_all.tail()"
   ]
  },
  {
   "cell_type": "code",
   "execution_count": 41,
   "metadata": {},
   "outputs": [],
   "source": [
    "x_all.drop(['BAYVIEW_na', 'CENTRAL_na', 'INGLESIDE_na', 'MISSION_na',\n",
    "       'NORTHERN_na', 'PARK_na', 'RICHMOND_na', 'SOUTHERN_na', 'TARAVAL_na',\n",
    "       'TENDERLOIN_na'],axis=1,inplace=True)"
   ]
  },
  {
   "cell_type": "code",
   "execution_count": 42,
   "metadata": {},
   "outputs": [
    {
     "data": {
      "text/plain": [
       "Index(['Address', 'DayOfWeek', 'X', 'Y', 'is_train', 'DatesYear', 'DatesMonth',\n",
       "       'DatesWeek', 'DatesDay', 'DatesDayofweek', 'DatesDayofyear',\n",
       "       'DatesIs_month_end', 'DatesIs_month_start', 'DatesIs_quarter_end',\n",
       "       'DatesIs_quarter_start', 'DatesIs_year_end', 'DatesIs_year_start',\n",
       "       'DatesHour', 'DatesMinute', 'DatesSecond', 'DatesElapsed', 'YearMonth',\n",
       "       'xy_scaled_1', 'xy_scaled_2', 'xy_pca_1', 'xy_pca_2', 'xy_x_rotate_30',\n",
       "       'xy_x_rotate_45', 'xy_x_rotate_60', 'xy_y_rotate_30', 'xy_y_rotate_45',\n",
       "       'xy_y_rotate_60', 'xy_radial_r', 'xy_radial_phi',\n",
       "       'add_contains_intersection', 'add_contains_block', 'add_part1',\n",
       "       'add_part2', 'add_part1_type', 'BAYVIEW', 'CENTRAL', 'INGLESIDE',\n",
       "       'MISSION', 'NORTHERN', 'PARK', 'RICHMOND', 'SOUTHERN', 'TARAVAL',\n",
       "       'TENDERLOIN'],\n",
       "      dtype='object')"
      ]
     },
     "execution_count": 42,
     "metadata": {},
     "output_type": "execute_result"
    }
   ],
   "source": [
    "x_all.columns"
   ]
  },
  {
   "cell_type": "code",
   "execution_count": 43,
   "metadata": {},
   "outputs": [
    {
     "data": {
      "text/plain": [
       "((878049, 49), 878049)"
      ]
     },
     "execution_count": 43,
     "metadata": {},
     "output_type": "execute_result"
    }
   ],
   "source": [
    "train_and_val_x = pd.DataFrame(x_all[x_all['is_train']==1])\n",
    "train_and_val_y = y_all[x_all['is_train']==1]\n",
    "train_and_val_x.shape, len(train_and_val_y)"
   ]
  },
  {
   "cell_type": "code",
   "execution_count": 44,
   "metadata": {},
   "outputs": [
    {
     "data": {
      "text/html": [
       "<div>\n",
       "<style scoped>\n",
       "    .dataframe tbody tr th:only-of-type {\n",
       "        vertical-align: middle;\n",
       "    }\n",
       "\n",
       "    .dataframe tbody tr th {\n",
       "        vertical-align: top;\n",
       "    }\n",
       "\n",
       "    .dataframe thead th {\n",
       "        text-align: right;\n",
       "    }\n",
       "</style>\n",
       "<table border=\"1\" class=\"dataframe\">\n",
       "  <thead>\n",
       "    <tr style=\"text-align: right;\">\n",
       "      <th></th>\n",
       "      <th>Address</th>\n",
       "      <th>DayOfWeek</th>\n",
       "      <th>X</th>\n",
       "      <th>Y</th>\n",
       "      <th>is_train</th>\n",
       "      <th>DatesYear</th>\n",
       "      <th>DatesMonth</th>\n",
       "      <th>DatesWeek</th>\n",
       "      <th>DatesDay</th>\n",
       "      <th>DatesDayofweek</th>\n",
       "      <th>...</th>\n",
       "      <th>BAYVIEW</th>\n",
       "      <th>CENTRAL</th>\n",
       "      <th>INGLESIDE</th>\n",
       "      <th>MISSION</th>\n",
       "      <th>NORTHERN</th>\n",
       "      <th>PARK</th>\n",
       "      <th>RICHMOND</th>\n",
       "      <th>SOUTHERN</th>\n",
       "      <th>TARAVAL</th>\n",
       "      <th>TENDERLOIN</th>\n",
       "    </tr>\n",
       "  </thead>\n",
       "  <tbody>\n",
       "    <tr>\n",
       "      <th>878044</th>\n",
       "      <td>16537</td>\n",
       "      <td>2</td>\n",
       "      <td>-122.459033</td>\n",
       "      <td>37.714056</td>\n",
       "      <td>1</td>\n",
       "      <td>2003</td>\n",
       "      <td>1</td>\n",
       "      <td>2</td>\n",
       "      <td>6</td>\n",
       "      <td>0</td>\n",
       "      <td>...</td>\n",
       "      <td>0.0</td>\n",
       "      <td>0.0</td>\n",
       "      <td>0.0</td>\n",
       "      <td>0.0</td>\n",
       "      <td>0.0</td>\n",
       "      <td>0.0</td>\n",
       "      <td>0.0</td>\n",
       "      <td>0.0</td>\n",
       "      <td>1.0</td>\n",
       "      <td>0.0</td>\n",
       "    </tr>\n",
       "    <tr>\n",
       "      <th>878045</th>\n",
       "      <td>11841</td>\n",
       "      <td>2</td>\n",
       "      <td>-122.447364</td>\n",
       "      <td>37.731948</td>\n",
       "      <td>1</td>\n",
       "      <td>2003</td>\n",
       "      <td>1</td>\n",
       "      <td>2</td>\n",
       "      <td>6</td>\n",
       "      <td>0</td>\n",
       "      <td>...</td>\n",
       "      <td>0.0</td>\n",
       "      <td>0.0</td>\n",
       "      <td>1.0</td>\n",
       "      <td>0.0</td>\n",
       "      <td>0.0</td>\n",
       "      <td>0.0</td>\n",
       "      <td>0.0</td>\n",
       "      <td>0.0</td>\n",
       "      <td>0.0</td>\n",
       "      <td>0.0</td>\n",
       "    </tr>\n",
       "    <tr>\n",
       "      <th>878046</th>\n",
       "      <td>11663</td>\n",
       "      <td>2</td>\n",
       "      <td>-122.403390</td>\n",
       "      <td>37.780266</td>\n",
       "      <td>1</td>\n",
       "      <td>2003</td>\n",
       "      <td>1</td>\n",
       "      <td>2</td>\n",
       "      <td>6</td>\n",
       "      <td>0</td>\n",
       "      <td>...</td>\n",
       "      <td>0.0</td>\n",
       "      <td>0.0</td>\n",
       "      <td>0.0</td>\n",
       "      <td>0.0</td>\n",
       "      <td>0.0</td>\n",
       "      <td>0.0</td>\n",
       "      <td>0.0</td>\n",
       "      <td>1.0</td>\n",
       "      <td>0.0</td>\n",
       "      <td>0.0</td>\n",
       "    </tr>\n",
       "    <tr>\n",
       "      <th>878047</th>\n",
       "      <td>23739</td>\n",
       "      <td>2</td>\n",
       "      <td>-122.390531</td>\n",
       "      <td>37.780607</td>\n",
       "      <td>1</td>\n",
       "      <td>2003</td>\n",
       "      <td>1</td>\n",
       "      <td>2</td>\n",
       "      <td>6</td>\n",
       "      <td>0</td>\n",
       "      <td>...</td>\n",
       "      <td>0.0</td>\n",
       "      <td>0.0</td>\n",
       "      <td>0.0</td>\n",
       "      <td>0.0</td>\n",
       "      <td>0.0</td>\n",
       "      <td>0.0</td>\n",
       "      <td>0.0</td>\n",
       "      <td>1.0</td>\n",
       "      <td>0.0</td>\n",
       "      <td>0.0</td>\n",
       "    </tr>\n",
       "    <tr>\n",
       "      <th>878048</th>\n",
       "      <td>5301</td>\n",
       "      <td>2</td>\n",
       "      <td>-122.394926</td>\n",
       "      <td>37.738212</td>\n",
       "      <td>1</td>\n",
       "      <td>2003</td>\n",
       "      <td>1</td>\n",
       "      <td>2</td>\n",
       "      <td>6</td>\n",
       "      <td>0</td>\n",
       "      <td>...</td>\n",
       "      <td>1.0</td>\n",
       "      <td>0.0</td>\n",
       "      <td>0.0</td>\n",
       "      <td>0.0</td>\n",
       "      <td>0.0</td>\n",
       "      <td>0.0</td>\n",
       "      <td>0.0</td>\n",
       "      <td>0.0</td>\n",
       "      <td>0.0</td>\n",
       "      <td>0.0</td>\n",
       "    </tr>\n",
       "  </tbody>\n",
       "</table>\n",
       "<p>5 rows × 49 columns</p>\n",
       "</div>"
      ],
      "text/plain": [
       "        Address  DayOfWeek           X          Y  is_train  DatesYear  \\\n",
       "878044    16537          2 -122.459033  37.714056         1       2003   \n",
       "878045    11841          2 -122.447364  37.731948         1       2003   \n",
       "878046    11663          2 -122.403390  37.780266         1       2003   \n",
       "878047    23739          2 -122.390531  37.780607         1       2003   \n",
       "878048     5301          2 -122.394926  37.738212         1       2003   \n",
       "\n",
       "        DatesMonth  DatesWeek  DatesDay  DatesDayofweek     ...      BAYVIEW  \\\n",
       "878044           1          2         6               0     ...          0.0   \n",
       "878045           1          2         6               0     ...          0.0   \n",
       "878046           1          2         6               0     ...          0.0   \n",
       "878047           1          2         6               0     ...          0.0   \n",
       "878048           1          2         6               0     ...          1.0   \n",
       "\n",
       "        CENTRAL  INGLESIDE  MISSION  NORTHERN  PARK  RICHMOND  SOUTHERN  \\\n",
       "878044      0.0        0.0      0.0       0.0   0.0       0.0       0.0   \n",
       "878045      0.0        1.0      0.0       0.0   0.0       0.0       0.0   \n",
       "878046      0.0        0.0      0.0       0.0   0.0       0.0       1.0   \n",
       "878047      0.0        0.0      0.0       0.0   0.0       0.0       1.0   \n",
       "878048      0.0        0.0      0.0       0.0   0.0       0.0       0.0   \n",
       "\n",
       "        TARAVAL  TENDERLOIN  \n",
       "878044      1.0         0.0  \n",
       "878045      0.0         0.0  \n",
       "878046      0.0         0.0  \n",
       "878047      0.0         0.0  \n",
       "878048      0.0         0.0  \n",
       "\n",
       "[5 rows x 49 columns]"
      ]
     },
     "execution_count": 44,
     "metadata": {},
     "output_type": "execute_result"
    }
   ],
   "source": [
    "train_and_val_x.tail()"
   ]
  },
  {
   "cell_type": "code",
   "execution_count": 45,
   "metadata": {},
   "outputs": [
    {
     "data": {
      "text/plain": [
       "(78000,\n",
       " array([174149,  46534, 699239, 106036, 150373, 472060,  15033, 202341, 852175, 454615, 605228,  62030,\n",
       "        772866, 373559, 219520, 596296, 196536, 482245, 421467, 641801], dtype=int32))"
      ]
     },
     "execution_count": 45,
     "metadata": {},
     "output_type": "execute_result"
    }
   ],
   "source": [
    "val_idx = np.random.randint(low=1,high=878048,size=78000,dtype='i')\n",
    "len(val_idx),val_idx[50:70]"
   ]
  },
  {
   "cell_type": "code",
   "execution_count": 46,
   "metadata": {},
   "outputs": [
    {
     "data": {
      "text/plain": [
       "((803512, 8), (803512, 49), (78000, 8), (78000, 49), 803512, 78000)"
      ]
     },
     "execution_count": 46,
     "metadata": {},
     "output_type": "execute_result"
    }
   ],
   "source": [
    "# Creating training and validation dataset from train\n",
    "train_x = train_and_val_x.drop(train_and_val_x.index[val_idx], inplace=False)\n",
    "val_x   = train_and_val_x.iloc[val_idx,]\n",
    "train_y = np.delete(train_and_val_y, val_idx)\n",
    "val_y   = train_and_val_y[val_idx]\n",
    "\n",
    "train_train = train.drop(train.index[val_idx], inplace=False) # Contains y\n",
    "train_val   = train.iloc[val_idx,] # Contains y\n",
    "\n",
    "train_train.shape, train_x.shape, train_val.shape, val_x.shape, len(train_y), len(val_y)"
   ]
  },
  {
   "cell_type": "code",
   "execution_count": 47,
   "metadata": {},
   "outputs": [
    {
     "data": {
      "text/html": [
       "<div>\n",
       "<style scoped>\n",
       "    .dataframe tbody tr th:only-of-type {\n",
       "        vertical-align: middle;\n",
       "    }\n",
       "\n",
       "    .dataframe tbody tr th {\n",
       "        vertical-align: top;\n",
       "    }\n",
       "\n",
       "    .dataframe thead th {\n",
       "        text-align: right;\n",
       "    }\n",
       "</style>\n",
       "<table border=\"1\" class=\"dataframe\">\n",
       "  <thead>\n",
       "    <tr style=\"text-align: right;\">\n",
       "      <th></th>\n",
       "      <th>Address</th>\n",
       "      <th>DayOfWeek</th>\n",
       "      <th>X</th>\n",
       "      <th>Y</th>\n",
       "      <th>is_train</th>\n",
       "      <th>DatesYear</th>\n",
       "      <th>DatesMonth</th>\n",
       "      <th>DatesWeek</th>\n",
       "      <th>DatesDay</th>\n",
       "      <th>DatesDayofweek</th>\n",
       "      <th>...</th>\n",
       "      <th>BAYVIEW</th>\n",
       "      <th>CENTRAL</th>\n",
       "      <th>INGLESIDE</th>\n",
       "      <th>MISSION</th>\n",
       "      <th>NORTHERN</th>\n",
       "      <th>PARK</th>\n",
       "      <th>RICHMOND</th>\n",
       "      <th>SOUTHERN</th>\n",
       "      <th>TARAVAL</th>\n",
       "      <th>TENDERLOIN</th>\n",
       "    </tr>\n",
       "  </thead>\n",
       "  <tbody>\n",
       "    <tr>\n",
       "      <th>878044</th>\n",
       "      <td>16537</td>\n",
       "      <td>2</td>\n",
       "      <td>-122.459033</td>\n",
       "      <td>37.714056</td>\n",
       "      <td>1</td>\n",
       "      <td>2003</td>\n",
       "      <td>1</td>\n",
       "      <td>2</td>\n",
       "      <td>6</td>\n",
       "      <td>0</td>\n",
       "      <td>...</td>\n",
       "      <td>0.0</td>\n",
       "      <td>0.0</td>\n",
       "      <td>0.0</td>\n",
       "      <td>0.0</td>\n",
       "      <td>0.0</td>\n",
       "      <td>0.0</td>\n",
       "      <td>0.0</td>\n",
       "      <td>0.0</td>\n",
       "      <td>1.0</td>\n",
       "      <td>0.0</td>\n",
       "    </tr>\n",
       "    <tr>\n",
       "      <th>878045</th>\n",
       "      <td>11841</td>\n",
       "      <td>2</td>\n",
       "      <td>-122.447364</td>\n",
       "      <td>37.731948</td>\n",
       "      <td>1</td>\n",
       "      <td>2003</td>\n",
       "      <td>1</td>\n",
       "      <td>2</td>\n",
       "      <td>6</td>\n",
       "      <td>0</td>\n",
       "      <td>...</td>\n",
       "      <td>0.0</td>\n",
       "      <td>0.0</td>\n",
       "      <td>1.0</td>\n",
       "      <td>0.0</td>\n",
       "      <td>0.0</td>\n",
       "      <td>0.0</td>\n",
       "      <td>0.0</td>\n",
       "      <td>0.0</td>\n",
       "      <td>0.0</td>\n",
       "      <td>0.0</td>\n",
       "    </tr>\n",
       "    <tr>\n",
       "      <th>878046</th>\n",
       "      <td>11663</td>\n",
       "      <td>2</td>\n",
       "      <td>-122.403390</td>\n",
       "      <td>37.780266</td>\n",
       "      <td>1</td>\n",
       "      <td>2003</td>\n",
       "      <td>1</td>\n",
       "      <td>2</td>\n",
       "      <td>6</td>\n",
       "      <td>0</td>\n",
       "      <td>...</td>\n",
       "      <td>0.0</td>\n",
       "      <td>0.0</td>\n",
       "      <td>0.0</td>\n",
       "      <td>0.0</td>\n",
       "      <td>0.0</td>\n",
       "      <td>0.0</td>\n",
       "      <td>0.0</td>\n",
       "      <td>1.0</td>\n",
       "      <td>0.0</td>\n",
       "      <td>0.0</td>\n",
       "    </tr>\n",
       "    <tr>\n",
       "      <th>878047</th>\n",
       "      <td>23739</td>\n",
       "      <td>2</td>\n",
       "      <td>-122.390531</td>\n",
       "      <td>37.780607</td>\n",
       "      <td>1</td>\n",
       "      <td>2003</td>\n",
       "      <td>1</td>\n",
       "      <td>2</td>\n",
       "      <td>6</td>\n",
       "      <td>0</td>\n",
       "      <td>...</td>\n",
       "      <td>0.0</td>\n",
       "      <td>0.0</td>\n",
       "      <td>0.0</td>\n",
       "      <td>0.0</td>\n",
       "      <td>0.0</td>\n",
       "      <td>0.0</td>\n",
       "      <td>0.0</td>\n",
       "      <td>1.0</td>\n",
       "      <td>0.0</td>\n",
       "      <td>0.0</td>\n",
       "    </tr>\n",
       "    <tr>\n",
       "      <th>878048</th>\n",
       "      <td>5301</td>\n",
       "      <td>2</td>\n",
       "      <td>-122.394926</td>\n",
       "      <td>37.738212</td>\n",
       "      <td>1</td>\n",
       "      <td>2003</td>\n",
       "      <td>1</td>\n",
       "      <td>2</td>\n",
       "      <td>6</td>\n",
       "      <td>0</td>\n",
       "      <td>...</td>\n",
       "      <td>1.0</td>\n",
       "      <td>0.0</td>\n",
       "      <td>0.0</td>\n",
       "      <td>0.0</td>\n",
       "      <td>0.0</td>\n",
       "      <td>0.0</td>\n",
       "      <td>0.0</td>\n",
       "      <td>0.0</td>\n",
       "      <td>0.0</td>\n",
       "      <td>0.0</td>\n",
       "    </tr>\n",
       "  </tbody>\n",
       "</table>\n",
       "<p>5 rows × 49 columns</p>\n",
       "</div>"
      ],
      "text/plain": [
       "        Address  DayOfWeek           X          Y  is_train  DatesYear  \\\n",
       "878044    16537          2 -122.459033  37.714056         1       2003   \n",
       "878045    11841          2 -122.447364  37.731948         1       2003   \n",
       "878046    11663          2 -122.403390  37.780266         1       2003   \n",
       "878047    23739          2 -122.390531  37.780607         1       2003   \n",
       "878048     5301          2 -122.394926  37.738212         1       2003   \n",
       "\n",
       "        DatesMonth  DatesWeek  DatesDay  DatesDayofweek     ...      BAYVIEW  \\\n",
       "878044           1          2         6               0     ...          0.0   \n",
       "878045           1          2         6               0     ...          0.0   \n",
       "878046           1          2         6               0     ...          0.0   \n",
       "878047           1          2         6               0     ...          0.0   \n",
       "878048           1          2         6               0     ...          1.0   \n",
       "\n",
       "        CENTRAL  INGLESIDE  MISSION  NORTHERN  PARK  RICHMOND  SOUTHERN  \\\n",
       "878044      0.0        0.0      0.0       0.0   0.0       0.0       0.0   \n",
       "878045      0.0        1.0      0.0       0.0   0.0       0.0       0.0   \n",
       "878046      0.0        0.0      0.0       0.0   0.0       0.0       1.0   \n",
       "878047      0.0        0.0      0.0       0.0   0.0       0.0       1.0   \n",
       "878048      0.0        0.0      0.0       0.0   0.0       0.0       0.0   \n",
       "\n",
       "        TARAVAL  TENDERLOIN  \n",
       "878044      1.0         0.0  \n",
       "878045      0.0         0.0  \n",
       "878046      0.0         0.0  \n",
       "878047      0.0         0.0  \n",
       "878048      0.0         0.0  \n",
       "\n",
       "[5 rows x 49 columns]"
      ]
     },
     "execution_count": 47,
     "metadata": {},
     "output_type": "execute_result"
    }
   ],
   "source": [
    "train_x.tail()"
   ]
  },
  {
   "cell_type": "code",
   "execution_count": 48,
   "metadata": {},
   "outputs": [
    {
     "data": {
      "text/plain": [
       "(array([21, 21, 16, 16, 16, 36, 36, 16, 16, 16, 21, 35, 16, 20, 20, 25,  1, 21, 20, 16, 25, 37, 20, 16, 20,\n",
       "        16, 16, 16, 21, 16, 20, 35, 16, 35, 38, 20, 16, 16, 21, 21, 36, 16, 20,  4, 25,  1, 16, 16, 32],\n",
       "       dtype=int8),\n",
       " array([ 0,  1,  2,  3,  4,  5,  6,  7,  8,  9, 10, 11, 12, 13, 14, 15, 16, 17, 18, 19, 20, 21, 22, 23, 24,\n",
       "        25, 26, 27, 28, 29, 30, 31, 32, 33, 34, 35, 36, 37, 38], dtype=int8),\n",
       " array([36, 38, 16, 32, 24, 16,  7, 21,  1,  1, 21, 21, 21,  8,  1, 35, 20, 21,  6, 35, 16, 16,  7, 20, 34,\n",
       "        21, 20, 32, 32, 16, 16,  4, 32, 16, 16, 36, 21, 16,  4, 16, 21, 32, 16, 36, 32, 16, 23,  1, 35],\n",
       "       dtype=int8),\n",
       " array([ 0,  1,  2,  3,  4,  5,  6,  7,  8,  9, 10, 11, 12, 13, 14, 15, 16, 17, 18, 19, 20, 21, 22, 23, 24,\n",
       "        25, 26, 27, 28, 29, 30, 31, 32, 34, 35, 36, 37, 38], dtype=int8))"
      ]
     },
     "execution_count": 48,
     "metadata": {},
     "output_type": "execute_result"
    }
   ],
   "source": [
    "train_y[1:50], np.unique(train_y), val_y[1:50], np.unique(val_y)"
   ]
  },
  {
   "cell_type": "code",
   "execution_count": 49,
   "metadata": {},
   "outputs": [
    {
     "data": {
      "text/plain": [
       "(884262, 49)"
      ]
     },
     "execution_count": 49,
     "metadata": {},
     "output_type": "execute_result"
    }
   ],
   "source": [
    "test_x = pd.DataFrame(x_all[x_all['is_train']==0])\n",
    "test_x.shape"
   ]
  },
  {
   "cell_type": "code",
   "execution_count": 50,
   "metadata": {},
   "outputs": [
    {
     "data": {
      "text/html": [
       "<div>\n",
       "<style scoped>\n",
       "    .dataframe tbody tr th:only-of-type {\n",
       "        vertical-align: middle;\n",
       "    }\n",
       "\n",
       "    .dataframe tbody tr th {\n",
       "        vertical-align: top;\n",
       "    }\n",
       "\n",
       "    .dataframe thead th {\n",
       "        text-align: right;\n",
       "    }\n",
       "</style>\n",
       "<table border=\"1\" class=\"dataframe\">\n",
       "  <thead>\n",
       "    <tr style=\"text-align: right;\">\n",
       "      <th></th>\n",
       "      <th>Address</th>\n",
       "      <th>DayOfWeek</th>\n",
       "      <th>X</th>\n",
       "      <th>Y</th>\n",
       "      <th>is_train</th>\n",
       "      <th>DatesYear</th>\n",
       "      <th>DatesMonth</th>\n",
       "      <th>DatesWeek</th>\n",
       "      <th>DatesDay</th>\n",
       "      <th>DatesDayofweek</th>\n",
       "      <th>...</th>\n",
       "      <th>BAYVIEW</th>\n",
       "      <th>CENTRAL</th>\n",
       "      <th>INGLESIDE</th>\n",
       "      <th>MISSION</th>\n",
       "      <th>NORTHERN</th>\n",
       "      <th>PARK</th>\n",
       "      <th>RICHMOND</th>\n",
       "      <th>SOUTHERN</th>\n",
       "      <th>TARAVAL</th>\n",
       "      <th>TENDERLOIN</th>\n",
       "    </tr>\n",
       "  </thead>\n",
       "  <tbody>\n",
       "    <tr>\n",
       "      <th>1762306</th>\n",
       "      <td>7920</td>\n",
       "      <td>7</td>\n",
       "      <td>-122.408983</td>\n",
       "      <td>37.751987</td>\n",
       "      <td>0</td>\n",
       "      <td>2003</td>\n",
       "      <td>1</td>\n",
       "      <td>1</td>\n",
       "      <td>1</td>\n",
       "      <td>2</td>\n",
       "      <td>...</td>\n",
       "      <td>0.0</td>\n",
       "      <td>0.0</td>\n",
       "      <td>0.0</td>\n",
       "      <td>0.0</td>\n",
       "      <td>0.0</td>\n",
       "      <td>0.0</td>\n",
       "      <td>0.0</td>\n",
       "      <td>0.0</td>\n",
       "      <td>0.0</td>\n",
       "      <td>0.0</td>\n",
       "    </tr>\n",
       "    <tr>\n",
       "      <th>1762307</th>\n",
       "      <td>5597</td>\n",
       "      <td>7</td>\n",
       "      <td>-122.425342</td>\n",
       "      <td>37.792681</td>\n",
       "      <td>0</td>\n",
       "      <td>2003</td>\n",
       "      <td>1</td>\n",
       "      <td>1</td>\n",
       "      <td>1</td>\n",
       "      <td>2</td>\n",
       "      <td>...</td>\n",
       "      <td>0.0</td>\n",
       "      <td>0.0</td>\n",
       "      <td>0.0</td>\n",
       "      <td>0.0</td>\n",
       "      <td>0.0</td>\n",
       "      <td>0.0</td>\n",
       "      <td>0.0</td>\n",
       "      <td>0.0</td>\n",
       "      <td>0.0</td>\n",
       "      <td>0.0</td>\n",
       "    </tr>\n",
       "    <tr>\n",
       "      <th>1762308</th>\n",
       "      <td>11613</td>\n",
       "      <td>7</td>\n",
       "      <td>-122.445418</td>\n",
       "      <td>37.712075</td>\n",
       "      <td>0</td>\n",
       "      <td>2003</td>\n",
       "      <td>1</td>\n",
       "      <td>1</td>\n",
       "      <td>1</td>\n",
       "      <td>2</td>\n",
       "      <td>...</td>\n",
       "      <td>0.0</td>\n",
       "      <td>0.0</td>\n",
       "      <td>0.0</td>\n",
       "      <td>0.0</td>\n",
       "      <td>0.0</td>\n",
       "      <td>0.0</td>\n",
       "      <td>0.0</td>\n",
       "      <td>0.0</td>\n",
       "      <td>0.0</td>\n",
       "      <td>0.0</td>\n",
       "    </tr>\n",
       "    <tr>\n",
       "      <th>1762309</th>\n",
       "      <td>4394</td>\n",
       "      <td>7</td>\n",
       "      <td>-122.387394</td>\n",
       "      <td>37.739479</td>\n",
       "      <td>0</td>\n",
       "      <td>2003</td>\n",
       "      <td>1</td>\n",
       "      <td>1</td>\n",
       "      <td>1</td>\n",
       "      <td>2</td>\n",
       "      <td>...</td>\n",
       "      <td>0.0</td>\n",
       "      <td>0.0</td>\n",
       "      <td>0.0</td>\n",
       "      <td>0.0</td>\n",
       "      <td>0.0</td>\n",
       "      <td>0.0</td>\n",
       "      <td>0.0</td>\n",
       "      <td>0.0</td>\n",
       "      <td>0.0</td>\n",
       "      <td>0.0</td>\n",
       "    </tr>\n",
       "    <tr>\n",
       "      <th>1762310</th>\n",
       "      <td>4477</td>\n",
       "      <td>7</td>\n",
       "      <td>-122.489714</td>\n",
       "      <td>37.733950</td>\n",
       "      <td>0</td>\n",
       "      <td>2003</td>\n",
       "      <td>1</td>\n",
       "      <td>1</td>\n",
       "      <td>1</td>\n",
       "      <td>2</td>\n",
       "      <td>...</td>\n",
       "      <td>0.0</td>\n",
       "      <td>0.0</td>\n",
       "      <td>0.0</td>\n",
       "      <td>0.0</td>\n",
       "      <td>0.0</td>\n",
       "      <td>0.0</td>\n",
       "      <td>0.0</td>\n",
       "      <td>0.0</td>\n",
       "      <td>0.0</td>\n",
       "      <td>0.0</td>\n",
       "    </tr>\n",
       "  </tbody>\n",
       "</table>\n",
       "<p>5 rows × 49 columns</p>\n",
       "</div>"
      ],
      "text/plain": [
       "         Address  DayOfWeek           X          Y  is_train  DatesYear  \\\n",
       "1762306     7920          7 -122.408983  37.751987         0       2003   \n",
       "1762307     5597          7 -122.425342  37.792681         0       2003   \n",
       "1762308    11613          7 -122.445418  37.712075         0       2003   \n",
       "1762309     4394          7 -122.387394  37.739479         0       2003   \n",
       "1762310     4477          7 -122.489714  37.733950         0       2003   \n",
       "\n",
       "         DatesMonth  DatesWeek  DatesDay  DatesDayofweek     ...      BAYVIEW  \\\n",
       "1762306           1          1         1               2     ...          0.0   \n",
       "1762307           1          1         1               2     ...          0.0   \n",
       "1762308           1          1         1               2     ...          0.0   \n",
       "1762309           1          1         1               2     ...          0.0   \n",
       "1762310           1          1         1               2     ...          0.0   \n",
       "\n",
       "         CENTRAL  INGLESIDE  MISSION  NORTHERN  PARK  RICHMOND  SOUTHERN  \\\n",
       "1762306      0.0        0.0      0.0       0.0   0.0       0.0       0.0   \n",
       "1762307      0.0        0.0      0.0       0.0   0.0       0.0       0.0   \n",
       "1762308      0.0        0.0      0.0       0.0   0.0       0.0       0.0   \n",
       "1762309      0.0        0.0      0.0       0.0   0.0       0.0       0.0   \n",
       "1762310      0.0        0.0      0.0       0.0   0.0       0.0       0.0   \n",
       "\n",
       "         TARAVAL  TENDERLOIN  \n",
       "1762306      0.0         0.0  \n",
       "1762307      0.0         0.0  \n",
       "1762308      0.0         0.0  \n",
       "1762309      0.0         0.0  \n",
       "1762310      0.0         0.0  \n",
       "\n",
       "[5 rows x 49 columns]"
      ]
     },
     "execution_count": 50,
     "metadata": {},
     "output_type": "execute_result"
    }
   ],
   "source": [
    "test_x.tail()"
   ]
  },
  {
   "cell_type": "code",
   "execution_count": 51,
   "metadata": {},
   "outputs": [
    {
     "data": {
      "text/plain": [
       "Index(['Address', 'DayOfWeek', 'X', 'Y', 'is_train', 'DatesYear', 'DatesMonth',\n",
       "       'DatesWeek', 'DatesDay', 'DatesDayofweek', 'DatesDayofyear',\n",
       "       'DatesIs_month_end', 'DatesIs_month_start', 'DatesIs_quarter_end',\n",
       "       'DatesIs_quarter_start', 'DatesIs_year_end', 'DatesIs_year_start',\n",
       "       'DatesHour', 'DatesMinute', 'DatesSecond', 'DatesElapsed', 'YearMonth',\n",
       "       'xy_scaled_1', 'xy_scaled_2', 'xy_pca_1', 'xy_pca_2', 'xy_x_rotate_30',\n",
       "       'xy_x_rotate_45', 'xy_x_rotate_60', 'xy_y_rotate_30', 'xy_y_rotate_45',\n",
       "       'xy_y_rotate_60', 'xy_radial_r', 'xy_radial_phi',\n",
       "       'add_contains_intersection', 'add_contains_block', 'add_part1',\n",
       "       'add_part2', 'add_part1_type', 'BAYVIEW', 'CENTRAL', 'INGLESIDE',\n",
       "       'MISSION', 'NORTHERN', 'PARK', 'RICHMOND', 'SOUTHERN', 'TARAVAL',\n",
       "       'TENDERLOIN'],\n",
       "      dtype='object')"
      ]
     },
     "execution_count": 51,
     "metadata": {},
     "output_type": "execute_result"
    }
   ],
   "source": [
    "test_x.columns"
   ]
  },
  {
   "cell_type": "markdown",
   "metadata": {},
   "source": [
    "### 6. Building the models"
   ]
  },
  {
   "cell_type": "code",
   "execution_count": 53,
   "metadata": {},
   "outputs": [
    {
     "data": {
      "text/plain": [
       "(0.8657250325481127, 0.3151538461538462)"
      ]
     },
     "execution_count": 53,
     "metadata": {},
     "output_type": "execute_result"
    }
   ],
   "source": [
    "# Base model of 30 trees\n",
    "m = RandomForestClassifier(n_jobs=-1,n_estimators=30)\n",
    "m.fit(train_x, train_y)\n",
    "m.score(train_x, train_y),m.score(val_x, val_y)"
   ]
  },
  {
   "cell_type": "code",
   "execution_count": 77,
   "metadata": {},
   "outputs": [
    {
     "data": {
      "text/plain": [
       "(0.8656859828764097, 0.3198076923076923)"
      ]
     },
     "execution_count": 77,
     "metadata": {},
     "output_type": "execute_result"
    }
   ],
   "source": [
    "# Adding max_features (columns)\n",
    "m2 = RandomForestClassifier(n_jobs=-1,n_estimators=30,max_features=0.6)\n",
    "m2.fit(train_x, train_y)\n",
    "m2.score(train_x, train_y), m.score(val_x, val_y)"
   ]
  },
  {
   "cell_type": "code",
   "execution_count": 53,
   "metadata": {},
   "outputs": [
    {
     "data": {
      "text/plain": [
       "(801434, 801434, 77795, 77795)"
      ]
     },
     "execution_count": 53,
     "metadata": {},
     "output_type": "execute_result"
    }
   ],
   "source": [
    "rare_cats = set(['SUICIDE','FAMILY OFFENSES', 'BAD CHECKS', 'BRIBERY', 'EXTORTION',\n",
    "       'SEX OFFENSES NON FORCIBLE', 'GAMBLING', 'PORNOGRAPHY/OBSCENE MAT',\n",
    "       'TREA'])\n",
    "all_cats = set(train['Category'].unique())\n",
    "common_cats = all_cats-rare_cats\n",
    "# Create index of common Categories\n",
    "train_common_cat_idx = train_train['Category'].isin(common_cats)\n",
    "val_common_cat_idx   = train_val['Category'].isin(common_cats)\n",
    "# subset train data\n",
    "train_x_common_cats = train_x[train_common_cat_idx]\n",
    "train_y_common_cats = train_y[train_common_cat_idx]\n",
    "val_x_common_cats   = val_x[val_common_cat_idx]\n",
    "val_y_common_cats   = val_y[val_common_cat_idx]\n",
    "\n",
    "len(train_x_common_cats), len(train_y_common_cats), len(val_x_common_cats), len(val_y_common_cats)"
   ]
  },
  {
   "cell_type": "code",
   "execution_count": 53,
   "metadata": {},
   "outputs": [
    {
     "ename": "ModuleNotFoundError",
     "evalue": "No module named 'psutil'",
     "output_type": "error",
     "traceback": [
      "\u001b[0;31m---------------------------------------------------------------------------\u001b[0m",
      "\u001b[0;31mModuleNotFoundError\u001b[0m                       Traceback (most recent call last)",
      "\u001b[0;32m<ipython-input-53-83d0ee3ad7e4>\u001b[0m in \u001b[0;36m<module>\u001b[0;34m()\u001b[0m\n\u001b[0;32m----> 1\u001b[0;31m \u001b[0;32mimport\u001b[0m \u001b[0mos\u001b[0m\u001b[0;34m,\u001b[0m \u001b[0mpsutil\u001b[0m\u001b[0;34m,\u001b[0m \u001b[0mnumpy\u001b[0m \u001b[0;32mas\u001b[0m \u001b[0mnp\u001b[0m\u001b[0;34m\u001b[0m\u001b[0m\n\u001b[0m\u001b[1;32m      2\u001b[0m \u001b[0;34m\u001b[0m\u001b[0m\n\u001b[1;32m      3\u001b[0m \u001b[0;32mdef\u001b[0m \u001b[0musage\u001b[0m\u001b[0;34m(\u001b[0m\u001b[0;34m)\u001b[0m\u001b[0;34m:\u001b[0m\u001b[0;34m\u001b[0m\u001b[0m\n\u001b[1;32m      4\u001b[0m     \u001b[0mprocess\u001b[0m \u001b[0;34m=\u001b[0m \u001b[0mpsutil\u001b[0m\u001b[0;34m.\u001b[0m\u001b[0mProcess\u001b[0m\u001b[0;34m(\u001b[0m\u001b[0mos\u001b[0m\u001b[0;34m.\u001b[0m\u001b[0mgetpid\u001b[0m\u001b[0;34m(\u001b[0m\u001b[0;34m)\u001b[0m\u001b[0;34m)\u001b[0m\u001b[0;34m\u001b[0m\u001b[0m\n\u001b[1;32m      5\u001b[0m     \u001b[0;32mreturn\u001b[0m \u001b[0mprocess\u001b[0m\u001b[0;34m.\u001b[0m\u001b[0mget_memory_info\u001b[0m\u001b[0;34m(\u001b[0m\u001b[0;34m)\u001b[0m\u001b[0;34m[\u001b[0m\u001b[0;36m0\u001b[0m\u001b[0;34m]\u001b[0m \u001b[0;34m/\u001b[0m \u001b[0mfloat\u001b[0m\u001b[0;34m(\u001b[0m\u001b[0;36m2\u001b[0m \u001b[0;34m**\u001b[0m \u001b[0;36m20\u001b[0m\u001b[0;34m)\u001b[0m\u001b[0;34m\u001b[0m\u001b[0m\n",
      "\u001b[0;31mModuleNotFoundError\u001b[0m: No module named 'psutil'"
     ]
    }
   ],
   "source": [
    "import os, psutil, numpy as np\n",
    "\n",
    "def usage():\n",
    "    process = psutil.Process(os.getpid())\n",
    "    return process.get_memory_info()[0] / float(2 ** 20)"
   ]
  },
  {
   "cell_type": "code",
   "execution_count": 54,
   "metadata": {},
   "outputs": [],
   "source": [
    "del train_train\n",
    "del train_val\n",
    "del df_master\n",
    "del train"
   ]
  },
  {
   "cell_type": "code",
   "execution_count": 83,
   "metadata": {},
   "outputs": [
    {
     "data": {
      "text/plain": [
       "(0.8665035307976146, 0.3202437111970899)"
      ]
     },
     "execution_count": 83,
     "metadata": {},
     "output_type": "execute_result"
    }
   ],
   "source": [
    "# Using common features only\n",
    "m3 = RandomForestClassifier(n_jobs=-1,n_estimators=30)\n",
    "m3.fit(train_x_common_cats, train_y_common_cats)\n",
    "m3.score(train_x_common_cats, train_y_common_cats), m3.score(val_x_common_cats, val_y_common_cats)"
   ]
  },
  {
   "cell_type": "code",
   "execution_count": 55,
   "metadata": {},
   "outputs": [],
   "source": [
    "from sklearn import svm"
   ]
  },
  {
   "cell_type": "code",
   "execution_count": null,
   "metadata": {},
   "outputs": [],
   "source": [
    "clf = svm.SVC(decision_function_shape='ovo')\n",
    "clf.fit(train_x_common_cats, train_y_common_cats)"
   ]
  },
  {
   "cell_type": "code",
   "execution_count": 85,
   "metadata": {},
   "outputs": [
    {
     "data": {
      "text/plain": [
       "(0.7491692424414477, 0.33687674331915113)"
      ]
     },
     "execution_count": 85,
     "metadata": {},
     "output_type": "execute_result"
    }
   ],
   "source": [
    "# Using common features only and min_samples (tree stops when # examples equals to)\n",
    "m4 = RandomForestClassifier(n_jobs=-1,n_estimators=30, min_samples_leaf=3)\n",
    "m4.fit(train_x_common_cats, train_y_common_cats)\n",
    "m4.score(train_x_common_cats, train_y_common_cats), m4.score(val_x_common_cats, val_y_common_cats)"
   ]
  },
  {
   "cell_type": "code",
   "execution_count": 86,
   "metadata": {},
   "outputs": [
    {
     "data": {
      "text/plain": [
       "(0.866864160064489, 0.3315809092895613)"
      ]
     },
     "execution_count": 86,
     "metadata": {},
     "output_type": "execute_result"
    }
   ],
   "source": [
    "# Using common features only and max_feature (max percent of columns in any given tree)\n",
    "m5 = RandomForestClassifier(n_jobs=-1,n_estimators=300, max_features=0.5)\n",
    "m5.fit(train_x_common_cats, train_y_common_cats)\n",
    "m5.score(train_x_common_cats, train_y_common_cats), m5.score(val_x_common_cats, val_y_common_cats)"
   ]
  },
  {
   "cell_type": "code",
   "execution_count": 58,
   "metadata": {},
   "outputs": [
    {
     "data": {
      "text/plain": [
       "(0.8166886521308845, 0.34437903288002264)"
      ]
     },
     "execution_count": 58,
     "metadata": {},
     "output_type": "execute_result"
    }
   ],
   "source": [
    "# Using common features only and max_feature (max percent of columns in any given tree)\n",
    "m6 = RandomForestClassifier(n_jobs=-1,n_estimators=512, max_features=0.5, min_samples_leaf=3)\n",
    "m6.fit(train_x_common_cats, train_y_common_cats)\n",
    "m6.score(train_x_common_cats, train_y_common_cats), m6.score(val_x_common_cats, val_y_common_cats)"
   ]
  },
  {
   "cell_type": "code",
   "execution_count": 60,
   "metadata": {},
   "outputs": [
    {
     "data": {
      "text/plain": [
       "(0.7054675790322319, 0.3442762024730713)"
      ]
     },
     "execution_count": 60,
     "metadata": {},
     "output_type": "execute_result"
    }
   ],
   "source": [
    "# Using common features only and max_feature (max percent of columns in any given tree)\n",
    "m7 = RandomForestClassifier(n_jobs=-1,n_estimators=1024, max_features=0.5, min_samples_leaf=5)\n",
    "m7.fit(train_x_common_cats, train_y_common_cats)\n",
    "m7.score(train_x_common_cats, train_y_common_cats), m7.score(val_x_common_cats, val_y_common_cats)"
   ]
  },
  {
   "cell_type": "code",
   "execution_count": 56,
   "metadata": {},
   "outputs": [
    {
     "data": {
      "text/plain": [
       "(0.5452912973921378, 0.3324849606663582)"
      ]
     },
     "execution_count": 56,
     "metadata": {},
     "output_type": "execute_result"
    }
   ],
   "source": [
    "# Using common features only and max_feature (max percent of columns in any given tree)\n",
    "m8 = RandomForestClassifier(n_jobs=-1,n_estimators=1024, max_features='log2', min_samples_leaf=7)\n",
    "m8.fit(train_x_common_cats, train_y_common_cats)\n",
    "m8.score(train_x_common_cats, train_y_common_cats), m8.score(val_x_common_cats, val_y_common_cats)"
   ]
  },
  {
   "cell_type": "code",
   "execution_count": 58,
   "metadata": {},
   "outputs": [
    {
     "data": {
      "text/plain": [
       "(0.7510688266990788, 0.3418427682657206)"
      ]
     },
     "execution_count": 58,
     "metadata": {},
     "output_type": "execute_result"
    }
   ],
   "source": [
    "# Using common features only and max_feature (max percent of columns in any given tree)\n",
    "m9 = RandomForestClassifier(n_jobs=-1,n_estimators=1024, max_features='log2', min_samples_leaf=3)\n",
    "m9.fit(train_x_common_cats, train_y_common_cats)\n",
    "m9.score(train_x_common_cats, train_y_common_cats), m9.score(val_x_common_cats, val_y_common_cats)"
   ]
  },
  {
   "cell_type": "code",
   "execution_count": 54,
   "metadata": {},
   "outputs": [
    {
     "data": {
      "text/plain": [
       "(0.7498580589451564, 0.3408199735160639)"
      ]
     },
     "execution_count": 54,
     "metadata": {},
     "output_type": "execute_result"
    }
   ],
   "source": [
    "# Using common features only and max_feature (max percent of columns in any given tree)\n",
    "m10 = RandomForestClassifier(n_jobs=-1,n_estimators=512, max_features='log2', min_samples_leaf=3)\n",
    "m10.fit(train_x_common_cats, train_y_common_cats)\n",
    "m10.score(train_x_common_cats, train_y_common_cats), m10.score(val_x_common_cats, val_y_common_cats)"
   ]
  },
  {
   "cell_type": "code",
   "execution_count": 55,
   "metadata": {},
   "outputs": [
    {
     "data": {
      "text/plain": [
       "(0.34275311504128847, 0.3124493862073398)"
      ]
     },
     "execution_count": 55,
     "metadata": {},
     "output_type": "execute_result"
    }
   ],
   "source": [
    "# Using common features only and max_feature (max percent of columns in any given tree)\n",
    "m11 = RandomForestClassifier(n_jobs=-1,n_estimators=1024, max_features='log2', min_samples_leaf=50)\n",
    "m11.fit(train_x_common_cats, train_y_common_cats)\n",
    "m11.score(train_x_common_cats, train_y_common_cats), m11.score(val_x_common_cats, val_y_common_cats)"
   ]
  },
  {
   "cell_type": "code",
   "execution_count": null,
   "metadata": {},
   "outputs": [],
   "source": [
    "# Using common features only and max_feature (max percent of columns in any given tree)\n",
    "m12 = RandomForestClassifier(n_jobs=-1,n_estimators=2048, max_features='log2', min_samples_leaf=30)\n",
    "m12.fit(train_x_common_cats, train_y_common_cats)\n",
    "m12.score(train_x_common_cats, train_y_common_cats), m12.score(val_x_common_cats, val_y_common_cats)"
   ]
  },
  {
   "cell_type": "code",
   "execution_count": 56,
   "metadata": {},
   "outputs": [
    {
     "name": "stdout",
     "output_type": "stream",
     "text": [
      "done\n"
     ]
    }
   ],
   "source": [
    "print(\"done\")"
   ]
  },
  {
   "cell_type": "markdown",
   "metadata": {},
   "source": [
    "### 7. Testing the models"
   ]
  },
  {
   "cell_type": "code",
   "execution_count": 171,
   "metadata": {},
   "outputs": [],
   "source": [
    "results_m1 = m.predict(test_x)"
   ]
  },
  {
   "cell_type": "code",
   "execution_count": 175,
   "metadata": {},
   "outputs": [],
   "source": [
    "results_m2 = m2.predict(test_x)"
   ]
  },
  {
   "cell_type": "code",
   "execution_count": 176,
   "metadata": {},
   "outputs": [],
   "source": [
    "results_m3 = m3.predict(test_x)"
   ]
  },
  {
   "cell_type": "code",
   "execution_count": 177,
   "metadata": {},
   "outputs": [],
   "source": [
    "results_m4 = m4.predict(test_x)"
   ]
  },
  {
   "cell_type": "code",
   "execution_count": 178,
   "metadata": {},
   "outputs": [],
   "source": [
    "results_m5 = m5.predict(test_x)"
   ]
  },
  {
   "cell_type": "code",
   "execution_count": 179,
   "metadata": {},
   "outputs": [],
   "source": [
    "results_m6 = m6.predict(test_x)"
   ]
  },
  {
   "cell_type": "code",
   "execution_count": 53,
   "metadata": {},
   "outputs": [],
   "source": [
    "results_m7 = m7.predict(test_x)"
   ]
  },
  {
   "cell_type": "code",
   "execution_count": 55,
   "metadata": {},
   "outputs": [],
   "source": [
    "results_m10 = m10.predict(test_x)"
   ]
  },
  {
   "cell_type": "markdown",
   "metadata": {},
   "source": [
    "### 8. Writing the Output"
   ]
  },
  {
   "cell_type": "code",
   "execution_count": 54,
   "metadata": {},
   "outputs": [],
   "source": [
    "def write_results(results,file_name):\n",
    "    \n",
    "    result_accumulator=list()\n",
    "    print(\"Step 1: one-hot-encoding...\")\n",
    "\n",
    "    for i in range(0,len(results)):\n",
    "        temp=np.zeros(39,dtype=int)\n",
    "        temp[results[i]]=1\n",
    "        line=np.insert(temp,0,i)\n",
    "        result_accumulator.append(line)\n",
    "\n",
    "    print(\"Step 2: Formatting into dataframe...\")    \n",
    "\n",
    "    out_file = pd.DataFrame(result_accumulator)\n",
    "    print(\"Dimension of the output file: \",out_file.shape)\n",
    "\n",
    "    print(\"Step 3: Writing the output file...\") \n",
    "    out_file_address = 'data/sf-crime/' + file_name + '.csv'\n",
    "    out_file.to_csv(out_file_address,index=False)"
   ]
  },
  {
   "cell_type": "code",
   "execution_count": 173,
   "metadata": {},
   "outputs": [
    {
     "name": "stdout",
     "output_type": "stream",
     "text": [
      "Step 1: one-hot-encoding...\n",
      "Step 2: Formatting into dataframe...\n",
      "Dimension of the output file:  (884262, 40)\n",
      "Step 3: Writing the output file...\n"
     ]
    }
   ],
   "source": [
    "write_results(results_m1,'results_m1')"
   ]
  },
  {
   "cell_type": "code",
   "execution_count": 180,
   "metadata": {},
   "outputs": [
    {
     "name": "stdout",
     "output_type": "stream",
     "text": [
      "Step 1: one-hot-encoding...\n",
      "Step 2: Formatting into dataframe...\n",
      "Dimension of the output file:  (884262, 40)\n",
      "Step 3: Writing the output file...\n"
     ]
    }
   ],
   "source": [
    "write_results(results_m2,'results_m2')"
   ]
  },
  {
   "cell_type": "code",
   "execution_count": 181,
   "metadata": {},
   "outputs": [
    {
     "name": "stdout",
     "output_type": "stream",
     "text": [
      "Step 1: one-hot-encoding...\n",
      "Step 2: Formatting into dataframe...\n",
      "Dimension of the output file:  (884262, 40)\n",
      "Step 3: Writing the output file...\n"
     ]
    }
   ],
   "source": [
    "write_results(results_m3,'results_m3')"
   ]
  },
  {
   "cell_type": "code",
   "execution_count": 182,
   "metadata": {},
   "outputs": [
    {
     "name": "stdout",
     "output_type": "stream",
     "text": [
      "Step 1: one-hot-encoding...\n",
      "Step 2: Formatting into dataframe...\n",
      "Dimension of the output file:  (884262, 40)\n",
      "Step 3: Writing the output file...\n"
     ]
    }
   ],
   "source": [
    "write_results(results_m4,'results_m4')"
   ]
  },
  {
   "cell_type": "code",
   "execution_count": 183,
   "metadata": {},
   "outputs": [
    {
     "name": "stdout",
     "output_type": "stream",
     "text": [
      "Step 1: one-hot-encoding...\n",
      "Step 2: Formatting into dataframe...\n",
      "Dimension of the output file:  (884262, 40)\n",
      "Step 3: Writing the output file...\n"
     ]
    }
   ],
   "source": [
    "write_results(results_m5,'results_m5')"
   ]
  },
  {
   "cell_type": "code",
   "execution_count": 184,
   "metadata": {},
   "outputs": [
    {
     "name": "stdout",
     "output_type": "stream",
     "text": [
      "Step 1: one-hot-encoding...\n",
      "Step 2: Formatting into dataframe...\n",
      "Dimension of the output file:  (884262, 40)\n",
      "Step 3: Writing the output file...\n"
     ]
    }
   ],
   "source": [
    "write_results(results_m6,'results_m6')"
   ]
  },
  {
   "cell_type": "code",
   "execution_count": 55,
   "metadata": {},
   "outputs": [
    {
     "name": "stdout",
     "output_type": "stream",
     "text": [
      "Step 1: one-hot-encoding...\n",
      "Step 2: Formatting into dataframe...\n",
      "Dimension of the output file:  (884262, 40)\n",
      "Step 3: Writing the output file...\n"
     ]
    }
   ],
   "source": [
    "write_results(results_m7,'results_m7')"
   ]
  },
  {
   "cell_type": "code",
   "execution_count": null,
   "metadata": {},
   "outputs": [],
   "source": [
    "write_results(results_m10,'results_m10')"
   ]
  },
  {
   "cell_type": "code",
   "execution_count": null,
   "metadata": {},
   "outputs": [],
   "source": [
    "write_results(results_m11,'results_m11')"
   ]
  },
  {
   "cell_type": "markdown",
   "metadata": {},
   "source": [
    "### 9. Results based on kaggle evaluation script"
   ]
  },
  {
   "cell_type": "markdown",
   "metadata": {},
   "source": [
    "model - m1 ; score - 24.68536\n",
    "#model - m2 ; score - TBS\n",
    "model - m3 ; score - 24.65935\n",
    "model - m4 ; score - 24.04209\n",
    "#model - m5 ; score - TBS\n",
    "model - m6 ; score - 24.01581"
   ]
  },
  {
   "cell_type": "markdown",
   "metadata": {},
   "source": [
    "### 10. What to try next?"
   ]
  },
  {
   "cell_type": "markdown",
   "metadata": {},
   "source": [
    "#### More features:"
   ]
  },
  {
   "cell_type": "markdown",
   "metadata": {},
   "source": [
    "- Weekday vs weekend\n",
    "- Year-month combo"
   ]
  },
  {
   "cell_type": "markdown",
   "metadata": {},
   "source": [
    "#### Methodology:"
   ]
  },
  {
   "cell_type": "markdown",
   "metadata": {},
   "source": [
    "- One hot encoding for categorical variables?"
   ]
  },
  {
   "cell_type": "markdown",
   "metadata": {},
   "source": [
    "#### Other models:"
   ]
  },
  {
   "cell_type": "markdown",
   "metadata": {},
   "source": [
    "- NeuralNet\n",
    "- LightGBM\n",
    "- XGBoost"
   ]
  },
  {
   "cell_type": "code",
   "execution_count": null,
   "metadata": {},
   "outputs": [],
   "source": []
  }
 ],
 "metadata": {
  "kernelspec": {
   "display_name": "Python 3",
   "language": "python",
   "name": "python3"
  },
  "language_info": {
   "codemirror_mode": {
    "name": "ipython",
    "version": 3
   },
   "file_extension": ".py",
   "mimetype": "text/x-python",
   "name": "python",
   "nbconvert_exporter": "python",
   "pygments_lexer": "ipython3",
   "version": "3.6.5"
  }
 },
 "nbformat": 4,
 "nbformat_minor": 2
}
