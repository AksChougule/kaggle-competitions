{
 "cells": [
  {
   "cell_type": "markdown",
   "metadata": {},
   "source": [
    "Creating a custom dataset for our problem statement"
   ]
  },
  {
   "cell_type": "code",
   "execution_count": 4,
   "metadata": {},
   "outputs": [],
   "source": [
    "#!pip install albumentations"
   ]
  },
  {
   "cell_type": "code",
   "execution_count": 2,
   "metadata": {},
   "outputs": [],
   "source": [
    "import joblib\n",
    "import pandas as pd\n",
    "from PIL import Image\n",
    "import albumentations\n",
    "import numpy as np\n",
    "import os"
   ]
  },
  {
   "cell_type": "code",
   "execution_count": 3,
   "metadata": {},
   "outputs": [],
   "source": [
    "import torch\n",
    "import matplotlib.pyplot as plt"
   ]
  },
  {
   "cell_type": "code",
   "execution_count": 4,
   "metadata": {},
   "outputs": [],
   "source": [
    "os.chdir(\"/home/ubuntu/codebase/my_github/kaggle-competitions/human-protein-atlas/approach_2/src/\")"
   ]
  },
  {
   "cell_type": "code",
   "execution_count": 22,
   "metadata": {},
   "outputs": [],
   "source": [
    "class HumanProteinAtlasTrain:\n",
    "    # folds with have multile values for train, one value for valid\n",
    "    def __init__(self, folds, img_height, img_width, mean, std):\n",
    "        df = pd.read_csv(\"../input/train_folds.csv\")\n",
    "        df.drop(\"Target\", axis=1)\n",
    "        \n",
    "        # Let'd filter rows based on kfold\n",
    "        df = df[df.kfold.isin(folds)].reset_index(drop=True)\n",
    "        self.image_ids = df.Id.values\n",
    "        self.nucleoplasmn  = df[\"Nucleoplasmn\"].values\n",
    "        self.nuclear_membrane  = df[\"Nuclear membrane\"].values\n",
    "        self.nucleoli  = df[\"Nucleoli\"].values\n",
    "        self.nucleoli_fibrillar_center  = df[\"Nucleoli fibrillar center\"].values\n",
    "        self.nuclear_speckles  = df[\"Nuclear speckles\"].values\n",
    "        self.nuclear_bodies  = df[\"Nuclear bodies\"].values\n",
    "        self.endoplasmic_reticulum  = df[\"Endoplasmic reticulum\"].values\n",
    "        self.golgi_apparatus  = df[\"Golgi apparatus\"].values\n",
    "        self.peroxisomes  = df[\"Peroxisomes\"].values\n",
    "        self.endosomes  = df[\"Endosomes\"].values\n",
    "        self.lysosomes  = df[\"Lysosomes\"].values\n",
    "        self.intermediate_filaments  = df[\"Intermediate filaments\"].values\n",
    "        self.actin_filaments  = df[\"Actin filaments\"].values\n",
    "        self.focal_adhesion_sites  = df[\"Focal adhesion sites\"].values\n",
    "        self.microtubules  = df[\"Microtubules\"].values\n",
    "        self.microtubule_ends  = df[\"Microtubule ends\"].values\n",
    "        self.cytokinetic_bridge  = df[\"Cytokinetic bridge\"].values\n",
    "        self.mitotic_spindle  = df[\"Mitotic spindle\"].values\n",
    "        self.microtubule_organizing_center  = df[\"Microtubule organizing center\"].values\n",
    "        self.centrosome  = df[\"Centrosome\"].values\n",
    "        self.lipid_droplets = df[\"Lipid droplets\"].values\n",
    "        self.plasma_membrane  = df[\"Plasma membrane\"].values\n",
    "        self.cell_junctions  = df[\"Cell junctions\"].values\n",
    "        self.mitochondria  = df[\"Mitochondria\"].values\n",
    "        self.aggresome  = df[\"Aggresome\"].values\n",
    "        self.cytosol  = df[\"Cytosol\"].values\n",
    "        self.cytoplasmic_bodies  = df[\"Cytoplasmic bodies\"].values\n",
    "        self.rods_rings  = df[\"Rods & rings\"].values\n",
    "\n",
    "        # We don't want tranforms (other than basic resize and normalize) on validation set\n",
    "        if len(folds) == 1:\n",
    "            self.aug = albumentations.Compose([\n",
    "                # Resize based on input\n",
    "                albumentations.Resize(img_height, img_width, always_apply=True),\n",
    "                # Normalize\n",
    "                albumentations.Normalize(mean, std, always_apply=True)\n",
    "                \n",
    "            ])\n",
    "        else:\n",
    "            self.aug = albumentations.Compose([\n",
    "                # Resize based on input\n",
    "                albumentations.Resize(img_height, img_width, always_apply=True),\n",
    "                albumentations.ShiftScaleRotate(shift_limit=0.0625,\n",
    "                                                scale_limit=0.1,\n",
    "                                                rotate_limit=5,\n",
    "                                                p=0.9),# apply 90% of the times\n",
    "                # Normalize\n",
    "                albumentations.Normalize(mean, std, always_apply=True)                \n",
    "            ])\n",
    "            \n",
    "        \n",
    "    def __len__(self):\n",
    "        return len(self.image_ids)\n",
    "    \n",
    "    def __getitem__(self, item):\n",
    "        #image = joblib.load(f\"/home/ubuntu/datasets/human-protein-atlas/train_512by512/{self.image_ids[item]}.png\")\n",
    "        image = Image.open(f\"/home/ubuntu/datasets/human-protein-atlas/train_512by512/{self.image_ids[item]}.png\").convert(\"RGB\")\n",
    "        #Image.open(path).convert(\"RGB\")\n",
    "        #image = Image.fromarray(image)\n",
    "        # Let's apply the transforms defined in init\n",
    "        image = self.aug(image=np.array(image))[\"image\"]\n",
    "        # Transpose the image to fit torch vision channels, so exchange channel locations\n",
    "        image = np.transpose(image, (2, 0, 1)).astype(np.float32)\n",
    "        return{\n",
    "            'image': torch.tensor(image, dtype=torch.float),\n",
    "            'nucleoplasmn': torch.tensor(self.nucleoplasmn[item], dtype=torch.long),\n",
    "            'nuclear_membrane': torch.tensor(self.nuclear_membrane[item], dtype=torch.long),\n",
    "            'nucleoli': torch.tensor(self.nucleoli[item], dtype=torch.long),\n",
    "            'nucleoli_fibrillar_center': torch.tensor(self.nucleoli_fibrillar_center[item], dtype=torch.long),\n",
    "            'nuclear_speckles': torch.tensor(self.nuclear_speckles[item], dtype=torch.long),\n",
    "            'nuclear_bodies': torch.tensor(self.nuclear_bodies[item], dtype=torch.long),\n",
    "            'endoplasmic_reticulum': torch.tensor(self.endoplasmic_reticulum[item], dtype=torch.long),\n",
    "            'golgi_apparatus': torch.tensor(self.golgi_apparatus[item], dtype=torch.long),\n",
    "            'peroxisomes': torch.tensor(self.peroxisomes[item], dtype=torch.long),\n",
    "            'endosomes': torch.tensor(self.endosomes[item], dtype=torch.long),\n",
    "            'lysosomes': torch.tensor(self.lysosomes[item], dtype=torch.long),\n",
    "            'intermediate_filaments': torch.tensor(self.intermediate_filaments[item], dtype=torch.long),\n",
    "            'actin_filaments': torch.tensor(self.actin_filaments[item], dtype=torch.long),\n",
    "            'focal_adhesion_sites': torch.tensor(self.focal_adhesion_sites[item] , dtype=torch.long),\n",
    "            'microtubules': torch.tensor(self.microtubules[item], dtype=torch.long),\n",
    "            'microtubule_ends': torch.tensor(self.microtubule_ends[item], dtype=torch.long),\n",
    "            'cytokinetic_bridge': torch.tensor(self.cytokinetic_bridge[item], dtype=torch.long),\n",
    "            'mitotic_spindle': torch.tensor(self.mitotic_spindle[item], dtype=torch.long),\n",
    "            'microtubule_organizing_center': torch.tensor(self.microtubule_organizing_center[item], dtype=torch.long),\n",
    "            'centrosome': torch.tensor(self.centrosome[item], dtype=torch.long),\n",
    "            'lipid_droplets': torch.tensor(self.lipid_droplets[item], dtype=torch.long),\n",
    "            'plasma_membrane': torch.tensor(self.plasma_membrane[item], dtype=torch.long),\n",
    "            'cell_junctions': torch.tensor(self.cell_junctions[item], dtype=torch.long),\n",
    "            'mitochondria': torch.tensor(self.mitochondria[item], dtype=torch.long),\n",
    "            'aggresome': torch.tensor(self.aggresome[item], dtype=torch.long),\n",
    "            'cytosol': torch.tensor(self.cytosol[item], dtype=torch.long),\n",
    "            'cytoplasmic_bodies': torch.tensor(self.cytoplasmic_bodies[item], dtype=torch.long),\n",
    "            'rods_rings': torch.tensor(self.rods_rings[item], dtype=torch.long)\n",
    "        }"
   ]
  },
  {
   "cell_type": "code",
   "execution_count": 23,
   "metadata": {},
   "outputs": [],
   "source": [
    "dataset = HumanProteinAtlasTrain(folds=[0,1], img_height=512, img_width=512,\n",
    "                             mean=(0.486, 0.456, 0.406),\n",
    "                             std=(0.229, 0.224, 0.225))"
   ]
  },
  {
   "cell_type": "code",
   "execution_count": 24,
   "metadata": {},
   "outputs": [
    {
     "data": {
      "text/plain": [
       "12428"
      ]
     },
     "execution_count": 24,
     "metadata": {},
     "output_type": "execute_result"
    }
   ],
   "source": [
    "len(dataset)"
   ]
  },
  {
   "cell_type": "code",
   "execution_count": 25,
   "metadata": {},
   "outputs": [
    {
     "name": "stderr",
     "output_type": "stream",
     "text": [
      "Clipping input data to the valid range for imshow with RGB data ([0..1] for floats or [0..255] for integers).\n"
     ]
    },
    {
     "name": "stdout",
     "output_type": "stream",
     "text": [
      "tensor(0)\n",
      "tensor(1)\n",
      "tensor(0)\n"
     ]
    },
    {
     "data": {
      "text/plain": [
       "<matplotlib.image.AxesImage at 0x7f7e24450588>"
      ]
     },
     "execution_count": 25,
     "metadata": {},
     "output_type": "execute_result"
    },
    {
     "data": {
      "image/png": "[encoded data removed]",
      "text/plain": [
       "<Figure size 432x288 with 1 Axes>"
      ]
     },
     "metadata": {
      "needs_background": "light"
     },
     "output_type": "display_data"
    }
   ],
   "source": [
    "idx = 0\n",
    "img = dataset[idx][\"image\"]\n",
    "print(dataset[idx][\"nucleoplasmn\"])\n",
    "print(dataset[idx][\"mitochondria\"])\n",
    "print(dataset[idx][\"nuclear_bodies\"])\n",
    "# then convert to npimage\n",
    "npimg = img.numpy()\n",
    "plt.imshow(np.transpose(npimg, (1, 2, 0)))"
   ]
  },
  {
   "cell_type": "code",
   "execution_count": 26,
   "metadata": {},
   "outputs": [
    {
     "data": {
      "text/plain": [
       "{'image': tensor([[[-2.1223, -2.1223, -2.1223,  ..., -2.1223, -2.1223, -2.1223],\n",
       "          [-2.1223, -2.1223, -2.1223,  ..., -2.1223, -2.1223, -2.1223],\n",
       "          [-2.1223, -2.1223, -2.1223,  ..., -2.1223, -2.1223, -2.1223],\n",
       "          ...,\n",
       "          [-2.1223, -2.1223, -2.0538,  ..., -2.0195, -2.1223, -2.1051],\n",
       "          [-2.1223, -2.1223, -2.0880,  ..., -2.1051, -1.9339, -2.0709],\n",
       "          [-2.1223, -2.1223, -2.1223,  ..., -2.1223, -2.1051, -2.0024]],\n",
       " \n",
       "         [[-2.0007, -2.0357, -2.0357,  ..., -2.0357, -2.0357, -2.0357],\n",
       "          [-2.0357, -2.0357, -2.0357,  ..., -2.0357, -2.0357, -2.0357],\n",
       "          [-2.0357, -2.0357, -2.0357,  ..., -2.0357, -2.0357, -2.0357],\n",
       "          ...,\n",
       "          [-1.9307, -2.0357, -2.0007,  ..., -2.0007, -2.0357, -2.0357],\n",
       "          [-1.9132, -2.0357, -2.0007,  ..., -2.0357, -2.0357, -2.0357],\n",
       "          [-2.0357, -2.0357, -2.0357,  ..., -2.0357, -2.0357, -2.0357]],\n",
       " \n",
       "         [[-1.8044, -1.8044, -1.8044,  ..., -1.8044, -1.8044, -1.8044],\n",
       "          [-1.8044, -1.8044, -1.8044,  ..., -1.8044, -1.8044, -1.8044],\n",
       "          [-1.8044, -1.8044, -1.8044,  ..., -1.8044, -1.8044, -1.8044],\n",
       "          ...,\n",
       "          [-0.8110, -0.9156, -0.7413,  ..., -1.8044, -1.8044, -1.8044],\n",
       "          [-0.8807, -0.7413, -0.9853,  ..., -1.8044, -1.8044, -1.8044],\n",
       "          [-1.0376, -0.9330, -0.9504,  ..., -1.8044, -1.8044, -1.8044]]]),\n",
       " 'nucleoplasmn': tensor(0),\n",
       " 'nuclear_membrane': tensor(0),\n",
       " 'nucleoli': tensor(0),\n",
       " 'nucleoli_fibrillar_center': tensor(0),\n",
       " 'nuclear_speckles': tensor(0),\n",
       " 'nuclear_bodies': tensor(0),\n",
       " 'endoplasmic_reticulum': tensor(0),\n",
       " 'golgi_apparatus': tensor(0),\n",
       " 'peroxisomes': tensor(0),\n",
       " 'endosomes': tensor(0),\n",
       " 'lysosomes': tensor(0),\n",
       " 'intermediate_filaments': tensor(0),\n",
       " 'actin_filaments': tensor(0),\n",
       " 'focal_adhesion_sites': tensor(0),\n",
       " 'microtubules': tensor(0),\n",
       " 'microtubule_ends': tensor(0),\n",
       " 'cytokinetic_bridge': tensor(0),\n",
       " 'mitotic_spindle': tensor(0),\n",
       " 'microtubule_organizing_center': tensor(0),\n",
       " 'centrosome': tensor(0),\n",
       " 'lipid_droplets': tensor(0),\n",
       " 'plasma_membrane': tensor(0),\n",
       " 'cell_junctions': tensor(0),\n",
       " 'mitochondria': tensor(1),\n",
       " 'aggresome': tensor(0),\n",
       " 'cytosol': tensor(0),\n",
       " 'cytoplasmic_bodies': tensor(0),\n",
       " 'rods_rings': tensor(0)}"
      ]
     },
     "execution_count": 26,
     "metadata": {},
     "output_type": "execute_result"
    }
   ],
   "source": [
    "dataset.__getitem__(0)"
   ]
  },
  {
   "cell_type": "code",
   "execution_count": 11,
   "metadata": {},
   "outputs": [
    {
     "data": {
      "text/plain": [
       "'/home/ubuntu/codebase/my_github/kaggle-competitions/bengali-ai/approach_3/src'"
      ]
     },
     "execution_count": 11,
     "metadata": {},
     "output_type": "execute_result"
    }
   ],
   "source": [
    "os. getcwd() "
   ]
  }
 ],
 "metadata": {
  "kernelspec": {
   "display_name": "Python 3",
   "language": "python",
   "name": "python3"
  },
  "language_info": {
   "codemirror_mode": {
    "name": "ipython",
    "version": 3
   },
   "file_extension": ".py",
   "mimetype": "text/x-python",
   "name": "python",
   "nbconvert_exporter": "python",
   "pygments_lexer": "ipython3",
   "version": "3.6.10"
  }
 },
 "nbformat": 4,
 "nbformat_minor": 2
}
