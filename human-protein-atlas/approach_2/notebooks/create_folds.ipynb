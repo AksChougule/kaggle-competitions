{
 "cells": [
  {
   "cell_type": "code",
   "execution_count": 4,
   "metadata": {},
   "outputs": [
    {
     "name": "stdout",
     "output_type": "stream",
     "text": [
      "WARNING: pip is being invoked by an old script wrapper. This will fail in a future version of pip.\n",
      "Please see https://github.com/pypa/pip/issues/5599 for advice on fixing the underlying issue.\n",
      "To avoid this problem you can invoke Python with '-m pip' instead of running pip directly.\n",
      "Collecting iterative-stratification\n",
      "  Using cached iterative_stratification-0.1.6-py3-none-any.whl (8.7 kB)\n",
      "Requirement already satisfied: scikit-learn in /home/ubuntu/.local/lib/python3.6/site-packages (from iterative-stratification) (0.22.1)\n",
      "Requirement already satisfied: numpy in /home/ubuntu/.local/lib/python3.6/site-packages (from iterative-stratification) (1.18.1)\n",
      "Requirement already satisfied: scipy in /home/ubuntu/.local/lib/python3.6/site-packages (from iterative-stratification) (1.4.1)\n",
      "Requirement already satisfied: joblib>=0.11 in /home/ubuntu/.local/lib/python3.6/site-packages (from scikit-learn->iterative-stratification) (0.14.1)\n",
      "Installing collected packages: iterative-stratification\n",
      "Successfully installed iterative-stratification-0.1.6\n"
     ]
    }
   ],
   "source": [
    "!pip install iterative-stratification"
   ]
  },
  {
   "cell_type": "code",
   "execution_count": 1,
   "metadata": {},
   "outputs": [],
   "source": [
    "import pandas as pd\n",
    "import numpy as np\n",
    "from iterstrat.ml_stratifiers import MultilabelStratifiedKFold"
   ]
  },
  {
   "cell_type": "code",
   "execution_count": 2,
   "metadata": {},
   "outputs": [
    {
     "data": {
      "text/html": [
       "<div>\n",
       "<style scoped>\n",
       "    .dataframe tbody tr th:only-of-type {\n",
       "        vertical-align: middle;\n",
       "    }\n",
       "\n",
       "    .dataframe tbody tr th {\n",
       "        vertical-align: top;\n",
       "    }\n",
       "\n",
       "    .dataframe thead th {\n",
       "        text-align: right;\n",
       "    }\n",
       "</style>\n",
       "<table border=\"1\" class=\"dataframe\">\n",
       "  <thead>\n",
       "    <tr style=\"text-align: right;\">\n",
       "      <th></th>\n",
       "      <th>Id</th>\n",
       "      <th>Target</th>\n",
       "    </tr>\n",
       "  </thead>\n",
       "  <tbody>\n",
       "    <tr>\n",
       "      <th>0</th>\n",
       "      <td>00070df0-bbc3-11e8-b2bc-ac1f6b6435d0</td>\n",
       "      <td>16 0</td>\n",
       "    </tr>\n",
       "    <tr>\n",
       "      <th>1</th>\n",
       "      <td>000a6c98-bb9b-11e8-b2b9-ac1f6b6435d0</td>\n",
       "      <td>7 1 2 0</td>\n",
       "    </tr>\n",
       "    <tr>\n",
       "      <th>2</th>\n",
       "      <td>000a9596-bbc4-11e8-b2bc-ac1f6b6435d0</td>\n",
       "      <td>5</td>\n",
       "    </tr>\n",
       "    <tr>\n",
       "      <th>3</th>\n",
       "      <td>000c99ba-bba4-11e8-b2b9-ac1f6b6435d0</td>\n",
       "      <td>1</td>\n",
       "    </tr>\n",
       "    <tr>\n",
       "      <th>4</th>\n",
       "      <td>001838f8-bbca-11e8-b2bc-ac1f6b6435d0</td>\n",
       "      <td>18</td>\n",
       "    </tr>\n",
       "  </tbody>\n",
       "</table>\n",
       "</div>"
      ],
      "text/plain": [
       "                                     Id   Target\n",
       "0  00070df0-bbc3-11e8-b2bc-ac1f6b6435d0     16 0\n",
       "1  000a6c98-bb9b-11e8-b2b9-ac1f6b6435d0  7 1 2 0\n",
       "2  000a9596-bbc4-11e8-b2bc-ac1f6b6435d0        5\n",
       "3  000c99ba-bba4-11e8-b2b9-ac1f6b6435d0        1\n",
       "4  001838f8-bbca-11e8-b2bc-ac1f6b6435d0       18"
      ]
     },
     "execution_count": 2,
     "metadata": {},
     "output_type": "execute_result"
    }
   ],
   "source": [
    "train_labels = pd.read_csv(\"/home/ubuntu/datasets/human-protein-atlas/train.csv\")\n",
    "train_labels.head()"
   ]
  },
  {
   "cell_type": "code",
   "execution_count": 40,
   "metadata": {},
   "outputs": [],
   "source": [
    "# from sklearn.preprocessing import MultiLabelBinarizer\n",
    "\n",
    "# one_hot = MultiLabelBinarizer()\n",
    "\n",
    "# # One-hot encode data\n",
    "# y = one_hot.fit_transform(df[\"Target\"])"
   ]
  },
  {
   "cell_type": "code",
   "execution_count": 3,
   "metadata": {},
   "outputs": [],
   "source": [
    "label_names = {\n",
    "    0:  \"Nucleoplasmn\",  \n",
    "    1:  \"Nuclear membrane\",   \n",
    "    2:  \"Nucleoli\",   \n",
    "    3:  \"Nucleoli fibrillar center\",   \n",
    "    4:  \"Nuclear speckles\",\n",
    "    5:  \"Nuclear bodies\",   \n",
    "    6:  \"Endoplasmic reticulum\",   \n",
    "    7:  \"Golgi apparatus\",   \n",
    "    8:  \"Peroxisomes\",   \n",
    "    9:  \"Endosomes\",   \n",
    "    10:  \"Lysosomes\", \n",
    "    11:  \"Intermediate filaments\",   \n",
    "    12:  \"Actin filaments\",   \n",
    "    13:  \"Focal adhesion sites\",   \n",
    "    14:  \"Microtubules\",   \n",
    "    15:  \"Microtubule ends\",   \n",
    "    16:  \"Cytokinetic bridge\",   \n",
    "    17:  \"Mitotic spindle\",   \n",
    "    18:  \"Microtubule organizing center\",   \n",
    "    19:  \"Centrosome\",   \n",
    "    20:  \"Lipid droplets\",   \n",
    "    21:  \"Plasma membrane\",   \n",
    "    22:  \"Cell junctions\",   \n",
    "    23:  \"Mitochondria\",   \n",
    "    24:  \"Aggresome\",   \n",
    "    25:  \"Cytosol\",   \n",
    "    26:  \"Cytoplasmic bodies\",   \n",
    "    27:  \"Rods & rings\"\n",
    "}"
   ]
  },
  {
   "cell_type": "code",
   "execution_count": 4,
   "metadata": {},
   "outputs": [],
   "source": [
    "reverse_train_labels = dict((v,k) for k,v in label_names.items())\n",
    "\n",
    "def fill_targets(row):\n",
    "    row.Target = np.array(row.Target.split(\" \")).astype(np.int)\n",
    "    for num in row.Target:\n",
    "        name = label_names[int(num)]\n",
    "        row.loc[name] = 1\n",
    "    return row"
   ]
  },
  {
   "cell_type": "code",
   "execution_count": 5,
   "metadata": {},
   "outputs": [],
   "source": [
    "for key in label_names.keys():\n",
    "    train_labels[label_names[key]] = 0\n",
    "\n",
    "train_labels = train_labels.apply(fill_targets, axis=1)"
   ]
  },
  {
   "cell_type": "code",
   "execution_count": 6,
   "metadata": {},
   "outputs": [
    {
     "data": {
      "text/html": [
       "<div>\n",
       "<style scoped>\n",
       "    .dataframe tbody tr th:only-of-type {\n",
       "        vertical-align: middle;\n",
       "    }\n",
       "\n",
       "    .dataframe tbody tr th {\n",
       "        vertical-align: top;\n",
       "    }\n",
       "\n",
       "    .dataframe thead th {\n",
       "        text-align: right;\n",
       "    }\n",
       "</style>\n",
       "<table border=\"1\" class=\"dataframe\">\n",
       "  <thead>\n",
       "    <tr style=\"text-align: right;\">\n",
       "      <th></th>\n",
       "      <th>Id</th>\n",
       "      <th>Target</th>\n",
       "      <th>Nucleoplasmn</th>\n",
       "      <th>Nuclear membrane</th>\n",
       "      <th>Nucleoli</th>\n",
       "      <th>Nucleoli fibrillar center</th>\n",
       "      <th>Nuclear speckles</th>\n",
       "      <th>Nuclear bodies</th>\n",
       "      <th>Endoplasmic reticulum</th>\n",
       "      <th>Golgi apparatus</th>\n",
       "      <th>...</th>\n",
       "      <th>Microtubule organizing center</th>\n",
       "      <th>Centrosome</th>\n",
       "      <th>Lipid droplets</th>\n",
       "      <th>Plasma membrane</th>\n",
       "      <th>Cell junctions</th>\n",
       "      <th>Mitochondria</th>\n",
       "      <th>Aggresome</th>\n",
       "      <th>Cytosol</th>\n",
       "      <th>Cytoplasmic bodies</th>\n",
       "      <th>Rods &amp; rings</th>\n",
       "    </tr>\n",
       "  </thead>\n",
       "  <tbody>\n",
       "    <tr>\n",
       "      <th>0</th>\n",
       "      <td>00070df0-bbc3-11e8-b2bc-ac1f6b6435d0</td>\n",
       "      <td>[16, 0]</td>\n",
       "      <td>1</td>\n",
       "      <td>0</td>\n",
       "      <td>0</td>\n",
       "      <td>0</td>\n",
       "      <td>0</td>\n",
       "      <td>0</td>\n",
       "      <td>0</td>\n",
       "      <td>0</td>\n",
       "      <td>...</td>\n",
       "      <td>0</td>\n",
       "      <td>0</td>\n",
       "      <td>0</td>\n",
       "      <td>0</td>\n",
       "      <td>0</td>\n",
       "      <td>0</td>\n",
       "      <td>0</td>\n",
       "      <td>0</td>\n",
       "      <td>0</td>\n",
       "      <td>0</td>\n",
       "    </tr>\n",
       "    <tr>\n",
       "      <th>1</th>\n",
       "      <td>000a6c98-bb9b-11e8-b2b9-ac1f6b6435d0</td>\n",
       "      <td>[7, 1, 2, 0]</td>\n",
       "      <td>1</td>\n",
       "      <td>1</td>\n",
       "      <td>1</td>\n",
       "      <td>0</td>\n",
       "      <td>0</td>\n",
       "      <td>0</td>\n",
       "      <td>0</td>\n",
       "      <td>1</td>\n",
       "      <td>...</td>\n",
       "      <td>0</td>\n",
       "      <td>0</td>\n",
       "      <td>0</td>\n",
       "      <td>0</td>\n",
       "      <td>0</td>\n",
       "      <td>0</td>\n",
       "      <td>0</td>\n",
       "      <td>0</td>\n",
       "      <td>0</td>\n",
       "      <td>0</td>\n",
       "    </tr>\n",
       "    <tr>\n",
       "      <th>2</th>\n",
       "      <td>000a9596-bbc4-11e8-b2bc-ac1f6b6435d0</td>\n",
       "      <td>[5]</td>\n",
       "      <td>0</td>\n",
       "      <td>0</td>\n",
       "      <td>0</td>\n",
       "      <td>0</td>\n",
       "      <td>0</td>\n",
       "      <td>1</td>\n",
       "      <td>0</td>\n",
       "      <td>0</td>\n",
       "      <td>...</td>\n",
       "      <td>0</td>\n",
       "      <td>0</td>\n",
       "      <td>0</td>\n",
       "      <td>0</td>\n",
       "      <td>0</td>\n",
       "      <td>0</td>\n",
       "      <td>0</td>\n",
       "      <td>0</td>\n",
       "      <td>0</td>\n",
       "      <td>0</td>\n",
       "    </tr>\n",
       "    <tr>\n",
       "      <th>3</th>\n",
       "      <td>000c99ba-bba4-11e8-b2b9-ac1f6b6435d0</td>\n",
       "      <td>[1]</td>\n",
       "      <td>0</td>\n",
       "      <td>1</td>\n",
       "      <td>0</td>\n",
       "      <td>0</td>\n",
       "      <td>0</td>\n",
       "      <td>0</td>\n",
       "      <td>0</td>\n",
       "      <td>0</td>\n",
       "      <td>...</td>\n",
       "      <td>0</td>\n",
       "      <td>0</td>\n",
       "      <td>0</td>\n",
       "      <td>0</td>\n",
       "      <td>0</td>\n",
       "      <td>0</td>\n",
       "      <td>0</td>\n",
       "      <td>0</td>\n",
       "      <td>0</td>\n",
       "      <td>0</td>\n",
       "    </tr>\n",
       "    <tr>\n",
       "      <th>4</th>\n",
       "      <td>001838f8-bbca-11e8-b2bc-ac1f6b6435d0</td>\n",
       "      <td>[18]</td>\n",
       "      <td>0</td>\n",
       "      <td>0</td>\n",
       "      <td>0</td>\n",
       "      <td>0</td>\n",
       "      <td>0</td>\n",
       "      <td>0</td>\n",
       "      <td>0</td>\n",
       "      <td>0</td>\n",
       "      <td>...</td>\n",
       "      <td>1</td>\n",
       "      <td>0</td>\n",
       "      <td>0</td>\n",
       "      <td>0</td>\n",
       "      <td>0</td>\n",
       "      <td>0</td>\n",
       "      <td>0</td>\n",
       "      <td>0</td>\n",
       "      <td>0</td>\n",
       "      <td>0</td>\n",
       "    </tr>\n",
       "  </tbody>\n",
       "</table>\n",
       "<p>5 rows × 30 columns</p>\n",
       "</div>"
      ],
      "text/plain": [
       "                                     Id        Target  Nucleoplasmn  \\\n",
       "0  00070df0-bbc3-11e8-b2bc-ac1f6b6435d0       [16, 0]             1   \n",
       "1  000a6c98-bb9b-11e8-b2b9-ac1f6b6435d0  [7, 1, 2, 0]             1   \n",
       "2  000a9596-bbc4-11e8-b2bc-ac1f6b6435d0           [5]             0   \n",
       "3  000c99ba-bba4-11e8-b2b9-ac1f6b6435d0           [1]             0   \n",
       "4  001838f8-bbca-11e8-b2bc-ac1f6b6435d0          [18]             0   \n",
       "\n",
       "   Nuclear membrane  Nucleoli  Nucleoli fibrillar center  Nuclear speckles  \\\n",
       "0                 0         0                          0                 0   \n",
       "1                 1         1                          0                 0   \n",
       "2                 0         0                          0                 0   \n",
       "3                 1         0                          0                 0   \n",
       "4                 0         0                          0                 0   \n",
       "\n",
       "   Nuclear bodies  Endoplasmic reticulum  Golgi apparatus  ...  \\\n",
       "0               0                      0                0  ...   \n",
       "1               0                      0                1  ...   \n",
       "2               1                      0                0  ...   \n",
       "3               0                      0                0  ...   \n",
       "4               0                      0                0  ...   \n",
       "\n",
       "   Microtubule organizing center  Centrosome  Lipid droplets  Plasma membrane  \\\n",
       "0                              0           0               0                0   \n",
       "1                              0           0               0                0   \n",
       "2                              0           0               0                0   \n",
       "3                              0           0               0                0   \n",
       "4                              1           0               0                0   \n",
       "\n",
       "   Cell junctions  Mitochondria  Aggresome  Cytosol  Cytoplasmic bodies  \\\n",
       "0               0             0          0        0                   0   \n",
       "1               0             0          0        0                   0   \n",
       "2               0             0          0        0                   0   \n",
       "3               0             0          0        0                   0   \n",
       "4               0             0          0        0                   0   \n",
       "\n",
       "   Rods & rings  \n",
       "0             0  \n",
       "1             0  \n",
       "2             0  \n",
       "3             0  \n",
       "4             0  \n",
       "\n",
       "[5 rows x 30 columns]"
      ]
     },
     "execution_count": 6,
     "metadata": {},
     "output_type": "execute_result"
    }
   ],
   "source": [
    "train_labels.head()"
   ]
  },
  {
   "cell_type": "code",
   "execution_count": 7,
   "metadata": {},
   "outputs": [
    {
     "data": {
      "text/plain": [
       "(31072, 30)"
      ]
     },
     "execution_count": 7,
     "metadata": {},
     "output_type": "execute_result"
    }
   ],
   "source": [
    "train_labels.shape"
   ]
  },
  {
   "cell_type": "code",
   "execution_count": 8,
   "metadata": {},
   "outputs": [],
   "source": [
    "train_labels.loc[:,\"kfold\"] = -1"
   ]
  },
  {
   "cell_type": "code",
   "execution_count": 9,
   "metadata": {},
   "outputs": [
    {
     "data": {
      "text/plain": [
       "Index(['Id', 'Target', 'Nucleoplasmn', 'Nuclear membrane', 'Nucleoli',\n",
       "       'Nucleoli fibrillar center', 'Nuclear speckles', 'Nuclear bodies',\n",
       "       'Endoplasmic reticulum', 'Golgi apparatus', 'Peroxisomes', 'Endosomes',\n",
       "       'Lysosomes', 'Intermediate filaments', 'Actin filaments',\n",
       "       'Focal adhesion sites', 'Microtubules', 'Microtubule ends',\n",
       "       'Cytokinetic bridge', 'Mitotic spindle',\n",
       "       'Microtubule organizing center', 'Centrosome', 'Lipid droplets',\n",
       "       'Plasma membrane', 'Cell junctions', 'Mitochondria', 'Aggresome',\n",
       "       'Cytosol', 'Cytoplasmic bodies', 'Rods & rings', 'kfold'],\n",
       "      dtype='object')"
      ]
     },
     "execution_count": 9,
     "metadata": {},
     "output_type": "execute_result"
    }
   ],
   "source": [
    "train_labels.columns"
   ]
  },
  {
   "cell_type": "code",
   "execution_count": 10,
   "metadata": {},
   "outputs": [],
   "source": [
    "# random shuffle with fraction = 1 then reset the index\n",
    "train_labels = train_labels.sample(frac=1).reset_index(drop=True)\n",
    "\n",
    "X = train_labels.Id.values\n",
    "#y = df[[\"grapheme_root\",\"vowel_diacritic\",\"consonant_diacritic\"]].values\n",
    "y = train_labels.iloc[:,2:].values\n",
    "\n",
    "# define how many folds\n",
    "mskf = MultilabelStratifiedKFold(n_splits=5)"
   ]
  },
  {
   "cell_type": "code",
   "execution_count": 11,
   "metadata": {},
   "outputs": [
    {
     "data": {
      "text/plain": [
       "(array(['7740d502-bbc0-11e8-b2bb-ac1f6b6435d0',\n",
       "        '086354a6-bbad-11e8-b2ba-ac1f6b6435d0',\n",
       "        '7b839ed4-bbb0-11e8-b2ba-ac1f6b6435d0',\n",
       "        'dd15a0a4-bbc7-11e8-b2bc-ac1f6b6435d0',\n",
       "        '9343c5dc-bb9f-11e8-b2b9-ac1f6b6435d0'], dtype=object),\n",
       " array([[ 0,  0,  0,  0,  0,  0,  0,  0,  0,  0,  0,  0,  0,  0,  0,  0,\n",
       "          0,  0,  0,  0,  0,  0,  0,  1,  0,  0,  0,  0, -1],\n",
       "        [ 1,  0,  1,  0,  0,  0,  0,  0,  0,  0,  0,  0,  0,  0,  0,  0,\n",
       "          0,  0,  0,  0,  0,  0,  0,  0,  0,  0,  0,  0, -1],\n",
       "        [ 1,  0,  0,  0,  0,  0,  0,  0,  0,  0,  0,  0,  0,  0,  0,  0,\n",
       "          0,  0,  0,  0,  0,  0,  0,  0,  0,  1,  0,  0, -1],\n",
       "        [ 0,  0,  0,  0,  0,  0,  0,  1,  0,  0,  0,  0,  0,  0,  0,  0,\n",
       "          0,  0,  0,  0,  0,  0,  0,  0,  0,  0,  0,  0, -1],\n",
       "        [ 1,  0,  1,  0,  0,  0,  0,  0,  0,  0,  0,  0,  0,  0,  0,  0,\n",
       "          0,  0,  0,  1,  0,  0,  0,  0,  0,  0,  0,  0, -1]]))"
      ]
     },
     "execution_count": 11,
     "metadata": {},
     "output_type": "execute_result"
    }
   ],
   "source": [
    "X[:5], y[:5]"
   ]
  },
  {
   "cell_type": "code",
   "execution_count": 13,
   "metadata": {},
   "outputs": [
    {
     "name": "stdout",
     "output_type": "stream",
     "text": [
      "TRAIN:  [    0     1     2 ... 31068 31070 31071] VALID :  [    4     5    12 ... 31059 31062 31069]\n",
      "TRAIN:  [    1     2     3 ... 31069 31070 31071] VALID :  [    0     9    11 ... 31049 31051 31068]\n",
      "TRAIN:  [    0     1     3 ... 31069 31070 31071] VALID :  [    2     8    15 ... 31055 31064 31066]\n",
      "TRAIN:  [    0     2     3 ... 31069 31070 31071] VALID :  [    1     6     7 ... 31050 31056 31067]\n",
      "TRAIN:  [    0     1     2 ... 31067 31068 31069] VALID :  [    3    10    13 ... 31065 31070 31071]\n"
     ]
    }
   ],
   "source": [
    "# Let's go through the iterator and get train and val indices\n",
    "for fold, (trn_, val_) in enumerate(mskf.split(X, y)):\n",
    "    print(\"TRAIN: \", trn_, \"VALID : \",val_)\n",
    "    train_labels.loc[val_, \"kfold\"] = fold"
   ]
  },
  {
   "cell_type": "code",
   "execution_count": 16,
   "metadata": {},
   "outputs": [
    {
     "data": {
      "text/plain": [
       "0        1\n",
       "1        3\n",
       "2        2\n",
       "3        4\n",
       "4        0\n",
       "        ..\n",
       "31067    3\n",
       "31068    1\n",
       "31069    0\n",
       "31070    4\n",
       "31071    4\n",
       "Name: kfold, Length: 31072, dtype: int64"
      ]
     },
     "execution_count": 16,
     "metadata": {},
     "output_type": "execute_result"
    }
   ],
   "source": [
    "train_labels[\"kfold\"]"
   ]
  },
  {
   "cell_type": "code",
   "execution_count": 17,
   "metadata": {},
   "outputs": [
    {
     "data": {
      "text/plain": [
       "4    6215\n",
       "3    6215\n",
       "2    6214\n",
       "1    6214\n",
       "0    6214\n",
       "Name: kfold, dtype: int64"
      ]
     },
     "execution_count": 17,
     "metadata": {},
     "output_type": "execute_result"
    }
   ],
   "source": [
    "train_labels[\"kfold\"].value_counts()"
   ]
  },
  {
   "cell_type": "markdown",
   "metadata": {},
   "source": [
    "Let's check a few values to ensure the splitting went as expected"
   ]
  },
  {
   "cell_type": "code",
   "execution_count": 23,
   "metadata": {},
   "outputs": [
    {
     "data": {
      "text/plain": [
       "kfold\n",
       "0    2629\n",
       "1    2550\n",
       "2    2581\n",
       "3    2552\n",
       "4    2573\n",
       "Name: Nucleoplasmn, dtype: int64"
      ]
     },
     "execution_count": 23,
     "metadata": {},
     "output_type": "execute_result"
    }
   ],
   "source": [
    "# Common category\n",
    "train_labels.groupby('kfold')['Nucleoplasmn'].sum()"
   ]
  },
  {
   "cell_type": "code",
   "execution_count": 24,
   "metadata": {},
   "outputs": [
    {
     "data": {
      "text/plain": [
       "kfold\n",
       "0    725\n",
       "1    724\n",
       "2    724\n",
       "3    724\n",
       "4    724\n",
       "Name: Nucleoli, dtype: int64"
      ]
     },
     "execution_count": 24,
     "metadata": {},
     "output_type": "execute_result"
    }
   ],
   "source": [
    "train_labels.groupby('kfold')['Nucleoli'].sum()"
   ]
  },
  {
   "cell_type": "code",
   "execution_count": 25,
   "metadata": {},
   "outputs": [
    {
     "data": {
      "text/plain": [
       "kfold\n",
       "0    10\n",
       "1    11\n",
       "2    11\n",
       "3    11\n",
       "4    10\n",
       "Name: Peroxisomes, dtype: int64"
      ]
     },
     "execution_count": 25,
     "metadata": {},
     "output_type": "execute_result"
    }
   ],
   "source": [
    "# Rare category\n",
    "train_labels.groupby('kfold')['Peroxisomes'].sum()"
   ]
  },
  {
   "cell_type": "code",
   "execution_count": 26,
   "metadata": {},
   "outputs": [
    {
     "data": {
      "text/plain": [
       "kfold\n",
       "0    64\n",
       "1    65\n",
       "2    65\n",
       "3    64\n",
       "4    64\n",
       "Name: Aggresome, dtype: int64"
      ]
     },
     "execution_count": 26,
     "metadata": {},
     "output_type": "execute_result"
    }
   ],
   "source": [
    "# Rare category\n",
    "train_labels.groupby('kfold')['Aggresome'].sum()"
   ]
  },
  {
   "cell_type": "markdown",
   "metadata": {},
   "source": [
    "__^ Looks like the classes got equally distributed in all folds as expected.__"
   ]
  },
  {
   "cell_type": "code",
   "execution_count": 28,
   "metadata": {},
   "outputs": [],
   "source": [
    "train_labels.to_csv(\"../input/train_folds.csv\", index=False)"
   ]
  },
  {
   "cell_type": "code",
   "execution_count": 29,
   "metadata": {},
   "outputs": [],
   "source": [
    "# if __name__ == \"__main__\":\n",
    "    \n",
    "#     label_names = {\n",
    "#     0:  \"Nucleoplasmn\",  \n",
    "#     1:  \"Nuclear membrane\",   \n",
    "#     2:  \"Nucleoli\",   \n",
    "#     3:  \"Nucleoli fibrillar center\",   \n",
    "#     4:  \"Nuclear speckles\",\n",
    "#     5:  \"Nuclear bodies\",   \n",
    "#     6:  \"Endoplasmic reticulum\",   \n",
    "#     7:  \"Golgi apparatus\",   \n",
    "#     8:  \"Peroxisomes\",   \n",
    "#     9:  \"Endosomes\",   \n",
    "#     10:  \"Lysosomes\", \n",
    "#     11:  \"Intermediate filaments\",   \n",
    "#     12:  \"Actin filaments\",   \n",
    "#     13:  \"Focal adhesion sites\",   \n",
    "#     14:  \"Microtubules\",   \n",
    "#     15:  \"Microtubule ends\",   \n",
    "#     16:  \"Cytokinetic bridge\",   \n",
    "#     17:  \"Mitotic spindle\",   \n",
    "#     18:  \"Microtubule organizing center\",   \n",
    "#     19:  \"Centrosome\",   \n",
    "#     20:  \"Lipid droplets\",   \n",
    "#     21:  \"Plasma membrane\",   \n",
    "#     22:  \"Cell junctions\",   \n",
    "#     23:  \"Mitochondria\",   \n",
    "#     24:  \"Aggresome\",   \n",
    "#     25:  \"Cytosol\",   \n",
    "#     26:  \"Cytoplasmic bodies\",   \n",
    "#     27:  \"Rods & rings\"\n",
    "#     }\n",
    "    \n",
    "#     train_labels = pd.read_csv(\"/home/ubuntu/datasets/human-protein-atlas/train.csv\")\n",
    "#     print(train_labels.head())\n",
    "    \n",
    "#     reverse_train_labels = dict((v,k) for k,v in label_names.items())\n",
    "\n",
    "#     def fill_targets(row):\n",
    "#         row.Target = np.array(row.Target.split(\" \")).astype(np.int)\n",
    "#         for num in row.Target:\n",
    "#             name = label_names[int(num)]\n",
    "#             row.loc[name] = 1\n",
    "#         return row\n",
    "    \n",
    "#     for key in label_names.keys():\n",
    "#         train_labels[label_names[key]] = 0\n",
    "        \n",
    "#     train_labels = train_labels.apply(fill_targets, axis=1)\n",
    "    \n",
    "    \n",
    "#     train_labels.loc[:,\"kfold\"] = -1\n",
    "    \n",
    "#     # random shuffle with fraction = 1 then reset the index\n",
    "#     train_labels = train_labels.sample(frac=1).reset_index(drop=True)\n",
    "    \n",
    "#     X = train_labels.Id.values\n",
    "#     #y = df[[\"grapheme_root\",\"vowel_diacritic\",\"consonant_diacritic\"]].values\n",
    "#     y = train_labels[[\"Target\"]].values\n",
    "    \n",
    "#     # define how many folds\n",
    "#     mskf = MultilabelStratifiedKFold(n_splits=5)\n",
    "    \n",
    "#     # Let's go through the iterator and get trai and al indices\n",
    "#     for fold, (trn_, val_) in enumerate(mskf.split(X, y)):\n",
    "#         print(\"TRAIN: \", trn_, \"VALID : \",val_)\n",
    "#         train_labels.loc[val_, \"kfold\"] = fold\n",
    "        \n",
    "#     print(df.kfold.value_counts())\n",
    "#     train_labels.to_csv(\"../input/train_folds.csv\", index=False)"
   ]
  },
  {
   "cell_type": "code",
   "execution_count": null,
   "metadata": {},
   "outputs": [],
   "source": [
    "self.image_ids = df.Id.values\n",
    "self.nucleoplasmn  = df[\"Nucleoplasmn\"].values\n",
    "self.nuclear_membrane  = df[\"Nuclear membrane\"].values\n",
    "self.nucleoli  = df[\"Nucleoli\"].values\n",
    "self.nucleoli_fibrillar_center  = df[\"Nucleoli fibrillar center\"].values\n",
    "self.nuclear_speckles  = df[\"Nuclear speckles\"].values\n",
    "self.nuclear_bodies  = df[\"Nuclear bodies\"].values\n",
    "self.endoplasmic_reticulum  = df[\"Endoplasmic reticulum\"].values\n",
    "self.golgi_apparatus  = df[\"Golgi apparatus\"].values\n",
    "self.peroxisomes  = df[\"Peroxisomes\"].values\n",
    "self.endosomes  = df[\"Endosomes\"].values\n",
    "self.lysosomes  = df[\"Lysosomes\"].values\n",
    "self.intermediate_filaments  = df[\"Intermediate filaments\"].values\n",
    "self.actin_filaments  = df[\"Actin filaments\"].values\n",
    "self.focal_adhesion_sites  = df[\"Focal adhesion sites\"].values\n",
    "self.microtubules  = df[\"Microtubules\"].values\n",
    "self.microtubule_ends  = df[\"Microtubule ends\"].values\n",
    "self.cytokinetic_bridge  = df[\"Cytokinetic bridge\"].values\n",
    "self.mitotic_spindle  = df[\"Mitotic spindle\"].values\n",
    "self.microtubule_organizing_center  = df[\"Microtubule organizing center\"].values\n",
    "self.centrosome  = df[\"Centrosome\"].values\n",
    "self.lipid_droplets = df[\"Lipid droplets\"].values\n",
    "self.plasma_membrane  = df[\"Plasma membrane\"].values\n",
    "self.cell_junctions  = df[\"Cell junctions\"].values\n",
    "self.mitochondria  = df[\"Mitochondria\"].values\n",
    "self.aggresome  = df[\"Aggresome\"].values\n",
    "self.cytosol  = df[\"Cytosol\"].values\n",
    "self.cytoplasmic_bodies  = df[\"Cytoplasmic bodies\"].values\n",
    "self.rods_rings  = df[\"Rods & rings\"].values"
   ]
  },
  {
   "cell_type": "code",
   "execution_count": null,
   "metadata": {},
   "outputs": [],
   "source": [
    "self.image_ids \n",
    "self.nucleoplasmn  \n",
    "self.nuclear_membrane  \n",
    "self.nucleoli  \n",
    "self.nucleoli_fibrillar_center  \n",
    "self.nuclear_speckles  \n",
    "self.nuclear_bodies  \n",
    "self.endoplasmic_reticulum  \n",
    "self.golgi_apparatus  \n",
    "self.peroxisomes  \n",
    "self.endosomes  \n",
    "self.lysosomes  \n",
    "self.intermediate_filaments  \n",
    "self.actin_filaments  \n",
    "self.focal_adhesion_sites  \n",
    "self.microtubules  \n",
    "self.microtubule_ends  \n",
    "self.cytokinetic_bridge  \n",
    "self.mitotic_spindle  \n",
    "self.microtubule_organizing_center  \n",
    "self.centrosome  \n",
    "self.lipid_droplets \n",
    "self.plasma_membrane  \n",
    "self.cell_junctions  \n",
    "self.mitochondria  \n",
    "self.aggresome  \n",
    "self.cytosol  \n",
    "self.cytoplasmic_bodies  \n",
    "self.rods_rings"
   ]
  },
  {
   "cell_type": "code",
   "execution_count": null,
   "metadata": {},
   "outputs": [],
   "source": [
    "return{\n",
    "    'image': torch.tensor(image, dtype=torch.float),\n",
    "    'nucleoplasmn': torch.tensor(self.nucleoplasmn  , dtype=torch.long),\n",
    "    'nuclear_membrane': torch.tensor(self.nuclear_membrane  , dtype=torch.long),\n",
    "    'nucleoli': torch.tensor(self.nucleoli  , dtype=torch.long),\n",
    "    'nucleoli_fibrillar_center': torch.tensor(self.nucleoli_fibrillar_center  , dtype=torch.long),\n",
    "    'nuclear_speckles': torch.tensor(self.nuclear_speckles  , dtype=torch.long),\n",
    "    'nuclear_bodies': torch.tensor(self.nuclear_bodies  , dtype=torch.long),\n",
    "    'endoplasmic_reticulum': torch.tensor(self.endoplasmic_reticulum  , dtype=torch.long),\n",
    "    'golgi_apparatus': torch.tensor(self.golgi_apparatus  , dtype=torch.long),\n",
    "    'peroxisomes': torch.tensor(self.peroxisomes  , dtype=torch.long),\n",
    "    'endosomes': torch.tensor(self.endosomes  , dtype=torch.long),\n",
    "    'lysosomes': torch.tensor(self.lysosomes  , dtype=torch.long),\n",
    "    'intermediate_filaments': torch.tensor(self.intermediate_filaments  , dtype=torch.long),\n",
    "    'actin_filaments': torch.tensor(self.actin_filaments  , dtype=torch.long),\n",
    "    'focal_adhesion_sites': torch.tensor(self.focal_adhesion_sites  , dtype=torch.long),\n",
    "    'microtubules': torch.tensor(self.microtubules  , dtype=torch.long),\n",
    "    'microtubule_ends': torch.tensor(self.microtubule_ends  , dtype=torch.long),\n",
    "    'cytokinetic_bridge': torch.tensor(self.cytokinetic_bridge  , dtype=torch.long),\n",
    "    'mitotic_spindle': torch.tensor(self.mitotic_spindle  , dtype=torch.long),\n",
    "    'microtubule_organizing_center': torch.tensor(self.microtubule_organizing_center  , dtype=torch.long),\n",
    "    'centrosome': torch.tensor(self.centrosome  , dtype=torch.long),\n",
    "    'lipid_droplets': torch.tensor(self.lipid_droplets , dtype=torch.long),\n",
    "    'plasma_membrane': torch.tensor(self.plasma_membrane  , dtype=torch.long),\n",
    "    'cell_junctions': torch.tensor(self.cell_junctions  , dtype=torch.long),\n",
    "    'mitochondria': torch.tensor(self.mitochondria  , dtype=torch.long),\n",
    "    'aggresome': torch.tensor(self.aggresome  , dtype=torch.long),\n",
    "    'cytosol': torch.tensor(self.cytosol  , dtype=torch.long),\n",
    "    'cytoplasmic_bodies': torch.tensor(self.cytoplasmic_bodies  , dtype=torch.long),\n",
    "    'rods_rings': torch.tensor(self.rods_rings, dtype=torch.long)\n",
    "}"
   ]
  },
  {
   "cell_type": "code",
   "execution_count": null,
   "metadata": {},
   "outputs": [],
   "source": [
    "self.l0 = nn.Linear(512, 2)  # nucleoplasmn\n",
    "self.l1 = nn.Linear(512, 2)  # nuclear_membrane\n",
    "self.l2 = nn.Linear(512, 2)  # nucleoli\n",
    "self.l3 = nn.Linear(512, 2)  # nucleoli_fibrillar_center\n",
    "self.l4 = nn.Linear(512, 2)  # nuclear_speckles\n",
    "self.l5 = nn.Linear(512, 2)  # nuclear_bodies\n",
    "self.l6 = nn.Linear(512, 2)  # endoplasmic_reticulum\n",
    "self.l7 = nn.Linear(512, 2)  # golgi_apparatus\n",
    "self.l8 = nn.Linear(512, 2)  # peroxisomes\n",
    "self.l9 = nn.Linear(512, 2)  # endosomes\n",
    "self.l10 = nn.Linear(512, 2)  # lysosomes\n",
    "self.l11 = nn.Linear(512, 2)  # intermediate_filaments\n",
    "self.l12 = nn.Linear(512, 2)  # actin_filaments\n",
    "self.l13 = nn.Linear(512, 2)  # focal_adhesion_sites\n",
    "self.l14 = nn.Linear(512, 2)  # microtubules\n",
    "self.l15 = nn.Linear(512, 2)  # microtubule_ends\n",
    "self.l16 = nn.Linear(512, 2)  # cytokinetic_bridge\n",
    "self.l17 = nn.Linear(512, 2)  # mitotic_spindle\n",
    "self.l18 = nn.Linear(512, 2)  # microtubule_organizing_center\n",
    "self.l19 = nn.Linear(512, 2)  # centrosome\n",
    "self.l20 = nn.Linear(512, 2)  # lipid_droplets\n",
    "self.l21 = nn.Linear(512, 2)  # plasma_membrane\n",
    "self.l22 = nn.Linear(512, 2)  # cell_junctions\n",
    "self.l23 = nn.Linear(512, 2)  # mitochondria\n",
    "self.l24 = nn.Linear(512, 2)  # aggresome\n",
    "self.l25 = nn.Linear(512, 2)  # cytosol\n",
    "self.l26 = nn.Linear(512, 2)  # cytoplasmic_bodies\n",
    "self.l27 = nn.Linear(512, 2)  # rods_rings"
   ]
  }
 ],
 "metadata": {
  "kernelspec": {
   "display_name": "Python 3",
   "language": "python",
   "name": "python3"
  },
  "language_info": {
   "codemirror_mode": {
    "name": "ipython",
    "version": 3
   },
   "file_extension": ".py",
   "mimetype": "text/x-python",
   "name": "python",
   "nbconvert_exporter": "python",
   "pygments_lexer": "ipython3",
   "version": "3.6.10"
  }
 },
 "nbformat": 4,
 "nbformat_minor": 2
}
