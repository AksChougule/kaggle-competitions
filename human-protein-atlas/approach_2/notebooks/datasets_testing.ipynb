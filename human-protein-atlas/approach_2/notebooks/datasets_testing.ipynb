{
 "cells": [
  {
   "cell_type": "code",
   "execution_count": 3,
   "metadata": {},
   "outputs": [],
   "source": [
    "import os"
   ]
  },
  {
   "cell_type": "code",
   "execution_count": 4,
   "metadata": {},
   "outputs": [],
   "source": [
    "os.chdir(\"/home/ubuntu/codebase/my_github/kaggle-competitions/human-protein-atlas/approach_2/src/\")"
   ]
  },
  {
   "cell_type": "code",
   "execution_count": 5,
   "metadata": {},
   "outputs": [],
   "source": [
    "import datasets"
   ]
  },
  {
   "cell_type": "code",
   "execution_count": 7,
   "metadata": {},
   "outputs": [],
   "source": [
    "dataset = datasets.HumanProteinAtlasTrain(folds=[0,1], img_height=512, img_width=512,\n",
    "                             mean=(0.486, 0.456, 0.406),\n",
    "                             std=(0.229, 0.224, 0.225))"
   ]
  },
  {
   "cell_type": "code",
   "execution_count": 8,
   "metadata": {},
   "outputs": [
    {
     "data": {
      "text/plain": [
       "{'image': tensor([[[-2.0024, -1.9510, -1.8311,  ..., -1.5229, -1.6770, -1.4030],\n",
       "          [-2.0538, -2.0195, -1.9681,  ..., -1.7627, -1.5572, -1.5743],\n",
       "          [-2.1051, -2.1051, -2.0538,  ..., -1.7798, -1.6085, -1.6428],\n",
       "          ...,\n",
       "          [-2.0709, -1.8311, -1.7798,  ..., -1.9339, -1.9510, -1.8996],\n",
       "          [-2.0538, -1.8825, -1.8825,  ..., -1.9168, -1.9339, -1.8996],\n",
       "          [-2.0538, -1.9681, -2.0024,  ..., -1.8996, -1.8996, -1.9339]],\n",
       " \n",
       "         [[-1.5805, -1.6155, -1.6681,  ..., -1.0553, -1.5105, -1.6331],\n",
       "          [-1.8606, -1.8957, -1.9132,  ..., -1.4930, -1.7381, -1.7206],\n",
       "          [-1.8606, -1.8431, -1.9307,  ..., -1.7556, -1.8256, -1.8081],\n",
       "          ...,\n",
       "          [-1.7731, -1.8256, -1.8957,  ..., -1.4930, -1.4755, -1.6681],\n",
       "          [-1.8256, -1.7381, -1.7906,  ..., -1.5455, -1.5630, -1.5105],\n",
       "          [-1.9132, -1.7906, -1.7906,  ..., -1.6506, -1.6506, -1.6506]],\n",
       " \n",
       "         [[-0.6367, -0.7936, -0.7761,  ..., -1.8044, -1.8044, -1.8044],\n",
       "          [-0.6890, -0.4101, -0.4624,  ..., -1.8044, -1.8044, -1.8044],\n",
       "          [-0.8110, -0.7587, -0.7936,  ..., -1.8044, -1.8044, -1.8044],\n",
       "          ...,\n",
       "          [-1.8044, -1.8044, -1.8044,  ..., -1.8044, -1.8044, -1.8044],\n",
       "          [-1.8044, -1.8044, -1.8044,  ..., -1.8044, -1.8044, -1.8044],\n",
       "          [-1.8044, -1.8044, -1.8044,  ..., -1.8044, -1.8044, -1.8044]]]),\n",
       " 'nucleoplasmn': tensor(0),\n",
       " 'nuclear_membrane': tensor(0),\n",
       " 'nucleoli': tensor(0),\n",
       " 'nucleoli_fibrillar_center': tensor(0),\n",
       " 'nuclear_speckles': tensor(0),\n",
       " 'nuclear_bodies': tensor(0),\n",
       " 'endoplasmic_reticulum': tensor(0),\n",
       " 'golgi_apparatus': tensor(0),\n",
       " 'peroxisomes': tensor(0),\n",
       " 'endosomes': tensor(0),\n",
       " 'lysosomes': tensor(0),\n",
       " 'intermediate_filaments': tensor(0),\n",
       " 'actin_filaments': tensor(0),\n",
       " 'focal_adhesion_sites': tensor(0),\n",
       " 'microtubules': tensor(0),\n",
       " 'microtubule_ends': tensor(0),\n",
       " 'cytokinetic_bridge': tensor(0),\n",
       " 'mitotic_spindle': tensor(0),\n",
       " 'microtubule_organizing_center': tensor(0),\n",
       " 'centrosome': tensor(0),\n",
       " 'lipid_droplets': tensor(0),\n",
       " 'plasma_membrane': tensor(0),\n",
       " 'cell_junctions': tensor(0),\n",
       " 'mitochondria': tensor(1),\n",
       " 'aggresome': tensor(0),\n",
       " 'cytosol': tensor(0),\n",
       " 'cytoplasmic_bodies': tensor(0),\n",
       " 'rods_rings': tensor(0)}"
      ]
     },
     "execution_count": 8,
     "metadata": {},
     "output_type": "execute_result"
    }
   ],
   "source": [
    "dataset.__getitem__(0)"
   ]
  },
  {
   "cell_type": "code",
   "execution_count": null,
   "metadata": {},
   "outputs": [],
   "source": []
  }
 ],
 "metadata": {
  "kernelspec": {
   "display_name": "Python 3",
   "language": "python",
   "name": "python3"
  },
  "language_info": {
   "codemirror_mode": {
    "name": "ipython",
    "version": 3
   },
   "file_extension": ".py",
   "mimetype": "text/x-python",
   "name": "python",
   "nbconvert_exporter": "python",
   "pygments_lexer": "ipython3",
   "version": "3.6.10"
  }
 },
 "nbformat": 4,
 "nbformat_minor": 4
}
