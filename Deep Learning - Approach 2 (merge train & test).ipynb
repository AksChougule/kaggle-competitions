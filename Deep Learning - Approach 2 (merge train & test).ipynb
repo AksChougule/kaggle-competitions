{
 "cells": [
  {
   "cell_type": "markdown",
   "metadata": {},
   "source": [
    "## SF-crime Kaggle competition"
   ]
  },
  {
   "cell_type": "code",
   "execution_count": 1,
   "metadata": {},
   "outputs": [],
   "source": [
    "# Let's start by some standard code\n",
    "%load_ext autoreload\n",
    "%autoreload 2\n",
    "%matplotlib inline"
   ]
  },
  {
   "cell_type": "code",
   "execution_count": 2,
   "metadata": {},
   "outputs": [],
   "source": [
    "from fastai.imports import *\n",
    "from fastai.structured import *\n",
    "from fastai.column_data import *\n",
    "\n",
    "from pandas_summary import DataFrameSummary\n",
    "from sklearn.ensemble import RandomForestClassifier\n",
    "from sklearn.decomposition import PCA\n",
    "from IPython.display import display\n",
    "\n",
    "from sklearn import metrics\n",
    "from graphviz import *"
   ]
  },
  {
   "cell_type": "code",
   "execution_count": 3,
   "metadata": {},
   "outputs": [],
   "source": [
    "PATH = \"data/sf-crime/\""
   ]
  },
  {
   "cell_type": "code",
   "execution_count": 4,
   "metadata": {},
   "outputs": [
    {
     "name": "stdout",
     "output_type": "stream",
     "text": [
      "\u001b[34mcommon_cats_data\u001b[m\u001b[m     results_m3_sub.csv   results_m7.csv\r\n",
      "\u001b[34mmodels\u001b[m\u001b[m               results_m4.csv       results_m7_sub.csv\r\n",
      "\u001b[34mold_results\u001b[m\u001b[m          results_m4_sub.csv   sampleSubmission.csv\r\n",
      "results_m1.csv       results_m5.csv       test.csv\r\n",
      "results_m1_sub.csv   results_m5_sub.csv   \u001b[34mtmp\u001b[m\u001b[m\r\n",
      "results_m2.csv       results_m6.csv       train.csv\r\n",
      "results_m3.csv       results_m6_sub.csv\r\n"
     ]
    }
   ],
   "source": [
    "!ls {PATH}"
   ]
  },
  {
   "cell_type": "markdown",
   "metadata": {},
   "source": [
    "### 1. Let's load and explore the data"
   ]
  },
  {
   "cell_type": "code",
   "execution_count": 232,
   "metadata": {},
   "outputs": [],
   "source": [
    "train=pd.read_csv(f'{PATH}train.csv',parse_dates=['Dates'])"
   ]
  },
  {
   "cell_type": "code",
   "execution_count": 233,
   "metadata": {},
   "outputs": [
    {
     "data": {
      "text/plain": [
       "Index(['Dates', 'Category', 'Descript', 'DayOfWeek', 'PdDistrict',\n",
       "       'Resolution', 'Address', 'X', 'Y'],\n",
       "      dtype='object')"
      ]
     },
     "execution_count": 233,
     "metadata": {},
     "output_type": "execute_result"
    }
   ],
   "source": [
    "train.columns"
   ]
  },
  {
   "cell_type": "code",
   "execution_count": 234,
   "metadata": {},
   "outputs": [
    {
     "data": {
      "text/html": [
       "<div>\n",
       "<style scoped>\n",
       "    .dataframe tbody tr th:only-of-type {\n",
       "        vertical-align: middle;\n",
       "    }\n",
       "\n",
       "    .dataframe tbody tr th {\n",
       "        vertical-align: top;\n",
       "    }\n",
       "\n",
       "    .dataframe thead th {\n",
       "        text-align: right;\n",
       "    }\n",
       "</style>\n",
       "<table border=\"1\" class=\"dataframe\">\n",
       "  <thead>\n",
       "    <tr style=\"text-align: right;\">\n",
       "      <th></th>\n",
       "      <th>Dates</th>\n",
       "      <th>Category</th>\n",
       "      <th>Descript</th>\n",
       "      <th>DayOfWeek</th>\n",
       "      <th>PdDistrict</th>\n",
       "      <th>Resolution</th>\n",
       "      <th>Address</th>\n",
       "      <th>X</th>\n",
       "      <th>Y</th>\n",
       "    </tr>\n",
       "  </thead>\n",
       "  <tbody>\n",
       "    <tr>\n",
       "      <th>0</th>\n",
       "      <td>2015-05-13 23:53:00</td>\n",
       "      <td>WARRANTS</td>\n",
       "      <td>WARRANT ARREST</td>\n",
       "      <td>Wednesday</td>\n",
       "      <td>NORTHERN</td>\n",
       "      <td>ARREST, BOOKED</td>\n",
       "      <td>OAK ST / LAGUNA ST</td>\n",
       "      <td>-122.425892</td>\n",
       "      <td>37.774599</td>\n",
       "    </tr>\n",
       "    <tr>\n",
       "      <th>1</th>\n",
       "      <td>2015-05-13 23:53:00</td>\n",
       "      <td>OTHER OFFENSES</td>\n",
       "      <td>TRAFFIC VIOLATION ARREST</td>\n",
       "      <td>Wednesday</td>\n",
       "      <td>NORTHERN</td>\n",
       "      <td>ARREST, BOOKED</td>\n",
       "      <td>OAK ST / LAGUNA ST</td>\n",
       "      <td>-122.425892</td>\n",
       "      <td>37.774599</td>\n",
       "    </tr>\n",
       "    <tr>\n",
       "      <th>2</th>\n",
       "      <td>2015-05-13 23:33:00</td>\n",
       "      <td>OTHER OFFENSES</td>\n",
       "      <td>TRAFFIC VIOLATION ARREST</td>\n",
       "      <td>Wednesday</td>\n",
       "      <td>NORTHERN</td>\n",
       "      <td>ARREST, BOOKED</td>\n",
       "      <td>VANNESS AV / GREENWICH ST</td>\n",
       "      <td>-122.424363</td>\n",
       "      <td>37.800414</td>\n",
       "    </tr>\n",
       "    <tr>\n",
       "      <th>3</th>\n",
       "      <td>2015-05-13 23:30:00</td>\n",
       "      <td>LARCENY/THEFT</td>\n",
       "      <td>GRAND THEFT FROM LOCKED AUTO</td>\n",
       "      <td>Wednesday</td>\n",
       "      <td>NORTHERN</td>\n",
       "      <td>NONE</td>\n",
       "      <td>1500 Block of LOMBARD ST</td>\n",
       "      <td>-122.426995</td>\n",
       "      <td>37.800873</td>\n",
       "    </tr>\n",
       "    <tr>\n",
       "      <th>4</th>\n",
       "      <td>2015-05-13 23:30:00</td>\n",
       "      <td>LARCENY/THEFT</td>\n",
       "      <td>GRAND THEFT FROM LOCKED AUTO</td>\n",
       "      <td>Wednesday</td>\n",
       "      <td>PARK</td>\n",
       "      <td>NONE</td>\n",
       "      <td>100 Block of BRODERICK ST</td>\n",
       "      <td>-122.438738</td>\n",
       "      <td>37.771541</td>\n",
       "    </tr>\n",
       "  </tbody>\n",
       "</table>\n",
       "</div>"
      ],
      "text/plain": [
       "                Dates        Category                      Descript  \\\n",
       "0 2015-05-13 23:53:00        WARRANTS                WARRANT ARREST   \n",
       "1 2015-05-13 23:53:00  OTHER OFFENSES      TRAFFIC VIOLATION ARREST   \n",
       "2 2015-05-13 23:33:00  OTHER OFFENSES      TRAFFIC VIOLATION ARREST   \n",
       "3 2015-05-13 23:30:00   LARCENY/THEFT  GRAND THEFT FROM LOCKED AUTO   \n",
       "4 2015-05-13 23:30:00   LARCENY/THEFT  GRAND THEFT FROM LOCKED AUTO   \n",
       "\n",
       "   DayOfWeek PdDistrict      Resolution                    Address  \\\n",
       "0  Wednesday   NORTHERN  ARREST, BOOKED         OAK ST / LAGUNA ST   \n",
       "1  Wednesday   NORTHERN  ARREST, BOOKED         OAK ST / LAGUNA ST   \n",
       "2  Wednesday   NORTHERN  ARREST, BOOKED  VANNESS AV / GREENWICH ST   \n",
       "3  Wednesday   NORTHERN            NONE   1500 Block of LOMBARD ST   \n",
       "4  Wednesday       PARK            NONE  100 Block of BRODERICK ST   \n",
       "\n",
       "            X          Y  \n",
       "0 -122.425892  37.774599  \n",
       "1 -122.425892  37.774599  \n",
       "2 -122.424363  37.800414  \n",
       "3 -122.426995  37.800873  \n",
       "4 -122.438738  37.771541  "
      ]
     },
     "metadata": {},
     "output_type": "display_data"
    }
   ],
   "source": [
    "display(train.head())"
   ]
  },
  {
   "cell_type": "code",
   "execution_count": 235,
   "metadata": {},
   "outputs": [
    {
     "data": {
      "text/plain": [
       "Address       0.0\n",
       "Category      0.0\n",
       "Dates         0.0\n",
       "DayOfWeek     0.0\n",
       "Descript      0.0\n",
       "PdDistrict    0.0\n",
       "Resolution    0.0\n",
       "X             0.0\n",
       "Y             0.0\n",
       "dtype: float64"
      ]
     },
     "metadata": {},
     "output_type": "display_data"
    }
   ],
   "source": [
    "display(train.isnull().sum().sort_index()/len(train))"
   ]
  },
  {
   "cell_type": "markdown",
   "metadata": {},
   "source": [
    "### What we see in the data\n",
    "1. One date field. So the date formatting and feature extraction is required.\n",
    "2. A few categorical variables. We will have to convert these into numbers.\n",
    "3. No missing values."
   ]
  },
  {
   "cell_type": "markdown",
   "metadata": {},
   "source": [
    "### Let's explore the response variable (y)"
   ]
  },
  {
   "cell_type": "code",
   "execution_count": 236,
   "metadata": {},
   "outputs": [
    {
     "data": {
      "text/plain": [
       "array(['WARRANTS', 'OTHER OFFENSES', 'LARCENY/THEFT', 'VEHICLE THEFT', 'VANDALISM', 'NON-CRIMINAL',\n",
       "       'ROBBERY', 'ASSAULT', 'WEAPON LAWS', 'BURGLARY', 'SUSPICIOUS OCC', 'DRUNKENNESS',\n",
       "       'FORGERY/COUNTERFEITING', 'DRUG/NARCOTIC', 'STOLEN PROPERTY', 'SECONDARY CODES', 'TRESPASS',\n",
       "       'MISSING PERSON', 'FRAUD', 'KIDNAPPING', 'RUNAWAY', 'DRIVING UNDER THE INFLUENCE',\n",
       "       'SEX OFFENSES FORCIBLE', 'PROSTITUTION', 'DISORDERLY CONDUCT', 'ARSON', 'FAMILY OFFENSES',\n",
       "       'LIQUOR LAWS', 'BRIBERY', 'EMBEZZLEMENT', 'SUICIDE', 'LOITERING', 'SEX OFFENSES NON FORCIBLE',\n",
       "       'EXTORTION', 'GAMBLING', 'BAD CHECKS', 'TREA', 'RECOVERED VEHICLE', 'PORNOGRAPHY/OBSCENE MAT'],\n",
       "      dtype=object)"
      ]
     },
     "execution_count": 236,
     "metadata": {},
     "output_type": "execute_result"
    }
   ],
   "source": [
    "train['Category'].unique()"
   ]
  },
  {
   "cell_type": "code",
   "execution_count": 237,
   "metadata": {},
   "outputs": [
    {
     "data": {
      "text/html": [
       "<div>\n",
       "<style scoped>\n",
       "    .dataframe tbody tr th:only-of-type {\n",
       "        vertical-align: middle;\n",
       "    }\n",
       "\n",
       "    .dataframe tbody tr th {\n",
       "        vertical-align: top;\n",
       "    }\n",
       "\n",
       "    .dataframe thead th {\n",
       "        text-align: right;\n",
       "    }\n",
       "</style>\n",
       "<table border=\"1\" class=\"dataframe\">\n",
       "  <thead>\n",
       "    <tr style=\"text-align: right;\">\n",
       "      <th></th>\n",
       "      <th>Dates</th>\n",
       "      <th>Descript</th>\n",
       "      <th>DayOfWeek</th>\n",
       "      <th>PdDistrict</th>\n",
       "      <th>Resolution</th>\n",
       "      <th>Address</th>\n",
       "      <th>X</th>\n",
       "      <th>Y</th>\n",
       "    </tr>\n",
       "    <tr>\n",
       "      <th>Category</th>\n",
       "      <th></th>\n",
       "      <th></th>\n",
       "      <th></th>\n",
       "      <th></th>\n",
       "      <th></th>\n",
       "      <th></th>\n",
       "      <th></th>\n",
       "      <th></th>\n",
       "    </tr>\n",
       "  </thead>\n",
       "  <tbody>\n",
       "    <tr>\n",
       "      <th>TREA</th>\n",
       "      <td>6</td>\n",
       "      <td>6</td>\n",
       "      <td>6</td>\n",
       "      <td>6</td>\n",
       "      <td>6</td>\n",
       "      <td>6</td>\n",
       "      <td>6</td>\n",
       "      <td>6</td>\n",
       "    </tr>\n",
       "    <tr>\n",
       "      <th>PORNOGRAPHY/OBSCENE MAT</th>\n",
       "      <td>22</td>\n",
       "      <td>22</td>\n",
       "      <td>22</td>\n",
       "      <td>22</td>\n",
       "      <td>22</td>\n",
       "      <td>22</td>\n",
       "      <td>22</td>\n",
       "      <td>22</td>\n",
       "    </tr>\n",
       "    <tr>\n",
       "      <th>GAMBLING</th>\n",
       "      <td>146</td>\n",
       "      <td>146</td>\n",
       "      <td>146</td>\n",
       "      <td>146</td>\n",
       "      <td>146</td>\n",
       "      <td>146</td>\n",
       "      <td>146</td>\n",
       "      <td>146</td>\n",
       "    </tr>\n",
       "    <tr>\n",
       "      <th>SEX OFFENSES NON FORCIBLE</th>\n",
       "      <td>148</td>\n",
       "      <td>148</td>\n",
       "      <td>148</td>\n",
       "      <td>148</td>\n",
       "      <td>148</td>\n",
       "      <td>148</td>\n",
       "      <td>148</td>\n",
       "      <td>148</td>\n",
       "    </tr>\n",
       "    <tr>\n",
       "      <th>EXTORTION</th>\n",
       "      <td>256</td>\n",
       "      <td>256</td>\n",
       "      <td>256</td>\n",
       "      <td>256</td>\n",
       "      <td>256</td>\n",
       "      <td>256</td>\n",
       "      <td>256</td>\n",
       "      <td>256</td>\n",
       "    </tr>\n",
       "    <tr>\n",
       "      <th>BRIBERY</th>\n",
       "      <td>289</td>\n",
       "      <td>289</td>\n",
       "      <td>289</td>\n",
       "      <td>289</td>\n",
       "      <td>289</td>\n",
       "      <td>289</td>\n",
       "      <td>289</td>\n",
       "      <td>289</td>\n",
       "    </tr>\n",
       "    <tr>\n",
       "      <th>BAD CHECKS</th>\n",
       "      <td>406</td>\n",
       "      <td>406</td>\n",
       "      <td>406</td>\n",
       "      <td>406</td>\n",
       "      <td>406</td>\n",
       "      <td>406</td>\n",
       "      <td>406</td>\n",
       "      <td>406</td>\n",
       "    </tr>\n",
       "    <tr>\n",
       "      <th>FAMILY OFFENSES</th>\n",
       "      <td>491</td>\n",
       "      <td>491</td>\n",
       "      <td>491</td>\n",
       "      <td>491</td>\n",
       "      <td>491</td>\n",
       "      <td>491</td>\n",
       "      <td>491</td>\n",
       "      <td>491</td>\n",
       "    </tr>\n",
       "    <tr>\n",
       "      <th>SUICIDE</th>\n",
       "      <td>508</td>\n",
       "      <td>508</td>\n",
       "      <td>508</td>\n",
       "      <td>508</td>\n",
       "      <td>508</td>\n",
       "      <td>508</td>\n",
       "      <td>508</td>\n",
       "      <td>508</td>\n",
       "    </tr>\n",
       "    <tr>\n",
       "      <th>EMBEZZLEMENT</th>\n",
       "      <td>1166</td>\n",
       "      <td>1166</td>\n",
       "      <td>1166</td>\n",
       "      <td>1166</td>\n",
       "      <td>1166</td>\n",
       "      <td>1166</td>\n",
       "      <td>1166</td>\n",
       "      <td>1166</td>\n",
       "    </tr>\n",
       "    <tr>\n",
       "      <th>LOITERING</th>\n",
       "      <td>1225</td>\n",
       "      <td>1225</td>\n",
       "      <td>1225</td>\n",
       "      <td>1225</td>\n",
       "      <td>1225</td>\n",
       "      <td>1225</td>\n",
       "      <td>1225</td>\n",
       "      <td>1225</td>\n",
       "    </tr>\n",
       "    <tr>\n",
       "      <th>ARSON</th>\n",
       "      <td>1513</td>\n",
       "      <td>1513</td>\n",
       "      <td>1513</td>\n",
       "      <td>1513</td>\n",
       "      <td>1513</td>\n",
       "      <td>1513</td>\n",
       "      <td>1513</td>\n",
       "      <td>1513</td>\n",
       "    </tr>\n",
       "    <tr>\n",
       "      <th>LIQUOR LAWS</th>\n",
       "      <td>1903</td>\n",
       "      <td>1903</td>\n",
       "      <td>1903</td>\n",
       "      <td>1903</td>\n",
       "      <td>1903</td>\n",
       "      <td>1903</td>\n",
       "      <td>1903</td>\n",
       "      <td>1903</td>\n",
       "    </tr>\n",
       "    <tr>\n",
       "      <th>RUNAWAY</th>\n",
       "      <td>1946</td>\n",
       "      <td>1946</td>\n",
       "      <td>1946</td>\n",
       "      <td>1946</td>\n",
       "      <td>1946</td>\n",
       "      <td>1946</td>\n",
       "      <td>1946</td>\n",
       "      <td>1946</td>\n",
       "    </tr>\n",
       "    <tr>\n",
       "      <th>DRIVING UNDER THE INFLUENCE</th>\n",
       "      <td>2268</td>\n",
       "      <td>2268</td>\n",
       "      <td>2268</td>\n",
       "      <td>2268</td>\n",
       "      <td>2268</td>\n",
       "      <td>2268</td>\n",
       "      <td>2268</td>\n",
       "      <td>2268</td>\n",
       "    </tr>\n",
       "    <tr>\n",
       "      <th>KIDNAPPING</th>\n",
       "      <td>2341</td>\n",
       "      <td>2341</td>\n",
       "      <td>2341</td>\n",
       "      <td>2341</td>\n",
       "      <td>2341</td>\n",
       "      <td>2341</td>\n",
       "      <td>2341</td>\n",
       "      <td>2341</td>\n",
       "    </tr>\n",
       "    <tr>\n",
       "      <th>RECOVERED VEHICLE</th>\n",
       "      <td>3138</td>\n",
       "      <td>3138</td>\n",
       "      <td>3138</td>\n",
       "      <td>3138</td>\n",
       "      <td>3138</td>\n",
       "      <td>3138</td>\n",
       "      <td>3138</td>\n",
       "      <td>3138</td>\n",
       "    </tr>\n",
       "    <tr>\n",
       "      <th>DRUNKENNESS</th>\n",
       "      <td>4280</td>\n",
       "      <td>4280</td>\n",
       "      <td>4280</td>\n",
       "      <td>4280</td>\n",
       "      <td>4280</td>\n",
       "      <td>4280</td>\n",
       "      <td>4280</td>\n",
       "      <td>4280</td>\n",
       "    </tr>\n",
       "    <tr>\n",
       "      <th>DISORDERLY CONDUCT</th>\n",
       "      <td>4320</td>\n",
       "      <td>4320</td>\n",
       "      <td>4320</td>\n",
       "      <td>4320</td>\n",
       "      <td>4320</td>\n",
       "      <td>4320</td>\n",
       "      <td>4320</td>\n",
       "      <td>4320</td>\n",
       "    </tr>\n",
       "    <tr>\n",
       "      <th>SEX OFFENSES FORCIBLE</th>\n",
       "      <td>4388</td>\n",
       "      <td>4388</td>\n",
       "      <td>4388</td>\n",
       "      <td>4388</td>\n",
       "      <td>4388</td>\n",
       "      <td>4388</td>\n",
       "      <td>4388</td>\n",
       "      <td>4388</td>\n",
       "    </tr>\n",
       "    <tr>\n",
       "      <th>STOLEN PROPERTY</th>\n",
       "      <td>4540</td>\n",
       "      <td>4540</td>\n",
       "      <td>4540</td>\n",
       "      <td>4540</td>\n",
       "      <td>4540</td>\n",
       "      <td>4540</td>\n",
       "      <td>4540</td>\n",
       "      <td>4540</td>\n",
       "    </tr>\n",
       "    <tr>\n",
       "      <th>TRESPASS</th>\n",
       "      <td>7326</td>\n",
       "      <td>7326</td>\n",
       "      <td>7326</td>\n",
       "      <td>7326</td>\n",
       "      <td>7326</td>\n",
       "      <td>7326</td>\n",
       "      <td>7326</td>\n",
       "      <td>7326</td>\n",
       "    </tr>\n",
       "    <tr>\n",
       "      <th>PROSTITUTION</th>\n",
       "      <td>7484</td>\n",
       "      <td>7484</td>\n",
       "      <td>7484</td>\n",
       "      <td>7484</td>\n",
       "      <td>7484</td>\n",
       "      <td>7484</td>\n",
       "      <td>7484</td>\n",
       "      <td>7484</td>\n",
       "    </tr>\n",
       "    <tr>\n",
       "      <th>WEAPON LAWS</th>\n",
       "      <td>8555</td>\n",
       "      <td>8555</td>\n",
       "      <td>8555</td>\n",
       "      <td>8555</td>\n",
       "      <td>8555</td>\n",
       "      <td>8555</td>\n",
       "      <td>8555</td>\n",
       "      <td>8555</td>\n",
       "    </tr>\n",
       "    <tr>\n",
       "      <th>SECONDARY CODES</th>\n",
       "      <td>9985</td>\n",
       "      <td>9985</td>\n",
       "      <td>9985</td>\n",
       "      <td>9985</td>\n",
       "      <td>9985</td>\n",
       "      <td>9985</td>\n",
       "      <td>9985</td>\n",
       "      <td>9985</td>\n",
       "    </tr>\n",
       "    <tr>\n",
       "      <th>FORGERY/COUNTERFEITING</th>\n",
       "      <td>10609</td>\n",
       "      <td>10609</td>\n",
       "      <td>10609</td>\n",
       "      <td>10609</td>\n",
       "      <td>10609</td>\n",
       "      <td>10609</td>\n",
       "      <td>10609</td>\n",
       "      <td>10609</td>\n",
       "    </tr>\n",
       "    <tr>\n",
       "      <th>FRAUD</th>\n",
       "      <td>16679</td>\n",
       "      <td>16679</td>\n",
       "      <td>16679</td>\n",
       "      <td>16679</td>\n",
       "      <td>16679</td>\n",
       "      <td>16679</td>\n",
       "      <td>16679</td>\n",
       "      <td>16679</td>\n",
       "    </tr>\n",
       "    <tr>\n",
       "      <th>ROBBERY</th>\n",
       "      <td>23000</td>\n",
       "      <td>23000</td>\n",
       "      <td>23000</td>\n",
       "      <td>23000</td>\n",
       "      <td>23000</td>\n",
       "      <td>23000</td>\n",
       "      <td>23000</td>\n",
       "      <td>23000</td>\n",
       "    </tr>\n",
       "    <tr>\n",
       "      <th>MISSING PERSON</th>\n",
       "      <td>25989</td>\n",
       "      <td>25989</td>\n",
       "      <td>25989</td>\n",
       "      <td>25989</td>\n",
       "      <td>25989</td>\n",
       "      <td>25989</td>\n",
       "      <td>25989</td>\n",
       "      <td>25989</td>\n",
       "    </tr>\n",
       "    <tr>\n",
       "      <th>SUSPICIOUS OCC</th>\n",
       "      <td>31414</td>\n",
       "      <td>31414</td>\n",
       "      <td>31414</td>\n",
       "      <td>31414</td>\n",
       "      <td>31414</td>\n",
       "      <td>31414</td>\n",
       "      <td>31414</td>\n",
       "      <td>31414</td>\n",
       "    </tr>\n",
       "    <tr>\n",
       "      <th>BURGLARY</th>\n",
       "      <td>36755</td>\n",
       "      <td>36755</td>\n",
       "      <td>36755</td>\n",
       "      <td>36755</td>\n",
       "      <td>36755</td>\n",
       "      <td>36755</td>\n",
       "      <td>36755</td>\n",
       "      <td>36755</td>\n",
       "    </tr>\n",
       "    <tr>\n",
       "      <th>WARRANTS</th>\n",
       "      <td>42214</td>\n",
       "      <td>42214</td>\n",
       "      <td>42214</td>\n",
       "      <td>42214</td>\n",
       "      <td>42214</td>\n",
       "      <td>42214</td>\n",
       "      <td>42214</td>\n",
       "      <td>42214</td>\n",
       "    </tr>\n",
       "    <tr>\n",
       "      <th>VANDALISM</th>\n",
       "      <td>44725</td>\n",
       "      <td>44725</td>\n",
       "      <td>44725</td>\n",
       "      <td>44725</td>\n",
       "      <td>44725</td>\n",
       "      <td>44725</td>\n",
       "      <td>44725</td>\n",
       "      <td>44725</td>\n",
       "    </tr>\n",
       "    <tr>\n",
       "      <th>VEHICLE THEFT</th>\n",
       "      <td>53781</td>\n",
       "      <td>53781</td>\n",
       "      <td>53781</td>\n",
       "      <td>53781</td>\n",
       "      <td>53781</td>\n",
       "      <td>53781</td>\n",
       "      <td>53781</td>\n",
       "      <td>53781</td>\n",
       "    </tr>\n",
       "    <tr>\n",
       "      <th>DRUG/NARCOTIC</th>\n",
       "      <td>53971</td>\n",
       "      <td>53971</td>\n",
       "      <td>53971</td>\n",
       "      <td>53971</td>\n",
       "      <td>53971</td>\n",
       "      <td>53971</td>\n",
       "      <td>53971</td>\n",
       "      <td>53971</td>\n",
       "    </tr>\n",
       "    <tr>\n",
       "      <th>ASSAULT</th>\n",
       "      <td>76876</td>\n",
       "      <td>76876</td>\n",
       "      <td>76876</td>\n",
       "      <td>76876</td>\n",
       "      <td>76876</td>\n",
       "      <td>76876</td>\n",
       "      <td>76876</td>\n",
       "      <td>76876</td>\n",
       "    </tr>\n",
       "    <tr>\n",
       "      <th>NON-CRIMINAL</th>\n",
       "      <td>92304</td>\n",
       "      <td>92304</td>\n",
       "      <td>92304</td>\n",
       "      <td>92304</td>\n",
       "      <td>92304</td>\n",
       "      <td>92304</td>\n",
       "      <td>92304</td>\n",
       "      <td>92304</td>\n",
       "    </tr>\n",
       "    <tr>\n",
       "      <th>OTHER OFFENSES</th>\n",
       "      <td>126182</td>\n",
       "      <td>126182</td>\n",
       "      <td>126182</td>\n",
       "      <td>126182</td>\n",
       "      <td>126182</td>\n",
       "      <td>126182</td>\n",
       "      <td>126182</td>\n",
       "      <td>126182</td>\n",
       "    </tr>\n",
       "    <tr>\n",
       "      <th>LARCENY/THEFT</th>\n",
       "      <td>174900</td>\n",
       "      <td>174900</td>\n",
       "      <td>174900</td>\n",
       "      <td>174900</td>\n",
       "      <td>174900</td>\n",
       "      <td>174900</td>\n",
       "      <td>174900</td>\n",
       "      <td>174900</td>\n",
       "    </tr>\n",
       "  </tbody>\n",
       "</table>\n",
       "</div>"
      ],
      "text/plain": [
       "                              Dates  Descript  DayOfWeek  PdDistrict  \\\n",
       "Category                                                               \n",
       "TREA                              6         6          6           6   \n",
       "PORNOGRAPHY/OBSCENE MAT          22        22         22          22   \n",
       "GAMBLING                        146       146        146         146   \n",
       "SEX OFFENSES NON FORCIBLE       148       148        148         148   \n",
       "EXTORTION                       256       256        256         256   \n",
       "BRIBERY                         289       289        289         289   \n",
       "BAD CHECKS                      406       406        406         406   \n",
       "FAMILY OFFENSES                 491       491        491         491   \n",
       "SUICIDE                         508       508        508         508   \n",
       "EMBEZZLEMENT                   1166      1166       1166        1166   \n",
       "LOITERING                      1225      1225       1225        1225   \n",
       "ARSON                          1513      1513       1513        1513   \n",
       "LIQUOR LAWS                    1903      1903       1903        1903   \n",
       "RUNAWAY                        1946      1946       1946        1946   \n",
       "DRIVING UNDER THE INFLUENCE    2268      2268       2268        2268   \n",
       "KIDNAPPING                     2341      2341       2341        2341   \n",
       "RECOVERED VEHICLE              3138      3138       3138        3138   \n",
       "DRUNKENNESS                    4280      4280       4280        4280   \n",
       "DISORDERLY CONDUCT             4320      4320       4320        4320   \n",
       "SEX OFFENSES FORCIBLE          4388      4388       4388        4388   \n",
       "STOLEN PROPERTY                4540      4540       4540        4540   \n",
       "TRESPASS                       7326      7326       7326        7326   \n",
       "PROSTITUTION                   7484      7484       7484        7484   \n",
       "WEAPON LAWS                    8555      8555       8555        8555   \n",
       "SECONDARY CODES                9985      9985       9985        9985   \n",
       "FORGERY/COUNTERFEITING        10609     10609      10609       10609   \n",
       "FRAUD                         16679     16679      16679       16679   \n",
       "ROBBERY                       23000     23000      23000       23000   \n",
       "MISSING PERSON                25989     25989      25989       25989   \n",
       "SUSPICIOUS OCC                31414     31414      31414       31414   \n",
       "BURGLARY                      36755     36755      36755       36755   \n",
       "WARRANTS                      42214     42214      42214       42214   \n",
       "VANDALISM                     44725     44725      44725       44725   \n",
       "VEHICLE THEFT                 53781     53781      53781       53781   \n",
       "DRUG/NARCOTIC                 53971     53971      53971       53971   \n",
       "ASSAULT                       76876     76876      76876       76876   \n",
       "NON-CRIMINAL                  92304     92304      92304       92304   \n",
       "OTHER OFFENSES               126182    126182     126182      126182   \n",
       "LARCENY/THEFT                174900    174900     174900      174900   \n",
       "\n",
       "                             Resolution  Address       X       Y  \n",
       "Category                                                          \n",
       "TREA                                  6        6       6       6  \n",
       "PORNOGRAPHY/OBSCENE MAT              22       22      22      22  \n",
       "GAMBLING                            146      146     146     146  \n",
       "SEX OFFENSES NON FORCIBLE           148      148     148     148  \n",
       "EXTORTION                           256      256     256     256  \n",
       "BRIBERY                             289      289     289     289  \n",
       "BAD CHECKS                          406      406     406     406  \n",
       "FAMILY OFFENSES                     491      491     491     491  \n",
       "SUICIDE                             508      508     508     508  \n",
       "EMBEZZLEMENT                       1166     1166    1166    1166  \n",
       "LOITERING                          1225     1225    1225    1225  \n",
       "ARSON                              1513     1513    1513    1513  \n",
       "LIQUOR LAWS                        1903     1903    1903    1903  \n",
       "RUNAWAY                            1946     1946    1946    1946  \n",
       "DRIVING UNDER THE INFLUENCE        2268     2268    2268    2268  \n",
       "KIDNAPPING                         2341     2341    2341    2341  \n",
       "RECOVERED VEHICLE                  3138     3138    3138    3138  \n",
       "DRUNKENNESS                        4280     4280    4280    4280  \n",
       "DISORDERLY CONDUCT                 4320     4320    4320    4320  \n",
       "SEX OFFENSES FORCIBLE              4388     4388    4388    4388  \n",
       "STOLEN PROPERTY                    4540     4540    4540    4540  \n",
       "TRESPASS                           7326     7326    7326    7326  \n",
       "PROSTITUTION                       7484     7484    7484    7484  \n",
       "WEAPON LAWS                        8555     8555    8555    8555  \n",
       "SECONDARY CODES                    9985     9985    9985    9985  \n",
       "FORGERY/COUNTERFEITING            10609    10609   10609   10609  \n",
       "FRAUD                             16679    16679   16679   16679  \n",
       "ROBBERY                           23000    23000   23000   23000  \n",
       "MISSING PERSON                    25989    25989   25989   25989  \n",
       "SUSPICIOUS OCC                    31414    31414   31414   31414  \n",
       "BURGLARY                          36755    36755   36755   36755  \n",
       "WARRANTS                          42214    42214   42214   42214  \n",
       "VANDALISM                         44725    44725   44725   44725  \n",
       "VEHICLE THEFT                     53781    53781   53781   53781  \n",
       "DRUG/NARCOTIC                     53971    53971   53971   53971  \n",
       "ASSAULT                           76876    76876   76876   76876  \n",
       "NON-CRIMINAL                      92304    92304   92304   92304  \n",
       "OTHER OFFENSES                   126182   126182  126182  126182  \n",
       "LARCENY/THEFT                    174900   174900  174900  174900  "
      ]
     },
     "execution_count": 237,
     "metadata": {},
     "output_type": "execute_result"
    }
   ],
   "source": [
    "train.groupby('Category').count().sort_values('Dates')"
   ]
  },
  {
   "cell_type": "code",
   "execution_count": 238,
   "metadata": {},
   "outputs": [
    {
     "data": {
      "text/plain": [
       "878.049"
      ]
     },
     "execution_count": 238,
     "metadata": {},
     "output_type": "execute_result"
    }
   ],
   "source": [
    "# The 0.1% of the data would be:\n",
    "len(train)*0.001"
   ]
  },
  {
   "cell_type": "code",
   "execution_count": 239,
   "metadata": {},
   "outputs": [
    {
     "data": {
      "text/html": [
       "<div>\n",
       "<style scoped>\n",
       "    .dataframe tbody tr th:only-of-type {\n",
       "        vertical-align: middle;\n",
       "    }\n",
       "\n",
       "    .dataframe tbody tr th {\n",
       "        vertical-align: top;\n",
       "    }\n",
       "\n",
       "    .dataframe thead th {\n",
       "        text-align: right;\n",
       "    }\n",
       "</style>\n",
       "<table border=\"1\" class=\"dataframe\">\n",
       "  <thead>\n",
       "    <tr style=\"text-align: right;\">\n",
       "      <th></th>\n",
       "      <th>Dates</th>\n",
       "      <th>Descript</th>\n",
       "      <th>DayOfWeek</th>\n",
       "      <th>PdDistrict</th>\n",
       "      <th>Resolution</th>\n",
       "      <th>Address</th>\n",
       "      <th>X</th>\n",
       "      <th>Y</th>\n",
       "    </tr>\n",
       "    <tr>\n",
       "      <th>Category</th>\n",
       "      <th></th>\n",
       "      <th></th>\n",
       "      <th></th>\n",
       "      <th></th>\n",
       "      <th></th>\n",
       "      <th></th>\n",
       "      <th></th>\n",
       "      <th></th>\n",
       "    </tr>\n",
       "  </thead>\n",
       "  <tbody>\n",
       "    <tr>\n",
       "      <th>TREA</th>\n",
       "      <td>6</td>\n",
       "      <td>6</td>\n",
       "      <td>6</td>\n",
       "      <td>6</td>\n",
       "      <td>6</td>\n",
       "      <td>6</td>\n",
       "      <td>6</td>\n",
       "      <td>6</td>\n",
       "    </tr>\n",
       "    <tr>\n",
       "      <th>PORNOGRAPHY/OBSCENE MAT</th>\n",
       "      <td>22</td>\n",
       "      <td>22</td>\n",
       "      <td>22</td>\n",
       "      <td>22</td>\n",
       "      <td>22</td>\n",
       "      <td>22</td>\n",
       "      <td>22</td>\n",
       "      <td>22</td>\n",
       "    </tr>\n",
       "    <tr>\n",
       "      <th>GAMBLING</th>\n",
       "      <td>146</td>\n",
       "      <td>146</td>\n",
       "      <td>146</td>\n",
       "      <td>146</td>\n",
       "      <td>146</td>\n",
       "      <td>146</td>\n",
       "      <td>146</td>\n",
       "      <td>146</td>\n",
       "    </tr>\n",
       "    <tr>\n",
       "      <th>SEX OFFENSES NON FORCIBLE</th>\n",
       "      <td>148</td>\n",
       "      <td>148</td>\n",
       "      <td>148</td>\n",
       "      <td>148</td>\n",
       "      <td>148</td>\n",
       "      <td>148</td>\n",
       "      <td>148</td>\n",
       "      <td>148</td>\n",
       "    </tr>\n",
       "    <tr>\n",
       "      <th>EXTORTION</th>\n",
       "      <td>256</td>\n",
       "      <td>256</td>\n",
       "      <td>256</td>\n",
       "      <td>256</td>\n",
       "      <td>256</td>\n",
       "      <td>256</td>\n",
       "      <td>256</td>\n",
       "      <td>256</td>\n",
       "    </tr>\n",
       "    <tr>\n",
       "      <th>BRIBERY</th>\n",
       "      <td>289</td>\n",
       "      <td>289</td>\n",
       "      <td>289</td>\n",
       "      <td>289</td>\n",
       "      <td>289</td>\n",
       "      <td>289</td>\n",
       "      <td>289</td>\n",
       "      <td>289</td>\n",
       "    </tr>\n",
       "    <tr>\n",
       "      <th>BAD CHECKS</th>\n",
       "      <td>406</td>\n",
       "      <td>406</td>\n",
       "      <td>406</td>\n",
       "      <td>406</td>\n",
       "      <td>406</td>\n",
       "      <td>406</td>\n",
       "      <td>406</td>\n",
       "      <td>406</td>\n",
       "    </tr>\n",
       "    <tr>\n",
       "      <th>FAMILY OFFENSES</th>\n",
       "      <td>491</td>\n",
       "      <td>491</td>\n",
       "      <td>491</td>\n",
       "      <td>491</td>\n",
       "      <td>491</td>\n",
       "      <td>491</td>\n",
       "      <td>491</td>\n",
       "      <td>491</td>\n",
       "    </tr>\n",
       "    <tr>\n",
       "      <th>SUICIDE</th>\n",
       "      <td>508</td>\n",
       "      <td>508</td>\n",
       "      <td>508</td>\n",
       "      <td>508</td>\n",
       "      <td>508</td>\n",
       "      <td>508</td>\n",
       "      <td>508</td>\n",
       "      <td>508</td>\n",
       "    </tr>\n",
       "    <tr>\n",
       "      <th>EMBEZZLEMENT</th>\n",
       "      <td>1166</td>\n",
       "      <td>1166</td>\n",
       "      <td>1166</td>\n",
       "      <td>1166</td>\n",
       "      <td>1166</td>\n",
       "      <td>1166</td>\n",
       "      <td>1166</td>\n",
       "      <td>1166</td>\n",
       "    </tr>\n",
       "  </tbody>\n",
       "</table>\n",
       "</div>"
      ],
      "text/plain": [
       "                           Dates  Descript  DayOfWeek  PdDistrict  Resolution  \\\n",
       "Category                                                                        \n",
       "TREA                           6         6          6           6           6   \n",
       "PORNOGRAPHY/OBSCENE MAT       22        22         22          22          22   \n",
       "GAMBLING                     146       146        146         146         146   \n",
       "SEX OFFENSES NON FORCIBLE    148       148        148         148         148   \n",
       "EXTORTION                    256       256        256         256         256   \n",
       "BRIBERY                      289       289        289         289         289   \n",
       "BAD CHECKS                   406       406        406         406         406   \n",
       "FAMILY OFFENSES              491       491        491         491         491   \n",
       "SUICIDE                      508       508        508         508         508   \n",
       "EMBEZZLEMENT                1166      1166       1166        1166        1166   \n",
       "\n",
       "                           Address     X     Y  \n",
       "Category                                        \n",
       "TREA                             6     6     6  \n",
       "PORNOGRAPHY/OBSCENE MAT         22    22    22  \n",
       "GAMBLING                       146   146   146  \n",
       "SEX OFFENSES NON FORCIBLE      148   148   148  \n",
       "EXTORTION                      256   256   256  \n",
       "BRIBERY                        289   289   289  \n",
       "BAD CHECKS                     406   406   406  \n",
       "FAMILY OFFENSES                491   491   491  \n",
       "SUICIDE                        508   508   508  \n",
       "EMBEZZLEMENT                  1166  1166  1166  "
      ]
     },
     "execution_count": 239,
     "metadata": {},
     "output_type": "execute_result"
    }
   ],
   "source": [
    "train.groupby('Category').count().sort_values('Dates').head(10)"
   ]
  },
  {
   "cell_type": "code",
   "execution_count": 240,
   "metadata": {},
   "outputs": [
    {
     "data": {
      "text/plain": [
       "39"
      ]
     },
     "execution_count": 240,
     "metadata": {},
     "output_type": "execute_result"
    }
   ],
   "source": [
    "len(train[\"Category\"].unique())"
   ]
  },
  {
   "cell_type": "markdown",
   "metadata": {},
   "source": [
    "### 2. Load Test data"
   ]
  },
  {
   "cell_type": "code",
   "execution_count": 241,
   "metadata": {},
   "outputs": [],
   "source": [
    "test = pd.read_csv(f'{PATH}test.csv',date_parser='Dates')"
   ]
  },
  {
   "cell_type": "code",
   "execution_count": 242,
   "metadata": {},
   "outputs": [
    {
     "data": {
      "text/html": [
       "<div>\n",
       "<style scoped>\n",
       "    .dataframe tbody tr th:only-of-type {\n",
       "        vertical-align: middle;\n",
       "    }\n",
       "\n",
       "    .dataframe tbody tr th {\n",
       "        vertical-align: top;\n",
       "    }\n",
       "\n",
       "    .dataframe thead th {\n",
       "        text-align: right;\n",
       "    }\n",
       "</style>\n",
       "<table border=\"1\" class=\"dataframe\">\n",
       "  <thead>\n",
       "    <tr style=\"text-align: right;\">\n",
       "      <th></th>\n",
       "      <th>Id</th>\n",
       "      <th>Dates</th>\n",
       "      <th>DayOfWeek</th>\n",
       "      <th>PdDistrict</th>\n",
       "      <th>Address</th>\n",
       "      <th>X</th>\n",
       "      <th>Y</th>\n",
       "    </tr>\n",
       "  </thead>\n",
       "  <tbody>\n",
       "    <tr>\n",
       "      <th>0</th>\n",
       "      <td>0</td>\n",
       "      <td>2015-05-10 23:59:00</td>\n",
       "      <td>Sunday</td>\n",
       "      <td>BAYVIEW</td>\n",
       "      <td>2000 Block of THOMAS AV</td>\n",
       "      <td>-122.399588</td>\n",
       "      <td>37.735051</td>\n",
       "    </tr>\n",
       "    <tr>\n",
       "      <th>1</th>\n",
       "      <td>1</td>\n",
       "      <td>2015-05-10 23:51:00</td>\n",
       "      <td>Sunday</td>\n",
       "      <td>BAYVIEW</td>\n",
       "      <td>3RD ST / REVERE AV</td>\n",
       "      <td>-122.391523</td>\n",
       "      <td>37.732432</td>\n",
       "    </tr>\n",
       "    <tr>\n",
       "      <th>2</th>\n",
       "      <td>2</td>\n",
       "      <td>2015-05-10 23:50:00</td>\n",
       "      <td>Sunday</td>\n",
       "      <td>NORTHERN</td>\n",
       "      <td>2000 Block of GOUGH ST</td>\n",
       "      <td>-122.426002</td>\n",
       "      <td>37.792212</td>\n",
       "    </tr>\n",
       "    <tr>\n",
       "      <th>3</th>\n",
       "      <td>3</td>\n",
       "      <td>2015-05-10 23:45:00</td>\n",
       "      <td>Sunday</td>\n",
       "      <td>INGLESIDE</td>\n",
       "      <td>4700 Block of MISSION ST</td>\n",
       "      <td>-122.437394</td>\n",
       "      <td>37.721412</td>\n",
       "    </tr>\n",
       "    <tr>\n",
       "      <th>4</th>\n",
       "      <td>4</td>\n",
       "      <td>2015-05-10 23:45:00</td>\n",
       "      <td>Sunday</td>\n",
       "      <td>INGLESIDE</td>\n",
       "      <td>4700 Block of MISSION ST</td>\n",
       "      <td>-122.437394</td>\n",
       "      <td>37.721412</td>\n",
       "    </tr>\n",
       "  </tbody>\n",
       "</table>\n",
       "</div>"
      ],
      "text/plain": [
       "   Id                Dates DayOfWeek PdDistrict                   Address  \\\n",
       "0   0  2015-05-10 23:59:00    Sunday    BAYVIEW   2000 Block of THOMAS AV   \n",
       "1   1  2015-05-10 23:51:00    Sunday    BAYVIEW        3RD ST / REVERE AV   \n",
       "2   2  2015-05-10 23:50:00    Sunday   NORTHERN    2000 Block of GOUGH ST   \n",
       "3   3  2015-05-10 23:45:00    Sunday  INGLESIDE  4700 Block of MISSION ST   \n",
       "4   4  2015-05-10 23:45:00    Sunday  INGLESIDE  4700 Block of MISSION ST   \n",
       "\n",
       "            X          Y  \n",
       "0 -122.399588  37.735051  \n",
       "1 -122.391523  37.732432  \n",
       "2 -122.426002  37.792212  \n",
       "3 -122.437394  37.721412  \n",
       "4 -122.437394  37.721412  "
      ]
     },
     "execution_count": 242,
     "metadata": {},
     "output_type": "execute_result"
    }
   ],
   "source": [
    "test.head()"
   ]
  },
  {
   "cell_type": "markdown",
   "metadata": {},
   "source": [
    "### 3. Merge the data"
   ]
  },
  {
   "cell_type": "code",
   "execution_count": 243,
   "metadata": {},
   "outputs": [
    {
     "data": {
      "text/plain": [
       "Index(['Dates', 'Category', 'Descript', 'DayOfWeek', 'PdDistrict',\n",
       "       'Resolution', 'Address', 'X', 'Y'],\n",
       "      dtype='object')"
      ]
     },
     "execution_count": 243,
     "metadata": {},
     "output_type": "execute_result"
    }
   ],
   "source": [
    "train.columns"
   ]
  },
  {
   "cell_type": "code",
   "execution_count": 244,
   "metadata": {},
   "outputs": [
    {
     "data": {
      "text/plain": [
       "Index(['Id', 'Dates', 'DayOfWeek', 'PdDistrict', 'Address', 'X', 'Y'], dtype='object')"
      ]
     },
     "execution_count": 244,
     "metadata": {},
     "output_type": "execute_result"
    }
   ],
   "source": [
    "test.columns"
   ]
  },
  {
   "cell_type": "code",
   "execution_count": 245,
   "metadata": {},
   "outputs": [],
   "source": [
    "# Let's remove extra columns\n",
    "train.drop(['Descript','Resolution'],axis=1,inplace=True)\n",
    "test.drop(['Id'],axis=1,inplace=True)\n",
    "# Add dummy column in test dataset, which we will remove later\n",
    "test['Category']='TREA'\n",
    "# Add dataset identifier\n",
    "train['is_train'] = 1\n",
    "test['is_train'] = 0"
   ]
  },
  {
   "cell_type": "code",
   "execution_count": 246,
   "metadata": {},
   "outputs": [
    {
     "data": {
      "text/plain": [
       "Index(['Dates', 'Category', 'DayOfWeek', 'PdDistrict', 'Address', 'X', 'Y',\n",
       "       'is_train'],\n",
       "      dtype='object')"
      ]
     },
     "execution_count": 246,
     "metadata": {},
     "output_type": "execute_result"
    }
   ],
   "source": [
    "train.columns"
   ]
  },
  {
   "cell_type": "code",
   "execution_count": 247,
   "metadata": {},
   "outputs": [
    {
     "data": {
      "text/plain": [
       "Index(['Dates', 'DayOfWeek', 'PdDistrict', 'Address', 'X', 'Y', 'Category',\n",
       "       'is_train'],\n",
       "      dtype='object')"
      ]
     },
     "execution_count": 247,
     "metadata": {},
     "output_type": "execute_result"
    }
   ],
   "source": [
    "test.columns"
   ]
  },
  {
   "cell_type": "code",
   "execution_count": 248,
   "metadata": {},
   "outputs": [],
   "source": [
    "df_master = pd.concat([train,test],axis=0,sort=True,ignore_index=True)"
   ]
  },
  {
   "cell_type": "code",
   "execution_count": 249,
   "metadata": {},
   "outputs": [
    {
     "data": {
      "text/html": [
       "<div>\n",
       "<style scoped>\n",
       "    .dataframe tbody tr th:only-of-type {\n",
       "        vertical-align: middle;\n",
       "    }\n",
       "\n",
       "    .dataframe tbody tr th {\n",
       "        vertical-align: top;\n",
       "    }\n",
       "\n",
       "    .dataframe thead th {\n",
       "        text-align: right;\n",
       "    }\n",
       "</style>\n",
       "<table border=\"1\" class=\"dataframe\">\n",
       "  <thead>\n",
       "    <tr style=\"text-align: right;\">\n",
       "      <th></th>\n",
       "      <th>Address</th>\n",
       "      <th>Category</th>\n",
       "      <th>Dates</th>\n",
       "      <th>DayOfWeek</th>\n",
       "      <th>PdDistrict</th>\n",
       "      <th>X</th>\n",
       "      <th>Y</th>\n",
       "      <th>is_train</th>\n",
       "    </tr>\n",
       "  </thead>\n",
       "  <tbody>\n",
       "    <tr>\n",
       "      <th>0</th>\n",
       "      <td>OAK ST / LAGUNA ST</td>\n",
       "      <td>WARRANTS</td>\n",
       "      <td>2015-05-13 23:53:00</td>\n",
       "      <td>Wednesday</td>\n",
       "      <td>NORTHERN</td>\n",
       "      <td>-122.425892</td>\n",
       "      <td>37.774599</td>\n",
       "      <td>1</td>\n",
       "    </tr>\n",
       "    <tr>\n",
       "      <th>1</th>\n",
       "      <td>OAK ST / LAGUNA ST</td>\n",
       "      <td>OTHER OFFENSES</td>\n",
       "      <td>2015-05-13 23:53:00</td>\n",
       "      <td>Wednesday</td>\n",
       "      <td>NORTHERN</td>\n",
       "      <td>-122.425892</td>\n",
       "      <td>37.774599</td>\n",
       "      <td>1</td>\n",
       "    </tr>\n",
       "    <tr>\n",
       "      <th>2</th>\n",
       "      <td>VANNESS AV / GREENWICH ST</td>\n",
       "      <td>OTHER OFFENSES</td>\n",
       "      <td>2015-05-13 23:33:00</td>\n",
       "      <td>Wednesday</td>\n",
       "      <td>NORTHERN</td>\n",
       "      <td>-122.424363</td>\n",
       "      <td>37.800414</td>\n",
       "      <td>1</td>\n",
       "    </tr>\n",
       "    <tr>\n",
       "      <th>3</th>\n",
       "      <td>1500 Block of LOMBARD ST</td>\n",
       "      <td>LARCENY/THEFT</td>\n",
       "      <td>2015-05-13 23:30:00</td>\n",
       "      <td>Wednesday</td>\n",
       "      <td>NORTHERN</td>\n",
       "      <td>-122.426995</td>\n",
       "      <td>37.800873</td>\n",
       "      <td>1</td>\n",
       "    </tr>\n",
       "    <tr>\n",
       "      <th>4</th>\n",
       "      <td>100 Block of BRODERICK ST</td>\n",
       "      <td>LARCENY/THEFT</td>\n",
       "      <td>2015-05-13 23:30:00</td>\n",
       "      <td>Wednesday</td>\n",
       "      <td>PARK</td>\n",
       "      <td>-122.438738</td>\n",
       "      <td>37.771541</td>\n",
       "      <td>1</td>\n",
       "    </tr>\n",
       "  </tbody>\n",
       "</table>\n",
       "</div>"
      ],
      "text/plain": [
       "                     Address        Category                Dates  DayOfWeek  \\\n",
       "0         OAK ST / LAGUNA ST        WARRANTS  2015-05-13 23:53:00  Wednesday   \n",
       "1         OAK ST / LAGUNA ST  OTHER OFFENSES  2015-05-13 23:53:00  Wednesday   \n",
       "2  VANNESS AV / GREENWICH ST  OTHER OFFENSES  2015-05-13 23:33:00  Wednesday   \n",
       "3   1500 Block of LOMBARD ST   LARCENY/THEFT  2015-05-13 23:30:00  Wednesday   \n",
       "4  100 Block of BRODERICK ST   LARCENY/THEFT  2015-05-13 23:30:00  Wednesday   \n",
       "\n",
       "  PdDistrict           X          Y  is_train  \n",
       "0   NORTHERN -122.425892  37.774599         1  \n",
       "1   NORTHERN -122.425892  37.774599         1  \n",
       "2   NORTHERN -122.424363  37.800414         1  \n",
       "3   NORTHERN -122.426995  37.800873         1  \n",
       "4       PARK -122.438738  37.771541         1  "
      ]
     },
     "execution_count": 249,
     "metadata": {},
     "output_type": "execute_result"
    }
   ],
   "source": [
    "df_master.head()"
   ]
  },
  {
   "cell_type": "code",
   "execution_count": 250,
   "metadata": {},
   "outputs": [
    {
     "data": {
      "text/html": [
       "<div>\n",
       "<style scoped>\n",
       "    .dataframe tbody tr th:only-of-type {\n",
       "        vertical-align: middle;\n",
       "    }\n",
       "\n",
       "    .dataframe tbody tr th {\n",
       "        vertical-align: top;\n",
       "    }\n",
       "\n",
       "    .dataframe thead th {\n",
       "        text-align: right;\n",
       "    }\n",
       "</style>\n",
       "<table border=\"1\" class=\"dataframe\">\n",
       "  <thead>\n",
       "    <tr style=\"text-align: right;\">\n",
       "      <th></th>\n",
       "      <th>Address</th>\n",
       "      <th>Category</th>\n",
       "      <th>Dates</th>\n",
       "      <th>DayOfWeek</th>\n",
       "      <th>PdDistrict</th>\n",
       "      <th>X</th>\n",
       "      <th>Y</th>\n",
       "      <th>is_train</th>\n",
       "    </tr>\n",
       "  </thead>\n",
       "  <tbody>\n",
       "    <tr>\n",
       "      <th>1762306</th>\n",
       "      <td>2600 Block of BRYANT ST</td>\n",
       "      <td>TREA</td>\n",
       "      <td>2003-01-01 00:01:00</td>\n",
       "      <td>Wednesday</td>\n",
       "      <td>MISSION</td>\n",
       "      <td>-122.408983</td>\n",
       "      <td>37.751987</td>\n",
       "      <td>0</td>\n",
       "    </tr>\n",
       "    <tr>\n",
       "      <th>1762307</th>\n",
       "      <td>1900 Block of WASHINGTON ST</td>\n",
       "      <td>TREA</td>\n",
       "      <td>2003-01-01 00:01:00</td>\n",
       "      <td>Wednesday</td>\n",
       "      <td>NORTHERN</td>\n",
       "      <td>-122.425342</td>\n",
       "      <td>37.792681</td>\n",
       "      <td>0</td>\n",
       "    </tr>\n",
       "    <tr>\n",
       "      <th>1762308</th>\n",
       "      <td>5500 Block of MISSION ST</td>\n",
       "      <td>TREA</td>\n",
       "      <td>2003-01-01 00:01:00</td>\n",
       "      <td>Wednesday</td>\n",
       "      <td>INGLESIDE</td>\n",
       "      <td>-122.445418</td>\n",
       "      <td>37.712075</td>\n",
       "      <td>0</td>\n",
       "    </tr>\n",
       "    <tr>\n",
       "      <th>1762309</th>\n",
       "      <td>1500 Block of HUDSON AV</td>\n",
       "      <td>TREA</td>\n",
       "      <td>2003-01-01 00:01:00</td>\n",
       "      <td>Wednesday</td>\n",
       "      <td>BAYVIEW</td>\n",
       "      <td>-122.387394</td>\n",
       "      <td>37.739479</td>\n",
       "      <td>0</td>\n",
       "    </tr>\n",
       "    <tr>\n",
       "      <th>1762310</th>\n",
       "      <td>1500 Block of SLOAT BL</td>\n",
       "      <td>TREA</td>\n",
       "      <td>2003-01-01 00:01:00</td>\n",
       "      <td>Wednesday</td>\n",
       "      <td>TARAVAL</td>\n",
       "      <td>-122.489714</td>\n",
       "      <td>37.733950</td>\n",
       "      <td>0</td>\n",
       "    </tr>\n",
       "  </tbody>\n",
       "</table>\n",
       "</div>"
      ],
      "text/plain": [
       "                             Address Category                Dates  DayOfWeek  \\\n",
       "1762306      2600 Block of BRYANT ST     TREA  2003-01-01 00:01:00  Wednesday   \n",
       "1762307  1900 Block of WASHINGTON ST     TREA  2003-01-01 00:01:00  Wednesday   \n",
       "1762308     5500 Block of MISSION ST     TREA  2003-01-01 00:01:00  Wednesday   \n",
       "1762309      1500 Block of HUDSON AV     TREA  2003-01-01 00:01:00  Wednesday   \n",
       "1762310       1500 Block of SLOAT BL     TREA  2003-01-01 00:01:00  Wednesday   \n",
       "\n",
       "        PdDistrict           X          Y  is_train  \n",
       "1762306    MISSION -122.408983  37.751987         0  \n",
       "1762307   NORTHERN -122.425342  37.792681         0  \n",
       "1762308  INGLESIDE -122.445418  37.712075         0  \n",
       "1762309    BAYVIEW -122.387394  37.739479         0  \n",
       "1762310    TARAVAL -122.489714  37.733950         0  "
      ]
     },
     "execution_count": 250,
     "metadata": {},
     "output_type": "execute_result"
    }
   ],
   "source": [
    "df_master.tail()"
   ]
  },
  {
   "cell_type": "code",
   "execution_count": 251,
   "metadata": {},
   "outputs": [
    {
     "data": {
      "text/plain": [
       "(878049, 884262, 1762311)"
      ]
     },
     "execution_count": 251,
     "metadata": {},
     "output_type": "execute_result"
    }
   ],
   "source": [
    "len(train), len(test), len(df_master)"
   ]
  },
  {
   "cell_type": "markdown",
   "metadata": {},
   "source": [
    "### 4. Feature Engineering"
   ]
  },
  {
   "cell_type": "code",
   "execution_count": 252,
   "metadata": {},
   "outputs": [
    {
     "data": {
      "text/plain": [
       "Index(['Address', 'Category', 'Dates', 'DayOfWeek', 'PdDistrict', 'X', 'Y',\n",
       "       'is_train'],\n",
       "      dtype='object')"
      ]
     },
     "execution_count": 252,
     "metadata": {},
     "output_type": "execute_result"
    }
   ],
   "source": [
    "df_master.columns"
   ]
  },
  {
   "cell_type": "markdown",
   "metadata": {},
   "source": [
    "#### Add data-time features"
   ]
  },
  {
   "cell_type": "code",
   "execution_count": 253,
   "metadata": {},
   "outputs": [],
   "source": [
    "Dates = df_master['Dates']\n",
    "add_datepart(df=df_master,fldname='Dates',time=True)"
   ]
  },
  {
   "cell_type": "code",
   "execution_count": 254,
   "metadata": {},
   "outputs": [
    {
     "data": {
      "text/plain": [
       "Index(['Address', 'Category', 'DayOfWeek', 'PdDistrict', 'X', 'Y', 'is_train',\n",
       "       'DatesYear', 'DatesMonth', 'DatesWeek', 'DatesDay', 'DatesDayofweek',\n",
       "       'DatesDayofyear', 'DatesIs_month_end', 'DatesIs_month_start',\n",
       "       'DatesIs_quarter_end', 'DatesIs_quarter_start', 'DatesIs_year_end',\n",
       "       'DatesIs_year_start', 'DatesHour', 'DatesMinute', 'DatesSecond',\n",
       "       'DatesElapsed'],\n",
       "      dtype='object')"
      ]
     },
     "execution_count": 254,
     "metadata": {},
     "output_type": "execute_result"
    }
   ],
   "source": [
    "df_master.columns"
   ]
  },
  {
   "cell_type": "code",
   "execution_count": 255,
   "metadata": {},
   "outputs": [],
   "source": [
    "df_master['YearMonth']= df_master['DatesYear'].map(str)  + df_master['DatesMonth'].map(str) \n",
    "df_master['Dates']= Dates"
   ]
  },
  {
   "cell_type": "code",
   "execution_count": 256,
   "metadata": {},
   "outputs": [
    {
     "data": {
      "text/html": [
       "<div>\n",
       "<style scoped>\n",
       "    .dataframe tbody tr th:only-of-type {\n",
       "        vertical-align: middle;\n",
       "    }\n",
       "\n",
       "    .dataframe tbody tr th {\n",
       "        vertical-align: top;\n",
       "    }\n",
       "\n",
       "    .dataframe thead th {\n",
       "        text-align: right;\n",
       "    }\n",
       "</style>\n",
       "<table border=\"1\" class=\"dataframe\">\n",
       "  <thead>\n",
       "    <tr style=\"text-align: right;\">\n",
       "      <th></th>\n",
       "      <th>DayOfWeek</th>\n",
       "      <th>DatesDayofweek</th>\n",
       "    </tr>\n",
       "  </thead>\n",
       "  <tbody>\n",
       "    <tr>\n",
       "      <th>0</th>\n",
       "      <td>Wednesday</td>\n",
       "      <td>2</td>\n",
       "    </tr>\n",
       "    <tr>\n",
       "      <th>1</th>\n",
       "      <td>Wednesday</td>\n",
       "      <td>2</td>\n",
       "    </tr>\n",
       "    <tr>\n",
       "      <th>2</th>\n",
       "      <td>Wednesday</td>\n",
       "      <td>2</td>\n",
       "    </tr>\n",
       "    <tr>\n",
       "      <th>3</th>\n",
       "      <td>Wednesday</td>\n",
       "      <td>2</td>\n",
       "    </tr>\n",
       "    <tr>\n",
       "      <th>4</th>\n",
       "      <td>Wednesday</td>\n",
       "      <td>2</td>\n",
       "    </tr>\n",
       "  </tbody>\n",
       "</table>\n",
       "</div>"
      ],
      "text/plain": [
       "   DayOfWeek  DatesDayofweek\n",
       "0  Wednesday               2\n",
       "1  Wednesday               2\n",
       "2  Wednesday               2\n",
       "3  Wednesday               2\n",
       "4  Wednesday               2"
      ]
     },
     "execution_count": 256,
     "metadata": {},
     "output_type": "execute_result"
    }
   ],
   "source": [
    "df_master[['DayOfWeek','DatesDayofweek']].head()"
   ]
  },
  {
   "cell_type": "code",
   "execution_count": 257,
   "metadata": {},
   "outputs": [],
   "source": [
    "df_master.drop(['DayOfWeek'],axis=1,inplace=True)"
   ]
  },
  {
   "cell_type": "markdown",
   "metadata": {},
   "source": [
    "#### Add X, Y features"
   ]
  },
  {
   "cell_type": "code",
   "execution_count": 258,
   "metadata": {},
   "outputs": [],
   "source": [
    "# Lets' created scaled transform of the X and Y coordinates\n",
    "xy_scaler = StandardScaler()\n",
    "xy_scaler.fit(df_master.loc[:,['X','Y']])\n",
    "xy_scaled = xy_scaler.transform(df_master.loc[:,['X','Y']])\n",
    "\n",
    "# PCA on X and Y, select top 2 components\n",
    "xy_pca = PCA(n_components=2, whiten=True).fit_transform(xy_scaled)\n",
    "\n",
    "# Rotation\n",
    "rot45_X = .707* xy_scaled[:,1] + .707* xy_scaled[:,0] \n",
    "rot45_Y = .707* xy_scaled[:,1] - .707* xy_scaled[:,0]\n",
    "\n",
    "rot30_X = (1.732/2)* xy_scaled[:,0] + (1./2)* xy_scaled[:,1]\n",
    "rot30_Y = (1.732/2)* xy_scaled[:,1] - (1./2)* xy_scaled[:,0]\n",
    "\n",
    "rot60_X = (1./2)* xy_scaled[:,0] + (1.732/2)* xy_scaled[:,1] \n",
    "rot60_Y = (1./2)* xy_scaled[:,1] - (1.732/2)* xy_scaled[:,0]\n",
    "\n",
    "# Polar coordinates\n",
    "radial_r = np.sqrt( np.power(xy_scaled[:,1],2) + np.power(xy_scaled[:,0],2) )\n",
    "radial_phi = np.arctan2(xy_scaled[:,1], xy_scaled[:,0])\n",
    "\n",
    "xy_scaled_df=pd.DataFrame(xy_scaled)\n",
    "xy_pca_df=pd.DataFrame(xy_pca)"
   ]
  },
  {
   "cell_type": "code",
   "execution_count": 259,
   "metadata": {},
   "outputs": [],
   "source": [
    "df_master['xy_scaled_1']    = xy_scaled_df[0]\n",
    "df_master['xy_scaled_2']    = xy_scaled_df[1]\n",
    "df_master['xy_pca_1']       = xy_pca_df[0]\n",
    "df_master['xy_pca_2']       = xy_pca_df[1]\n",
    "df_master['xy_x_rotate_30'] = rot30_X\n",
    "df_master['xy_x_rotate_45'] = rot45_X\n",
    "df_master['xy_x_rotate_60'] = rot60_X\n",
    "df_master['xy_y_rotate_30'] = rot30_Y\n",
    "df_master['xy_y_rotate_45'] = rot45_Y\n",
    "df_master['xy_y_rotate_60'] = rot60_Y\n",
    "df_master['xy_radial_r']    = radial_r\n",
    "df_master['xy_radial_phi']  = radial_phi"
   ]
  },
  {
   "cell_type": "markdown",
   "metadata": {},
   "source": [
    "#### Add Address features"
   ]
  },
  {
   "cell_type": "code",
   "execution_count": 260,
   "metadata": {},
   "outputs": [
    {
     "data": {
      "text/html": [
       "<div>\n",
       "<style scoped>\n",
       "    .dataframe tbody tr th:only-of-type {\n",
       "        vertical-align: middle;\n",
       "    }\n",
       "\n",
       "    .dataframe tbody tr th {\n",
       "        vertical-align: top;\n",
       "    }\n",
       "\n",
       "    .dataframe thead th {\n",
       "        text-align: right;\n",
       "    }\n",
       "</style>\n",
       "<table border=\"1\" class=\"dataframe\">\n",
       "  <thead>\n",
       "    <tr style=\"text-align: right;\">\n",
       "      <th></th>\n",
       "      <th>Address</th>\n",
       "      <th>add_part1</th>\n",
       "      <th>add_part2</th>\n",
       "    </tr>\n",
       "  </thead>\n",
       "  <tbody>\n",
       "    <tr>\n",
       "      <th>0</th>\n",
       "      <td>OAK ST / LAGUNA ST</td>\n",
       "      <td>OAK ST</td>\n",
       "      <td>LAGUNA ST</td>\n",
       "    </tr>\n",
       "    <tr>\n",
       "      <th>1</th>\n",
       "      <td>OAK ST / LAGUNA ST</td>\n",
       "      <td>OAK ST</td>\n",
       "      <td>LAGUNA ST</td>\n",
       "    </tr>\n",
       "    <tr>\n",
       "      <th>2</th>\n",
       "      <td>VANNESS AV / GREENWICH ST</td>\n",
       "      <td>VANNESS AV</td>\n",
       "      <td>GREENWICH ST</td>\n",
       "    </tr>\n",
       "    <tr>\n",
       "      <th>3</th>\n",
       "      <td>1500 Block of LOMBARD ST</td>\n",
       "      <td>1500 Block of LOMBARD ST</td>\n",
       "      <td>NaN</td>\n",
       "    </tr>\n",
       "    <tr>\n",
       "      <th>4</th>\n",
       "      <td>100 Block of BRODERICK ST</td>\n",
       "      <td>100 Block of BRODERICK ST</td>\n",
       "      <td>NaN</td>\n",
       "    </tr>\n",
       "    <tr>\n",
       "      <th>5</th>\n",
       "      <td>0 Block of TEDDY AV</td>\n",
       "      <td>0 Block of TEDDY AV</td>\n",
       "      <td>NaN</td>\n",
       "    </tr>\n",
       "    <tr>\n",
       "      <th>6</th>\n",
       "      <td>AVALON AV / PERU AV</td>\n",
       "      <td>AVALON AV</td>\n",
       "      <td>PERU AV</td>\n",
       "    </tr>\n",
       "    <tr>\n",
       "      <th>7</th>\n",
       "      <td>KIRKWOOD AV / DONAHUE ST</td>\n",
       "      <td>KIRKWOOD AV</td>\n",
       "      <td>DONAHUE ST</td>\n",
       "    </tr>\n",
       "    <tr>\n",
       "      <th>8</th>\n",
       "      <td>600 Block of 47TH AV</td>\n",
       "      <td>600 Block of 47TH AV</td>\n",
       "      <td>NaN</td>\n",
       "    </tr>\n",
       "    <tr>\n",
       "      <th>9</th>\n",
       "      <td>JEFFERSON ST / LEAVENWORTH ST</td>\n",
       "      <td>JEFFERSON ST</td>\n",
       "      <td>LEAVENWORTH ST</td>\n",
       "    </tr>\n",
       "    <tr>\n",
       "      <th>10</th>\n",
       "      <td>JEFFERSON ST / LEAVENWORTH ST</td>\n",
       "      <td>JEFFERSON ST</td>\n",
       "      <td>LEAVENWORTH ST</td>\n",
       "    </tr>\n",
       "    <tr>\n",
       "      <th>11</th>\n",
       "      <td>0 Block of ESCOLTA WY</td>\n",
       "      <td>0 Block of ESCOLTA WY</td>\n",
       "      <td>NaN</td>\n",
       "    </tr>\n",
       "    <tr>\n",
       "      <th>12</th>\n",
       "      <td>TURK ST / JONES ST</td>\n",
       "      <td>TURK ST</td>\n",
       "      <td>JONES ST</td>\n",
       "    </tr>\n",
       "    <tr>\n",
       "      <th>13</th>\n",
       "      <td>FILLMORE ST / GEARY BL</td>\n",
       "      <td>FILLMORE ST</td>\n",
       "      <td>GEARY BL</td>\n",
       "    </tr>\n",
       "    <tr>\n",
       "      <th>14</th>\n",
       "      <td>200 Block of WILLIAMS AV</td>\n",
       "      <td>200 Block of WILLIAMS AV</td>\n",
       "      <td>NaN</td>\n",
       "    </tr>\n",
       "  </tbody>\n",
       "</table>\n",
       "</div>"
      ],
      "text/plain": [
       "                          Address                  add_part1       add_part2\n",
       "0              OAK ST / LAGUNA ST                     OAK ST       LAGUNA ST\n",
       "1              OAK ST / LAGUNA ST                     OAK ST       LAGUNA ST\n",
       "2       VANNESS AV / GREENWICH ST                 VANNESS AV    GREENWICH ST\n",
       "3        1500 Block of LOMBARD ST   1500 Block of LOMBARD ST             NaN\n",
       "4       100 Block of BRODERICK ST  100 Block of BRODERICK ST             NaN\n",
       "5             0 Block of TEDDY AV        0 Block of TEDDY AV             NaN\n",
       "6             AVALON AV / PERU AV                  AVALON AV         PERU AV\n",
       "7        KIRKWOOD AV / DONAHUE ST                KIRKWOOD AV      DONAHUE ST\n",
       "8            600 Block of 47TH AV       600 Block of 47TH AV             NaN\n",
       "9   JEFFERSON ST / LEAVENWORTH ST               JEFFERSON ST  LEAVENWORTH ST\n",
       "10  JEFFERSON ST / LEAVENWORTH ST               JEFFERSON ST  LEAVENWORTH ST\n",
       "11          0 Block of ESCOLTA WY      0 Block of ESCOLTA WY             NaN\n",
       "12             TURK ST / JONES ST                    TURK ST        JONES ST\n",
       "13         FILLMORE ST / GEARY BL                FILLMORE ST        GEARY BL\n",
       "14       200 Block of WILLIAMS AV   200 Block of WILLIAMS AV             NaN"
      ]
     },
     "execution_count": 260,
     "metadata": {},
     "output_type": "execute_result"
    }
   ],
   "source": [
    "# Create a feature for street intersection\n",
    "df_master['add_contains_intersection']=df_master['Address'].str.contains('/')\n",
    "\n",
    "# Create a feature for block or no-block in the address\n",
    "add_upper=df_master['Address'].str.upper()\n",
    "df_master['add_contains_block']=add_upper.str.contains('BLOCK')\n",
    "\n",
    "# Create a feature to capture the data before and after the '/'\n",
    "add_p1, add_p2 = df_master['Address'].str.split('/', 1).str\n",
    "\n",
    "add_p1=add_p1.str.rstrip()\n",
    "df_master['add_part1']=add_p1.str.lstrip()\n",
    "add_p2=add_p2.str.rstrip()\n",
    "df_master['add_part2']=add_p2.str.lstrip()\n",
    "\n",
    "# Check if the split went well\n",
    "df_master[['Address','add_part1','add_part2']].head(15)"
   ]
  },
  {
   "cell_type": "code",
   "execution_count": 261,
   "metadata": {},
   "outputs": [
    {
     "data": {
      "text/plain": [
       "array(['80', 'AL', 'AR', 'AV', 'AY', 'BL', 'CR', 'CT', 'DR', 'ER', 'EX', 'HY', 'LN', 'MS', 'NO', 'PL', 'PZ',\n",
       "       'RD', 'RK', 'RW', 'ST', 'TI', 'TR', 'WK', 'WY'], dtype=object)"
      ]
     },
     "execution_count": 261,
     "metadata": {},
     "output_type": "execute_result"
    }
   ],
   "source": [
    "# Type of the first part of address (ST, AV BL etc)\n",
    "df_master['add_part1_type']=df_master['add_part1'].str[-2:]\n",
    "np.unique(df_master['add_part1_type'])"
   ]
  },
  {
   "cell_type": "markdown",
   "metadata": {},
   "source": [
    "#### PdDistrict one-hot-encoding"
   ]
  },
  {
   "cell_type": "code",
   "execution_count": 38,
   "metadata": {},
   "outputs": [],
   "source": [
    "#districts_ohe = pd.get_dummies(df_master['PdDistrict'],dtype='i',)\n",
    "#districts_ohe.head(), districts_ohe.shape"
   ]
  },
  {
   "cell_type": "code",
   "execution_count": 39,
   "metadata": {},
   "outputs": [],
   "source": [
    "#df_master=pd.concat([df_master, districts_ohe],axis=1)\n",
    "#df_master.head()"
   ]
  },
  {
   "cell_type": "code",
   "execution_count": 40,
   "metadata": {},
   "outputs": [],
   "source": [
    "#df_master.drop('PdDistrict',axis=1,inplace=True)"
   ]
  },
  {
   "cell_type": "markdown",
   "metadata": {},
   "source": [
    "### 5. Format the data"
   ]
  },
  {
   "cell_type": "code",
   "execution_count": 262,
   "metadata": {},
   "outputs": [
    {
     "data": {
      "text/plain": [
       "((878049, 41),\n",
       " (884262, 41),\n",
       " Index(['Address', 'Category', 'PdDistrict', 'X', 'Y', 'is_train', 'DatesYear',\n",
       "        'DatesMonth', 'DatesWeek', 'DatesDay', 'DatesDayofweek',\n",
       "        'DatesDayofyear', 'DatesIs_month_end', 'DatesIs_month_start',\n",
       "        'DatesIs_quarter_end', 'DatesIs_quarter_start', 'DatesIs_year_end',\n",
       "        'DatesIs_year_start', 'DatesHour', 'DatesMinute', 'DatesSecond',\n",
       "        'DatesElapsed', 'YearMonth', 'Dates', 'xy_scaled_1', 'xy_scaled_2',\n",
       "        'xy_pca_1', 'xy_pca_2', 'xy_x_rotate_30', 'xy_x_rotate_45',\n",
       "        'xy_x_rotate_60', 'xy_y_rotate_30', 'xy_y_rotate_45', 'xy_y_rotate_60',\n",
       "        'xy_radial_r', 'xy_radial_phi', 'add_contains_intersection',\n",
       "        'add_contains_block', 'add_part1', 'add_part2', 'add_part1_type'],\n",
       "       dtype='object'))"
      ]
     },
     "execution_count": 262,
     "metadata": {},
     "output_type": "execute_result"
    }
   ],
   "source": [
    "train_n_val=pd.DataFrame(df_master[df_master.is_train==1])\n",
    "test       =pd.DataFrame(df_master[df_master.is_train==0])\n",
    "train_n_val.shape, test.shape, train_n_val.columns"
   ]
  },
  {
   "cell_type": "code",
   "execution_count": 263,
   "metadata": {},
   "outputs": [],
   "source": [
    "cat_vars = ['Address','PdDistrict','DatesYear','DatesMonth','DatesWeek','DatesDayofweek','DatesDayofyear',\n",
    "            'DatesIs_month_end','DatesIs_month_start','DatesIs_quarter_end','DatesIs_quarter_start',\n",
    "            'DatesIs_year_end','DatesIs_year_start','DatesHour','DatesMinute','DatesSecond','DatesElapsed',\n",
    "            'YearMonth', 'add_contains_intersection', 'add_contains_block','add_part1', 'add_part2', 'add_part1_type']\n",
    "contin_vars = ['X','Y','xy_scaled_1','xy_scaled_2','xy_pca_1','xy_pca_2','xy_x_rotate_30','xy_x_rotate_45',\n",
    "               'xy_x_rotate_60','xy_y_rotate_30','xy_y_rotate_45','xy_y_rotate_60','xy_radial_r','xy_radial_phi']"
   ]
  },
  {
   "cell_type": "code",
   "execution_count": 264,
   "metadata": {},
   "outputs": [],
   "source": [
    "dep='Category'\n",
    "train_n_val = train_n_val[cat_vars+contin_vars+[dep, 'Dates']].copy()"
   ]
  },
  {
   "cell_type": "code",
   "execution_count": 265,
   "metadata": {},
   "outputs": [],
   "source": [
    "test[dep] = 0\n",
    "test = test[cat_vars+contin_vars+[dep, 'Dates']].copy()"
   ]
  },
  {
   "cell_type": "code",
   "execution_count": 280,
   "metadata": {},
   "outputs": [],
   "source": [
    "for v in cat_vars: train_n_val[v] = train_n_val[v].astype('category').cat.as_ordered()\n",
    "for v in [dep]: train_n_val[v] = train_n_val[v].astype('category').cat.as_ordered()\n",
    "for v in cat_vars: test[v] = test[v].astype('category').cat.as_ordered()"
   ]
  },
  {
   "cell_type": "code",
   "execution_count": 269,
   "metadata": {},
   "outputs": [],
   "source": [
    "apply_cats(train_n_val, test)"
   ]
  },
  {
   "cell_type": "code",
   "execution_count": 270,
   "metadata": {},
   "outputs": [],
   "source": [
    "for v in contin_vars:\n",
    "    train_n_val[v] = train_n_val[v].astype('float32')\n",
    "    test[v] = test[v].astype('float32')"
   ]
  },
  {
   "cell_type": "code",
   "execution_count": 323,
   "metadata": {},
   "outputs": [
    {
     "data": {
      "text/plain": [
       "150000"
      ]
     },
     "execution_count": 323,
     "metadata": {},
     "output_type": "execute_result"
    }
   ],
   "source": [
    "n = len(train_n_val)\n",
    "idxs = get_cv_idxs(n, val_pct=150000/n)\n",
    "train_n_val_samp = train_n_val.iloc[idxs].set_index(\"Dates\")\n",
    "samp_size = len(train_n_val_samp)\n",
    "train_n_val_samp=samp_size; train_n_val_samp"
   ]
  },
  {
   "cell_type": "markdown",
   "metadata": {},
   "source": [
    "To run on the full dataset, use this instead:"
   ]
  },
  {
   "cell_type": "code",
   "execution_count": 271,
   "metadata": {},
   "outputs": [],
   "source": [
    "samp_size = n\n",
    "train_n_val_samp = train_n_val.set_index(\"Dates\")"
   ]
  },
  {
   "cell_type": "code",
   "execution_count": 272,
   "metadata": {},
   "outputs": [
    {
     "data": {
      "text/html": [
       "<div>\n",
       "<style scoped>\n",
       "    .dataframe tbody tr th:only-of-type {\n",
       "        vertical-align: middle;\n",
       "    }\n",
       "\n",
       "    .dataframe tbody tr th {\n",
       "        vertical-align: top;\n",
       "    }\n",
       "\n",
       "    .dataframe thead th {\n",
       "        text-align: right;\n",
       "    }\n",
       "</style>\n",
       "<table border=\"1\" class=\"dataframe\">\n",
       "  <thead>\n",
       "    <tr style=\"text-align: right;\">\n",
       "      <th></th>\n",
       "      <th>Address</th>\n",
       "      <th>PdDistrict</th>\n",
       "      <th>DatesYear</th>\n",
       "      <th>DatesMonth</th>\n",
       "      <th>DatesWeek</th>\n",
       "      <th>DatesDayofweek</th>\n",
       "      <th>DatesDayofyear</th>\n",
       "      <th>DatesIs_month_end</th>\n",
       "      <th>DatesIs_month_start</th>\n",
       "      <th>DatesIs_quarter_end</th>\n",
       "      <th>...</th>\n",
       "      <th>xy_pca_2</th>\n",
       "      <th>xy_x_rotate_30</th>\n",
       "      <th>xy_x_rotate_45</th>\n",
       "      <th>xy_x_rotate_60</th>\n",
       "      <th>xy_y_rotate_30</th>\n",
       "      <th>xy_y_rotate_45</th>\n",
       "      <th>xy_y_rotate_60</th>\n",
       "      <th>xy_radial_r</th>\n",
       "      <th>xy_radial_phi</th>\n",
       "      <th>Category</th>\n",
       "    </tr>\n",
       "    <tr>\n",
       "      <th>Dates</th>\n",
       "      <th></th>\n",
       "      <th></th>\n",
       "      <th></th>\n",
       "      <th></th>\n",
       "      <th></th>\n",
       "      <th></th>\n",
       "      <th></th>\n",
       "      <th></th>\n",
       "      <th></th>\n",
       "      <th></th>\n",
       "      <th></th>\n",
       "      <th></th>\n",
       "      <th></th>\n",
       "      <th></th>\n",
       "      <th></th>\n",
       "      <th></th>\n",
       "      <th></th>\n",
       "      <th></th>\n",
       "      <th></th>\n",
       "      <th></th>\n",
       "      <th></th>\n",
       "    </tr>\n",
       "  </thead>\n",
       "  <tbody>\n",
       "    <tr>\n",
       "      <th>2015-05-13 23:53:00</th>\n",
       "      <td>OAK ST / LAGUNA ST</td>\n",
       "      <td>NORTHERN</td>\n",
       "      <td>2015</td>\n",
       "      <td>5</td>\n",
       "      <td>20</td>\n",
       "      <td>2</td>\n",
       "      <td>133</td>\n",
       "      <td>False</td>\n",
       "      <td>False</td>\n",
       "      <td>False</td>\n",
       "      <td>...</td>\n",
       "      <td>0.121525</td>\n",
       "      <td>-0.087831</td>\n",
       "      <td>-0.06958</td>\n",
       "      <td>-0.046606</td>\n",
       "      <td>0.058921</td>\n",
       "      <td>0.079634</td>\n",
       "      <td>0.094941</td>\n",
       "      <td>0.105766</td>\n",
       "      <td>3.074315</td>\n",
       "      <td>WARRANTS</td>\n",
       "    </tr>\n",
       "    <tr>\n",
       "      <th>2015-05-13 23:53:00</th>\n",
       "      <td>OAK ST / LAGUNA ST</td>\n",
       "      <td>NORTHERN</td>\n",
       "      <td>2015</td>\n",
       "      <td>5</td>\n",
       "      <td>20</td>\n",
       "      <td>2</td>\n",
       "      <td>133</td>\n",
       "      <td>False</td>\n",
       "      <td>False</td>\n",
       "      <td>False</td>\n",
       "      <td>...</td>\n",
       "      <td>0.121525</td>\n",
       "      <td>-0.087831</td>\n",
       "      <td>-0.06958</td>\n",
       "      <td>-0.046606</td>\n",
       "      <td>0.058921</td>\n",
       "      <td>0.079634</td>\n",
       "      <td>0.094941</td>\n",
       "      <td>0.105766</td>\n",
       "      <td>3.074315</td>\n",
       "      <td>OTHER OFFENSES</td>\n",
       "    </tr>\n",
       "  </tbody>\n",
       "</table>\n",
       "<p>2 rows × 38 columns</p>\n",
       "</div>"
      ],
      "text/plain": [
       "                                Address PdDistrict DatesYear DatesMonth  \\\n",
       "Dates                                                                     \n",
       "2015-05-13 23:53:00  OAK ST / LAGUNA ST   NORTHERN      2015          5   \n",
       "2015-05-13 23:53:00  OAK ST / LAGUNA ST   NORTHERN      2015          5   \n",
       "\n",
       "                    DatesWeek DatesDayofweek DatesDayofyear DatesIs_month_end  \\\n",
       "Dates                                                                           \n",
       "2015-05-13 23:53:00        20              2            133             False   \n",
       "2015-05-13 23:53:00        20              2            133             False   \n",
       "\n",
       "                    DatesIs_month_start DatesIs_quarter_end       ...        \\\n",
       "Dates                                                             ...         \n",
       "2015-05-13 23:53:00               False               False       ...         \n",
       "2015-05-13 23:53:00               False               False       ...         \n",
       "\n",
       "                     xy_pca_2 xy_x_rotate_30 xy_x_rotate_45 xy_x_rotate_60  \\\n",
       "Dates                                                                        \n",
       "2015-05-13 23:53:00  0.121525      -0.087831       -0.06958      -0.046606   \n",
       "2015-05-13 23:53:00  0.121525      -0.087831       -0.06958      -0.046606   \n",
       "\n",
       "                    xy_y_rotate_30 xy_y_rotate_45 xy_y_rotate_60 xy_radial_r  \\\n",
       "Dates                                                                          \n",
       "2015-05-13 23:53:00       0.058921       0.079634       0.094941    0.105766   \n",
       "2015-05-13 23:53:00       0.058921       0.079634       0.094941    0.105766   \n",
       "\n",
       "                    xy_radial_phi        Category  \n",
       "Dates                                              \n",
       "2015-05-13 23:53:00      3.074315        WARRANTS  \n",
       "2015-05-13 23:53:00      3.074315  OTHER OFFENSES  \n",
       "\n",
       "[2 rows x 38 columns]"
      ]
     },
     "execution_count": 272,
     "metadata": {},
     "output_type": "execute_result"
    }
   ],
   "source": [
    "train_n_val_samp.head(2)"
   ]
  },
  {
   "cell_type": "code",
   "execution_count": 273,
   "metadata": {},
   "outputs": [
    {
     "data": {
      "text/plain": [
       "Address                      category\n",
       "PdDistrict                   category\n",
       "DatesYear                    category\n",
       "DatesMonth                   category\n",
       "DatesWeek                    category\n",
       "DatesDayofweek               category\n",
       "DatesDayofyear               category\n",
       "DatesIs_month_end            category\n",
       "DatesIs_month_start          category\n",
       "DatesIs_quarter_end          category\n",
       "DatesIs_quarter_start        category\n",
       "DatesIs_year_end             category\n",
       "DatesIs_year_start           category\n",
       "DatesHour                    category\n",
       "DatesMinute                  category\n",
       "DatesSecond                  category\n",
       "DatesElapsed                 category\n",
       "YearMonth                    category\n",
       "add_contains_intersection    category\n",
       "add_contains_block           category\n",
       "add_part1                    category\n",
       "add_part2                    category\n",
       "add_part1_type               category\n",
       "X                             float32\n",
       "Y                             float32\n",
       "xy_scaled_1                   float32\n",
       "xy_scaled_2                   float32\n",
       "xy_pca_1                      float32\n",
       "xy_pca_2                      float32\n",
       "xy_x_rotate_30                float32\n",
       "xy_x_rotate_45                float32\n",
       "xy_x_rotate_60                float32\n",
       "xy_y_rotate_30                float32\n",
       "xy_y_rotate_45                float32\n",
       "xy_y_rotate_60                float32\n",
       "xy_radial_r                   float32\n",
       "xy_radial_phi                 float32\n",
       "Category                     category\n",
       "dtype: object"
      ]
     },
     "execution_count": 273,
     "metadata": {},
     "output_type": "execute_result"
    }
   ],
   "source": [
    "train_n_val_samp.dtypes"
   ]
  },
  {
   "cell_type": "code",
   "execution_count": 324,
   "metadata": {},
   "outputs": [
    {
     "ename": "AttributeError",
     "evalue": "'int' object has no attribute 'loc'",
     "output_type": "error",
     "traceback": [
      "\u001b[0;31m---------------------------------------------------------------------------\u001b[0m",
      "\u001b[0;31mAttributeError\u001b[0m                            Traceback (most recent call last)",
      "\u001b[0;32m<ipython-input-324-5e5e9c53163f>\u001b[0m in \u001b[0;36m<module>\u001b[0;34m()\u001b[0m\n\u001b[0;32m----> 1\u001b[0;31m \u001b[0mdf\u001b[0m\u001b[0;34m,\u001b[0m \u001b[0my\u001b[0m\u001b[0;34m,\u001b[0m \u001b[0mnas\u001b[0m\u001b[0;34m,\u001b[0m \u001b[0mmapper\u001b[0m \u001b[0;34m=\u001b[0m \u001b[0mproc_df\u001b[0m\u001b[0;34m(\u001b[0m\u001b[0mtrain_n_val_samp\u001b[0m\u001b[0;34m,\u001b[0m \u001b[0;34m'Category'\u001b[0m\u001b[0;34m,\u001b[0m \u001b[0mdo_scale\u001b[0m\u001b[0;34m=\u001b[0m\u001b[0;32mTrue\u001b[0m\u001b[0;34m)\u001b[0m\u001b[0;34m\u001b[0m\u001b[0m\n\u001b[0m\u001b[1;32m      2\u001b[0m \u001b[0myl\u001b[0m \u001b[0;34m=\u001b[0m \u001b[0mnp\u001b[0m\u001b[0;34m.\u001b[0m\u001b[0mlog\u001b[0m\u001b[0;34m(\u001b[0m\u001b[0my\u001b[0m\u001b[0;34m)\u001b[0m\u001b[0;34m\u001b[0m\u001b[0m\n",
      "\u001b[0;32m~/anaconda2/envs/ds-book/lib/python3.6/site-packages/fastai/structured.py\u001b[0m in \u001b[0;36mproc_df\u001b[0;34m(df, y_fld, skip_flds, ignore_flds, do_scale, na_dict, preproc_fn, max_n_cat, subset, mapper)\u001b[0m\n\u001b[1;32m    422\u001b[0m     \u001b[0;32mif\u001b[0m \u001b[0;32mnot\u001b[0m \u001b[0mskip_flds\u001b[0m\u001b[0;34m:\u001b[0m \u001b[0mskip_flds\u001b[0m\u001b[0;34m=\u001b[0m\u001b[0;34m[\u001b[0m\u001b[0;34m]\u001b[0m\u001b[0;34m\u001b[0m\u001b[0m\n\u001b[1;32m    423\u001b[0m     \u001b[0;32mif\u001b[0m \u001b[0msubset\u001b[0m\u001b[0;34m:\u001b[0m \u001b[0mdf\u001b[0m \u001b[0;34m=\u001b[0m \u001b[0mget_sample\u001b[0m\u001b[0;34m(\u001b[0m\u001b[0mdf\u001b[0m\u001b[0;34m,\u001b[0m\u001b[0msubset\u001b[0m\u001b[0;34m)\u001b[0m\u001b[0;34m\u001b[0m\u001b[0m\n\u001b[0;32m--> 424\u001b[0;31m     \u001b[0mignored_flds\u001b[0m \u001b[0;34m=\u001b[0m \u001b[0mdf\u001b[0m\u001b[0;34m.\u001b[0m\u001b[0mloc\u001b[0m\u001b[0;34m[\u001b[0m\u001b[0;34m:\u001b[0m\u001b[0;34m,\u001b[0m \u001b[0mignore_flds\u001b[0m\u001b[0;34m]\u001b[0m\u001b[0;34m\u001b[0m\u001b[0m\n\u001b[0m\u001b[1;32m    425\u001b[0m     \u001b[0mdf\u001b[0m\u001b[0;34m.\u001b[0m\u001b[0mdrop\u001b[0m\u001b[0;34m(\u001b[0m\u001b[0mignore_flds\u001b[0m\u001b[0;34m,\u001b[0m \u001b[0maxis\u001b[0m\u001b[0;34m=\u001b[0m\u001b[0;36m1\u001b[0m\u001b[0;34m,\u001b[0m \u001b[0minplace\u001b[0m\u001b[0;34m=\u001b[0m\u001b[0;32mTrue\u001b[0m\u001b[0;34m)\u001b[0m\u001b[0;34m\u001b[0m\u001b[0m\n\u001b[1;32m    426\u001b[0m     \u001b[0mdf\u001b[0m \u001b[0;34m=\u001b[0m \u001b[0mdf\u001b[0m\u001b[0;34m.\u001b[0m\u001b[0mcopy\u001b[0m\u001b[0;34m(\u001b[0m\u001b[0;34m)\u001b[0m\u001b[0;34m\u001b[0m\u001b[0m\n",
      "\u001b[0;31mAttributeError\u001b[0m: 'int' object has no attribute 'loc'"
     ]
    }
   ],
   "source": [
    "df, y, nas, mapper = proc_df(train_n_val_samp, 'Category', do_scale=True)\n",
    "yl = np.log(y)"
   ]
  },
  {
   "cell_type": "code",
   "execution_count": 277,
   "metadata": {},
   "outputs": [],
   "source": [
    "test = test.set_index(\"Dates\")"
   ]
  },
  {
   "cell_type": "code",
   "execution_count": 281,
   "metadata": {},
   "outputs": [
    {
     "data": {
      "text/plain": [
       "Address                      category\n",
       "PdDistrict                   category\n",
       "DatesYear                    category\n",
       "DatesMonth                   category\n",
       "DatesWeek                    category\n",
       "DatesDayofweek               category\n",
       "DatesDayofyear               category\n",
       "DatesIs_month_end            category\n",
       "DatesIs_month_start          category\n",
       "DatesIs_quarter_end          category\n",
       "DatesIs_quarter_start        category\n",
       "DatesIs_year_end             category\n",
       "DatesIs_year_start           category\n",
       "DatesHour                    category\n",
       "DatesMinute                  category\n",
       "DatesSecond                  category\n",
       "DatesElapsed                 category\n",
       "YearMonth                    category\n",
       "add_contains_intersection    category\n",
       "add_contains_block           category\n",
       "add_part1                    category\n",
       "add_part2                    category\n",
       "add_part1_type               category\n",
       "X                             float32\n",
       "Y                             float32\n",
       "xy_scaled_1                   float32\n",
       "xy_scaled_2                   float32\n",
       "xy_pca_1                      float32\n",
       "xy_pca_2                      float32\n",
       "xy_x_rotate_30                float32\n",
       "xy_x_rotate_45                float32\n",
       "xy_x_rotate_60                float32\n",
       "xy_y_rotate_30                float32\n",
       "xy_y_rotate_45                float32\n",
       "xy_y_rotate_60                float32\n",
       "xy_radial_r                   float32\n",
       "xy_radial_phi                 float32\n",
       "Category                        int64\n",
       "dtype: object"
      ]
     },
     "execution_count": 281,
     "metadata": {},
     "output_type": "execute_result"
    }
   ],
   "source": [
    "test.dtypes"
   ]
  },
  {
   "cell_type": "code",
   "execution_count": 282,
   "metadata": {},
   "outputs": [],
   "source": [
    "df_test, _, nas, mapper = proc_df(test, 'Category', do_scale=True, mapper=mapper, na_dict=nas)"
   ]
  },
  {
   "cell_type": "code",
   "execution_count": 283,
   "metadata": {},
   "outputs": [
    {
     "data": {
      "text/plain": [
       "(78049,\n",
       " array([602306,   5883,  77934, 476362, 569756,  38180, 809334,   2530, 789438, 143724, 488372, 532982,\n",
       "        376666,  96580, 459738, 328065, 172128, 107941, 866471,  97761], dtype=int32))"
      ]
     },
     "execution_count": 283,
     "metadata": {},
     "output_type": "execute_result"
    }
   ],
   "source": [
    "val_idx = np.random.randint(low=1,high=878048,size=78049,dtype='i')\n",
    "len(val_idx),val_idx[50:70]"
   ]
  },
  {
   "cell_type": "markdown",
   "metadata": {},
   "source": [
    "1 - List the categorical and continuous variables.<br>\n",
    "2 - Create val_idx<br>\n",
    "3 - Create model data by called ColumnarData.from_data_frame with arguments PATH (to the outputing model details), df, y, val_idx, <br>\n",
    "(scale somewhere along the way)<br>\n",
    "4 - Define the dimensions of embedding matrices for each categorical variable <br>\n",
    "5 - Call learner <br>\n",
    "6 - Call m.fit <br>"
   ]
  },
  {
   "cell_type": "code",
   "execution_count": 285,
   "metadata": {},
   "outputs": [],
   "source": [
    "def inv_y(a): return np.exp(a)\n",
    "\n",
    "def exp_rmspe(y_pred, targ):\n",
    "    targ = inv_y(targ)\n",
    "    pct_var = (targ - inv_y(y_pred))/targ\n",
    "    return math.sqrt((pct_var**2).mean())\n",
    "\n",
    "max_log_y = np.max(yl)\n",
    "y_range = (0, max_log_y*1.2)"
   ]
  },
  {
   "cell_type": "code",
   "execution_count": 309,
   "metadata": {},
   "outputs": [],
   "source": [
    "md = ColumnarModelData.from_data_frame(PATH, val_idx, df, yl.astype(np.float32), cat_flds=cat_vars, bs=128)"
   ]
  },
  {
   "cell_type": "code",
   "execution_count": 310,
   "metadata": {},
   "outputs": [
    {
     "data": {
      "text/plain": [
       "[('Address', 23229),\n",
       " ('PdDistrict', 11),\n",
       " ('DatesYear', 14),\n",
       " ('DatesMonth', 13),\n",
       " ('DatesWeek', 27),\n",
       " ('DatesDayofweek', 8),\n",
       " ('DatesDayofyear', 339),\n",
       " ('DatesIs_month_end', 3),\n",
       " ('DatesIs_month_start', 3),\n",
       " ('DatesIs_quarter_end', 3),\n",
       " ('DatesIs_quarter_start', 3),\n",
       " ('DatesIs_year_end', 3),\n",
       " ('DatesIs_year_start', 3),\n",
       " ('DatesHour', 25),\n",
       " ('DatesMinute', 61),\n",
       " ('DatesSecond', 2),\n",
       " ('DatesElapsed', 389258),\n",
       " ('YearMonth', 150),\n",
       " ('add_contains_intersection', 3),\n",
       " ('add_contains_block', 3),\n",
       " ('add_part1', 12553),\n",
       " ('add_part2', 1695),\n",
       " ('add_part1_type', 26)]"
      ]
     },
     "execution_count": 310,
     "metadata": {},
     "output_type": "execute_result"
    }
   ],
   "source": [
    "cat_sz = [(c, len(train_n_val_samp[c].cat.categories)+1) for c in cat_vars]\n",
    "cat_sz"
   ]
  },
  {
   "cell_type": "code",
   "execution_count": 311,
   "metadata": {},
   "outputs": [
    {
     "data": {
      "text/plain": [
       "[(23229, 50),\n",
       " (11, 6),\n",
       " (14, 7),\n",
       " (13, 7),\n",
       " (27, 14),\n",
       " (8, 4),\n",
       " (339, 50),\n",
       " (3, 2),\n",
       " (3, 2),\n",
       " (3, 2),\n",
       " (3, 2),\n",
       " (3, 2),\n",
       " (3, 2),\n",
       " (25, 13),\n",
       " (61, 31),\n",
       " (2, 1),\n",
       " (389258, 50),\n",
       " (150, 50),\n",
       " (3, 2),\n",
       " (3, 2),\n",
       " (12553, 50),\n",
       " (1695, 50),\n",
       " (26, 13)]"
      ]
     },
     "execution_count": 311,
     "metadata": {},
     "output_type": "execute_result"
    }
   ],
   "source": [
    "emb_szs = [(c, min(50, (c+1)//2)) for _,c in cat_sz]\n",
    "emb_szs"
   ]
  },
  {
   "cell_type": "code",
   "execution_count": 312,
   "metadata": {},
   "outputs": [],
   "source": [
    "m = md.get_learner(emb_szs, len(df.columns)-len(cat_vars),\n",
    "                   0.04, 1, [1000,500], [0.001,0.01], y_range=y_range)\n",
    "lr = 1e-3"
   ]
  },
  {
   "cell_type": "code",
   "execution_count": 320,
   "metadata": {},
   "outputs": [],
   "source": [
    "lr = 1e-2"
   ]
  },
  {
   "cell_type": "code",
   "execution_count": 321,
   "metadata": {},
   "outputs": [
    {
     "data": {
      "application/vnd.jupyter.widget-view+json": {
       "model_id": "650f394462844497827b067a4b99db03",
       "version_major": 2,
       "version_minor": 0
      },
      "text/plain": [
       "HBox(children=(IntProgress(value=0, description='Epoch', max=1), HTML(value='')))"
      ]
     },
     "metadata": {},
     "output_type": "display_data"
    },
    {
     "name": "stdout",
     "output_type": "stream",
     "text": [
      "                                                  \r"
     ]
    }
   ],
   "source": [
    "m.lr_find()"
   ]
  },
  {
   "cell_type": "code",
   "execution_count": 317,
   "metadata": {},
   "outputs": [
    {
     "data": {
      "image/png": "[encoded data removed]",
      "text/plain": [
       "<Figure size 432x288 with 1 Axes>"
      ]
     },
     "metadata": {},
     "output_type": "display_data"
    }
   ],
   "source": [
    "m.sched.plot(100)"
   ]
  },
  {
   "cell_type": "code",
   "execution_count": 322,
   "metadata": {},
   "outputs": [
    {
     "data": {
      "application/vnd.jupyter.widget-view+json": {
       "model_id": "c08022486a834906991aa728de088919",
       "version_major": 2,
       "version_minor": 0
      },
      "text/plain": [
       "HBox(children=(IntProgress(value=0, description='Epoch', max=3), HTML(value='')))"
      ]
     },
     "metadata": {},
     "output_type": "display_data"
    },
    {
     "name": "stdout",
     "output_type": "stream",
     "text": [
      "  4%|▍         | 257/6277 [01:13<28:32,  3.51it/s, loss=nan]"
     ]
    },
    {
     "ename": "KeyboardInterrupt",
     "evalue": "",
     "output_type": "error",
     "traceback": [
      "\u001b[0;31m---------------------------------------------------------------------------\u001b[0m",
      "\u001b[0;31mKeyboardInterrupt\u001b[0m                         Traceback (most recent call last)",
      "\u001b[0;32m<ipython-input-322-8857f3701be9>\u001b[0m in \u001b[0;36m<module>\u001b[0;34m()\u001b[0m\n\u001b[0;32m----> 1\u001b[0;31m \u001b[0mm\u001b[0m\u001b[0;34m.\u001b[0m\u001b[0mfit\u001b[0m\u001b[0;34m(\u001b[0m\u001b[0mlr\u001b[0m\u001b[0;34m,\u001b[0m \u001b[0;36m3\u001b[0m\u001b[0;34m,\u001b[0m \u001b[0mmetrics\u001b[0m\u001b[0;34m=\u001b[0m\u001b[0;34m[\u001b[0m\u001b[0mexp_rmspe\u001b[0m\u001b[0;34m]\u001b[0m\u001b[0;34m)\u001b[0m\u001b[0;34m\u001b[0m\u001b[0m\n\u001b[0m",
      "\u001b[0;32m~/anaconda2/envs/ds-book/lib/python3.6/site-packages/fastai/learner.py\u001b[0m in \u001b[0;36mfit\u001b[0;34m(self, lrs, n_cycle, wds, **kwargs)\u001b[0m\n\u001b[1;32m    285\u001b[0m         \u001b[0mself\u001b[0m\u001b[0;34m.\u001b[0m\u001b[0msched\u001b[0m \u001b[0;34m=\u001b[0m \u001b[0;32mNone\u001b[0m\u001b[0;34m\u001b[0m\u001b[0m\n\u001b[1;32m    286\u001b[0m         \u001b[0mlayer_opt\u001b[0m \u001b[0;34m=\u001b[0m \u001b[0mself\u001b[0m\u001b[0;34m.\u001b[0m\u001b[0mget_layer_opt\u001b[0m\u001b[0;34m(\u001b[0m\u001b[0mlrs\u001b[0m\u001b[0;34m,\u001b[0m \u001b[0mwds\u001b[0m\u001b[0;34m)\u001b[0m\u001b[0;34m\u001b[0m\u001b[0m\n\u001b[0;32m--> 287\u001b[0;31m         \u001b[0;32mreturn\u001b[0m \u001b[0mself\u001b[0m\u001b[0;34m.\u001b[0m\u001b[0mfit_gen\u001b[0m\u001b[0;34m(\u001b[0m\u001b[0mself\u001b[0m\u001b[0;34m.\u001b[0m\u001b[0mmodel\u001b[0m\u001b[0;34m,\u001b[0m \u001b[0mself\u001b[0m\u001b[0;34m.\u001b[0m\u001b[0mdata\u001b[0m\u001b[0;34m,\u001b[0m \u001b[0mlayer_opt\u001b[0m\u001b[0;34m,\u001b[0m \u001b[0mn_cycle\u001b[0m\u001b[0;34m,\u001b[0m \u001b[0;34m**\u001b[0m\u001b[0mkwargs\u001b[0m\u001b[0;34m)\u001b[0m\u001b[0;34m\u001b[0m\u001b[0m\n\u001b[0m\u001b[1;32m    288\u001b[0m \u001b[0;34m\u001b[0m\u001b[0m\n\u001b[1;32m    289\u001b[0m     \u001b[0;32mdef\u001b[0m \u001b[0mwarm_up\u001b[0m\u001b[0;34m(\u001b[0m\u001b[0mself\u001b[0m\u001b[0;34m,\u001b[0m \u001b[0mlr\u001b[0m\u001b[0;34m,\u001b[0m \u001b[0mwds\u001b[0m\u001b[0;34m=\u001b[0m\u001b[0;32mNone\u001b[0m\u001b[0;34m)\u001b[0m\u001b[0;34m:\u001b[0m\u001b[0;34m\u001b[0m\u001b[0m\n",
      "\u001b[0;32m~/anaconda2/envs/ds-book/lib/python3.6/site-packages/fastai/learner.py\u001b[0m in \u001b[0;36mfit_gen\u001b[0;34m(self, model, data, layer_opt, n_cycle, cycle_len, cycle_mult, cycle_save_name, best_save_name, use_clr, use_clr_beta, metrics, callbacks, use_wd_sched, norm_wds, wds_sched_mult, use_swa, swa_start, swa_eval_freq, **kwargs)\u001b[0m\n\u001b[1;32m    232\u001b[0m             \u001b[0mmetrics\u001b[0m\u001b[0;34m=\u001b[0m\u001b[0mmetrics\u001b[0m\u001b[0;34m,\u001b[0m \u001b[0mcallbacks\u001b[0m\u001b[0;34m=\u001b[0m\u001b[0mcallbacks\u001b[0m\u001b[0;34m,\u001b[0m \u001b[0mreg_fn\u001b[0m\u001b[0;34m=\u001b[0m\u001b[0mself\u001b[0m\u001b[0;34m.\u001b[0m\u001b[0mreg_fn\u001b[0m\u001b[0;34m,\u001b[0m \u001b[0mclip\u001b[0m\u001b[0;34m=\u001b[0m\u001b[0mself\u001b[0m\u001b[0;34m.\u001b[0m\u001b[0mclip\u001b[0m\u001b[0;34m,\u001b[0m \u001b[0mfp16\u001b[0m\u001b[0;34m=\u001b[0m\u001b[0mself\u001b[0m\u001b[0;34m.\u001b[0m\u001b[0mfp16\u001b[0m\u001b[0;34m,\u001b[0m\u001b[0;34m\u001b[0m\u001b[0m\n\u001b[1;32m    233\u001b[0m             \u001b[0mswa_model\u001b[0m\u001b[0;34m=\u001b[0m\u001b[0mself\u001b[0m\u001b[0;34m.\u001b[0m\u001b[0mswa_model\u001b[0m \u001b[0;32mif\u001b[0m \u001b[0muse_swa\u001b[0m \u001b[0;32melse\u001b[0m \u001b[0;32mNone\u001b[0m\u001b[0;34m,\u001b[0m \u001b[0mswa_start\u001b[0m\u001b[0;34m=\u001b[0m\u001b[0mswa_start\u001b[0m\u001b[0;34m,\u001b[0m\u001b[0;34m\u001b[0m\u001b[0m\n\u001b[0;32m--> 234\u001b[0;31m             swa_eval_freq=swa_eval_freq, **kwargs)\n\u001b[0m\u001b[1;32m    235\u001b[0m \u001b[0;34m\u001b[0m\u001b[0m\n\u001b[1;32m    236\u001b[0m     \u001b[0;32mdef\u001b[0m \u001b[0mget_layer_groups\u001b[0m\u001b[0;34m(\u001b[0m\u001b[0mself\u001b[0m\u001b[0;34m)\u001b[0m\u001b[0;34m:\u001b[0m \u001b[0;32mreturn\u001b[0m \u001b[0mself\u001b[0m\u001b[0;34m.\u001b[0m\u001b[0mmodels\u001b[0m\u001b[0;34m.\u001b[0m\u001b[0mget_layer_groups\u001b[0m\u001b[0;34m(\u001b[0m\u001b[0;34m)\u001b[0m\u001b[0;34m\u001b[0m\u001b[0m\n",
      "\u001b[0;32m~/anaconda2/envs/ds-book/lib/python3.6/site-packages/fastai/model.py\u001b[0m in \u001b[0;36mfit\u001b[0;34m(model, data, n_epochs, opt, crit, metrics, callbacks, stepper, swa_model, swa_start, swa_eval_freq, **kwargs)\u001b[0m\n\u001b[1;32m    127\u001b[0m             \u001b[0mbatch_num\u001b[0m \u001b[0;34m+=\u001b[0m \u001b[0;36m1\u001b[0m\u001b[0;34m\u001b[0m\u001b[0m\n\u001b[1;32m    128\u001b[0m             \u001b[0;32mfor\u001b[0m \u001b[0mcb\u001b[0m \u001b[0;32min\u001b[0m \u001b[0mcallbacks\u001b[0m\u001b[0;34m:\u001b[0m \u001b[0mcb\u001b[0m\u001b[0;34m.\u001b[0m\u001b[0mon_batch_begin\u001b[0m\u001b[0;34m(\u001b[0m\u001b[0;34m)\u001b[0m\u001b[0;34m\u001b[0m\u001b[0m\n\u001b[0;32m--> 129\u001b[0;31m             \u001b[0mloss\u001b[0m \u001b[0;34m=\u001b[0m \u001b[0mmodel_stepper\u001b[0m\u001b[0;34m.\u001b[0m\u001b[0mstep\u001b[0m\u001b[0;34m(\u001b[0m\u001b[0mV\u001b[0m\u001b[0;34m(\u001b[0m\u001b[0mx\u001b[0m\u001b[0;34m)\u001b[0m\u001b[0;34m,\u001b[0m\u001b[0mV\u001b[0m\u001b[0;34m(\u001b[0m\u001b[0my\u001b[0m\u001b[0;34m)\u001b[0m\u001b[0;34m,\u001b[0m \u001b[0mepoch\u001b[0m\u001b[0;34m)\u001b[0m\u001b[0;34m\u001b[0m\u001b[0m\n\u001b[0m\u001b[1;32m    130\u001b[0m             \u001b[0mavg_loss\u001b[0m \u001b[0;34m=\u001b[0m \u001b[0mavg_loss\u001b[0m \u001b[0;34m*\u001b[0m \u001b[0mavg_mom\u001b[0m \u001b[0;34m+\u001b[0m \u001b[0mloss\u001b[0m \u001b[0;34m*\u001b[0m \u001b[0;34m(\u001b[0m\u001b[0;36m1\u001b[0m\u001b[0;34m-\u001b[0m\u001b[0mavg_mom\u001b[0m\u001b[0;34m)\u001b[0m\u001b[0;34m\u001b[0m\u001b[0m\n\u001b[1;32m    131\u001b[0m             \u001b[0mdebias_loss\u001b[0m \u001b[0;34m=\u001b[0m \u001b[0mavg_loss\u001b[0m \u001b[0;34m/\u001b[0m \u001b[0;34m(\u001b[0m\u001b[0;36m1\u001b[0m \u001b[0;34m-\u001b[0m \u001b[0mavg_mom\u001b[0m\u001b[0;34m**\u001b[0m\u001b[0mbatch_num\u001b[0m\u001b[0;34m)\u001b[0m\u001b[0;34m\u001b[0m\u001b[0m\n",
      "\u001b[0;32m~/anaconda2/envs/ds-book/lib/python3.6/site-packages/fastai/model.py\u001b[0m in \u001b[0;36mstep\u001b[0;34m(self, xs, y, epoch)\u001b[0m\n\u001b[1;32m     59\u001b[0m         \u001b[0;32mif\u001b[0m \u001b[0mself\u001b[0m\u001b[0;34m.\u001b[0m\u001b[0mclip\u001b[0m\u001b[0;34m:\u001b[0m   \u001b[0;31m# Gradient clipping\u001b[0m\u001b[0;34m\u001b[0m\u001b[0m\n\u001b[1;32m     60\u001b[0m             \u001b[0mnn\u001b[0m\u001b[0;34m.\u001b[0m\u001b[0mutils\u001b[0m\u001b[0;34m.\u001b[0m\u001b[0mclip_grad_norm\u001b[0m\u001b[0;34m(\u001b[0m\u001b[0mtrainable_params_\u001b[0m\u001b[0;34m(\u001b[0m\u001b[0mself\u001b[0m\u001b[0;34m.\u001b[0m\u001b[0mm\u001b[0m\u001b[0;34m)\u001b[0m\u001b[0;34m,\u001b[0m \u001b[0mself\u001b[0m\u001b[0;34m.\u001b[0m\u001b[0mclip\u001b[0m\u001b[0;34m)\u001b[0m\u001b[0;34m\u001b[0m\u001b[0m\n\u001b[0;32m---> 61\u001b[0;31m         \u001b[0mself\u001b[0m\u001b[0;34m.\u001b[0m\u001b[0mopt\u001b[0m\u001b[0;34m.\u001b[0m\u001b[0mstep\u001b[0m\u001b[0;34m(\u001b[0m\u001b[0;34m)\u001b[0m\u001b[0;34m\u001b[0m\u001b[0m\n\u001b[0m\u001b[1;32m     62\u001b[0m         \u001b[0;32mif\u001b[0m \u001b[0mself\u001b[0m\u001b[0;34m.\u001b[0m\u001b[0mfp16\u001b[0m\u001b[0;34m:\u001b[0m\u001b[0;34m\u001b[0m\u001b[0m\n\u001b[1;32m     63\u001b[0m             \u001b[0mcopy_fp32_to_model\u001b[0m\u001b[0;34m(\u001b[0m\u001b[0mself\u001b[0m\u001b[0;34m.\u001b[0m\u001b[0mm\u001b[0m\u001b[0;34m,\u001b[0m \u001b[0mself\u001b[0m\u001b[0;34m.\u001b[0m\u001b[0mfp32_params\u001b[0m\u001b[0;34m)\u001b[0m\u001b[0;34m\u001b[0m\u001b[0m\n",
      "\u001b[0;32m~/anaconda2/envs/ds-book/lib/python3.6/site-packages/torch/optim/adam.py\u001b[0m in \u001b[0;36mstep\u001b[0;34m(self, closure)\u001b[0m\n\u001b[1;32m     70\u001b[0m                 \u001b[0mexp_avg_sq\u001b[0m\u001b[0;34m.\u001b[0m\u001b[0mmul_\u001b[0m\u001b[0;34m(\u001b[0m\u001b[0mbeta2\u001b[0m\u001b[0;34m)\u001b[0m\u001b[0;34m.\u001b[0m\u001b[0maddcmul_\u001b[0m\u001b[0;34m(\u001b[0m\u001b[0;36m1\u001b[0m \u001b[0;34m-\u001b[0m \u001b[0mbeta2\u001b[0m\u001b[0;34m,\u001b[0m \u001b[0mgrad\u001b[0m\u001b[0;34m,\u001b[0m \u001b[0mgrad\u001b[0m\u001b[0;34m)\u001b[0m\u001b[0;34m\u001b[0m\u001b[0m\n\u001b[1;32m     71\u001b[0m \u001b[0;34m\u001b[0m\u001b[0m\n\u001b[0;32m---> 72\u001b[0;31m                 \u001b[0mdenom\u001b[0m \u001b[0;34m=\u001b[0m \u001b[0mexp_avg_sq\u001b[0m\u001b[0;34m.\u001b[0m\u001b[0msqrt\u001b[0m\u001b[0;34m(\u001b[0m\u001b[0;34m)\u001b[0m\u001b[0;34m.\u001b[0m\u001b[0madd_\u001b[0m\u001b[0;34m(\u001b[0m\u001b[0mgroup\u001b[0m\u001b[0;34m[\u001b[0m\u001b[0;34m'eps'\u001b[0m\u001b[0;34m]\u001b[0m\u001b[0;34m)\u001b[0m\u001b[0;34m\u001b[0m\u001b[0m\n\u001b[0m\u001b[1;32m     73\u001b[0m \u001b[0;34m\u001b[0m\u001b[0m\n\u001b[1;32m     74\u001b[0m                 \u001b[0mbias_correction1\u001b[0m \u001b[0;34m=\u001b[0m \u001b[0;36m1\u001b[0m \u001b[0;34m-\u001b[0m \u001b[0mbeta1\u001b[0m \u001b[0;34m**\u001b[0m \u001b[0mstate\u001b[0m\u001b[0;34m[\u001b[0m\u001b[0;34m'step'\u001b[0m\u001b[0;34m]\u001b[0m\u001b[0;34m\u001b[0m\u001b[0m\n",
      "\u001b[0;31mKeyboardInterrupt\u001b[0m: "
     ]
    }
   ],
   "source": [
    "m.fit(lr, 3, metrics=[exp_rmspe])"
   ]
  },
  {
   "cell_type": "code",
   "execution_count": 51,
   "metadata": {},
   "outputs": [
    {
     "data": {
      "text/plain": [
       "((803492, 8), (803492, 49), (78000, 8), (78000, 49), 803492, 78000)"
      ]
     },
     "execution_count": 51,
     "metadata": {},
     "output_type": "execute_result"
    }
   ],
   "source": [
    "# Creating training and validation dataset from train\n",
    "train_x = train_and_val_x.drop(train_and_val_x.index[val_idx], inplace=False)\n",
    "val_x   = train_and_val_x.iloc[val_idx,]\n",
    "train_y = np.delete(train_and_val_y, val_idx)\n",
    "val_y   = train_and_val_y[val_idx]\n",
    "\n",
    "train_train = train.drop(train.index[val_idx], inplace=False) # Contains y\n",
    "train_val   = train.iloc[val_idx,] # Contains y\n",
    "\n",
    "train_train.shape, train_x.shape, train_val.shape, val_x.shape, len(train_y), len(val_y)"
   ]
  },
  {
   "cell_type": "code",
   "execution_count": null,
   "metadata": {},
   "outputs": [],
   "source": []
  },
  {
   "cell_type": "code",
   "execution_count": 52,
   "metadata": {},
   "outputs": [
    {
     "data": {
      "text/html": [
       "<div>\n",
       "<style scoped>\n",
       "    .dataframe tbody tr th:only-of-type {\n",
       "        vertical-align: middle;\n",
       "    }\n",
       "\n",
       "    .dataframe tbody tr th {\n",
       "        vertical-align: top;\n",
       "    }\n",
       "\n",
       "    .dataframe thead th {\n",
       "        text-align: right;\n",
       "    }\n",
       "</style>\n",
       "<table border=\"1\" class=\"dataframe\">\n",
       "  <thead>\n",
       "    <tr style=\"text-align: right;\">\n",
       "      <th></th>\n",
       "      <th>Address</th>\n",
       "      <th>DayOfWeek</th>\n",
       "      <th>X</th>\n",
       "      <th>Y</th>\n",
       "      <th>is_train</th>\n",
       "      <th>DatesYear</th>\n",
       "      <th>DatesMonth</th>\n",
       "      <th>DatesWeek</th>\n",
       "      <th>DatesDay</th>\n",
       "      <th>DatesDayofweek</th>\n",
       "      <th>...</th>\n",
       "      <th>BAYVIEW</th>\n",
       "      <th>CENTRAL</th>\n",
       "      <th>INGLESIDE</th>\n",
       "      <th>MISSION</th>\n",
       "      <th>NORTHERN</th>\n",
       "      <th>PARK</th>\n",
       "      <th>RICHMOND</th>\n",
       "      <th>SOUTHERN</th>\n",
       "      <th>TARAVAL</th>\n",
       "      <th>TENDERLOIN</th>\n",
       "    </tr>\n",
       "  </thead>\n",
       "  <tbody>\n",
       "    <tr>\n",
       "      <th>878044</th>\n",
       "      <td>16537</td>\n",
       "      <td>2</td>\n",
       "      <td>-122.459033</td>\n",
       "      <td>37.714056</td>\n",
       "      <td>1</td>\n",
       "      <td>2003</td>\n",
       "      <td>1</td>\n",
       "      <td>2</td>\n",
       "      <td>6</td>\n",
       "      <td>0</td>\n",
       "      <td>...</td>\n",
       "      <td>0</td>\n",
       "      <td>0</td>\n",
       "      <td>0</td>\n",
       "      <td>0</td>\n",
       "      <td>0</td>\n",
       "      <td>0</td>\n",
       "      <td>0</td>\n",
       "      <td>0</td>\n",
       "      <td>1</td>\n",
       "      <td>0</td>\n",
       "    </tr>\n",
       "    <tr>\n",
       "      <th>878045</th>\n",
       "      <td>11841</td>\n",
       "      <td>2</td>\n",
       "      <td>-122.447364</td>\n",
       "      <td>37.731948</td>\n",
       "      <td>1</td>\n",
       "      <td>2003</td>\n",
       "      <td>1</td>\n",
       "      <td>2</td>\n",
       "      <td>6</td>\n",
       "      <td>0</td>\n",
       "      <td>...</td>\n",
       "      <td>0</td>\n",
       "      <td>0</td>\n",
       "      <td>1</td>\n",
       "      <td>0</td>\n",
       "      <td>0</td>\n",
       "      <td>0</td>\n",
       "      <td>0</td>\n",
       "      <td>0</td>\n",
       "      <td>0</td>\n",
       "      <td>0</td>\n",
       "    </tr>\n",
       "    <tr>\n",
       "      <th>878046</th>\n",
       "      <td>11663</td>\n",
       "      <td>2</td>\n",
       "      <td>-122.403390</td>\n",
       "      <td>37.780266</td>\n",
       "      <td>1</td>\n",
       "      <td>2003</td>\n",
       "      <td>1</td>\n",
       "      <td>2</td>\n",
       "      <td>6</td>\n",
       "      <td>0</td>\n",
       "      <td>...</td>\n",
       "      <td>0</td>\n",
       "      <td>0</td>\n",
       "      <td>0</td>\n",
       "      <td>0</td>\n",
       "      <td>0</td>\n",
       "      <td>0</td>\n",
       "      <td>0</td>\n",
       "      <td>1</td>\n",
       "      <td>0</td>\n",
       "      <td>0</td>\n",
       "    </tr>\n",
       "    <tr>\n",
       "      <th>878047</th>\n",
       "      <td>23739</td>\n",
       "      <td>2</td>\n",
       "      <td>-122.390531</td>\n",
       "      <td>37.780607</td>\n",
       "      <td>1</td>\n",
       "      <td>2003</td>\n",
       "      <td>1</td>\n",
       "      <td>2</td>\n",
       "      <td>6</td>\n",
       "      <td>0</td>\n",
       "      <td>...</td>\n",
       "      <td>0</td>\n",
       "      <td>0</td>\n",
       "      <td>0</td>\n",
       "      <td>0</td>\n",
       "      <td>0</td>\n",
       "      <td>0</td>\n",
       "      <td>0</td>\n",
       "      <td>1</td>\n",
       "      <td>0</td>\n",
       "      <td>0</td>\n",
       "    </tr>\n",
       "    <tr>\n",
       "      <th>878048</th>\n",
       "      <td>5301</td>\n",
       "      <td>2</td>\n",
       "      <td>-122.394926</td>\n",
       "      <td>37.738212</td>\n",
       "      <td>1</td>\n",
       "      <td>2003</td>\n",
       "      <td>1</td>\n",
       "      <td>2</td>\n",
       "      <td>6</td>\n",
       "      <td>0</td>\n",
       "      <td>...</td>\n",
       "      <td>1</td>\n",
       "      <td>0</td>\n",
       "      <td>0</td>\n",
       "      <td>0</td>\n",
       "      <td>0</td>\n",
       "      <td>0</td>\n",
       "      <td>0</td>\n",
       "      <td>0</td>\n",
       "      <td>0</td>\n",
       "      <td>0</td>\n",
       "    </tr>\n",
       "  </tbody>\n",
       "</table>\n",
       "<p>5 rows × 49 columns</p>\n",
       "</div>"
      ],
      "text/plain": [
       "        Address  DayOfWeek           X          Y  is_train  DatesYear  \\\n",
       "878044    16537          2 -122.459033  37.714056         1       2003   \n",
       "878045    11841          2 -122.447364  37.731948         1       2003   \n",
       "878046    11663          2 -122.403390  37.780266         1       2003   \n",
       "878047    23739          2 -122.390531  37.780607         1       2003   \n",
       "878048     5301          2 -122.394926  37.738212         1       2003   \n",
       "\n",
       "        DatesMonth  DatesWeek  DatesDay  DatesDayofweek     ...      BAYVIEW  \\\n",
       "878044           1          2         6               0     ...            0   \n",
       "878045           1          2         6               0     ...            0   \n",
       "878046           1          2         6               0     ...            0   \n",
       "878047           1          2         6               0     ...            0   \n",
       "878048           1          2         6               0     ...            1   \n",
       "\n",
       "        CENTRAL  INGLESIDE  MISSION  NORTHERN  PARK  RICHMOND  SOUTHERN  \\\n",
       "878044        0          0        0         0     0         0         0   \n",
       "878045        0          1        0         0     0         0         0   \n",
       "878046        0          0        0         0     0         0         1   \n",
       "878047        0          0        0         0     0         0         1   \n",
       "878048        0          0        0         0     0         0         0   \n",
       "\n",
       "        TARAVAL  TENDERLOIN  \n",
       "878044        1           0  \n",
       "878045        0           0  \n",
       "878046        0           0  \n",
       "878047        0           0  \n",
       "878048        0           0  \n",
       "\n",
       "[5 rows x 49 columns]"
      ]
     },
     "execution_count": 52,
     "metadata": {},
     "output_type": "execute_result"
    }
   ],
   "source": [
    "train_x.tail()"
   ]
  },
  {
   "cell_type": "code",
   "execution_count": 53,
   "metadata": {},
   "outputs": [
    {
     "data": {
      "text/plain": [
       "(array([21, 21, 16, 16, 36, 36, 16, 16, 16, 35, 20, 20, 25,  1, 21, 20, 16, 25, 37, 20, 16, 20, 16, 16, 21,\n",
       "        16, 35, 16, 16, 16, 16, 35, 20, 16, 16, 21, 36, 20,  4, 16, 16, 32, 16, 16, 16, 36, 36,  8, 32],\n",
       "       dtype=int8),\n",
       " array([ 0,  1,  2,  3,  4,  5,  6,  7,  8,  9, 10, 11, 12, 13, 14, 15, 16, 17, 18, 19, 20, 21, 22, 23, 24,\n",
       "        25, 26, 27, 28, 29, 30, 31, 32, 33, 34, 35, 36, 37, 38], dtype=int8),\n",
       " array([21, 23, 21, 16, 21,  4, 21, 13, 16, 16, 16, 21, 37,  7, 16, 16,  1, 35, 24, 25, 35,  7, 36, 21, 16,\n",
       "        20,  7, 37, 13, 16, 20, 20, 36, 21, 16, 35,  4, 21, 13, 19, 36, 16, 35, 16, 16, 20, 21, 36, 21],\n",
       "       dtype=int8),\n",
       " array([ 0,  1,  2,  3,  4,  5,  6,  7,  8,  9, 10, 11, 12, 13, 14, 15, 16, 17, 18, 19, 20, 21, 22, 23, 24,\n",
       "        25, 26, 27, 28, 29, 30, 31, 32, 34, 35, 36, 37, 38], dtype=int8))"
      ]
     },
     "execution_count": 53,
     "metadata": {},
     "output_type": "execute_result"
    }
   ],
   "source": [
    "train_y[1:50], np.unique(train_y), val_y[1:50], np.unique(val_y)"
   ]
  },
  {
   "cell_type": "code",
   "execution_count": 54,
   "metadata": {},
   "outputs": [
    {
     "data": {
      "text/plain": [
       "(884262, 49)"
      ]
     },
     "execution_count": 54,
     "metadata": {},
     "output_type": "execute_result"
    }
   ],
   "source": [
    "test_x = pd.DataFrame(x_all[x_all['is_train']==0])\n",
    "test_x.shape"
   ]
  },
  {
   "cell_type": "code",
   "execution_count": 55,
   "metadata": {},
   "outputs": [
    {
     "data": {
      "text/html": [
       "<div>\n",
       "<style scoped>\n",
       "    .dataframe tbody tr th:only-of-type {\n",
       "        vertical-align: middle;\n",
       "    }\n",
       "\n",
       "    .dataframe tbody tr th {\n",
       "        vertical-align: top;\n",
       "    }\n",
       "\n",
       "    .dataframe thead th {\n",
       "        text-align: right;\n",
       "    }\n",
       "</style>\n",
       "<table border=\"1\" class=\"dataframe\">\n",
       "  <thead>\n",
       "    <tr style=\"text-align: right;\">\n",
       "      <th></th>\n",
       "      <th>Address</th>\n",
       "      <th>DayOfWeek</th>\n",
       "      <th>X</th>\n",
       "      <th>Y</th>\n",
       "      <th>is_train</th>\n",
       "      <th>DatesYear</th>\n",
       "      <th>DatesMonth</th>\n",
       "      <th>DatesWeek</th>\n",
       "      <th>DatesDay</th>\n",
       "      <th>DatesDayofweek</th>\n",
       "      <th>...</th>\n",
       "      <th>BAYVIEW</th>\n",
       "      <th>CENTRAL</th>\n",
       "      <th>INGLESIDE</th>\n",
       "      <th>MISSION</th>\n",
       "      <th>NORTHERN</th>\n",
       "      <th>PARK</th>\n",
       "      <th>RICHMOND</th>\n",
       "      <th>SOUTHERN</th>\n",
       "      <th>TARAVAL</th>\n",
       "      <th>TENDERLOIN</th>\n",
       "    </tr>\n",
       "  </thead>\n",
       "  <tbody>\n",
       "    <tr>\n",
       "      <th>1762306</th>\n",
       "      <td>7920</td>\n",
       "      <td>7</td>\n",
       "      <td>-122.408983</td>\n",
       "      <td>37.751987</td>\n",
       "      <td>0</td>\n",
       "      <td>2003</td>\n",
       "      <td>1</td>\n",
       "      <td>1</td>\n",
       "      <td>1</td>\n",
       "      <td>2</td>\n",
       "      <td>...</td>\n",
       "      <td>0</td>\n",
       "      <td>0</td>\n",
       "      <td>0</td>\n",
       "      <td>1</td>\n",
       "      <td>0</td>\n",
       "      <td>0</td>\n",
       "      <td>0</td>\n",
       "      <td>0</td>\n",
       "      <td>0</td>\n",
       "      <td>0</td>\n",
       "    </tr>\n",
       "    <tr>\n",
       "      <th>1762307</th>\n",
       "      <td>5597</td>\n",
       "      <td>7</td>\n",
       "      <td>-122.425342</td>\n",
       "      <td>37.792681</td>\n",
       "      <td>0</td>\n",
       "      <td>2003</td>\n",
       "      <td>1</td>\n",
       "      <td>1</td>\n",
       "      <td>1</td>\n",
       "      <td>2</td>\n",
       "      <td>...</td>\n",
       "      <td>0</td>\n",
       "      <td>0</td>\n",
       "      <td>0</td>\n",
       "      <td>0</td>\n",
       "      <td>1</td>\n",
       "      <td>0</td>\n",
       "      <td>0</td>\n",
       "      <td>0</td>\n",
       "      <td>0</td>\n",
       "      <td>0</td>\n",
       "    </tr>\n",
       "    <tr>\n",
       "      <th>1762308</th>\n",
       "      <td>11613</td>\n",
       "      <td>7</td>\n",
       "      <td>-122.445418</td>\n",
       "      <td>37.712075</td>\n",
       "      <td>0</td>\n",
       "      <td>2003</td>\n",
       "      <td>1</td>\n",
       "      <td>1</td>\n",
       "      <td>1</td>\n",
       "      <td>2</td>\n",
       "      <td>...</td>\n",
       "      <td>0</td>\n",
       "      <td>0</td>\n",
       "      <td>1</td>\n",
       "      <td>0</td>\n",
       "      <td>0</td>\n",
       "      <td>0</td>\n",
       "      <td>0</td>\n",
       "      <td>0</td>\n",
       "      <td>0</td>\n",
       "      <td>0</td>\n",
       "    </tr>\n",
       "    <tr>\n",
       "      <th>1762309</th>\n",
       "      <td>4394</td>\n",
       "      <td>7</td>\n",
       "      <td>-122.387394</td>\n",
       "      <td>37.739479</td>\n",
       "      <td>0</td>\n",
       "      <td>2003</td>\n",
       "      <td>1</td>\n",
       "      <td>1</td>\n",
       "      <td>1</td>\n",
       "      <td>2</td>\n",
       "      <td>...</td>\n",
       "      <td>1</td>\n",
       "      <td>0</td>\n",
       "      <td>0</td>\n",
       "      <td>0</td>\n",
       "      <td>0</td>\n",
       "      <td>0</td>\n",
       "      <td>0</td>\n",
       "      <td>0</td>\n",
       "      <td>0</td>\n",
       "      <td>0</td>\n",
       "    </tr>\n",
       "    <tr>\n",
       "      <th>1762310</th>\n",
       "      <td>4477</td>\n",
       "      <td>7</td>\n",
       "      <td>-122.489714</td>\n",
       "      <td>37.733950</td>\n",
       "      <td>0</td>\n",
       "      <td>2003</td>\n",
       "      <td>1</td>\n",
       "      <td>1</td>\n",
       "      <td>1</td>\n",
       "      <td>2</td>\n",
       "      <td>...</td>\n",
       "      <td>0</td>\n",
       "      <td>0</td>\n",
       "      <td>0</td>\n",
       "      <td>0</td>\n",
       "      <td>0</td>\n",
       "      <td>0</td>\n",
       "      <td>0</td>\n",
       "      <td>0</td>\n",
       "      <td>1</td>\n",
       "      <td>0</td>\n",
       "    </tr>\n",
       "  </tbody>\n",
       "</table>\n",
       "<p>5 rows × 49 columns</p>\n",
       "</div>"
      ],
      "text/plain": [
       "         Address  DayOfWeek           X          Y  is_train  DatesYear  \\\n",
       "1762306     7920          7 -122.408983  37.751987         0       2003   \n",
       "1762307     5597          7 -122.425342  37.792681         0       2003   \n",
       "1762308    11613          7 -122.445418  37.712075         0       2003   \n",
       "1762309     4394          7 -122.387394  37.739479         0       2003   \n",
       "1762310     4477          7 -122.489714  37.733950         0       2003   \n",
       "\n",
       "         DatesMonth  DatesWeek  DatesDay  DatesDayofweek     ...      BAYVIEW  \\\n",
       "1762306           1          1         1               2     ...            0   \n",
       "1762307           1          1         1               2     ...            0   \n",
       "1762308           1          1         1               2     ...            0   \n",
       "1762309           1          1         1               2     ...            1   \n",
       "1762310           1          1         1               2     ...            0   \n",
       "\n",
       "         CENTRAL  INGLESIDE  MISSION  NORTHERN  PARK  RICHMOND  SOUTHERN  \\\n",
       "1762306        0          0        1         0     0         0         0   \n",
       "1762307        0          0        0         1     0         0         0   \n",
       "1762308        0          1        0         0     0         0         0   \n",
       "1762309        0          0        0         0     0         0         0   \n",
       "1762310        0          0        0         0     0         0         0   \n",
       "\n",
       "         TARAVAL  TENDERLOIN  \n",
       "1762306        0           0  \n",
       "1762307        0           0  \n",
       "1762308        0           0  \n",
       "1762309        0           0  \n",
       "1762310        1           0  \n",
       "\n",
       "[5 rows x 49 columns]"
      ]
     },
     "execution_count": 55,
     "metadata": {},
     "output_type": "execute_result"
    }
   ],
   "source": [
    "test_x.tail()"
   ]
  },
  {
   "cell_type": "markdown",
   "metadata": {},
   "source": [
    "### 6. Building the models"
   ]
  },
  {
   "cell_type": "code",
   "execution_count": 164,
   "metadata": {},
   "outputs": [
    {
     "data": {
      "text/plain": [
       "0.8574373411962203"
      ]
     },
     "execution_count": 164,
     "metadata": {},
     "output_type": "execute_result"
    }
   ],
   "source": [
    "# Base model of 30 trees\n",
    "m = RandomForestClassifier(n_jobs=-1,n_estimators=30)\n",
    "m.fit(train_x, train_y)\n",
    "m.score(train_x, train_y)"
   ]
  },
  {
   "cell_type": "code",
   "execution_count": 165,
   "metadata": {},
   "outputs": [
    {
     "data": {
      "text/plain": [
       "0.8574441745278453"
      ]
     },
     "execution_count": 165,
     "metadata": {},
     "output_type": "execute_result"
    }
   ],
   "source": [
    "# Adding max_features (columns)\n",
    "m2 = RandomForestClassifier(n_jobs=-1,n_estimators=30,max_features=0.6)\n",
    "m2.fit(train_x, train_y)\n",
    "m2.score(train_x, train_y)"
   ]
  },
  {
   "cell_type": "code",
   "execution_count": 57,
   "metadata": {},
   "outputs": [
    {
     "data": {
      "text/plain": [
       "(801412, 801412, 77797, 77797)"
      ]
     },
     "execution_count": 57,
     "metadata": {},
     "output_type": "execute_result"
    }
   ],
   "source": [
    "rare_cats = set(['SUICIDE','FAMILY OFFENSES', 'BAD CHECKS', 'BRIBERY', 'EXTORTION',\n",
    "       'SEX OFFENSES NON FORCIBLE', 'GAMBLING', 'PORNOGRAPHY/OBSCENE MAT',\n",
    "       'TREA'])\n",
    "all_cats = set(train['Category'].unique())\n",
    "common_cats = all_cats-rare_cats\n",
    "# Create index of common Categories\n",
    "train_common_cat_idx = train_train['Category'].isin(common_cats)\n",
    "val_common_cat_idx   = train_val['Category'].isin(common_cats)\n",
    "# subset train data\n",
    "train_x_common_cats = train_x[train_common_cat_idx]\n",
    "train_y_common_cats = train_y[train_common_cat_idx]\n",
    "val_x_common_cats   = val_x[val_common_cat_idx]\n",
    "val_y_common_cats   = val_y[val_common_cat_idx]\n",
    "\n",
    "len(train_x_common_cats), len(train_y_common_cats), len(val_x_common_cats), len(val_y_common_cats)"
   ]
  },
  {
   "cell_type": "code",
   "execution_count": 58,
   "metadata": {},
   "outputs": [],
   "source": [
    "del train_train\n",
    "del train_val\n",
    "del df_master\n",
    "del train"
   ]
  },
  {
   "cell_type": "code",
   "execution_count": 167,
   "metadata": {},
   "outputs": [
    {
     "data": {
      "text/plain": [
       "0.8583520690769454"
      ]
     },
     "execution_count": 167,
     "metadata": {},
     "output_type": "execute_result"
    }
   ],
   "source": [
    "# Using common features only\n",
    "m3 = RandomForestClassifier(n_jobs=-1,n_estimators=30)\n",
    "m3.fit(train_x_common_cats, train_y_common_cats)\n",
    "m3.score(train_x_common_cats, train_y_common_cats)"
   ]
  },
  {
   "cell_type": "code",
   "execution_count": 168,
   "metadata": {},
   "outputs": [
    {
     "data": {
      "text/plain": [
       "0.7442762255688378"
      ]
     },
     "execution_count": 168,
     "metadata": {},
     "output_type": "execute_result"
    }
   ],
   "source": [
    "# Using common features only and min_samples (tree stops when # examples equals to)\n",
    "m4 = RandomForestClassifier(n_jobs=-1,n_estimators=30, min_samples_leaf=3)\n",
    "m4.fit(train_x_common_cats, train_y_common_cats)\n",
    "m4.score(train_x_common_cats, train_y_common_cats)"
   ]
  },
  {
   "cell_type": "code",
   "execution_count": 169,
   "metadata": {},
   "outputs": [
    {
     "data": {
      "text/plain": [
       "0.8583178137813622"
      ]
     },
     "execution_count": 169,
     "metadata": {},
     "output_type": "execute_result"
    }
   ],
   "source": [
    "# Using common features only and max_feature (max percent of columns in any given tree)\n",
    "m5 = RandomForestClassifier(n_jobs=-1,n_estimators=30, max_features=0.5)\n",
    "m5.fit(train_x_common_cats, train_y_common_cats)\n",
    "m5.score(train_x_common_cats, train_y_common_cats)"
   ]
  },
  {
   "cell_type": "code",
   "execution_count": 59,
   "metadata": {},
   "outputs": [
    {
     "data": {
      "text/plain": [
       "(0.8166261548367132, 0.3447562245330797)"
      ]
     },
     "execution_count": 59,
     "metadata": {},
     "output_type": "execute_result"
    }
   ],
   "source": [
    "# Using common features only and max_feature (max percent of columns in any given tree)\n",
    "m6 = RandomForestClassifier(n_jobs=-1,n_estimators=512, max_features=0.5, min_samples_leaf=3)\n",
    "m6.fit(train_x_common_cats, train_y_common_cats)\n",
    "m6.score(train_x_common_cats, train_y_common_cats), m6.score(val_x_common_cats, val_y_common_cats)"
   ]
  },
  {
   "cell_type": "code",
   "execution_count": null,
   "metadata": {},
   "outputs": [],
   "source": []
  },
  {
   "cell_type": "markdown",
   "metadata": {},
   "source": [
    "### 7. Testing the models"
   ]
  },
  {
   "cell_type": "code",
   "execution_count": 171,
   "metadata": {},
   "outputs": [],
   "source": [
    "results_m1 = m.predict(test_x)"
   ]
  },
  {
   "cell_type": "code",
   "execution_count": 175,
   "metadata": {},
   "outputs": [],
   "source": [
    "results_m2 = m2.predict(test_x)"
   ]
  },
  {
   "cell_type": "code",
   "execution_count": 176,
   "metadata": {},
   "outputs": [],
   "source": [
    "results_m3 = m3.predict(test_x)"
   ]
  },
  {
   "cell_type": "code",
   "execution_count": 177,
   "metadata": {},
   "outputs": [],
   "source": [
    "results_m4 = m4.predict(test_x)"
   ]
  },
  {
   "cell_type": "code",
   "execution_count": 178,
   "metadata": {},
   "outputs": [],
   "source": [
    "results_m5 = m5.predict(test_x)"
   ]
  },
  {
   "cell_type": "code",
   "execution_count": 179,
   "metadata": {},
   "outputs": [],
   "source": [
    "results_m6 = m6.predict(test_x)"
   ]
  },
  {
   "cell_type": "markdown",
   "metadata": {},
   "source": [
    "### 8. Writing the Output"
   ]
  },
  {
   "cell_type": "code",
   "execution_count": 172,
   "metadata": {},
   "outputs": [],
   "source": [
    "def write_results(results,file_name):\n",
    "    \n",
    "    result_accumulator=list()\n",
    "    print(\"Step 1: one-hot-encoding...\")\n",
    "\n",
    "    for i in range(0,len(results)):\n",
    "        temp=np.zeros(39,dtype=int)\n",
    "        temp[results[i]]=1\n",
    "        line=np.insert(temp,0,i)\n",
    "        result_accumulator.append(line)\n",
    "\n",
    "    print(\"Step 2: Formatting into dataframe...\")    \n",
    "\n",
    "    out_file = pd.DataFrame(result_accumulator)\n",
    "    print(\"Dimension of the output file: \",out_file.shape)\n",
    "\n",
    "    print(\"Step 3: Writing the output file...\") \n",
    "    out_file_address = 'data/sf-crime/' + file_name + '.csv'\n",
    "    out_file.to_csv(out_file_address,index=False)"
   ]
  },
  {
   "cell_type": "code",
   "execution_count": 173,
   "metadata": {},
   "outputs": [
    {
     "name": "stdout",
     "output_type": "stream",
     "text": [
      "Step 1: one-hot-encoding...\n",
      "Step 2: Formatting into dataframe...\n",
      "Dimension of the output file:  (884262, 40)\n",
      "Step 3: Writing the output file...\n"
     ]
    }
   ],
   "source": [
    "write_results(results_m1,'results_m1')"
   ]
  },
  {
   "cell_type": "code",
   "execution_count": 180,
   "metadata": {},
   "outputs": [
    {
     "name": "stdout",
     "output_type": "stream",
     "text": [
      "Step 1: one-hot-encoding...\n",
      "Step 2: Formatting into dataframe...\n",
      "Dimension of the output file:  (884262, 40)\n",
      "Step 3: Writing the output file...\n"
     ]
    }
   ],
   "source": [
    "write_results(results_m2,'results_m2')"
   ]
  },
  {
   "cell_type": "code",
   "execution_count": 181,
   "metadata": {},
   "outputs": [
    {
     "name": "stdout",
     "output_type": "stream",
     "text": [
      "Step 1: one-hot-encoding...\n",
      "Step 2: Formatting into dataframe...\n",
      "Dimension of the output file:  (884262, 40)\n",
      "Step 3: Writing the output file...\n"
     ]
    }
   ],
   "source": [
    "write_results(results_m3,'results_m3')"
   ]
  },
  {
   "cell_type": "code",
   "execution_count": 182,
   "metadata": {},
   "outputs": [
    {
     "name": "stdout",
     "output_type": "stream",
     "text": [
      "Step 1: one-hot-encoding...\n",
      "Step 2: Formatting into dataframe...\n",
      "Dimension of the output file:  (884262, 40)\n",
      "Step 3: Writing the output file...\n"
     ]
    }
   ],
   "source": [
    "write_results(results_m4,'results_m4')"
   ]
  },
  {
   "cell_type": "code",
   "execution_count": 183,
   "metadata": {},
   "outputs": [
    {
     "name": "stdout",
     "output_type": "stream",
     "text": [
      "Step 1: one-hot-encoding...\n",
      "Step 2: Formatting into dataframe...\n",
      "Dimension of the output file:  (884262, 40)\n",
      "Step 3: Writing the output file...\n"
     ]
    }
   ],
   "source": [
    "write_results(results_m5,'results_m5')"
   ]
  },
  {
   "cell_type": "code",
   "execution_count": 184,
   "metadata": {},
   "outputs": [
    {
     "name": "stdout",
     "output_type": "stream",
     "text": [
      "Step 1: one-hot-encoding...\n",
      "Step 2: Formatting into dataframe...\n",
      "Dimension of the output file:  (884262, 40)\n",
      "Step 3: Writing the output file...\n"
     ]
    }
   ],
   "source": [
    "write_results(results_m6,'results_m6')"
   ]
  },
  {
   "cell_type": "markdown",
   "metadata": {},
   "source": [
    "### 9. Results based on kaggle evaluation script"
   ]
  },
  {
   "cell_type": "markdown",
   "metadata": {},
   "source": [
    "model - m1 ; score - 24.68536\n",
    "#model - m2 ; score - TBS\n",
    "model - m3 ; score - 24.65935\n",
    "model - m4 ; score - 24.04209\n",
    "#model - m5 ; score - TBS\n",
    "model - m6 ; score - 24.01581"
   ]
  },
  {
   "cell_type": "markdown",
   "metadata": {},
   "source": [
    "### 10. What to try next to improve the model"
   ]
  },
  {
   "cell_type": "markdown",
   "metadata": {},
   "source": [
    "#### More features:"
   ]
  },
  {
   "cell_type": "markdown",
   "metadata": {},
   "source": [
    "- Weekday vs weekend\n",
    "- Year-month combo"
   ]
  },
  {
   "cell_type": "markdown",
   "metadata": {},
   "source": [
    "#### Methodology:"
   ]
  },
  {
   "cell_type": "markdown",
   "metadata": {},
   "source": [
    "- One hot encoding for categorical variables?"
   ]
  },
  {
   "cell_type": "markdown",
   "metadata": {},
   "source": [
    "#### Other models:"
   ]
  },
  {
   "cell_type": "markdown",
   "metadata": {},
   "source": [
    "- NeuralNet\n",
    "- LightGBM\n",
    "- XGBoost"
   ]
  },
  {
   "cell_type": "code",
   "execution_count": null,
   "metadata": {},
   "outputs": [],
   "source": []
  }
 ],
 "metadata": {
  "kernelspec": {
   "display_name": "Python 3",
   "language": "python",
   "name": "python3"
  },
  "language_info": {
   "codemirror_mode": {
    "name": "ipython",
    "version": 3
   },
   "file_extension": ".py",
   "mimetype": "text/x-python",
   "name": "python",
   "nbconvert_exporter": "python",
   "pygments_lexer": "ipython3",
   "version": "3.6.5"
  }
 },
 "nbformat": 4,
 "nbformat_minor": 2
}
