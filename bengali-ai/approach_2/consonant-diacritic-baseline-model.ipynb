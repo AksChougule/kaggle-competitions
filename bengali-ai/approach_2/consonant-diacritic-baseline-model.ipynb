{
 "cells": [
  {
   "cell_type": "markdown",
   "metadata": {},
   "source": [
    "In this note bookbook, we will make a few changes to the workflow by referring to the one of the available kernels.\n",
    "\n",
    "Changes:\n",
    "- Instead of predicting the ghrapheme root we are predicting the 3rd of the 3 output classes: consonant-diacritic"
   ]
  },
  {
   "cell_type": "code",
   "execution_count": 1,
   "metadata": {},
   "outputs": [],
   "source": [
    "%matplotlib inline \n",
    "# If we don't do this then image will open as pop-up and not in notebook"
   ]
  },
  {
   "cell_type": "code",
   "execution_count": 2,
   "metadata": {},
   "outputs": [],
   "source": [
    "import pyarrow.parquet as pq \n",
    "import pandas as pd\n",
    "import numpy as np\n",
    "from PIL import Image as im\n",
    "import matplotlib as plt\n",
    "from matplotlib.pyplot import imshow"
   ]
  },
  {
   "cell_type": "code",
   "execution_count": 3,
   "metadata": {},
   "outputs": [],
   "source": [
    "from skimage import io"
   ]
  },
  {
   "cell_type": "code",
   "execution_count": 4,
   "metadata": {},
   "outputs": [],
   "source": [
    "import wget\n",
    "import time\n",
    "import os\n",
    "import copy"
   ]
  },
  {
   "cell_type": "code",
   "execution_count": 5,
   "metadata": {},
   "outputs": [
    {
     "name": "stdout",
     "output_type": "stream",
     "text": [
      "total 9126408\r\n",
      "-rw-r--r-- 1 ubuntu ubuntu 4161805187 Jan 16 23:18 bengaliai-cv19.zip\r\n",
      "-rw-r--r-- 1 ubuntu ubuntu       4830 Dec 19 18:22 class_map.csv\r\n",
      "-rw-r--r-- 1 ubuntu ubuntu        944 Dec 19 18:22 sample_submission.csv\r\n",
      "-rw-r--r-- 1 ubuntu ubuntu       1742 Dec 19 18:22 test.csv\r\n",
      "-rw-r--r-- 1 ubuntu ubuntu    9903859 Dec 19 18:22 test_image_data_0.parquet\r\n",
      "-rw-r--r-- 1 ubuntu ubuntu   10003997 Dec 19 18:22 test_image_data_1.parquet\r\n",
      "-rw-r--r-- 1 ubuntu ubuntu    9996850 Dec 19 18:22 test_image_data_2.parquet\r\n",
      "-rw-r--r-- 1 ubuntu ubuntu    9995989 Dec 19 18:22 test_image_data_3.parquet\r\n",
      "-rw-r--r-- 1 ubuntu ubuntu    6281787 Dec 19 18:22 train.csv\r\n",
      "-rw-r--r-- 1 ubuntu ubuntu 1285682162 Dec 19 18:22 train_image_data_0.parquet\r\n",
      "-rw-r--r-- 1 ubuntu ubuntu 1278647926 Dec 19 18:25 train_image_data_1.parquet\r\n",
      "-rw-r--r-- 1 ubuntu ubuntu 1287469785 Dec 19 18:29 train_image_data_2.parquet\r\n",
      "-rw-r--r-- 1 ubuntu ubuntu 1285595675 Dec 19 18:32 train_image_data_3.parquet\r\n",
      "drwxr-xr-x 8 ubuntu ubuntu       4096 Jan 21 23:11 training_images\r\n"
     ]
    }
   ],
   "source": [
    "!ls -l ~/datasets/bengali-ai/"
   ]
  },
  {
   "cell_type": "markdown",
   "metadata": {},
   "source": [
    "### The Train Files"
   ]
  },
  {
   "cell_type": "code",
   "execution_count": 6,
   "metadata": {},
   "outputs": [],
   "source": [
    "# Training label files\n",
    "train_labels = pd.read_csv(\"/home/ubuntu/datasets/bengali-ai/train.csv\")"
   ]
  },
  {
   "cell_type": "code",
   "execution_count": 7,
   "metadata": {},
   "outputs": [
    {
     "data": {
      "text/plain": [
       "(200840, 5)"
      ]
     },
     "execution_count": 7,
     "metadata": {},
     "output_type": "execute_result"
    }
   ],
   "source": [
    "train_labels.shape"
   ]
  },
  {
   "cell_type": "code",
   "execution_count": 8,
   "metadata": {},
   "outputs": [
    {
     "data": {
      "text/html": [
       "<div>\n",
       "<style scoped>\n",
       "    .dataframe tbody tr th:only-of-type {\n",
       "        vertical-align: middle;\n",
       "    }\n",
       "\n",
       "    .dataframe tbody tr th {\n",
       "        vertical-align: top;\n",
       "    }\n",
       "\n",
       "    .dataframe thead th {\n",
       "        text-align: right;\n",
       "    }\n",
       "</style>\n",
       "<table border=\"1\" class=\"dataframe\">\n",
       "  <thead>\n",
       "    <tr style=\"text-align: right;\">\n",
       "      <th></th>\n",
       "      <th>image_id</th>\n",
       "      <th>grapheme_root</th>\n",
       "      <th>vowel_diacritic</th>\n",
       "      <th>consonant_diacritic</th>\n",
       "      <th>grapheme</th>\n",
       "    </tr>\n",
       "  </thead>\n",
       "  <tbody>\n",
       "    <tr>\n",
       "      <th>0</th>\n",
       "      <td>Train_0</td>\n",
       "      <td>15</td>\n",
       "      <td>9</td>\n",
       "      <td>5</td>\n",
       "      <td>ক্ট্রো</td>\n",
       "    </tr>\n",
       "    <tr>\n",
       "      <th>1</th>\n",
       "      <td>Train_1</td>\n",
       "      <td>159</td>\n",
       "      <td>0</td>\n",
       "      <td>0</td>\n",
       "      <td>হ</td>\n",
       "    </tr>\n",
       "    <tr>\n",
       "      <th>2</th>\n",
       "      <td>Train_2</td>\n",
       "      <td>22</td>\n",
       "      <td>3</td>\n",
       "      <td>5</td>\n",
       "      <td>খ্রী</td>\n",
       "    </tr>\n",
       "    <tr>\n",
       "      <th>3</th>\n",
       "      <td>Train_3</td>\n",
       "      <td>53</td>\n",
       "      <td>2</td>\n",
       "      <td>2</td>\n",
       "      <td>র্টি</td>\n",
       "    </tr>\n",
       "    <tr>\n",
       "      <th>4</th>\n",
       "      <td>Train_4</td>\n",
       "      <td>71</td>\n",
       "      <td>9</td>\n",
       "      <td>5</td>\n",
       "      <td>থ্রো</td>\n",
       "    </tr>\n",
       "  </tbody>\n",
       "</table>\n",
       "</div>"
      ],
      "text/plain": [
       "  image_id  grapheme_root  vowel_diacritic  consonant_diacritic grapheme\n",
       "0  Train_0             15                9                    5   ক্ট্রো\n",
       "1  Train_1            159                0                    0        হ\n",
       "2  Train_2             22                3                    5     খ্রী\n",
       "3  Train_3             53                2                    2     র্টি\n",
       "4  Train_4             71                9                    5     থ্রো"
      ]
     },
     "execution_count": 8,
     "metadata": {},
     "output_type": "execute_result"
    }
   ],
   "source": [
    "train_labels.head(5)"
   ]
  },
  {
   "cell_type": "code",
   "execution_count": 10,
   "metadata": {},
   "outputs": [
    {
     "data": {
      "text/plain": [
       "(6, 0, array([5, 0, 2, 1, 3, 4, 6]))"
      ]
     },
     "execution_count": 10,
     "metadata": {},
     "output_type": "execute_result"
    }
   ],
   "source": [
    "train_labels['consonant_diacritic'].max(), train_labels['consonant_diacritic'].min(), train_labels['consonant_diacritic'].unique()"
   ]
  },
  {
   "cell_type": "code",
   "execution_count": 11,
   "metadata": {},
   "outputs": [
    {
     "name": "stdout",
     "output_type": "stream",
     "text": [
      "total 9126408\r\n",
      "-rw-r--r-- 1 ubuntu ubuntu 4161805187 Jan 16 23:18 bengaliai-cv19.zip\r\n",
      "-rw-r--r-- 1 ubuntu ubuntu       4830 Dec 19 18:22 class_map.csv\r\n",
      "-rw-r--r-- 1 ubuntu ubuntu        944 Dec 19 18:22 sample_submission.csv\r\n",
      "-rw-r--r-- 1 ubuntu ubuntu       1742 Dec 19 18:22 test.csv\r\n",
      "-rw-r--r-- 1 ubuntu ubuntu    9903859 Dec 19 18:22 test_image_data_0.parquet\r\n",
      "-rw-r--r-- 1 ubuntu ubuntu   10003997 Dec 19 18:22 test_image_data_1.parquet\r\n",
      "-rw-r--r-- 1 ubuntu ubuntu    9996850 Dec 19 18:22 test_image_data_2.parquet\r\n",
      "-rw-r--r-- 1 ubuntu ubuntu    9995989 Dec 19 18:22 test_image_data_3.parquet\r\n",
      "-rw-r--r-- 1 ubuntu ubuntu    6281787 Dec 19 18:22 train.csv\r\n",
      "-rw-r--r-- 1 ubuntu ubuntu 1285682162 Dec 19 18:22 train_image_data_0.parquet\r\n",
      "-rw-r--r-- 1 ubuntu ubuntu 1278647926 Dec 19 18:25 train_image_data_1.parquet\r\n",
      "-rw-r--r-- 1 ubuntu ubuntu 1287469785 Dec 19 18:29 train_image_data_2.parquet\r\n",
      "-rw-r--r-- 1 ubuntu ubuntu 1285595675 Dec 19 18:32 train_image_data_3.parquet\r\n",
      "drwxr-xr-x 8 ubuntu ubuntu       4096 Jan 21 23:11 training_images\r\n"
     ]
    }
   ],
   "source": [
    "!ls -l /home/ubuntu/datasets/bengali-ai/"
   ]
  },
  {
   "cell_type": "markdown",
   "metadata": {},
   "source": [
    "### Getting the data ready"
   ]
  },
  {
   "cell_type": "code",
   "execution_count": 12,
   "metadata": {},
   "outputs": [],
   "source": [
    "# PyTorch databuild libraries and modules\n",
    "import torch.optim as optim\n",
    "from torch.utils.data import Dataset, DataLoader\n",
    "from torchvision import datasets, models, transforms"
   ]
  },
  {
   "cell_type": "code",
   "execution_count": 13,
   "metadata": {},
   "outputs": [],
   "source": [
    "import torch\n",
    "from torchvision import datasets, models, transforms"
   ]
  },
  {
   "cell_type": "code",
   "execution_count": 15,
   "metadata": {},
   "outputs": [],
   "source": [
    "class BengaliCharacterDataset(Dataset):\n",
    "    \"\"\"Bengali language handwritten character dataset.\"\"\"\n",
    "    \n",
    "    def __init__(self, root_dir, transform=None):\n",
    "        \"\"\"\n",
    "        Args:\n",
    "            dataframe (string): Dataframe of parquet dataset with image data.\n",
    "            transform (callable, optional): Optional transform to be applied\n",
    "                on a sample.\n",
    "        \"\"\"\n",
    "        self.root_dir = root_dir\n",
    "        self.transform = transform\n",
    "\n",
    "    def __len__(self):        \n",
    "        return len(os.listdir(self.root_dir))\n",
    "\n",
    "    def __getitem__(self, idx):\n",
    "        if torch.is_tensor(idx):\n",
    "            idx = idx.tolist()\n",
    "\n",
    "        image_id = 'Train_'+str(idx)\n",
    "        img_name = image_id+'.png'\n",
    "        \n",
    "        # columns from class_map: image_id, grapheme_root, vowel_diacritic, consonant_diacritic, grapheme\n",
    "        img_label = train_labels.loc[train_labels['image_id'] == image_id, 'consonant_diacritic'].to_numpy()[0] \n",
    "        # added to.numpy()[0] to remove index number\n",
    "                \n",
    "        img_path = os.path.join(self.root_dir,img_name)\n",
    "        image = io.imread(img_path)\n",
    "\n",
    "        # sample = {'image': img_data, 'img_label': img_label}\n",
    "        \n",
    "        if self.transform:\n",
    "            image = self.transform(im.fromarray(image).convert('RGB'))\n",
    "            # sample = {'img_label': img_label, 'image': img_data}\n",
    "\n",
    "        return image, img_label"
   ]
  },
  {
   "cell_type": "code",
   "execution_count": 16,
   "metadata": {},
   "outputs": [],
   "source": [
    "# Now let's create a PyTorch Dataset object with transformations\n",
    "transformed_dataset = BengaliCharacterDataset(root_dir='/home/ubuntu/datasets/bengali-ai/training_images/train_224by224//',\n",
    "                                           transform=transforms.Compose([\n",
    "                                               transforms.ToTensor(),\n",
    "                                               #transforms.Normalize([0.485, 0.456, 0.406], [0.229, 0.224, 0.225])\n",
    "                                               transforms.Normalize([0.0692, 0.0692, 0.0692], [0.2051, 0.2051, 0.2051])\n",
    "                                           ]))"
   ]
  },
  {
   "cell_type": "code",
   "execution_count": 17,
   "metadata": {},
   "outputs": [],
   "source": [
    "tt = transformed_dataset.__getitem__(65)"
   ]
  },
  {
   "cell_type": "code",
   "execution_count": 18,
   "metadata": {},
   "outputs": [
    {
     "data": {
      "text/plain": [
       "(2, (tensor([[[4.4427, 4.4809, 4.4236,  ..., 4.4809, 4.4809, 4.4618],\n",
       "           [4.4618, 4.4809, 4.4618,  ..., 4.4809, 4.4618, 4.4618],\n",
       "           [4.5000, 4.5000, 4.5000,  ..., 4.4618, 4.4618, 4.4809],\n",
       "           ...,\n",
       "           [4.4618, 4.5000, 4.5000,  ..., 4.4809, 4.4809, 4.4809],\n",
       "           [4.4618, 4.4809, 4.4809,  ..., 4.4618, 4.4618, 4.4809],\n",
       "           [4.4618, 4.4618, 4.4809,  ..., 4.4618, 4.4618, 4.4809]],\n",
       "  \n",
       "          [[4.4427, 4.4809, 4.4236,  ..., 4.4809, 4.4809, 4.4618],\n",
       "           [4.4618, 4.4809, 4.4618,  ..., 4.4809, 4.4618, 4.4618],\n",
       "           [4.5000, 4.5000, 4.5000,  ..., 4.4618, 4.4618, 4.4809],\n",
       "           ...,\n",
       "           [4.4618, 4.5000, 4.5000,  ..., 4.4809, 4.4809, 4.4809],\n",
       "           [4.4618, 4.4809, 4.4809,  ..., 4.4618, 4.4618, 4.4809],\n",
       "           [4.4618, 4.4618, 4.4809,  ..., 4.4618, 4.4618, 4.4809]],\n",
       "  \n",
       "          [[4.4427, 4.4809, 4.4236,  ..., 4.4809, 4.4809, 4.4618],\n",
       "           [4.4618, 4.4809, 4.4618,  ..., 4.4809, 4.4618, 4.4618],\n",
       "           [4.5000, 4.5000, 4.5000,  ..., 4.4618, 4.4618, 4.4809],\n",
       "           ...,\n",
       "           [4.4618, 4.5000, 4.5000,  ..., 4.4809, 4.4809, 4.4809],\n",
       "           [4.4618, 4.4809, 4.4809,  ..., 4.4618, 4.4618, 4.4809],\n",
       "           [4.4618, 4.4618, 4.4809,  ..., 4.4618, 4.4618, 4.4809]]]), 0))"
      ]
     },
     "execution_count": 18,
     "metadata": {},
     "output_type": "execute_result"
    }
   ],
   "source": [
    "len(tt), tt"
   ]
  },
  {
   "cell_type": "code",
   "execution_count": 21,
   "metadata": {},
   "outputs": [
    {
     "data": {
      "text/plain": [
       "<matplotlib.image.AxesImage at 0x7f4442d7e7f0>"
      ]
     },
     "execution_count": 21,
     "metadata": {},
     "output_type": "execute_result"
    },
    {
     "data": {
      "image/png": "[encoded data removed]",
      "text/plain": [
       "<Figure size 432x288 with 1 Axes>"
      ]
     },
     "metadata": {
      "needs_background": "light"
     },
     "output_type": "display_data"
    }
   ],
   "source": [
    "# to_pil = transforms.ToPILImage() \n",
    "imshow(tt[0][0], cmap='gray')"
   ]
  },
  {
   "cell_type": "markdown",
   "metadata": {},
   "source": [
    "### Creating a validation dataset from training data"
   ]
  },
  {
   "cell_type": "code",
   "execution_count": 22,
   "metadata": {},
   "outputs": [],
   "source": [
    "train_size = int(0.8 * len(transformed_dataset))\n",
    "val_size = len(transformed_dataset) - train_size\n",
    "train_dataset, val_dataset = torch.utils.data.random_split(transformed_dataset, [train_size, val_size])"
   ]
  },
  {
   "cell_type": "code",
   "execution_count": 23,
   "metadata": {},
   "outputs": [
    {
     "data": {
      "text/plain": [
       "(160672, 40168)"
      ]
     },
     "execution_count": 23,
     "metadata": {},
     "output_type": "execute_result"
    }
   ],
   "source": [
    "len(train_dataset), len(val_dataset)"
   ]
  },
  {
   "cell_type": "code",
   "execution_count": 24,
   "metadata": {},
   "outputs": [],
   "source": [
    "model_data = {}\n",
    "model_data['train'] = train_dataset\n",
    "model_data['val'] = val_dataset"
   ]
  },
  {
   "cell_type": "markdown",
   "metadata": {},
   "source": [
    "### Getting the dataloader ready"
   ]
  },
  {
   "cell_type": "markdown",
   "metadata": {},
   "source": [
    "Within a Python process, the Global Interpreter Lock (GIL) prevents true fully parallelizing Python code across threads. To avoid blocking computation code with data loading, PyTorch provides an easy switch to perform multi-process data loading by simply setting the argument num_workers to a positive integer."
   ]
  },
  {
   "cell_type": "code",
   "execution_count": 25,
   "metadata": {},
   "outputs": [],
   "source": [
    "dataloaders = {x: DataLoader(model_data[x], \n",
    "                             batch_size=16,\n",
    "                             #shuffle=True, \n",
    "                             num_workers=4)\n",
    "              for x in ['train', 'val']}"
   ]
  },
  {
   "cell_type": "code",
   "execution_count": 26,
   "metadata": {},
   "outputs": [
    {
     "data": {
      "text/plain": [
       "(160672, 40168, 10042, 2511)"
      ]
     },
     "execution_count": 26,
     "metadata": {},
     "output_type": "execute_result"
    }
   ],
   "source": [
    "len(dataloaders['train'].dataset), len(dataloaders['val'].dataset), len(dataloaders['train']), len(dataloaders['val'])"
   ]
  },
  {
   "cell_type": "code",
   "execution_count": 27,
   "metadata": {},
   "outputs": [],
   "source": [
    "dataset_sizes = {x: len(dataloaders[x].dataset) for x in ['train', 'val']}"
   ]
  },
  {
   "cell_type": "code",
   "execution_count": 28,
   "metadata": {},
   "outputs": [
    {
     "data": {
      "text/plain": [
       "(160672, 40168)"
      ]
     },
     "execution_count": 28,
     "metadata": {},
     "output_type": "execute_result"
    }
   ],
   "source": [
    "# class_names = dataloaders['train'].dataset.\n",
    "dataset_sizes['train'], dataset_sizes['val']"
   ]
  },
  {
   "cell_type": "code",
   "execution_count": 29,
   "metadata": {},
   "outputs": [
    {
     "data": {
      "text/plain": [
       "(160672, 40168)"
      ]
     },
     "execution_count": 29,
     "metadata": {},
     "output_type": "execute_result"
    }
   ],
   "source": [
    "len(dataloaders['train'].dataset), len(dataloaders['val'].dataset)"
   ]
  },
  {
   "cell_type": "code",
   "execution_count": 30,
   "metadata": {},
   "outputs": [],
   "source": [
    "def train_model(model, criterion, optimizer, scheduler, num_epochs=25):\n",
    "    since = time.time()\n",
    "    \n",
    "    device = torch.device(\"cuda:0\" if torch.cuda.is_available() else \"cpu\")\n",
    "\n",
    "    best_model_wts = copy.deepcopy(model.state_dict())\n",
    "    best_acc = 0.0\n",
    "\n",
    "    for epoch in range(num_epochs):\n",
    "        print('Epoch {}/{}'.format(epoch, num_epochs - 1))\n",
    "        print('-' * 10)\n",
    "\n",
    "        # Each epoch has a training and validation phase\n",
    "        for phase in ['train', 'val']:\n",
    "            \n",
    "            start_time = time.time()\n",
    "            \n",
    "            if phase == 'train':\n",
    "                model.train()  # Set model to training mode\n",
    "            else:\n",
    "                model.eval()   # Set model to evaluate mode\n",
    "\n",
    "            running_loss = 0.0\n",
    "            running_corrects = 0\n",
    "\n",
    "            # Iterate over data.\n",
    "            for inputs, labels in dataloaders[phase]:\n",
    "                inputs = inputs.to(device)\n",
    "                labels = labels.to(device)\n",
    "\n",
    "                # zero the parameter gradients\n",
    "                optimizer.zero_grad()\n",
    "\n",
    "                # forward\n",
    "                # track history if only in train\n",
    "                with torch.set_grad_enabled(phase == 'train'):\n",
    "                    outputs = model(inputs)\n",
    "                    _, preds = torch.max(outputs, 1)\n",
    "                    loss = criterion(outputs, labels)\n",
    "\n",
    "                    # backward + optimize only if in training phase\n",
    "                    if phase == 'train':\n",
    "                        loss.backward()\n",
    "                        optimizer.step()\n",
    "\n",
    "                # statistics\n",
    "                running_loss += loss.item() * inputs.size(0)\n",
    "                running_corrects += torch.sum(preds == labels.data)\n",
    "            if phase == 'train':\n",
    "                scheduler.step()\n",
    "\n",
    "            epoch_loss = running_loss / dataset_sizes[phase]\n",
    "            epoch_acc = running_corrects.double() / dataset_sizes[phase]\n",
    "\n",
    "            print('{} Loss: {:.4f} Acc: {:.4f}'.format(\n",
    "                phase, epoch_loss, epoch_acc))\n",
    "            \n",
    "            end_time = time.time()\n",
    "            hours, rem = divmod(end_time-start_time, 3600)\n",
    "            minutes, seconds = divmod(rem, 60)\n",
    "            print(\"{:0>2}:{:0>2}:{:05.2f}\".format(int(hours),int(minutes),seconds))\n",
    "\n",
    "            # deep copy the model\n",
    "            if phase == 'val' and epoch_acc > best_acc:\n",
    "                best_acc = epoch_acc\n",
    "                best_model_wts = copy.deepcopy(model.state_dict())\n",
    "\n",
    "        print()\n",
    "\n",
    "    time_elapsed = time.time() - since\n",
    "    print('Training complete in {:.0f}m {:.0f}s'.format(\n",
    "        time_elapsed // 60, time_elapsed % 60))\n",
    "    print('Best val Acc: {:4f}'.format(best_acc))\n",
    "\n",
    "    # load best model weights\n",
    "    model.load_state_dict(best_model_wts)\n",
    "    return model"
   ]
  },
  {
   "cell_type": "code",
   "execution_count": 31,
   "metadata": {},
   "outputs": [],
   "source": [
    "# PyTorch libraries and modules\n",
    "from torch.optim import lr_scheduler\n",
    "import torch.nn as nn\n",
    "import torch.optim as optim\n",
    "import torch"
   ]
  },
  {
   "cell_type": "code",
   "execution_count": 32,
   "metadata": {},
   "outputs": [],
   "source": [
    "device = torch.device(\"cuda:0\" if torch.cuda.is_available() else \"cpu\")"
   ]
  },
  {
   "cell_type": "code",
   "execution_count": 33,
   "metadata": {},
   "outputs": [],
   "source": [
    "# Load a pretrained model and reset final fully connected layer.\n",
    "\n",
    "model_ft = models.resnet50(pretrained=True)\n",
    "num_ftrs = model_ft.fc.in_features\n",
    "\n",
    "# Here the size of each output sample is set to 7 for consonant diacritic.\n",
    "# Alternatively, it can be generalized to nn.Linear(num_ftrs, len(class_names)).\n",
    "model_ft.fc = nn.Linear(num_ftrs, 7)\n",
    "\n",
    "# Ensuring the model is using GPU\n",
    "model_ft = model_ft.to(device)\n",
    "\n",
    "# As we have two classes (0 or 1) we will use cross-entropy as criterion\n",
    "criterion = nn.CrossEntropyLoss()\n",
    "\n",
    "# Observe that all parameters are being optimized\n",
    "optimizer_ft = optim.SGD(model_ft.parameters(), lr=0.001, momentum=0.9)\n",
    "\n",
    "# Decay LR by a factor of 0.1 every 7 epochs\n",
    "exp_lr_scheduler = lr_scheduler.StepLR(optimizer_ft, step_size=7, gamma=0.1)"
   ]
  },
  {
   "cell_type": "code",
   "execution_count": 34,
   "metadata": {},
   "outputs": [
    {
     "name": "stdout",
     "output_type": "stream",
     "text": [
      "Epoch 0/14\n",
      "----------\n",
      "train Loss: 0.1758 Acc: 0.9456\n",
      "00:17:08.38\n",
      "val Loss: 0.1115 Acc: 0.9646\n",
      "00:01:57.91\n",
      "\n",
      "Epoch 1/14\n",
      "----------\n",
      "train Loss: 0.0734 Acc: 0.9785\n",
      "00:17:09.12\n",
      "val Loss: 0.0930 Acc: 0.9746\n",
      "00:01:58.05\n",
      "\n",
      "Epoch 2/14\n",
      "----------\n",
      "train Loss: 0.0434 Acc: 0.9870\n",
      "00:17:09.61\n",
      "val Loss: 0.0984 Acc: 0.9748\n",
      "00:01:57.75\n",
      "\n",
      "Epoch 3/14\n",
      "----------\n",
      "train Loss: 0.0319 Acc: 0.9899\n",
      "00:17:08.25\n",
      "val Loss: 0.1063 Acc: 0.9722\n",
      "00:01:58.14\n",
      "\n",
      "Epoch 4/14\n",
      "----------\n",
      "train Loss: 0.0234 Acc: 0.9923\n",
      "00:17:09.30\n",
      "val Loss: 0.1180 Acc: 0.9729\n",
      "00:01:57.74\n",
      "\n",
      "Epoch 5/14\n",
      "----------\n",
      "train Loss: 0.0199 Acc: 0.9933\n",
      "00:17:11.34\n",
      "val Loss: 0.1145 Acc: 0.9763\n",
      "00:01:58.10\n",
      "\n",
      "Epoch 6/14\n",
      "----------\n",
      "train Loss: 0.0160 Acc: 0.9945\n",
      "00:17:11.07\n",
      "val Loss: 0.1157 Acc: 0.9756\n",
      "00:01:58.11\n",
      "\n",
      "Epoch 7/14\n",
      "----------\n",
      "train Loss: 0.0114 Acc: 0.9962\n",
      "00:17:09.23\n",
      "val Loss: 0.1158 Acc: 0.9774\n",
      "00:01:58.19\n",
      "\n",
      "Epoch 8/14\n",
      "----------\n",
      "train Loss: 0.0039 Acc: 0.9988\n",
      "00:17:10.14\n",
      "val Loss: 0.1046 Acc: 0.9812\n",
      "00:01:57.69\n",
      "\n",
      "Epoch 9/14\n",
      "----------\n",
      "train Loss: 0.0009 Acc: 0.9999\n",
      "00:17:09.88\n",
      "val Loss: 0.1066 Acc: 0.9816\n",
      "00:01:58.02\n",
      "\n",
      "Epoch 10/14\n",
      "----------\n",
      "train Loss: 0.0006 Acc: 1.0000\n",
      "00:17:10.28\n",
      "val Loss: 0.1087 Acc: 0.9818\n",
      "00:01:57.97\n",
      "\n",
      "Epoch 11/14\n",
      "----------\n",
      "train Loss: 0.0004 Acc: 1.0000\n",
      "00:17:08.94\n",
      "val Loss: 0.1104 Acc: 0.9818\n",
      "00:01:58.43\n",
      "\n",
      "Epoch 12/14\n",
      "----------\n",
      "train Loss: 0.0004 Acc: 1.0000\n",
      "00:17:09.01\n",
      "val Loss: 0.1119 Acc: 0.9819\n",
      "00:01:58.02\n",
      "\n",
      "Epoch 13/14\n",
      "----------\n",
      "train Loss: 0.0003 Acc: 1.0000\n",
      "00:17:09.37\n",
      "val Loss: 0.1132 Acc: 0.9819\n",
      "00:01:57.77\n",
      "\n",
      "Epoch 14/14\n",
      "----------\n",
      "train Loss: 0.0003 Acc: 1.0000\n",
      "00:17:08.44\n",
      "val Loss: 0.1143 Acc: 0.9819\n",
      "00:01:57.68\n",
      "\n",
      "Training complete in 286m 52s\n",
      "Best val Acc: 0.981901\n"
     ]
    }
   ],
   "source": [
    "model_ft = train_model(model_ft, criterion, optimizer_ft, exp_lr_scheduler,\n",
    "                       num_epochs=15)"
   ]
  },
  {
   "cell_type": "code",
   "execution_count": 36,
   "metadata": {},
   "outputs": [],
   "source": [
    "torch.save(model_ft, 'consonant-diacritic-base.pth')"
   ]
  },
  {
   "cell_type": "code",
   "execution_count": 37,
   "metadata": {},
   "outputs": [],
   "source": [
    "model_ft2 = torch.load('consonant-diacritic-base.pth')"
   ]
  }
 ],
 "metadata": {
  "kernelspec": {
   "display_name": "Python 3",
   "language": "python",
   "name": "python3"
  },
  "language_info": {
   "codemirror_mode": {
    "name": "ipython",
    "version": 3
   },
   "file_extension": ".py",
   "mimetype": "text/x-python",
   "name": "python",
   "nbconvert_exporter": "python",
   "pygments_lexer": "ipython3",
   "version": "3.7.3"
  }
 },
 "nbformat": 4,
 "nbformat_minor": 2
}
