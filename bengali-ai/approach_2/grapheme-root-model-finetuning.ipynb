{
 "cells": [
  {
   "cell_type": "markdown",
   "metadata": {},
   "source": [
    "In this note bookbook, we will make a few changes to the workflow by referring to the one of the available kernels.\n",
    "\n",
    "Planned Changes:\n",
    "- Create and save images by reading parquet\n",
    "- Istead of convering grayscale into 3-channel, we will modify the architecture to accomodate 1-channel images"
   ]
  },
  {
   "cell_type": "code",
   "execution_count": 1,
   "metadata": {},
   "outputs": [],
   "source": [
    "%matplotlib inline \n",
    "# If we don't do this then image will open as pop-up and not in notebook"
   ]
  },
  {
   "cell_type": "code",
   "execution_count": 2,
   "metadata": {},
   "outputs": [],
   "source": [
    "import pyarrow.parquet as pq \n",
    "import pandas as pd\n",
    "import numpy as np\n",
    "from PIL import Image as im\n",
    "import matplotlib as plt\n",
    "from matplotlib.pyplot import imshow"
   ]
  },
  {
   "cell_type": "code",
   "execution_count": 3,
   "metadata": {},
   "outputs": [],
   "source": [
    "from skimage import io"
   ]
  },
  {
   "cell_type": "code",
   "execution_count": 4,
   "metadata": {},
   "outputs": [],
   "source": [
    "import wget\n",
    "import time\n",
    "import os\n",
    "import copy"
   ]
  },
  {
   "cell_type": "code",
   "execution_count": 5,
   "metadata": {},
   "outputs": [
    {
     "name": "stdout",
     "output_type": "stream",
     "text": [
      "total 9126408\r\n",
      "-rw-r--r-- 1 ubuntu ubuntu 4161805187 Jan 16 23:18 bengaliai-cv19.zip\r\n",
      "-rw-r--r-- 1 ubuntu ubuntu       4830 Dec 19 18:22 class_map.csv\r\n",
      "-rw-r--r-- 1 ubuntu ubuntu        944 Dec 19 18:22 sample_submission.csv\r\n",
      "-rw-r--r-- 1 ubuntu ubuntu       1742 Dec 19 18:22 test.csv\r\n",
      "-rw-r--r-- 1 ubuntu ubuntu    9903859 Dec 19 18:22 test_image_data_0.parquet\r\n",
      "-rw-r--r-- 1 ubuntu ubuntu   10003997 Dec 19 18:22 test_image_data_1.parquet\r\n",
      "-rw-r--r-- 1 ubuntu ubuntu    9996850 Dec 19 18:22 test_image_data_2.parquet\r\n",
      "-rw-r--r-- 1 ubuntu ubuntu    9995989 Dec 19 18:22 test_image_data_3.parquet\r\n",
      "-rw-r--r-- 1 ubuntu ubuntu    6281787 Dec 19 18:22 train.csv\r\n",
      "-rw-r--r-- 1 ubuntu ubuntu 1285682162 Dec 19 18:22 train_image_data_0.parquet\r\n",
      "-rw-r--r-- 1 ubuntu ubuntu 1278647926 Dec 19 18:25 train_image_data_1.parquet\r\n",
      "-rw-r--r-- 1 ubuntu ubuntu 1287469785 Dec 19 18:29 train_image_data_2.parquet\r\n",
      "-rw-r--r-- 1 ubuntu ubuntu 1285595675 Dec 19 18:32 train_image_data_3.parquet\r\n",
      "drwxr-xr-x 8 ubuntu ubuntu       4096 Jan 21 23:11 training_images\r\n"
     ]
    }
   ],
   "source": [
    "!ls -l ~/datasets/bengali-ai/"
   ]
  },
  {
   "cell_type": "markdown",
   "metadata": {},
   "source": [
    "### Class Mapping File"
   ]
  },
  {
   "cell_type": "code",
   "execution_count": 6,
   "metadata": {},
   "outputs": [],
   "source": [
    "class_map = pd.read_csv(\"/home/ubuntu/datasets/bengali-ai/class_map.csv\")"
   ]
  },
  {
   "cell_type": "code",
   "execution_count": 7,
   "metadata": {},
   "outputs": [
    {
     "data": {
      "text/plain": [
       "(186, 3)"
      ]
     },
     "execution_count": 7,
     "metadata": {},
     "output_type": "execute_result"
    }
   ],
   "source": [
    "class_map.shape"
   ]
  },
  {
   "cell_type": "code",
   "execution_count": 8,
   "metadata": {
    "scrolled": true
   },
   "outputs": [
    {
     "data": {
      "text/plain": [
       "<bound method NDFrame.describe of           component_type  label component\n",
       "0          grapheme_root      0         ং\n",
       "1          grapheme_root      1         ঃ\n",
       "2          grapheme_root      2         অ\n",
       "3          grapheme_root      3         আ\n",
       "4          grapheme_root      4         ই\n",
       "5          grapheme_root      5         ঈ\n",
       "6          grapheme_root      6         উ\n",
       "7          grapheme_root      7         ঊ\n",
       "8          grapheme_root      8         ঋ\n",
       "9          grapheme_root      9         এ\n",
       "10         grapheme_root     10         ঐ\n",
       "11         grapheme_root     11         ও\n",
       "12         grapheme_root     12         ঔ\n",
       "13         grapheme_root     13         ক\n",
       "14         grapheme_root     14       ক্ক\n",
       "15         grapheme_root     15       ক্ট\n",
       "16         grapheme_root     16       ক্ত\n",
       "17         grapheme_root     17       ক্ল\n",
       "18         grapheme_root     18       ক্ষ\n",
       "19         grapheme_root     19     ক্ষ্ণ\n",
       "20         grapheme_root     20     ক্ষ্ম\n",
       "21         grapheme_root     21       ক্স\n",
       "22         grapheme_root     22         খ\n",
       "23         grapheme_root     23         গ\n",
       "24         grapheme_root     24       গ্ধ\n",
       "25         grapheme_root     25       গ্ন\n",
       "26         grapheme_root     26       গ্ব\n",
       "27         grapheme_root     27       গ্ম\n",
       "28         grapheme_root     28       গ্ল\n",
       "29         grapheme_root     29         ঘ\n",
       "..                   ...    ...       ...\n",
       "156        grapheme_root    156       স্ম\n",
       "157        grapheme_root    157       স্ল\n",
       "158        grapheme_root    158       স্স\n",
       "159        grapheme_root    159         হ\n",
       "160        grapheme_root    160       হ্ন\n",
       "161        grapheme_root    161       হ্ব\n",
       "162        grapheme_root    162       হ্ম\n",
       "163        grapheme_root    163       হ্ল\n",
       "164        grapheme_root    164         ৎ\n",
       "165        grapheme_root    165         ড়\n",
       "166        grapheme_root    166         ঢ়\n",
       "167        grapheme_root    167         য়\n",
       "168      vowel_diacritic      0         0\n",
       "169      vowel_diacritic      1         া\n",
       "170      vowel_diacritic      2         ি\n",
       "171      vowel_diacritic      3         ী\n",
       "172      vowel_diacritic      4         ু\n",
       "173      vowel_diacritic      5         ূ\n",
       "174      vowel_diacritic      6         ৃ\n",
       "175      vowel_diacritic      7         ে\n",
       "176      vowel_diacritic      8         ৈ\n",
       "177      vowel_diacritic      9         ো\n",
       "178      vowel_diacritic     10         ৌ\n",
       "179  consonant_diacritic      0         0\n",
       "180  consonant_diacritic      1         ঁ\n",
       "181  consonant_diacritic      2        র্\n",
       "182  consonant_diacritic      3       র্য\n",
       "183  consonant_diacritic      4        ্য\n",
       "184  consonant_diacritic      5        ্র\n",
       "185  consonant_diacritic      6      ্র্য\n",
       "\n",
       "[186 rows x 3 columns]>"
      ]
     },
     "execution_count": 8,
     "metadata": {},
     "output_type": "execute_result"
    }
   ],
   "source": [
    "class_map.describe"
   ]
  },
  {
   "cell_type": "code",
   "execution_count": 9,
   "metadata": {},
   "outputs": [
    {
     "data": {
      "text/html": [
       "<div>\n",
       "<style scoped>\n",
       "    .dataframe tbody tr th:only-of-type {\n",
       "        vertical-align: middle;\n",
       "    }\n",
       "\n",
       "    .dataframe tbody tr th {\n",
       "        vertical-align: top;\n",
       "    }\n",
       "\n",
       "    .dataframe thead th {\n",
       "        text-align: right;\n",
       "    }\n",
       "</style>\n",
       "<table border=\"1\" class=\"dataframe\">\n",
       "  <thead>\n",
       "    <tr style=\"text-align: right;\">\n",
       "      <th></th>\n",
       "      <th>component_type</th>\n",
       "      <th>label</th>\n",
       "      <th>component</th>\n",
       "    </tr>\n",
       "  </thead>\n",
       "  <tbody>\n",
       "    <tr>\n",
       "      <th>0</th>\n",
       "      <td>grapheme_root</td>\n",
       "      <td>0</td>\n",
       "      <td>ং</td>\n",
       "    </tr>\n",
       "    <tr>\n",
       "      <th>1</th>\n",
       "      <td>grapheme_root</td>\n",
       "      <td>1</td>\n",
       "      <td>ঃ</td>\n",
       "    </tr>\n",
       "    <tr>\n",
       "      <th>2</th>\n",
       "      <td>grapheme_root</td>\n",
       "      <td>2</td>\n",
       "      <td>অ</td>\n",
       "    </tr>\n",
       "    <tr>\n",
       "      <th>3</th>\n",
       "      <td>grapheme_root</td>\n",
       "      <td>3</td>\n",
       "      <td>আ</td>\n",
       "    </tr>\n",
       "    <tr>\n",
       "      <th>4</th>\n",
       "      <td>grapheme_root</td>\n",
       "      <td>4</td>\n",
       "      <td>ই</td>\n",
       "    </tr>\n",
       "    <tr>\n",
       "      <th>5</th>\n",
       "      <td>grapheme_root</td>\n",
       "      <td>5</td>\n",
       "      <td>ঈ</td>\n",
       "    </tr>\n",
       "    <tr>\n",
       "      <th>6</th>\n",
       "      <td>grapheme_root</td>\n",
       "      <td>6</td>\n",
       "      <td>উ</td>\n",
       "    </tr>\n",
       "    <tr>\n",
       "      <th>7</th>\n",
       "      <td>grapheme_root</td>\n",
       "      <td>7</td>\n",
       "      <td>ঊ</td>\n",
       "    </tr>\n",
       "    <tr>\n",
       "      <th>8</th>\n",
       "      <td>grapheme_root</td>\n",
       "      <td>8</td>\n",
       "      <td>ঋ</td>\n",
       "    </tr>\n",
       "    <tr>\n",
       "      <th>9</th>\n",
       "      <td>grapheme_root</td>\n",
       "      <td>9</td>\n",
       "      <td>এ</td>\n",
       "    </tr>\n",
       "  </tbody>\n",
       "</table>\n",
       "</div>"
      ],
      "text/plain": [
       "  component_type  label component\n",
       "0  grapheme_root      0         ং\n",
       "1  grapheme_root      1         ঃ\n",
       "2  grapheme_root      2         অ\n",
       "3  grapheme_root      3         আ\n",
       "4  grapheme_root      4         ই\n",
       "5  grapheme_root      5         ঈ\n",
       "6  grapheme_root      6         উ\n",
       "7  grapheme_root      7         ঊ\n",
       "8  grapheme_root      8         ঋ\n",
       "9  grapheme_root      9         এ"
      ]
     },
     "execution_count": 9,
     "metadata": {},
     "output_type": "execute_result"
    }
   ],
   "source": [
    "class_map.head(10)"
   ]
  },
  {
   "cell_type": "markdown",
   "metadata": {},
   "source": [
    "### The Train Files"
   ]
  },
  {
   "cell_type": "code",
   "execution_count": 6,
   "metadata": {},
   "outputs": [],
   "source": [
    "# Training label files\n",
    "train_labels = pd.read_csv(\"/home/ubuntu/datasets/bengali-ai/train.csv\")"
   ]
  },
  {
   "cell_type": "code",
   "execution_count": 7,
   "metadata": {},
   "outputs": [
    {
     "data": {
      "text/plain": [
       "(200840, 5)"
      ]
     },
     "execution_count": 7,
     "metadata": {},
     "output_type": "execute_result"
    }
   ],
   "source": [
    "train_labels.shape"
   ]
  },
  {
   "cell_type": "code",
   "execution_count": 8,
   "metadata": {},
   "outputs": [
    {
     "data": {
      "text/plain": [
       "(167,\n",
       " 0,\n",
       " array([ 15, 159,  22,  53,  71, 153,  52, 139,  67,  64, 115, 107,  74,\n",
       "        100,  48,  72,  13,  79, 109,  23,  42,  60, 142,  61, 147,  81,\n",
       "        148, 160,  58,  99, 103,  44, 167, 120,  62, 151,  32, 125,  38,\n",
       "        127,  24, 124,  96,  43, 132, 149, 123,  54,  19,  87,  35,  83,\n",
       "         97,  77, 165,  92, 133, 118,  85,  56,  95, 136, 138, 106,  86,\n",
       "         29,  39, 122,  65,  30,  76,  16,  68, 110,  46, 105, 155, 129,\n",
       "         25,  59,  36,  70, 152,  18,  89, 128, 113, 144,  49, 117, 154,\n",
       "         31,   6,  26, 150,  40, 111,  55,   1, 119, 140,  66,  28,  14,\n",
       "        164,  27, 121, 156,  63,  84, 137,  98, 143,  47, 135,  75, 141,\n",
       "         88, 116,  91,  45,  69,  94,  93, 131, 146, 134, 112, 108,   9,\n",
       "         80,   3, 166,  41,  17, 162,  21, 158,  10,  51, 101,  82,  57,\n",
       "          4,   5,  90,  20,   2, 102, 126,  33, 161,  34,  50,   7, 163,\n",
       "         78,  73, 145, 130,   0, 104,   8,  37,  11, 157, 114,  12]))"
      ]
     },
     "execution_count": 8,
     "metadata": {},
     "output_type": "execute_result"
    }
   ],
   "source": [
    "train_labels['grapheme_root'].max(), train_labels['grapheme_root'].min(), train_labels['grapheme_root'].unique()"
   ]
  },
  {
   "cell_type": "markdown",
   "metadata": {},
   "source": [
    "### Getting the data ready"
   ]
  },
  {
   "cell_type": "code",
   "execution_count": 10,
   "metadata": {},
   "outputs": [],
   "source": [
    "# PyTorch databuild libraries and modules\n",
    "import torch.optim as optim\n",
    "from torch.utils.data import Dataset, DataLoader\n",
    "from torchvision import datasets, models, transforms"
   ]
  },
  {
   "cell_type": "code",
   "execution_count": 11,
   "metadata": {},
   "outputs": [],
   "source": [
    "import torch\n",
    "from torchvision import datasets, models, transforms"
   ]
  },
  {
   "cell_type": "code",
   "execution_count": 12,
   "metadata": {},
   "outputs": [],
   "source": [
    "class BengaliCharacterDataset(Dataset):\n",
    "    \"\"\"Bengali language handwritten character dataset.\"\"\"\n",
    "    \n",
    "    def __init__(self, root_dir, transform=None):\n",
    "        \"\"\"\n",
    "        Args:\n",
    "            dataframe (string): Dataframe of parquet dataset with image data.\n",
    "            transform (callable, optional): Optional transform to be applied\n",
    "                on a sample.\n",
    "        \"\"\"\n",
    "        self.root_dir = root_dir\n",
    "        self.transform = transform\n",
    "\n",
    "    def __len__(self):        \n",
    "        return len(os.listdir(self.root_dir))\n",
    "\n",
    "    def __getitem__(self, idx):\n",
    "        if torch.is_tensor(idx):\n",
    "            idx = idx.tolist()\n",
    "\n",
    "        image_id = 'Train_'+str(idx)\n",
    "        img_name = image_id+'.png'\n",
    "        \n",
    "        # columns from class_map: image_id, grapheme_root, vowel_diacritic, consonant_diacritic, grapheme\n",
    "        img_label = train_labels.loc[train_labels['image_id'] == image_id, 'grapheme_root'].to_numpy()[0] \n",
    "        # added to.numpy()[0] to remove index number\n",
    "                \n",
    "        img_path = os.path.join(self.root_dir,img_name)\n",
    "        image = io.imread(img_path)\n",
    "\n",
    "        # sample = {'image': img_data, 'img_label': img_label}\n",
    "        \n",
    "        if self.transform:\n",
    "            image = self.transform(im.fromarray(image).convert('RGB'))\n",
    "            # sample = {'img_label': img_label, 'image': img_data}\n",
    "\n",
    "        return image, img_label"
   ]
  },
  {
   "cell_type": "code",
   "execution_count": 13,
   "metadata": {},
   "outputs": [],
   "source": [
    "# Now let's create a PyTorch Dataset object with transformations\n",
    "transformed_dataset = BengaliCharacterDataset(root_dir='/home/ubuntu/datasets/bengali-ai/training_images/train_224by224/',\n",
    "                                           transform=transforms.Compose([\n",
    "                                               transforms.ToTensor(),\n",
    "                                               #transforms.Normalize([0.485, 0.456, 0.406], [0.229, 0.224, 0.225])\n",
    "                                               transforms.Normalize([0.0692, 0.0692, 0.0692], [0.2051, 0.2051, 0.2051])\n",
    "                                           ]))"
   ]
  },
  {
   "cell_type": "code",
   "execution_count": 14,
   "metadata": {},
   "outputs": [],
   "source": [
    "tt = transformed_dataset.__getitem__(65)"
   ]
  },
  {
   "cell_type": "code",
   "execution_count": 15,
   "metadata": {},
   "outputs": [
    {
     "data": {
      "text/plain": [
       "(2, (tensor([[[4.4427, 4.4809, 4.4236,  ..., 4.4809, 4.4809, 4.4618],\n",
       "           [4.4618, 4.4809, 4.4618,  ..., 4.4809, 4.4618, 4.4618],\n",
       "           [4.5000, 4.5000, 4.5000,  ..., 4.4618, 4.4618, 4.4809],\n",
       "           ...,\n",
       "           [4.4618, 4.5000, 4.5000,  ..., 4.4809, 4.4809, 4.4809],\n",
       "           [4.4618, 4.4809, 4.4809,  ..., 4.4618, 4.4618, 4.4809],\n",
       "           [4.4618, 4.4618, 4.4809,  ..., 4.4618, 4.4618, 4.4809]],\n",
       "  \n",
       "          [[4.4427, 4.4809, 4.4236,  ..., 4.4809, 4.4809, 4.4618],\n",
       "           [4.4618, 4.4809, 4.4618,  ..., 4.4809, 4.4618, 4.4618],\n",
       "           [4.5000, 4.5000, 4.5000,  ..., 4.4618, 4.4618, 4.4809],\n",
       "           ...,\n",
       "           [4.4618, 4.5000, 4.5000,  ..., 4.4809, 4.4809, 4.4809],\n",
       "           [4.4618, 4.4809, 4.4809,  ..., 4.4618, 4.4618, 4.4809],\n",
       "           [4.4618, 4.4618, 4.4809,  ..., 4.4618, 4.4618, 4.4809]],\n",
       "  \n",
       "          [[4.4427, 4.4809, 4.4236,  ..., 4.4809, 4.4809, 4.4618],\n",
       "           [4.4618, 4.4809, 4.4618,  ..., 4.4809, 4.4618, 4.4618],\n",
       "           [4.5000, 4.5000, 4.5000,  ..., 4.4618, 4.4618, 4.4809],\n",
       "           ...,\n",
       "           [4.4618, 4.5000, 4.5000,  ..., 4.4809, 4.4809, 4.4809],\n",
       "           [4.4618, 4.4809, 4.4809,  ..., 4.4618, 4.4618, 4.4809],\n",
       "           [4.4618, 4.4618, 4.4809,  ..., 4.4618, 4.4618, 4.4809]]]), 87))"
      ]
     },
     "execution_count": 15,
     "metadata": {},
     "output_type": "execute_result"
    }
   ],
   "source": [
    "len(tt), tt"
   ]
  },
  {
   "cell_type": "code",
   "execution_count": 16,
   "metadata": {},
   "outputs": [
    {
     "data": {
      "text/plain": [
       "<matplotlib.image.AxesImage at 0x7f710148d978>"
      ]
     },
     "execution_count": 16,
     "metadata": {},
     "output_type": "execute_result"
    },
    {
     "data": {
      "image/png": "[encoded data removed]",
      "text/plain": [
       "<Figure size 432x288 with 1 Axes>"
      ]
     },
     "metadata": {
      "needs_background": "light"
     },
     "output_type": "display_data"
    }
   ],
   "source": [
    "# to_pil = transforms.ToPILImage() \n",
    "imshow(tt[0][0], cmap='gray')"
   ]
  },
  {
   "cell_type": "markdown",
   "metadata": {},
   "source": [
    "### Creating a validation dataset from training data"
   ]
  },
  {
   "cell_type": "code",
   "execution_count": 17,
   "metadata": {},
   "outputs": [],
   "source": [
    "train_size = int(0.8 * len(transformed_dataset))\n",
    "val_size = len(transformed_dataset) - train_size\n",
    "train_dataset, val_dataset = torch.utils.data.random_split(transformed_dataset, [train_size, val_size])"
   ]
  },
  {
   "cell_type": "code",
   "execution_count": 18,
   "metadata": {},
   "outputs": [
    {
     "data": {
      "text/plain": [
       "(160672, 40168)"
      ]
     },
     "execution_count": 18,
     "metadata": {},
     "output_type": "execute_result"
    }
   ],
   "source": [
    "len(train_dataset), len(val_dataset)"
   ]
  },
  {
   "cell_type": "code",
   "execution_count": 19,
   "metadata": {},
   "outputs": [],
   "source": [
    "model_data = {}\n",
    "model_data['train'] = train_dataset\n",
    "model_data['val'] = val_dataset"
   ]
  },
  {
   "cell_type": "markdown",
   "metadata": {},
   "source": [
    "### Getting the dataloader ready"
   ]
  },
  {
   "cell_type": "markdown",
   "metadata": {},
   "source": [
    "Within a Python process, the Global Interpreter Lock (GIL) prevents true fully parallelizing Python code across threads. To avoid blocking computation code with data loading, PyTorch provides an easy switch to perform multi-process data loading by simply setting the argument num_workers to a positive integer."
   ]
  },
  {
   "cell_type": "code",
   "execution_count": 20,
   "metadata": {},
   "outputs": [],
   "source": [
    "dataloaders = {x: DataLoader(model_data[x], \n",
    "                             batch_size=16,\n",
    "                             #shuffle=True, \n",
    "                             num_workers=4)\n",
    "              for x in ['train', 'val']}"
   ]
  },
  {
   "cell_type": "code",
   "execution_count": 21,
   "metadata": {},
   "outputs": [
    {
     "data": {
      "text/plain": [
       "(160672, 40168, 10042, 2511)"
      ]
     },
     "execution_count": 21,
     "metadata": {},
     "output_type": "execute_result"
    }
   ],
   "source": [
    "len(dataloaders['train'].dataset), len(dataloaders['val'].dataset), len(dataloaders['train']), len(dataloaders['val'])"
   ]
  },
  {
   "cell_type": "code",
   "execution_count": 22,
   "metadata": {},
   "outputs": [],
   "source": [
    "dataset_sizes = {x: len(dataloaders[x].dataset) for x in ['train', 'val']}"
   ]
  },
  {
   "cell_type": "code",
   "execution_count": 23,
   "metadata": {},
   "outputs": [
    {
     "data": {
      "text/plain": [
       "(160672, 40168)"
      ]
     },
     "execution_count": 23,
     "metadata": {},
     "output_type": "execute_result"
    }
   ],
   "source": [
    "# class_names = dataloaders['train'].dataset.\n",
    "dataset_sizes['train'], dataset_sizes['val']"
   ]
  },
  {
   "cell_type": "code",
   "execution_count": 24,
   "metadata": {},
   "outputs": [
    {
     "data": {
      "text/plain": [
       "(160672, 40168)"
      ]
     },
     "execution_count": 24,
     "metadata": {},
     "output_type": "execute_result"
    }
   ],
   "source": [
    "len(dataloaders['train'].dataset), len(dataloaders['val'].dataset)"
   ]
  },
  {
   "cell_type": "code",
   "execution_count": 25,
   "metadata": {},
   "outputs": [],
   "source": [
    "def train_model(model, criterion, optimizer, scheduler, num_epochs=25):\n",
    "    since = time.time()\n",
    "    \n",
    "    device = torch.device(\"cuda:0\" if torch.cuda.is_available() else \"cpu\")\n",
    "\n",
    "    best_model_wts = copy.deepcopy(model.state_dict())\n",
    "    best_acc = 0.0\n",
    "\n",
    "    for epoch in range(num_epochs):\n",
    "        print('Epoch {}/{}'.format(epoch, num_epochs - 1))\n",
    "        print('-' * 10)\n",
    "\n",
    "        # Each epoch has a training and validation phase\n",
    "        for phase in ['train', 'val']:\n",
    "            \n",
    "            start_time = time.time()\n",
    "            \n",
    "            if phase == 'train':\n",
    "                model.train()  # Set model to training mode\n",
    "            else:\n",
    "                model.eval()   # Set model to evaluate mode\n",
    "\n",
    "            running_loss = 0.0\n",
    "            running_corrects = 0\n",
    "\n",
    "            # Iterate over data.\n",
    "            for inputs, labels in dataloaders[phase]:\n",
    "                inputs = inputs.to(device)\n",
    "                labels = labels.to(device)\n",
    "\n",
    "                # zero the parameter gradients\n",
    "                optimizer.zero_grad()\n",
    "\n",
    "                # forward\n",
    "                # track history if only in train\n",
    "                with torch.set_grad_enabled(phase == 'train'):\n",
    "                    outputs = model(inputs)\n",
    "                    _, preds = torch.max(outputs, 1)\n",
    "                    loss = criterion(outputs, labels)\n",
    "\n",
    "                    # backward + optimize only if in training phase\n",
    "                    if phase == 'train':\n",
    "                        loss.backward()\n",
    "                        optimizer.step()\n",
    "\n",
    "                # statistics\n",
    "                running_loss += loss.item() * inputs.size(0)\n",
    "                running_corrects += torch.sum(preds == labels.data)\n",
    "            if phase == 'train':\n",
    "                scheduler.step()\n",
    "\n",
    "            epoch_loss = running_loss / dataset_sizes[phase]\n",
    "            epoch_acc = running_corrects.double() / dataset_sizes[phase]\n",
    "\n",
    "            print('{} Loss: {:.4f} Acc: {:.4f}'.format(\n",
    "                phase, epoch_loss, epoch_acc))\n",
    "            \n",
    "            end_time = time.time()\n",
    "            hours, rem = divmod(end_time-start_time, 3600)\n",
    "            minutes, seconds = divmod(rem, 60)\n",
    "            print(\"{:0>2}:{:0>2}:{:05.2f}\".format(int(hours),int(minutes),seconds))\n",
    "\n",
    "            # deep copy the model\n",
    "            if phase == 'val' and epoch_acc > best_acc:\n",
    "                best_acc = epoch_acc\n",
    "                best_model_wts = copy.deepcopy(model.state_dict())\n",
    "\n",
    "        print()\n",
    "\n",
    "    time_elapsed = time.time() - since\n",
    "    print('Training complete in {:.0f}m {:.0f}s'.format(\n",
    "        time_elapsed // 60, time_elapsed % 60))\n",
    "    print('Best val Acc: {:4f}'.format(best_acc))\n",
    "\n",
    "    # load best model weights\n",
    "    model.load_state_dict(best_model_wts)\n",
    "    return model"
   ]
  },
  {
   "cell_type": "code",
   "execution_count": 26,
   "metadata": {},
   "outputs": [],
   "source": [
    "# PyTorch libraries and modules\n",
    "from torch.optim import lr_scheduler\n",
    "import torch.nn as nn\n",
    "import torch.optim as optim\n",
    "import torch"
   ]
  },
  {
   "cell_type": "code",
   "execution_count": 27,
   "metadata": {},
   "outputs": [],
   "source": [
    "device = torch.device(\"cuda:0\" if torch.cuda.is_available() else \"cpu\")"
   ]
  },
  {
   "cell_type": "code",
   "execution_count": 77,
   "metadata": {},
   "outputs": [],
   "source": [
    "# Load a pretrained model and reset final fully connected layer.\n",
    "\n",
    "model_ft = models.resnet18(pretrained=True)\n",
    "num_ftrs = model_ft.fc.in_features\n",
    "\n",
    "# Here the size of each output sample is set to 168.\n",
    "# Alternatively, it can be generalized to nn.Linear(num_ftrs, len(class_names)).\n",
    "model_ft.fc = nn.Linear(num_ftrs, 168)\n",
    "\n",
    "# Ensuring the model is using GPU\n",
    "model_ft = model_ft.to(device)\n",
    "\n",
    "# As we have two classes (0 or 1) we will use cross-entropy as criterion\n",
    "criterion = nn.CrossEntropyLoss()\n",
    "\n",
    "# Observe that all parameters are being optimized\n",
    "optimizer_ft = optim.SGD(model_ft.parameters(), lr=0.001, momentum=0.9)\n",
    "\n",
    "# Decay LR by a factor of 0.1 every 7 epochs\n",
    "exp_lr_scheduler = lr_scheduler.StepLR(optimizer_ft, step_size=7, gamma=0.1)"
   ]
  },
  {
   "cell_type": "code",
   "execution_count": 240,
   "metadata": {},
   "outputs": [],
   "source": [
    "# OLD RESULTS: With approach 1"
   ]
  },
  {
   "cell_type": "code",
   "execution_count": 106,
   "metadata": {
    "scrolled": true
   },
   "outputs": [
    {
     "name": "stdout",
     "output_type": "stream",
     "text": [
      "Epoch 0/4\n",
      "----------\n",
      "train Loss: 0.7334 Acc: 0.6115\n",
      "val Loss: 0.0802 Acc: 0.1790\n",
      "\n",
      "Epoch 1/4\n",
      "----------\n",
      "train Loss: 0.2739 Acc: 0.7241\n",
      "val Loss: 0.0601 Acc: 0.1839\n",
      "\n",
      "Epoch 2/4\n",
      "----------\n",
      "train Loss: 0.1872 Acc: 0.7467\n",
      "val Loss: 0.0570 Acc: 0.1850\n",
      "\n",
      "Epoch 3/4\n",
      "----------\n",
      "train Loss: 0.1367 Acc: 0.7599\n",
      "val Loss: 0.0545 Acc: 0.1868\n",
      "\n",
      "Epoch 4/4\n",
      "----------\n",
      "train Loss: 0.1027 Acc: 0.7698\n",
      "val Loss: 0.0544 Acc: 0.1869\n",
      "\n",
      "Training complete in 149m 36s\n",
      "Best val Acc: 0.186860\n"
     ]
    }
   ],
   "source": [
    "model_ft = train_model(model_ft, criterion, optimizer_ft, exp_lr_scheduler,\n",
    "                       num_epochs=5)"
   ]
  },
  {
   "cell_type": "code",
   "execution_count": 97,
   "metadata": {},
   "outputs": [
    {
     "name": "stdout",
     "output_type": "stream",
     "text": [
      "Epoch 0/6\n",
      "----------\n",
      "train Loss: 3.6868 Acc: 3.0489\n",
      "00:23:56.39\n",
      "val Loss: 1.6905 Acc: 3.5616\n",
      "00:05:57.25\n",
      "\n",
      "Epoch 1/6\n",
      "----------\n",
      "train Loss: 1.3652 Acc: 3.6202\n",
      "00:23:51.46\n",
      "val Loss: 1.1444 Acc: 3.7015\n",
      "00:05:55.55\n",
      "\n",
      "Epoch 2/6\n",
      "----------\n",
      "train Loss: 0.9378 Acc: 3.7312\n",
      "00:23:59.85\n",
      "val Loss: 1.0687 Acc: 3.7313\n",
      "00:05:57.39\n",
      "\n",
      "Epoch 3/6\n",
      "----------\n",
      "train Loss: 0.6845 Acc: 3.7998\n",
      "00:23:56.03\n",
      "val Loss: 1.0981 Acc: 3.7296\n",
      "00:05:56.34\n",
      "\n",
      "Epoch 4/6\n",
      "----------\n",
      "train Loss: 0.5099 Acc: 3.8495\n",
      "00:23:54.58\n",
      "val Loss: 1.0338 Acc: 3.7474\n",
      "00:05:56.51\n",
      "\n",
      "Epoch 5/6\n",
      "----------\n",
      "train Loss: 0.3718 Acc: 3.8876\n",
      "00:23:58.96\n",
      "val Loss: 1.1535 Acc: 3.7410\n",
      "00:05:59.80\n",
      "\n",
      "Epoch 6/6\n",
      "----------\n",
      "train Loss: 0.2848 Acc: 3.9145\n",
      "00:24:02.56\n",
      "val Loss: 1.1043 Acc: 3.7518\n",
      "00:05:56.65\n",
      "\n",
      "Training complete in 209m 19s\n",
      "Best val Acc: 3.751842\n"
     ]
    }
   ],
   "source": [
    "model_ft = train_model(model_ft, criterion, optimizer_ft, exp_lr_scheduler,\n",
    "                       num_epochs=7)"
   ]
  },
  {
   "cell_type": "code",
   "execution_count": 52,
   "metadata": {},
   "outputs": [
    {
     "name": "stdout",
     "output_type": "stream",
     "text": [
      "Epoch 0/4\n",
      "----------\n",
      "train Loss: 3.6696 Acc: 3.0595\n",
      "00:11:50.67\n",
      "val Loss: 1.5518 Acc: 3.5982\n",
      "00:02:04.41\n",
      "\n",
      "Epoch 1/4\n",
      "----------\n",
      "train Loss: 1.3612 Acc: 3.6203\n",
      "00:11:50.42\n",
      "val Loss: 1.2887 Acc: 3.6550\n",
      "00:02:04.19\n",
      "\n",
      "Epoch 2/4\n",
      "----------\n",
      "train Loss: 0.9254 Acc: 3.7371\n",
      "00:11:57.87\n",
      "val Loss: 1.0451 Acc: 3.7348\n",
      "00:02:06.26\n",
      "\n",
      "Epoch 3/4\n",
      "----------\n",
      "train Loss: 0.6819 Acc: 3.8003\n",
      "00:11:53.31\n",
      "val Loss: 0.9907 Acc: 3.7541\n",
      "00:02:04.95\n",
      "\n",
      "Epoch 4/4\n",
      "----------\n",
      "train Loss: 0.5029 Acc: 3.8491\n",
      "00:11:50.70\n",
      "val Loss: 1.1097 Acc: 3.7446\n",
      "00:02:05.50\n",
      "\n",
      "Training complete in 69m 48s\n",
      "Best val Acc: 3.754133\n"
     ]
    }
   ],
   "source": [
    "# With approach 2\n",
    "model_ft = train_model(model_ft, criterion, optimizer_ft, exp_lr_scheduler,\n",
    "                       num_epochs=5)"
   ]
  },
  {
   "cell_type": "code",
   "execution_count": 53,
   "metadata": {},
   "outputs": [],
   "source": [
    "# Load a pretrained model and reset final fully connected layer.\n",
    "\n",
    "model_ft = models.resnet50(pretrained=True)\n",
    "num_ftrs = model_ft.fc.in_features\n",
    "\n",
    "# Here the size of each output sample is set to 168.\n",
    "# Alternatively, it can be generalized to nn.Linear(num_ftrs, len(class_names)).\n",
    "model_ft.fc = nn.Linear(num_ftrs, 168)\n",
    "\n",
    "# Ensuring the model is using GPU\n",
    "model_ft = model_ft.to(device)\n",
    "\n",
    "# As we have two classes (0 or 1) we will use cross-entropy as criterion\n",
    "criterion = nn.CrossEntropyLoss()\n",
    "\n",
    "# Observe that all parameters are being optimized\n",
    "optimizer_ft = optim.SGD(model_ft.parameters(), lr=0.01, momentum=0.9)\n",
    "\n",
    "# Decay LR by a factor of 0.1 every 7 epochs\n",
    "exp_lr_scheduler = lr_scheduler.StepLR(optimizer_ft, step_size=7, gamma=0.1)"
   ]
  },
  {
   "cell_type": "code",
   "execution_count": 54,
   "metadata": {},
   "outputs": [
    {
     "name": "stdout",
     "output_type": "stream",
     "text": [
      "Epoch 0/14\n",
      "----------\n",
      "train Loss: 13.5778 Acc: 0.9490\n",
      "00:25:07.63\n",
      "val Loss: 3.3546 Acc: 3.0642\n",
      "00:02:24.22\n",
      "\n",
      "Epoch 1/14\n",
      "----------\n",
      "train Loss: 2.3022 Acc: 3.3546\n",
      "00:25:11.42\n",
      "val Loss: 1.4499 Acc: 3.5963\n",
      "00:02:25.13\n",
      "\n",
      "Epoch 2/14\n",
      "----------\n",
      "train Loss: 1.3052 Acc: 3.6267\n",
      "00:25:09.75\n",
      "val Loss: 1.1231 Acc: 3.6836\n",
      "00:02:23.83\n",
      "\n",
      "Epoch 3/14\n",
      "----------\n",
      "train Loss: 0.9610 Acc: 3.7196\n",
      "00:25:12.55\n",
      "val Loss: 1.0719 Acc: 3.6993\n",
      "00:02:23.55\n",
      "\n",
      "Epoch 4/14\n",
      "----------\n",
      "train Loss: 0.7478 Acc: 3.7787\n",
      "00:25:13.44\n",
      "val Loss: 0.9800 Acc: 3.7264\n",
      "00:02:23.82\n",
      "\n",
      "Epoch 5/14\n",
      "----------\n",
      "train Loss: 0.6021 Acc: 3.8174\n",
      "00:25:07.31\n",
      "val Loss: 1.0181 Acc: 3.7206\n",
      "00:02:21.26\n",
      "\n",
      "Epoch 6/14\n",
      "----------\n",
      "train Loss: 0.4906 Acc: 3.8480\n",
      "00:25:11.23\n",
      "val Loss: 0.9787 Acc: 3.7318\n",
      "00:02:20.76\n",
      "\n",
      "Epoch 7/14\n",
      "----------\n",
      "train Loss: 0.3975 Acc: 3.8761\n",
      "00:25:09.99\n",
      "val Loss: 0.9574 Acc: 3.7394\n",
      "00:02:26.19\n",
      "\n",
      "Epoch 8/14\n",
      "----------\n",
      "train Loss: 0.1617 Acc: 3.9525\n",
      "00:25:11.29\n",
      "val Loss: 0.8218 Acc: 3.7905\n",
      "00:02:24.14\n",
      "\n",
      "Epoch 9/14\n",
      "----------\n",
      "train Loss: 0.1122 Acc: 3.9689\n",
      "00:25:08.65\n",
      "val Loss: 0.8541 Acc: 3.7929\n",
      "00:02:22.48\n",
      "\n",
      "Epoch 10/14\n",
      "----------\n",
      "train Loss: 0.0899 Acc: 3.9762\n",
      "00:25:12.09\n",
      "val Loss: 0.8859 Acc: 3.7928\n",
      "00:02:22.25\n",
      "\n",
      "Epoch 11/14\n",
      "----------\n",
      "train Loss: 0.0738 Acc: 3.9808\n",
      "00:25:12.56\n",
      "val Loss: 0.9011 Acc: 3.7919\n",
      "00:02:22.83\n",
      "\n",
      "Epoch 12/14\n",
      "----------\n",
      "train Loss: 0.0634 Acc: 3.9842\n",
      "00:25:10.11\n",
      "val Loss: 0.9279 Acc: 3.7932\n",
      "00:02:21.08\n",
      "\n",
      "Epoch 13/14\n",
      "----------\n",
      "train Loss: 0.0529 Acc: 3.9871\n",
      "00:25:10.98\n",
      "val Loss: 0.9688 Acc: 3.7904\n",
      "00:02:23.72\n",
      "\n",
      "Epoch 14/14\n",
      "----------\n",
      "train Loss: 0.0437 Acc: 3.9897\n",
      "00:25:11.79\n",
      "val Loss: 0.9878 Acc: 3.7914\n",
      "00:02:21.10\n",
      "\n",
      "Training complete in 413m 27s\n",
      "Best val Acc: 3.793169\n"
     ]
    }
   ],
   "source": [
    "# With approach 2\n",
    "model_ft = train_model(model_ft, criterion, optimizer_ft, exp_lr_scheduler,\n",
    "                       num_epochs=15)"
   ]
  },
  {
   "cell_type": "code",
   "execution_count": 79,
   "metadata": {},
   "outputs": [],
   "source": [
    "# Load a pretrained model and reset final fully connected layer.\n",
    "\n",
    "model_ft = models.resnet50(pretrained=True)\n",
    "num_ftrs = model_ft.fc.in_features\n",
    "\n",
    "# Here the size of each output sample is set to 168.\n",
    "# Alternatively, it can be generalized to nn.Linear(num_ftrs, len(class_names)).\n",
    "model_ft.fc = nn.Linear(num_ftrs, 168)\n",
    "\n",
    "# Ensuring the model is using GPU\n",
    "model_ft = model_ft.to(device)\n",
    "\n",
    "# As we have two classes (0 or 1) we will use cross-entropy as criterion\n",
    "criterion = nn.CrossEntropyLoss()\n",
    "\n",
    "# Observe that all parameters are being optimized\n",
    "optimizer_ft = optim.SGD(model_ft.parameters(), lr=0.001, momentum=0.9)\n",
    "\n",
    "# Decay LR by a factor of 0.1 every 7 epochs\n",
    "exp_lr_scheduler = lr_scheduler.StepLR(optimizer_ft, step_size=7, gamma=0.1)"
   ]
  },
  {
   "cell_type": "code",
   "execution_count": 78,
   "metadata": {},
   "outputs": [],
   "source": [
    "# approach 2, new way of val data generation, changed dataset_sizes"
   ]
  },
  {
   "cell_type": "code",
   "execution_count": 80,
   "metadata": {},
   "outputs": [
    {
     "name": "stdout",
     "output_type": "stream",
     "text": [
      "Epoch 0/4\n",
      "----------\n",
      "train Loss: 1.0742 Acc: 0.7486\n",
      "00:16:23.54\n",
      "val Loss: 0.3536 Acc: 0.9010\n",
      "00:01:59.31\n",
      "\n",
      "Epoch 1/4\n",
      "----------\n",
      "train Loss: 0.2793 Acc: 0.9250\n",
      "00:16:02.01\n",
      "val Loss: 0.2732 Acc: 0.9248\n",
      "00:01:59.82\n",
      "\n",
      "Epoch 2/4\n",
      "----------\n",
      "train Loss: 0.1535 Acc: 0.9591\n",
      "00:16:06.05\n",
      "val Loss: 0.2656 Acc: 0.9301\n",
      "00:01:59.03\n",
      "\n",
      "Epoch 3/4\n",
      "----------\n",
      "train Loss: 0.0924 Acc: 0.9760\n",
      "00:16:00.26\n",
      "val Loss: 0.2601 Acc: 0.9334\n",
      "00:01:59.10\n",
      "\n",
      "Epoch 4/4\n",
      "----------\n",
      "train Loss: 0.0590 Acc: 0.9850\n",
      "00:15:59.61\n",
      "val Loss: 0.2715 Acc: 0.9351\n",
      "00:01:59.23\n",
      "\n",
      "Training complete in 90m 28s\n",
      "Best val Acc: 0.935073\n"
     ]
    }
   ],
   "source": [
    "model_ft = train_model(model_ft, criterion, optimizer_ft, exp_lr_scheduler,\n",
    "                       num_epochs=5)"
   ]
  },
  {
   "cell_type": "code",
   "execution_count": 28,
   "metadata": {},
   "outputs": [],
   "source": [
    "# Load a pretrained model and reset final fully connected layer.\n",
    "\n",
    "model_ft = models.resnet152(pretrained=True)\n",
    "num_ftrs = model_ft.fc.in_features\n",
    "\n",
    "# Here the size of each output sample is set to 168.\n",
    "# Alternatively, it can be generalized to nn.Linear(num_ftrs, len(class_names)).\n",
    "model_ft.fc = nn.Linear(num_ftrs, 168)\n",
    "\n",
    "# Ensuring the model is using GPU\n",
    "model_ft = model_ft.to(device)\n",
    "\n",
    "# As we have two classes (0 or 1) we will use cross-entropy as criterion\n",
    "criterion = nn.CrossEntropyLoss()\n",
    "\n",
    "# Observe that all parameters are being optimized\n",
    "optimizer_ft = optim.SGD(model_ft.parameters(), lr=0.001, momentum=0.9)\n",
    "\n",
    "# Decay LR by a factor of 0.1 every 7 epochs\n",
    "exp_lr_scheduler = lr_scheduler.StepLR(optimizer_ft, step_size=7, gamma=0.1)"
   ]
  },
  {
   "cell_type": "code",
   "execution_count": 29,
   "metadata": {},
   "outputs": [
    {
     "name": "stdout",
     "output_type": "stream",
     "text": [
      "Epoch 0/9\n",
      "----------\n",
      "train Loss: 0.8474 Acc: 0.7985\n",
      "00:39:34.09\n",
      "val Loss: 0.3058 Acc: 0.9172\n",
      "00:03:15.10\n",
      "\n",
      "Epoch 1/9\n",
      "----------\n",
      "train Loss: 0.2272 Acc: 0.9395\n",
      "00:39:37.86\n",
      "val Loss: 0.2478 Acc: 0.9340\n",
      "00:03:15.32\n",
      "\n",
      "Epoch 2/9\n",
      "----------\n",
      "train Loss: 0.1272 Acc: 0.9661\n",
      "00:39:37.92\n",
      "val Loss: 0.2402 Acc: 0.9393\n",
      "00:03:15.53\n",
      "\n",
      "Epoch 3/9\n",
      "----------\n",
      "train Loss: 0.0823 Acc: 0.9777\n",
      "00:39:37.54\n",
      "val Loss: 0.2385 Acc: 0.9429\n",
      "00:03:15.66\n",
      "\n",
      "Epoch 4/9\n",
      "----------\n",
      "train Loss: 0.0573 Acc: 0.9839\n",
      "00:39:39.07\n",
      "val Loss: 0.2635 Acc: 0.9382\n",
      "00:03:15.73\n",
      "\n",
      "Epoch 5/9\n",
      "----------\n",
      "train Loss: 0.0413 Acc: 0.9884\n",
      "00:39:39.99\n",
      "val Loss: 0.2680 Acc: 0.9425\n",
      "00:03:15.89\n",
      "\n",
      "Epoch 6/9\n",
      "----------\n",
      "train Loss: 0.0320 Acc: 0.9911\n",
      "00:39:39.88\n",
      "val Loss: 0.2802 Acc: 0.9413\n",
      "00:03:16.01\n",
      "\n",
      "Epoch 7/9\n",
      "----------\n",
      "train Loss: 0.0293 Acc: 0.9919\n",
      "00:39:41.41\n",
      "val Loss: 0.2784 Acc: 0.9443\n",
      "00:03:15.10\n",
      "\n",
      "Epoch 8/9\n",
      "----------\n",
      "train Loss: 0.0098 Acc: 0.9976\n",
      "00:39:29.44\n",
      "val Loss: 0.2423 Acc: 0.9542\n",
      "00:03:14.47\n",
      "\n",
      "Epoch 9/9\n",
      "----------\n",
      "train Loss: 0.0035 Acc: 0.9998\n",
      "00:39:24.24\n",
      "val Loss: 0.2465 Acc: 0.9544\n",
      "00:03:13.56\n",
      "\n",
      "Training complete in 428m 34s\n",
      "Best val Acc: 0.954392\n"
     ]
    }
   ],
   "source": [
    "model_ft = train_model(model_ft, criterion, optimizer_ft, exp_lr_scheduler,\n",
    "                       num_epochs=10)"
   ]
  },
  {
   "cell_type": "code",
   "execution_count": 30,
   "metadata": {},
   "outputs": [],
   "source": [
    "torch.save(model_ft, 'grapheme-root-base.pth')"
   ]
  },
  {
   "cell_type": "markdown",
   "metadata": {},
   "source": [
    "### Let's load test dataset"
   ]
  },
  {
   "cell_type": "code",
   "execution_count": null,
   "metadata": {},
   "outputs": [],
   "source": []
  },
  {
   "cell_type": "markdown",
   "metadata": {},
   "source": [
    "It seems our model is overfitting with 99.99% accuracy on training dataset and 95% accuracy on validation dataset."
   ]
  },
  {
   "cell_type": "markdown",
   "metadata": {},
   "source": [
    "Let's add dropout of 0.5"
   ]
  },
  {
   "cell_type": "code",
   "execution_count": 36,
   "metadata": {},
   "outputs": [],
   "source": [
    "# Load a pretrained model and reset final fully connected layer.\n",
    "\n",
    "model_ft = models.resnet152(pretrained=True)\n",
    "num_ftrs = model_ft.fc.in_features\n",
    "\n",
    "# Here the size of each output sample is set to 168.\n",
    "# Alternatively, it can be generalized to nn.Linear(num_ftrs, len(class_names)).\n",
    "model_ft.fc = nn.Linear(num_ftrs, 168)\n",
    "model_ft.fc = nn.Dropout(0.5)\n",
    "\n",
    "# Ensuring the model is using GPU\n",
    "model_ft = model_ft.to(device)\n",
    "\n",
    "# As we have two classes (0 or 1) we will use cross-entropy as criterion\n",
    "criterion = nn.CrossEntropyLoss()\n",
    "\n",
    "# Observe that all parameters are being optimized\n",
    "optimizer_ft = optim.SGD(model_ft.parameters(), lr=0.001, momentum=0.9)\n",
    "\n",
    "# Decay LR by a factor of 0.1 every 7 epochs\n",
    "exp_lr_scheduler = lr_scheduler.StepLR(optimizer_ft, step_size=7, gamma=0.1)"
   ]
  },
  {
   "cell_type": "code",
   "execution_count": 37,
   "metadata": {},
   "outputs": [
    {
     "name": "stdout",
     "output_type": "stream",
     "text": [
      "Epoch 0/14\n",
      "----------\n",
      "train Loss: 4.9064 Acc: 0.3743\n",
      "00:39:28.66\n",
      "val Loss: 1.7101 Acc: 0.8835\n",
      "00:03:14.04\n",
      "\n",
      "Epoch 1/14\n",
      "----------\n",
      "train Loss: 4.2530 Acc: 0.4639\n",
      "00:39:33.48\n",
      "val Loss: 1.2661 Acc: 0.9164\n",
      "00:03:14.54\n",
      "\n",
      "Epoch 2/14\n",
      "----------\n",
      "train Loss: 4.1477 Acc: 0.4746\n",
      "00:39:32.52\n",
      "val Loss: 1.0021 Acc: 0.9259\n",
      "00:03:14.45\n",
      "\n",
      "Epoch 3/14\n",
      "----------\n"
     ]
    },
    {
     "ename": "KeyboardInterrupt",
     "evalue": "",
     "output_type": "error",
     "traceback": [
      "\u001b[0;31m---------------------------------------------------------------------------\u001b[0m",
      "\u001b[0;31mKeyboardInterrupt\u001b[0m                         Traceback (most recent call last)",
      "\u001b[0;32m<ipython-input-37-80b427a3cf93>\u001b[0m in \u001b[0;36m<module>\u001b[0;34m\u001b[0m\n\u001b[1;32m      1\u001b[0m model_ft = train_model(model_ft, criterion, optimizer_ft, exp_lr_scheduler,\n\u001b[0;32m----> 2\u001b[0;31m                        num_epochs=15)\n\u001b[0m",
      "\u001b[0;32m<ipython-input-33-676960e6f38c>\u001b[0m in \u001b[0;36mtrain_model\u001b[0;34m(model, criterion, optimizer, scheduler, num_epochs)\u001b[0m\n\u001b[1;32m     35\u001b[0m                 \u001b[0;31m# track history if only in train\u001b[0m\u001b[0;34m\u001b[0m\u001b[0;34m\u001b[0m\u001b[0;34m\u001b[0m\u001b[0m\n\u001b[1;32m     36\u001b[0m                 \u001b[0;32mwith\u001b[0m \u001b[0mtorch\u001b[0m\u001b[0;34m.\u001b[0m\u001b[0mset_grad_enabled\u001b[0m\u001b[0;34m(\u001b[0m\u001b[0mphase\u001b[0m \u001b[0;34m==\u001b[0m \u001b[0;34m'train'\u001b[0m\u001b[0;34m)\u001b[0m\u001b[0;34m:\u001b[0m\u001b[0;34m\u001b[0m\u001b[0;34m\u001b[0m\u001b[0m\n\u001b[0;32m---> 37\u001b[0;31m                     \u001b[0moutputs\u001b[0m \u001b[0;34m=\u001b[0m \u001b[0mmodel\u001b[0m\u001b[0;34m(\u001b[0m\u001b[0minputs\u001b[0m\u001b[0;34m)\u001b[0m\u001b[0;34m\u001b[0m\u001b[0;34m\u001b[0m\u001b[0m\n\u001b[0m\u001b[1;32m     38\u001b[0m                     \u001b[0m_\u001b[0m\u001b[0;34m,\u001b[0m \u001b[0mpreds\u001b[0m \u001b[0;34m=\u001b[0m \u001b[0mtorch\u001b[0m\u001b[0;34m.\u001b[0m\u001b[0mmax\u001b[0m\u001b[0;34m(\u001b[0m\u001b[0moutputs\u001b[0m\u001b[0;34m,\u001b[0m \u001b[0;36m1\u001b[0m\u001b[0;34m)\u001b[0m\u001b[0;34m\u001b[0m\u001b[0;34m\u001b[0m\u001b[0m\n\u001b[1;32m     39\u001b[0m                     \u001b[0mloss\u001b[0m \u001b[0;34m=\u001b[0m \u001b[0mcriterion\u001b[0m\u001b[0;34m(\u001b[0m\u001b[0moutputs\u001b[0m\u001b[0;34m,\u001b[0m \u001b[0mlabels\u001b[0m\u001b[0;34m)\u001b[0m\u001b[0;34m\u001b[0m\u001b[0;34m\u001b[0m\u001b[0m\n",
      "\u001b[0;32m~/anaconda3/lib/python3.7/site-packages/torch/nn/modules/module.py\u001b[0m in \u001b[0;36m__call__\u001b[0;34m(self, *input, **kwargs)\u001b[0m\n\u001b[1;32m    487\u001b[0m             \u001b[0mresult\u001b[0m \u001b[0;34m=\u001b[0m \u001b[0mself\u001b[0m\u001b[0;34m.\u001b[0m\u001b[0m_slow_forward\u001b[0m\u001b[0;34m(\u001b[0m\u001b[0;34m*\u001b[0m\u001b[0minput\u001b[0m\u001b[0;34m,\u001b[0m \u001b[0;34m**\u001b[0m\u001b[0mkwargs\u001b[0m\u001b[0;34m)\u001b[0m\u001b[0;34m\u001b[0m\u001b[0;34m\u001b[0m\u001b[0m\n\u001b[1;32m    488\u001b[0m         \u001b[0;32melse\u001b[0m\u001b[0;34m:\u001b[0m\u001b[0;34m\u001b[0m\u001b[0;34m\u001b[0m\u001b[0m\n\u001b[0;32m--> 489\u001b[0;31m             \u001b[0mresult\u001b[0m \u001b[0;34m=\u001b[0m \u001b[0mself\u001b[0m\u001b[0;34m.\u001b[0m\u001b[0mforward\u001b[0m\u001b[0;34m(\u001b[0m\u001b[0;34m*\u001b[0m\u001b[0minput\u001b[0m\u001b[0;34m,\u001b[0m \u001b[0;34m**\u001b[0m\u001b[0mkwargs\u001b[0m\u001b[0;34m)\u001b[0m\u001b[0;34m\u001b[0m\u001b[0;34m\u001b[0m\u001b[0m\n\u001b[0m\u001b[1;32m    490\u001b[0m         \u001b[0;32mfor\u001b[0m \u001b[0mhook\u001b[0m \u001b[0;32min\u001b[0m \u001b[0mself\u001b[0m\u001b[0;34m.\u001b[0m\u001b[0m_forward_hooks\u001b[0m\u001b[0;34m.\u001b[0m\u001b[0mvalues\u001b[0m\u001b[0;34m(\u001b[0m\u001b[0;34m)\u001b[0m\u001b[0;34m:\u001b[0m\u001b[0;34m\u001b[0m\u001b[0;34m\u001b[0m\u001b[0m\n\u001b[1;32m    491\u001b[0m             \u001b[0mhook_result\u001b[0m \u001b[0;34m=\u001b[0m \u001b[0mhook\u001b[0m\u001b[0;34m(\u001b[0m\u001b[0mself\u001b[0m\u001b[0;34m,\u001b[0m \u001b[0minput\u001b[0m\u001b[0;34m,\u001b[0m \u001b[0mresult\u001b[0m\u001b[0;34m)\u001b[0m\u001b[0;34m\u001b[0m\u001b[0;34m\u001b[0m\u001b[0m\n",
      "\u001b[0;32m~/anaconda3/lib/python3.7/site-packages/torchvision/models/resnet.py\u001b[0m in \u001b[0;36mforward\u001b[0;34m(self, x)\u001b[0m\n\u001b[1;32m    144\u001b[0m         \u001b[0mx\u001b[0m \u001b[0;34m=\u001b[0m \u001b[0mself\u001b[0m\u001b[0;34m.\u001b[0m\u001b[0mlayer1\u001b[0m\u001b[0;34m(\u001b[0m\u001b[0mx\u001b[0m\u001b[0;34m)\u001b[0m\u001b[0;34m\u001b[0m\u001b[0;34m\u001b[0m\u001b[0m\n\u001b[1;32m    145\u001b[0m         \u001b[0mx\u001b[0m \u001b[0;34m=\u001b[0m \u001b[0mself\u001b[0m\u001b[0;34m.\u001b[0m\u001b[0mlayer2\u001b[0m\u001b[0;34m(\u001b[0m\u001b[0mx\u001b[0m\u001b[0;34m)\u001b[0m\u001b[0;34m\u001b[0m\u001b[0;34m\u001b[0m\u001b[0m\n\u001b[0;32m--> 146\u001b[0;31m         \u001b[0mx\u001b[0m \u001b[0;34m=\u001b[0m \u001b[0mself\u001b[0m\u001b[0;34m.\u001b[0m\u001b[0mlayer3\u001b[0m\u001b[0;34m(\u001b[0m\u001b[0mx\u001b[0m\u001b[0;34m)\u001b[0m\u001b[0;34m\u001b[0m\u001b[0;34m\u001b[0m\u001b[0m\n\u001b[0m\u001b[1;32m    147\u001b[0m         \u001b[0mx\u001b[0m \u001b[0;34m=\u001b[0m \u001b[0mself\u001b[0m\u001b[0;34m.\u001b[0m\u001b[0mlayer4\u001b[0m\u001b[0;34m(\u001b[0m\u001b[0mx\u001b[0m\u001b[0;34m)\u001b[0m\u001b[0;34m\u001b[0m\u001b[0;34m\u001b[0m\u001b[0m\n\u001b[1;32m    148\u001b[0m \u001b[0;34m\u001b[0m\u001b[0m\n",
      "\u001b[0;32m~/anaconda3/lib/python3.7/site-packages/torch/nn/modules/module.py\u001b[0m in \u001b[0;36m__call__\u001b[0;34m(self, *input, **kwargs)\u001b[0m\n\u001b[1;32m    487\u001b[0m             \u001b[0mresult\u001b[0m \u001b[0;34m=\u001b[0m \u001b[0mself\u001b[0m\u001b[0;34m.\u001b[0m\u001b[0m_slow_forward\u001b[0m\u001b[0;34m(\u001b[0m\u001b[0;34m*\u001b[0m\u001b[0minput\u001b[0m\u001b[0;34m,\u001b[0m \u001b[0;34m**\u001b[0m\u001b[0mkwargs\u001b[0m\u001b[0;34m)\u001b[0m\u001b[0;34m\u001b[0m\u001b[0;34m\u001b[0m\u001b[0m\n\u001b[1;32m    488\u001b[0m         \u001b[0;32melse\u001b[0m\u001b[0;34m:\u001b[0m\u001b[0;34m\u001b[0m\u001b[0;34m\u001b[0m\u001b[0m\n\u001b[0;32m--> 489\u001b[0;31m             \u001b[0mresult\u001b[0m \u001b[0;34m=\u001b[0m \u001b[0mself\u001b[0m\u001b[0;34m.\u001b[0m\u001b[0mforward\u001b[0m\u001b[0;34m(\u001b[0m\u001b[0;34m*\u001b[0m\u001b[0minput\u001b[0m\u001b[0;34m,\u001b[0m \u001b[0;34m**\u001b[0m\u001b[0mkwargs\u001b[0m\u001b[0;34m)\u001b[0m\u001b[0;34m\u001b[0m\u001b[0;34m\u001b[0m\u001b[0m\n\u001b[0m\u001b[1;32m    490\u001b[0m         \u001b[0;32mfor\u001b[0m \u001b[0mhook\u001b[0m \u001b[0;32min\u001b[0m \u001b[0mself\u001b[0m\u001b[0;34m.\u001b[0m\u001b[0m_forward_hooks\u001b[0m\u001b[0;34m.\u001b[0m\u001b[0mvalues\u001b[0m\u001b[0;34m(\u001b[0m\u001b[0;34m)\u001b[0m\u001b[0;34m:\u001b[0m\u001b[0;34m\u001b[0m\u001b[0;34m\u001b[0m\u001b[0m\n\u001b[1;32m    491\u001b[0m             \u001b[0mhook_result\u001b[0m \u001b[0;34m=\u001b[0m \u001b[0mhook\u001b[0m\u001b[0;34m(\u001b[0m\u001b[0mself\u001b[0m\u001b[0;34m,\u001b[0m \u001b[0minput\u001b[0m\u001b[0;34m,\u001b[0m \u001b[0mresult\u001b[0m\u001b[0;34m)\u001b[0m\u001b[0;34m\u001b[0m\u001b[0;34m\u001b[0m\u001b[0m\n",
      "\u001b[0;32m~/anaconda3/lib/python3.7/site-packages/torch/nn/modules/container.py\u001b[0m in \u001b[0;36mforward\u001b[0;34m(self, input)\u001b[0m\n\u001b[1;32m     90\u001b[0m     \u001b[0;32mdef\u001b[0m \u001b[0mforward\u001b[0m\u001b[0;34m(\u001b[0m\u001b[0mself\u001b[0m\u001b[0;34m,\u001b[0m \u001b[0minput\u001b[0m\u001b[0;34m)\u001b[0m\u001b[0;34m:\u001b[0m\u001b[0;34m\u001b[0m\u001b[0;34m\u001b[0m\u001b[0m\n\u001b[1;32m     91\u001b[0m         \u001b[0;32mfor\u001b[0m \u001b[0mmodule\u001b[0m \u001b[0;32min\u001b[0m \u001b[0mself\u001b[0m\u001b[0;34m.\u001b[0m\u001b[0m_modules\u001b[0m\u001b[0;34m.\u001b[0m\u001b[0mvalues\u001b[0m\u001b[0;34m(\u001b[0m\u001b[0;34m)\u001b[0m\u001b[0;34m:\u001b[0m\u001b[0;34m\u001b[0m\u001b[0;34m\u001b[0m\u001b[0m\n\u001b[0;32m---> 92\u001b[0;31m             \u001b[0minput\u001b[0m \u001b[0;34m=\u001b[0m \u001b[0mmodule\u001b[0m\u001b[0;34m(\u001b[0m\u001b[0minput\u001b[0m\u001b[0;34m)\u001b[0m\u001b[0;34m\u001b[0m\u001b[0;34m\u001b[0m\u001b[0m\n\u001b[0m\u001b[1;32m     93\u001b[0m         \u001b[0;32mreturn\u001b[0m \u001b[0minput\u001b[0m\u001b[0;34m\u001b[0m\u001b[0;34m\u001b[0m\u001b[0m\n\u001b[1;32m     94\u001b[0m \u001b[0;34m\u001b[0m\u001b[0m\n",
      "\u001b[0;32m~/anaconda3/lib/python3.7/site-packages/torch/nn/modules/module.py\u001b[0m in \u001b[0;36m__call__\u001b[0;34m(self, *input, **kwargs)\u001b[0m\n\u001b[1;32m    487\u001b[0m             \u001b[0mresult\u001b[0m \u001b[0;34m=\u001b[0m \u001b[0mself\u001b[0m\u001b[0;34m.\u001b[0m\u001b[0m_slow_forward\u001b[0m\u001b[0;34m(\u001b[0m\u001b[0;34m*\u001b[0m\u001b[0minput\u001b[0m\u001b[0;34m,\u001b[0m \u001b[0;34m**\u001b[0m\u001b[0mkwargs\u001b[0m\u001b[0;34m)\u001b[0m\u001b[0;34m\u001b[0m\u001b[0;34m\u001b[0m\u001b[0m\n\u001b[1;32m    488\u001b[0m         \u001b[0;32melse\u001b[0m\u001b[0;34m:\u001b[0m\u001b[0;34m\u001b[0m\u001b[0;34m\u001b[0m\u001b[0m\n\u001b[0;32m--> 489\u001b[0;31m             \u001b[0mresult\u001b[0m \u001b[0;34m=\u001b[0m \u001b[0mself\u001b[0m\u001b[0;34m.\u001b[0m\u001b[0mforward\u001b[0m\u001b[0;34m(\u001b[0m\u001b[0;34m*\u001b[0m\u001b[0minput\u001b[0m\u001b[0;34m,\u001b[0m \u001b[0;34m**\u001b[0m\u001b[0mkwargs\u001b[0m\u001b[0;34m)\u001b[0m\u001b[0;34m\u001b[0m\u001b[0;34m\u001b[0m\u001b[0m\n\u001b[0m\u001b[1;32m    490\u001b[0m         \u001b[0;32mfor\u001b[0m \u001b[0mhook\u001b[0m \u001b[0;32min\u001b[0m \u001b[0mself\u001b[0m\u001b[0;34m.\u001b[0m\u001b[0m_forward_hooks\u001b[0m\u001b[0;34m.\u001b[0m\u001b[0mvalues\u001b[0m\u001b[0;34m(\u001b[0m\u001b[0;34m)\u001b[0m\u001b[0;34m:\u001b[0m\u001b[0;34m\u001b[0m\u001b[0;34m\u001b[0m\u001b[0m\n\u001b[1;32m    491\u001b[0m             \u001b[0mhook_result\u001b[0m \u001b[0;34m=\u001b[0m \u001b[0mhook\u001b[0m\u001b[0;34m(\u001b[0m\u001b[0mself\u001b[0m\u001b[0;34m,\u001b[0m \u001b[0minput\u001b[0m\u001b[0;34m,\u001b[0m \u001b[0mresult\u001b[0m\u001b[0;34m)\u001b[0m\u001b[0;34m\u001b[0m\u001b[0;34m\u001b[0m\u001b[0m\n",
      "\u001b[0;32m~/anaconda3/lib/python3.7/site-packages/torchvision/models/resnet.py\u001b[0m in \u001b[0;36mforward\u001b[0;34m(self, x)\u001b[0m\n\u001b[1;32m     78\u001b[0m         \u001b[0mout\u001b[0m \u001b[0;34m=\u001b[0m \u001b[0mself\u001b[0m\u001b[0;34m.\u001b[0m\u001b[0mrelu\u001b[0m\u001b[0;34m(\u001b[0m\u001b[0mout\u001b[0m\u001b[0;34m)\u001b[0m\u001b[0;34m\u001b[0m\u001b[0;34m\u001b[0m\u001b[0m\n\u001b[1;32m     79\u001b[0m \u001b[0;34m\u001b[0m\u001b[0m\n\u001b[0;32m---> 80\u001b[0;31m         \u001b[0mout\u001b[0m \u001b[0;34m=\u001b[0m \u001b[0mself\u001b[0m\u001b[0;34m.\u001b[0m\u001b[0mconv2\u001b[0m\u001b[0;34m(\u001b[0m\u001b[0mout\u001b[0m\u001b[0;34m)\u001b[0m\u001b[0;34m\u001b[0m\u001b[0;34m\u001b[0m\u001b[0m\n\u001b[0m\u001b[1;32m     81\u001b[0m         \u001b[0mout\u001b[0m \u001b[0;34m=\u001b[0m \u001b[0mself\u001b[0m\u001b[0;34m.\u001b[0m\u001b[0mbn2\u001b[0m\u001b[0;34m(\u001b[0m\u001b[0mout\u001b[0m\u001b[0;34m)\u001b[0m\u001b[0;34m\u001b[0m\u001b[0;34m\u001b[0m\u001b[0m\n\u001b[1;32m     82\u001b[0m         \u001b[0mout\u001b[0m \u001b[0;34m=\u001b[0m \u001b[0mself\u001b[0m\u001b[0;34m.\u001b[0m\u001b[0mrelu\u001b[0m\u001b[0;34m(\u001b[0m\u001b[0mout\u001b[0m\u001b[0;34m)\u001b[0m\u001b[0;34m\u001b[0m\u001b[0;34m\u001b[0m\u001b[0m\n",
      "\u001b[0;32m~/anaconda3/lib/python3.7/site-packages/torch/nn/modules/module.py\u001b[0m in \u001b[0;36m__call__\u001b[0;34m(self, *input, **kwargs)\u001b[0m\n\u001b[1;32m    487\u001b[0m             \u001b[0mresult\u001b[0m \u001b[0;34m=\u001b[0m \u001b[0mself\u001b[0m\u001b[0;34m.\u001b[0m\u001b[0m_slow_forward\u001b[0m\u001b[0;34m(\u001b[0m\u001b[0;34m*\u001b[0m\u001b[0minput\u001b[0m\u001b[0;34m,\u001b[0m \u001b[0;34m**\u001b[0m\u001b[0mkwargs\u001b[0m\u001b[0;34m)\u001b[0m\u001b[0;34m\u001b[0m\u001b[0;34m\u001b[0m\u001b[0m\n\u001b[1;32m    488\u001b[0m         \u001b[0;32melse\u001b[0m\u001b[0;34m:\u001b[0m\u001b[0;34m\u001b[0m\u001b[0;34m\u001b[0m\u001b[0m\n\u001b[0;32m--> 489\u001b[0;31m             \u001b[0mresult\u001b[0m \u001b[0;34m=\u001b[0m \u001b[0mself\u001b[0m\u001b[0;34m.\u001b[0m\u001b[0mforward\u001b[0m\u001b[0;34m(\u001b[0m\u001b[0;34m*\u001b[0m\u001b[0minput\u001b[0m\u001b[0;34m,\u001b[0m \u001b[0;34m**\u001b[0m\u001b[0mkwargs\u001b[0m\u001b[0;34m)\u001b[0m\u001b[0;34m\u001b[0m\u001b[0;34m\u001b[0m\u001b[0m\n\u001b[0m\u001b[1;32m    490\u001b[0m         \u001b[0;32mfor\u001b[0m \u001b[0mhook\u001b[0m \u001b[0;32min\u001b[0m \u001b[0mself\u001b[0m\u001b[0;34m.\u001b[0m\u001b[0m_forward_hooks\u001b[0m\u001b[0;34m.\u001b[0m\u001b[0mvalues\u001b[0m\u001b[0;34m(\u001b[0m\u001b[0;34m)\u001b[0m\u001b[0;34m:\u001b[0m\u001b[0;34m\u001b[0m\u001b[0;34m\u001b[0m\u001b[0m\n\u001b[1;32m    491\u001b[0m             \u001b[0mhook_result\u001b[0m \u001b[0;34m=\u001b[0m \u001b[0mhook\u001b[0m\u001b[0;34m(\u001b[0m\u001b[0mself\u001b[0m\u001b[0;34m,\u001b[0m \u001b[0minput\u001b[0m\u001b[0;34m,\u001b[0m \u001b[0mresult\u001b[0m\u001b[0;34m)\u001b[0m\u001b[0;34m\u001b[0m\u001b[0;34m\u001b[0m\u001b[0m\n",
      "\u001b[0;32m~/anaconda3/lib/python3.7/site-packages/torch/nn/modules/conv.py\u001b[0m in \u001b[0;36mforward\u001b[0;34m(self, input)\u001b[0m\n\u001b[1;32m    318\u001b[0m     \u001b[0;32mdef\u001b[0m \u001b[0mforward\u001b[0m\u001b[0;34m(\u001b[0m\u001b[0mself\u001b[0m\u001b[0;34m,\u001b[0m \u001b[0minput\u001b[0m\u001b[0;34m)\u001b[0m\u001b[0;34m:\u001b[0m\u001b[0;34m\u001b[0m\u001b[0;34m\u001b[0m\u001b[0m\n\u001b[1;32m    319\u001b[0m         return F.conv2d(input, self.weight, self.bias, self.stride,\n\u001b[0;32m--> 320\u001b[0;31m                         self.padding, self.dilation, self.groups)\n\u001b[0m\u001b[1;32m    321\u001b[0m \u001b[0;34m\u001b[0m\u001b[0m\n\u001b[1;32m    322\u001b[0m \u001b[0;34m\u001b[0m\u001b[0m\n",
      "\u001b[0;31mKeyboardInterrupt\u001b[0m: "
     ]
    }
   ],
   "source": [
    "model_ft = train_model(model_ft, criterion, optimizer_ft, exp_lr_scheduler,\n",
    "                       num_epochs=15)"
   ]
  },
  {
   "cell_type": "markdown",
   "metadata": {},
   "source": [
    "The dropout of 0.5 seems too much. Let'ds yty with 0.25"
   ]
  },
  {
   "cell_type": "code",
   "execution_count": 26,
   "metadata": {},
   "outputs": [],
   "source": [
    "# Load a pretrained model and reset final fully connected layer.\n",
    "\n",
    "model_ft = models.resnet152(pretrained=True)\n",
    "num_ftrs = model_ft.fc.in_features\n",
    "\n",
    "# Here the size of each output sample is set to 168.\n",
    "# Alternatively, it can be generalized to nn.Linear(num_ftrs, len(class_names)).\n",
    "model_ft.fc = nn.Linear(num_ftrs, 168)\n",
    "model_ft.fc = nn.Dropout(0.2)\n",
    "\n",
    "# Ensuring the model is using GPU\n",
    "model_ft = model_ft.to(device)\n",
    "\n",
    "# As we have two classes (0 or 1) we will use cross-entropy as criterion\n",
    "criterion = nn.CrossEntropyLoss()\n",
    "\n",
    "# Observe that all parameters are being optimized\n",
    "optimizer_ft = optim.SGD(model_ft.parameters(), lr=0.001, momentum=0.9)\n",
    "\n",
    "# Decay LR by a factor of 0.1 every 7 epochs\n",
    "exp_lr_scheduler = lr_scheduler.StepLR(optimizer_ft, step_size=7, gamma=0.1)"
   ]
  },
  {
   "cell_type": "code",
   "execution_count": 27,
   "metadata": {},
   "outputs": [
    {
     "name": "stdout",
     "output_type": "stream",
     "text": [
      "Epoch 0/14\n",
      "----------\n",
      "train Loss: 2.9967 Acc: 0.5881\n",
      "00:39:31.37\n",
      "val Loss: 0.4949 Acc: 0.8971\n",
      "00:03:14.78\n",
      "\n",
      "Epoch 1/14\n",
      "----------\n",
      "train Loss: 2.0227 Acc: 0.7387\n",
      "00:39:46.27\n",
      "val Loss: 0.3836 Acc: 0.9248\n",
      "00:03:15.14\n",
      "\n",
      "Epoch 2/14\n",
      "----------\n",
      "train Loss: 1.8984 Acc: 0.7587\n",
      "00:39:33.78\n",
      "val Loss: 0.3536 Acc: 0.9335\n",
      "00:03:14.87\n",
      "\n",
      "Epoch 3/14\n",
      "----------\n",
      "train Loss: 1.8189 Acc: 0.7699\n",
      "00:39:31.68\n",
      "val Loss: 0.3596 Acc: 0.9365\n",
      "00:03:14.68\n",
      "\n",
      "Epoch 4/14\n",
      "----------\n",
      "train Loss: 1.7831 Acc: 0.7737\n",
      "00:39:29.96\n",
      "val Loss: 0.3625 Acc: 0.9392\n",
      "00:03:14.17\n",
      "\n",
      "Epoch 5/14\n",
      "----------\n",
      "train Loss: 1.7363 Acc: 0.7800\n",
      "00:39:30.01\n",
      "val Loss: 0.3940 Acc: 0.9383\n",
      "00:03:14.67\n",
      "\n",
      "Epoch 6/14\n",
      "----------\n",
      "train Loss: 1.7000 Acc: 0.7845\n",
      "00:39:30.12\n",
      "val Loss: 0.3784 Acc: 0.9434\n",
      "00:03:14.59\n",
      "\n",
      "Epoch 7/14\n",
      "----------\n",
      "train Loss: 1.6830 Acc: 0.7861\n",
      "00:39:29.06\n",
      "val Loss: 0.3866 Acc: 0.9443\n",
      "00:03:14.60\n",
      "\n",
      "Epoch 8/14\n",
      "----------\n",
      "train Loss: 1.6330 Acc: 0.7931\n",
      "00:39:29.21\n",
      "val Loss: 0.3287 Acc: 0.9537\n",
      "00:03:14.40\n",
      "\n",
      "Epoch 9/14\n",
      "----------\n",
      "train Loss: 1.6103 Acc: 0.7964\n",
      "00:39:26.96\n",
      "val Loss: 0.3369 Acc: 0.9544\n",
      "00:03:14.38\n",
      "\n",
      "Epoch 10/14\n",
      "----------\n",
      "train Loss: 1.6069 Acc: 0.7967\n",
      "00:39:26.70\n",
      "val Loss: 0.3426 Acc: 0.9549\n",
      "00:03:14.24\n",
      "\n",
      "Epoch 11/14\n",
      "----------\n",
      "train Loss: 1.5984 Acc: 0.7977\n",
      "00:39:24.87\n",
      "val Loss: 0.3480 Acc: 0.9553\n",
      "00:03:14.24\n",
      "\n",
      "Epoch 12/14\n",
      "----------\n",
      "train Loss: 1.5833 Acc: 0.7995\n",
      "00:39:25.42\n",
      "val Loss: 0.3566 Acc: 0.9553\n",
      "00:03:14.05\n",
      "\n",
      "Epoch 13/14\n",
      "----------\n",
      "train Loss: 1.5889 Acc: 0.7987\n",
      "00:39:25.82\n",
      "val Loss: 0.3602 Acc: 0.9553\n",
      "00:03:14.54\n",
      "\n",
      "Epoch 14/14\n",
      "----------\n",
      "train Loss: 1.5980 Acc: 0.7973\n",
      "00:39:37.96\n",
      "val Loss: 0.3669 Acc: 0.9555\n",
      "00:03:14.16\n",
      "\n",
      "Training complete in 641m 17s\n",
      "Best val Acc: 0.955487\n"
     ]
    }
   ],
   "source": [
    "model_ft = train_model(model_ft, criterion, optimizer_ft, exp_lr_scheduler,\n",
    "                       num_epochs=15)"
   ]
  }
 ],
 "metadata": {
  "kernelspec": {
   "display_name": "Python 3",
   "language": "python",
   "name": "python3"
  },
  "language_info": {
   "codemirror_mode": {
    "name": "ipython",
    "version": 3
   },
   "file_extension": ".py",
   "mimetype": "text/x-python",
   "name": "python",
   "nbconvert_exporter": "python",
   "pygments_lexer": "ipython3",
   "version": "3.7.3"
  }
 },
 "nbformat": 4,
 "nbformat_minor": 2
}
