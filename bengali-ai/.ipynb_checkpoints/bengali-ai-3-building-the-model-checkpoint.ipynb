{
 "cells": [
  {
   "cell_type": "code",
   "execution_count": 1,
   "metadata": {},
   "outputs": [],
   "source": [
    "%matplotlib inline \n",
    "# If we don't do this then image will open as pop-up and not in notebook"
   ]
  },
  {
   "cell_type": "code",
   "execution_count": 2,
   "metadata": {},
   "outputs": [],
   "source": [
    "import pyarrow.parquet as pq \n",
    "import pandas as pd\n",
    "import numpy as np\n",
    "from PIL import Image as im\n",
    "import matplotlib as plt\n",
    "from matplotlib.pyplot import imshow"
   ]
  },
  {
   "cell_type": "code",
   "execution_count": 90,
   "metadata": {},
   "outputs": [],
   "source": [
    "import wget\n",
    "import time\n",
    "import os\n",
    "import copy"
   ]
  },
  {
   "cell_type": "code",
   "execution_count": 3,
   "metadata": {},
   "outputs": [
    {
     "name": "stdout",
     "output_type": "stream",
     "text": [
      "total 9126404\r\n",
      "-rw-r--r-- 1 ubuntu ubuntu 4161805187 Jan 16 23:18 bengaliai-cv19.zip\r\n",
      "-rw-r--r-- 1 ubuntu ubuntu       4830 Dec 19 18:22 class_map.csv\r\n",
      "-rw-r--r-- 1 ubuntu ubuntu        944 Dec 19 18:22 sample_submission.csv\r\n",
      "-rw-r--r-- 1 ubuntu ubuntu       1742 Dec 19 18:22 test.csv\r\n",
      "-rw-r--r-- 1 ubuntu ubuntu    9903859 Dec 19 18:22 test_image_data_0.parquet\r\n",
      "-rw-r--r-- 1 ubuntu ubuntu   10003997 Dec 19 18:22 test_image_data_1.parquet\r\n",
      "-rw-r--r-- 1 ubuntu ubuntu    9996850 Dec 19 18:22 test_image_data_2.parquet\r\n",
      "-rw-r--r-- 1 ubuntu ubuntu    9995989 Dec 19 18:22 test_image_data_3.parquet\r\n",
      "-rw-r--r-- 1 ubuntu ubuntu    6281787 Dec 19 18:22 train.csv\r\n",
      "-rw-r--r-- 1 ubuntu ubuntu 1285682162 Dec 19 18:22 train_image_data_0.parquet\r\n",
      "-rw-r--r-- 1 ubuntu ubuntu 1278647926 Dec 19 18:25 train_image_data_1.parquet\r\n",
      "-rw-r--r-- 1 ubuntu ubuntu 1287469785 Dec 19 18:29 train_image_data_2.parquet\r\n",
      "-rw-r--r-- 1 ubuntu ubuntu 1285595675 Dec 19 18:32 train_image_data_3.parquet\r\n"
     ]
    }
   ],
   "source": [
    "!ls -l ~/datasets/bengali-ai/"
   ]
  },
  {
   "cell_type": "markdown",
   "metadata": {},
   "source": [
    "### Class Mapping File"
   ]
  },
  {
   "cell_type": "code",
   "execution_count": 4,
   "metadata": {},
   "outputs": [],
   "source": [
    "class_map = pd.read_csv(\"/home/ubuntu/datasets/bengali-ai/class_map.csv\")"
   ]
  },
  {
   "cell_type": "code",
   "execution_count": 5,
   "metadata": {},
   "outputs": [
    {
     "data": {
      "text/plain": [
       "(186, 3)"
      ]
     },
     "execution_count": 5,
     "metadata": {},
     "output_type": "execute_result"
    }
   ],
   "source": [
    "class_map.shape"
   ]
  },
  {
   "cell_type": "code",
   "execution_count": 6,
   "metadata": {
    "scrolled": true
   },
   "outputs": [
    {
     "data": {
      "text/plain": [
       "<bound method NDFrame.describe of           component_type  label component\n",
       "0          grapheme_root      0         ং\n",
       "1          grapheme_root      1         ঃ\n",
       "2          grapheme_root      2         অ\n",
       "3          grapheme_root      3         আ\n",
       "4          grapheme_root      4         ই\n",
       "5          grapheme_root      5         ঈ\n",
       "6          grapheme_root      6         উ\n",
       "7          grapheme_root      7         ঊ\n",
       "8          grapheme_root      8         ঋ\n",
       "9          grapheme_root      9         এ\n",
       "10         grapheme_root     10         ঐ\n",
       "11         grapheme_root     11         ও\n",
       "12         grapheme_root     12         ঔ\n",
       "13         grapheme_root     13         ক\n",
       "14         grapheme_root     14       ক্ক\n",
       "15         grapheme_root     15       ক্ট\n",
       "16         grapheme_root     16       ক্ত\n",
       "17         grapheme_root     17       ক্ল\n",
       "18         grapheme_root     18       ক্ষ\n",
       "19         grapheme_root     19     ক্ষ্ণ\n",
       "20         grapheme_root     20     ক্ষ্ম\n",
       "21         grapheme_root     21       ক্স\n",
       "22         grapheme_root     22         খ\n",
       "23         grapheme_root     23         গ\n",
       "24         grapheme_root     24       গ্ধ\n",
       "25         grapheme_root     25       গ্ন\n",
       "26         grapheme_root     26       গ্ব\n",
       "27         grapheme_root     27       গ্ম\n",
       "28         grapheme_root     28       গ্ল\n",
       "29         grapheme_root     29         ঘ\n",
       "..                   ...    ...       ...\n",
       "156        grapheme_root    156       স্ম\n",
       "157        grapheme_root    157       স্ল\n",
       "158        grapheme_root    158       স্স\n",
       "159        grapheme_root    159         হ\n",
       "160        grapheme_root    160       হ্ন\n",
       "161        grapheme_root    161       হ্ব\n",
       "162        grapheme_root    162       হ্ম\n",
       "163        grapheme_root    163       হ্ল\n",
       "164        grapheme_root    164         ৎ\n",
       "165        grapheme_root    165         ড়\n",
       "166        grapheme_root    166         ঢ়\n",
       "167        grapheme_root    167         য়\n",
       "168      vowel_diacritic      0         0\n",
       "169      vowel_diacritic      1         া\n",
       "170      vowel_diacritic      2         ি\n",
       "171      vowel_diacritic      3         ী\n",
       "172      vowel_diacritic      4         ু\n",
       "173      vowel_diacritic      5         ূ\n",
       "174      vowel_diacritic      6         ৃ\n",
       "175      vowel_diacritic      7         ে\n",
       "176      vowel_diacritic      8         ৈ\n",
       "177      vowel_diacritic      9         ো\n",
       "178      vowel_diacritic     10         ৌ\n",
       "179  consonant_diacritic      0         0\n",
       "180  consonant_diacritic      1         ঁ\n",
       "181  consonant_diacritic      2        র্\n",
       "182  consonant_diacritic      3       র্য\n",
       "183  consonant_diacritic      4        ্য\n",
       "184  consonant_diacritic      5        ্র\n",
       "185  consonant_diacritic      6      ্র্য\n",
       "\n",
       "[186 rows x 3 columns]>"
      ]
     },
     "execution_count": 6,
     "metadata": {},
     "output_type": "execute_result"
    }
   ],
   "source": [
    "class_map.describe"
   ]
  },
  {
   "cell_type": "code",
   "execution_count": 7,
   "metadata": {},
   "outputs": [
    {
     "data": {
      "text/html": [
       "<div>\n",
       "<style scoped>\n",
       "    .dataframe tbody tr th:only-of-type {\n",
       "        vertical-align: middle;\n",
       "    }\n",
       "\n",
       "    .dataframe tbody tr th {\n",
       "        vertical-align: top;\n",
       "    }\n",
       "\n",
       "    .dataframe thead th {\n",
       "        text-align: right;\n",
       "    }\n",
       "</style>\n",
       "<table border=\"1\" class=\"dataframe\">\n",
       "  <thead>\n",
       "    <tr style=\"text-align: right;\">\n",
       "      <th></th>\n",
       "      <th>component_type</th>\n",
       "      <th>label</th>\n",
       "      <th>component</th>\n",
       "    </tr>\n",
       "  </thead>\n",
       "  <tbody>\n",
       "    <tr>\n",
       "      <th>0</th>\n",
       "      <td>grapheme_root</td>\n",
       "      <td>0</td>\n",
       "      <td>ং</td>\n",
       "    </tr>\n",
       "    <tr>\n",
       "      <th>1</th>\n",
       "      <td>grapheme_root</td>\n",
       "      <td>1</td>\n",
       "      <td>ঃ</td>\n",
       "    </tr>\n",
       "    <tr>\n",
       "      <th>2</th>\n",
       "      <td>grapheme_root</td>\n",
       "      <td>2</td>\n",
       "      <td>অ</td>\n",
       "    </tr>\n",
       "    <tr>\n",
       "      <th>3</th>\n",
       "      <td>grapheme_root</td>\n",
       "      <td>3</td>\n",
       "      <td>আ</td>\n",
       "    </tr>\n",
       "    <tr>\n",
       "      <th>4</th>\n",
       "      <td>grapheme_root</td>\n",
       "      <td>4</td>\n",
       "      <td>ই</td>\n",
       "    </tr>\n",
       "    <tr>\n",
       "      <th>5</th>\n",
       "      <td>grapheme_root</td>\n",
       "      <td>5</td>\n",
       "      <td>ঈ</td>\n",
       "    </tr>\n",
       "    <tr>\n",
       "      <th>6</th>\n",
       "      <td>grapheme_root</td>\n",
       "      <td>6</td>\n",
       "      <td>উ</td>\n",
       "    </tr>\n",
       "    <tr>\n",
       "      <th>7</th>\n",
       "      <td>grapheme_root</td>\n",
       "      <td>7</td>\n",
       "      <td>ঊ</td>\n",
       "    </tr>\n",
       "    <tr>\n",
       "      <th>8</th>\n",
       "      <td>grapheme_root</td>\n",
       "      <td>8</td>\n",
       "      <td>ঋ</td>\n",
       "    </tr>\n",
       "    <tr>\n",
       "      <th>9</th>\n",
       "      <td>grapheme_root</td>\n",
       "      <td>9</td>\n",
       "      <td>এ</td>\n",
       "    </tr>\n",
       "    <tr>\n",
       "      <th>10</th>\n",
       "      <td>grapheme_root</td>\n",
       "      <td>10</td>\n",
       "      <td>ঐ</td>\n",
       "    </tr>\n",
       "    <tr>\n",
       "      <th>11</th>\n",
       "      <td>grapheme_root</td>\n",
       "      <td>11</td>\n",
       "      <td>ও</td>\n",
       "    </tr>\n",
       "    <tr>\n",
       "      <th>12</th>\n",
       "      <td>grapheme_root</td>\n",
       "      <td>12</td>\n",
       "      <td>ঔ</td>\n",
       "    </tr>\n",
       "    <tr>\n",
       "      <th>13</th>\n",
       "      <td>grapheme_root</td>\n",
       "      <td>13</td>\n",
       "      <td>ক</td>\n",
       "    </tr>\n",
       "    <tr>\n",
       "      <th>14</th>\n",
       "      <td>grapheme_root</td>\n",
       "      <td>14</td>\n",
       "      <td>ক্ক</td>\n",
       "    </tr>\n",
       "    <tr>\n",
       "      <th>15</th>\n",
       "      <td>grapheme_root</td>\n",
       "      <td>15</td>\n",
       "      <td>ক্ট</td>\n",
       "    </tr>\n",
       "    <tr>\n",
       "      <th>16</th>\n",
       "      <td>grapheme_root</td>\n",
       "      <td>16</td>\n",
       "      <td>ক্ত</td>\n",
       "    </tr>\n",
       "    <tr>\n",
       "      <th>17</th>\n",
       "      <td>grapheme_root</td>\n",
       "      <td>17</td>\n",
       "      <td>ক্ল</td>\n",
       "    </tr>\n",
       "    <tr>\n",
       "      <th>18</th>\n",
       "      <td>grapheme_root</td>\n",
       "      <td>18</td>\n",
       "      <td>ক্ষ</td>\n",
       "    </tr>\n",
       "    <tr>\n",
       "      <th>19</th>\n",
       "      <td>grapheme_root</td>\n",
       "      <td>19</td>\n",
       "      <td>ক্ষ্ণ</td>\n",
       "    </tr>\n",
       "  </tbody>\n",
       "</table>\n",
       "</div>"
      ],
      "text/plain": [
       "   component_type  label component\n",
       "0   grapheme_root      0         ং\n",
       "1   grapheme_root      1         ঃ\n",
       "2   grapheme_root      2         অ\n",
       "3   grapheme_root      3         আ\n",
       "4   grapheme_root      4         ই\n",
       "5   grapheme_root      5         ঈ\n",
       "6   grapheme_root      6         উ\n",
       "7   grapheme_root      7         ঊ\n",
       "8   grapheme_root      8         ঋ\n",
       "9   grapheme_root      9         এ\n",
       "10  grapheme_root     10         ঐ\n",
       "11  grapheme_root     11         ও\n",
       "12  grapheme_root     12         ঔ\n",
       "13  grapheme_root     13         ক\n",
       "14  grapheme_root     14       ক্ক\n",
       "15  grapheme_root     15       ক্ট\n",
       "16  grapheme_root     16       ক্ত\n",
       "17  grapheme_root     17       ক্ল\n",
       "18  grapheme_root     18       ক্ষ\n",
       "19  grapheme_root     19     ক্ষ্ণ"
      ]
     },
     "execution_count": 7,
     "metadata": {},
     "output_type": "execute_result"
    }
   ],
   "source": [
    "class_map.head(20)"
   ]
  },
  {
   "cell_type": "markdown",
   "metadata": {},
   "source": [
    "### The Train Files"
   ]
  },
  {
   "cell_type": "code",
   "execution_count": 8,
   "metadata": {},
   "outputs": [],
   "source": [
    "# Training data files\n",
    "train_0 = pq.read_pandas('/home/ubuntu/datasets/bengali-ai/train_image_data_0.parquet').to_pandas()\n",
    "train_1 = pq.read_pandas('/home/ubuntu/datasets/bengali-ai/train_image_data_1.parquet').to_pandas()\n",
    "train_2 = pq.read_pandas('/home/ubuntu/datasets/bengali-ai/train_image_data_2.parquet').to_pandas()\n",
    "train_3 = pq.read_pandas('/home/ubuntu/datasets/bengali-ai/train_image_data_3.parquet').to_pandas()"
   ]
  },
  {
   "cell_type": "code",
   "execution_count": 9,
   "metadata": {},
   "outputs": [
    {
     "data": {
      "text/plain": [
       "pandas.core.frame.DataFrame"
      ]
     },
     "execution_count": 9,
     "metadata": {},
     "output_type": "execute_result"
    }
   ],
   "source": [
    "type(train_0)"
   ]
  },
  {
   "cell_type": "code",
   "execution_count": 10,
   "metadata": {},
   "outputs": [
    {
     "data": {
      "text/plain": [
       "(50210, 32333)"
      ]
     },
     "execution_count": 10,
     "metadata": {},
     "output_type": "execute_result"
    }
   ],
   "source": [
    "train_0.shape"
   ]
  },
  {
   "cell_type": "code",
   "execution_count": 11,
   "metadata": {},
   "outputs": [
    {
     "data": {
      "text/plain": [
       "<bound method NDFrame.describe of           image_id    0    1    2    3    4    5    6    7    8  ...  32322  \\\n",
       "0          Train_0  254  253  252  253  251  252  253  251  251  ...    253   \n",
       "1          Train_1  251  244  238  245  248  246  246  247  251  ...    255   \n",
       "2          Train_2  251  250  249  250  249  245  247  252  252  ...    254   \n",
       "3          Train_3  247  247  249  253  253  252  251  251  250  ...    254   \n",
       "4          Train_4  249  248  246  246  248  244  242  242  229  ...    255   \n",
       "5          Train_5  251  251  252  253  251  249  248  248  249  ...    252   \n",
       "6          Train_6  238  236  234  235  238  242  241  237  230  ...    251   \n",
       "7          Train_7  250  251  252  252  252  252  252  252  252  ...    253   \n",
       "8          Train_8  251  252  251  253  254  253  254  253  254  ...    253   \n",
       "9          Train_9  251  249  252  253  253  253  253  253  253  ...    253   \n",
       "10        Train_10  250  252  252  252  251  250  249  246  244  ...    252   \n",
       "11        Train_11  252  252  252  252  252  252  252  252  251  ...    252   \n",
       "12        Train_12  253  253  253  253  253  253  253  253  253  ...    255   \n",
       "13        Train_13  249  249  250  248  246  253  248  245  252  ...    254   \n",
       "14        Train_14  241  236  241  245  238  238  237  237  241  ...    251   \n",
       "15        Train_15  251  252  253  252  250  251  252  252  252  ...    253   \n",
       "16        Train_16  243  245  249  249  251  250  251  250  251  ...    254   \n",
       "17        Train_17  244  241  241  246  248  244  245  246  244  ...    254   \n",
       "18        Train_18  251  252  252  251  252  251  251  252  250  ...    253   \n",
       "19        Train_19  251  252  252  250  249  250  251  253  252  ...    255   \n",
       "20        Train_20  255  254  254  254  255  255  255  255  255  ...    255   \n",
       "21        Train_21  249  251  251  252  252  252  252  252  252  ...    254   \n",
       "22        Train_22  248  250  251  248  243  247  248  246  250  ...    254   \n",
       "23        Train_23  252  252  253  253  252  251  251  252  252  ...    254   \n",
       "24        Train_24  251  250  250  250  251  250  249  249  250  ...    251   \n",
       "25        Train_25  249  252  251  251  251  252  252  252  251  ...    254   \n",
       "26        Train_26  249  248  245  231  237  247  250  249  249  ...    252   \n",
       "27        Train_27  249  247  249  251  252  252  250  249  251  ...    253   \n",
       "28        Train_28  247  250  245  241  249  246  241  246  245  ...    254   \n",
       "29        Train_29  250  252  252  245  252  253  252  251  253  ...    255   \n",
       "...            ...  ...  ...  ...  ...  ...  ...  ...  ...  ...  ...    ...   \n",
       "50180  Train_50180  255  255  255  255  255  255  255  255  255  ...    255   \n",
       "50181  Train_50181  255  255  255  255  255  255  255  255  255  ...    255   \n",
       "50182  Train_50182  250  255  255  255  255  255  254  255  255  ...    255   \n",
       "50183  Train_50183  245  242  250  248  245  248  251  249  249  ...    255   \n",
       "50184  Train_50184  247  251  252  253  253  254  253  254  253  ...    252   \n",
       "50185  Train_50185  251  251  250  250  249  248  249  249  250  ...    255   \n",
       "50186  Train_50186  219  220  213  207  212  214  217  212  214  ...    249   \n",
       "50187  Train_50187  196  208  201  199  187  182  192  183  173  ...    219   \n",
       "50188  Train_50188  252  253  252  250  252  253  253  253  253  ...    253   \n",
       "50189  Train_50189  250  250  252  251  251  251  251  252  251  ...    255   \n",
       "50190  Train_50190  250  251  250  243  245  246  244  248  249  ...    254   \n",
       "50191  Train_50191  249  251  251  250  248  250  252  250  249  ...    252   \n",
       "50192  Train_50192  245  242  239  240  243  246  248  248  248  ...    253   \n",
       "50193  Train_50193  248  247  244  249  252  250  249  241  242  ...    253   \n",
       "50194  Train_50194  243  246  250  250  251  251  251  251  252  ...    253   \n",
       "50195  Train_50195  219  233  229  232  240  242  236  238  247  ...    222   \n",
       "50196  Train_50196  249  251  253  253  253  253  252  251  250  ...    254   \n",
       "50197  Train_50197  255  255  255  255  255  255  255  255  255  ...    248   \n",
       "50198  Train_50198  208  245  243  244  246  244  247  247  245  ...    218   \n",
       "50199  Train_50199  255  255  255  255  255  255  255  255  255  ...    253   \n",
       "50200  Train_50200  243  245  251  241  238  247  246  249  252  ...    255   \n",
       "50201  Train_50201  254  253  253  251  249  255  253  252  254  ...    254   \n",
       "50202  Train_50202  247  245  250  248  249  247  250  248  245  ...    255   \n",
       "50203  Train_50203  247  242  246  247  239  244  250  249  249  ...    252   \n",
       "50204  Train_50204  253  253  253  254  254  254  253  249  251  ...    251   \n",
       "50205  Train_50205  247  250  250  250  252  250  250  250  251  ...    246   \n",
       "50206  Train_50206  250  251  250  244  245  243  246  248  246  ...    255   \n",
       "50207  Train_50207  246  245  246  246  245  245  247  247  245  ...    247   \n",
       "50208  Train_50208  246  242  240  244  247  242  239  241  245  ...    247   \n",
       "50209  Train_50209  255  255  255  255  255  255  255  255  255  ...    255   \n",
       "\n",
       "       32323  32324  32325  32326  32327  32328  32329  32330  32331  \n",
       "0        253    253    253    253    253    253    253    253    251  \n",
       "1        255    255    255    255    255    255    255    255    254  \n",
       "2        253    252    252    253    253    253    253    251    249  \n",
       "3        254    254    254    254    253    253    252    251    252  \n",
       "4        255    255    255    255    255    255    255    255    255  \n",
       "5        251    252    252    252    253    253    252    251    250  \n",
       "6        251    253    254    254    253    252    251    252    253  \n",
       "7        254    254    253    253    253    253    253    251    251  \n",
       "8        253    253    253    253    253    253    253    253    252  \n",
       "9        253    253    252    253    253    253    253    252    252  \n",
       "10       252    252    252    252    252    253    253    253    252  \n",
       "11       252    252    252    252    251    250    250    249    249  \n",
       "12       255    254    254    254    254    254    254    254    254  \n",
       "13       253    253    253    253    253    253    253    253    252  \n",
       "14       250    251    253    252    252    252    253    252    251  \n",
       "15       254    253    253    253    253    254    255    254    250  \n",
       "16       254    253    250    250    251    252    253    253    254  \n",
       "17       254    253    252    253    254    254    250    242    236  \n",
       "18       253    253    253    252    252    253    253    248    246  \n",
       "19       255    255    255    255    255    255    255    253    253  \n",
       "20       255    255    255    254    254    254    254    255    255  \n",
       "21       254    254    254    254    254    254    254    254    253  \n",
       "22       254    254    254    254    253    253    252    251    252  \n",
       "23       254    254    254    253    252    252    252    252    252  \n",
       "24       251    251    251    252    252    253    253    252    251  \n",
       "25       254    254    254    254    254    254    253    251    250  \n",
       "26       251    251    251    253    253    253    252    252    251  \n",
       "27       254    254    254    254    254    254    253    253    252  \n",
       "28       254    253    253    253    253    253    253    253    253  \n",
       "29       255    255    255    255    255    255    255    255    254  \n",
       "...      ...    ...    ...    ...    ...    ...    ...    ...    ...  \n",
       "50180    255    255    255    255    255    255    254    254    254  \n",
       "50181    255    255    255    255    255    255    255    252    246  \n",
       "50182    254    254    254    254    254    254    254    254    255  \n",
       "50183    255    255    255    255    255    255    255    255    255  \n",
       "50184    252    252    252    252    252    252    252    252    250  \n",
       "50185    255    255    255    255    255    255    255    255    255  \n",
       "50186    253    252    252    252    253    254    254    254    253  \n",
       "50187    214    206    205    207    211    214    200    193    146  \n",
       "50188    254    253    253    254    254    253    253    254    253  \n",
       "50189    254    254    254    254    254    254    254    254    255  \n",
       "50190    254    254    254    254    254    254    254    254    254  \n",
       "50191    251    254    253    253    253    253    253    253    253  \n",
       "50192    255    255    255    255    255    255    255    255    254  \n",
       "50193    253    253    253    253    253    253    253    253    253  \n",
       "50194    254    254    254    254    254    254    254    254    254  \n",
       "50195    225    223    224    223    223    213    195    161     89  \n",
       "50196    254    254    254    254    254    254    254    254    254  \n",
       "50197    248    250    252    252    249    248    249    247    250  \n",
       "50198    221    219    214    210    205    203    197    168    125  \n",
       "50199    253    253    254    254    254    253    254    254    254  \n",
       "50200    255    255    255    255    255    255    255    254    251  \n",
       "50201    254    254    253    253    254    252    251    251    251  \n",
       "50202    255    255    255    255    255    255    255    255    255  \n",
       "50203    252    253    253    252    251    250    249    250    249  \n",
       "50204    251    251    251    251    251    252    251    247    248  \n",
       "50205    248    252    252    249    248    250    247    243    243  \n",
       "50206    255    255    255    255    255    255    255    255    253  \n",
       "50207    246    248    246    245    248    249    246    243    245  \n",
       "50208    247    247    247    247    246    246    248    248    247  \n",
       "50209    255    255    255    255    255    255    255    255    255  \n",
       "\n",
       "[50210 rows x 32333 columns]>"
      ]
     },
     "execution_count": 11,
     "metadata": {},
     "output_type": "execute_result"
    }
   ],
   "source": [
    "train_0.describe"
   ]
  },
  {
   "cell_type": "code",
   "execution_count": 12,
   "metadata": {},
   "outputs": [
    {
     "data": {
      "text/html": [
       "<div>\n",
       "<style scoped>\n",
       "    .dataframe tbody tr th:only-of-type {\n",
       "        vertical-align: middle;\n",
       "    }\n",
       "\n",
       "    .dataframe tbody tr th {\n",
       "        vertical-align: top;\n",
       "    }\n",
       "\n",
       "    .dataframe thead th {\n",
       "        text-align: right;\n",
       "    }\n",
       "</style>\n",
       "<table border=\"1\" class=\"dataframe\">\n",
       "  <thead>\n",
       "    <tr style=\"text-align: right;\">\n",
       "      <th></th>\n",
       "      <th>image_id</th>\n",
       "      <th>0</th>\n",
       "      <th>1</th>\n",
       "      <th>2</th>\n",
       "      <th>3</th>\n",
       "      <th>4</th>\n",
       "      <th>5</th>\n",
       "      <th>6</th>\n",
       "      <th>7</th>\n",
       "      <th>8</th>\n",
       "      <th>...</th>\n",
       "      <th>32322</th>\n",
       "      <th>32323</th>\n",
       "      <th>32324</th>\n",
       "      <th>32325</th>\n",
       "      <th>32326</th>\n",
       "      <th>32327</th>\n",
       "      <th>32328</th>\n",
       "      <th>32329</th>\n",
       "      <th>32330</th>\n",
       "      <th>32331</th>\n",
       "    </tr>\n",
       "  </thead>\n",
       "  <tbody>\n",
       "    <tr>\n",
       "      <th>0</th>\n",
       "      <td>Train_0</td>\n",
       "      <td>254</td>\n",
       "      <td>253</td>\n",
       "      <td>252</td>\n",
       "      <td>253</td>\n",
       "      <td>251</td>\n",
       "      <td>252</td>\n",
       "      <td>253</td>\n",
       "      <td>251</td>\n",
       "      <td>251</td>\n",
       "      <td>...</td>\n",
       "      <td>253</td>\n",
       "      <td>253</td>\n",
       "      <td>253</td>\n",
       "      <td>253</td>\n",
       "      <td>253</td>\n",
       "      <td>253</td>\n",
       "      <td>253</td>\n",
       "      <td>253</td>\n",
       "      <td>253</td>\n",
       "      <td>251</td>\n",
       "    </tr>\n",
       "  </tbody>\n",
       "</table>\n",
       "<p>1 rows × 32333 columns</p>\n",
       "</div>"
      ],
      "text/plain": [
       "  image_id    0    1    2    3    4    5    6    7    8  ...  32322  32323  \\\n",
       "0  Train_0  254  253  252  253  251  252  253  251  251  ...    253    253   \n",
       "\n",
       "   32324  32325  32326  32327  32328  32329  32330  32331  \n",
       "0    253    253    253    253    253    253    253    251  \n",
       "\n",
       "[1 rows x 32333 columns]"
      ]
     },
     "execution_count": 12,
     "metadata": {},
     "output_type": "execute_result"
    }
   ],
   "source": [
    "train_0[:1]"
   ]
  },
  {
   "cell_type": "markdown",
   "metadata": {},
   "source": [
    "Training data label file"
   ]
  },
  {
   "cell_type": "code",
   "execution_count": 13,
   "metadata": {},
   "outputs": [],
   "source": [
    "# Training label files\n",
    "train_labels = pd.read_csv(\"/home/ubuntu/datasets/bengali-ai/train.csv\")"
   ]
  },
  {
   "cell_type": "code",
   "execution_count": 14,
   "metadata": {},
   "outputs": [
    {
     "data": {
      "text/html": [
       "<div>\n",
       "<style scoped>\n",
       "    .dataframe tbody tr th:only-of-type {\n",
       "        vertical-align: middle;\n",
       "    }\n",
       "\n",
       "    .dataframe tbody tr th {\n",
       "        vertical-align: top;\n",
       "    }\n",
       "\n",
       "    .dataframe thead th {\n",
       "        text-align: right;\n",
       "    }\n",
       "</style>\n",
       "<table border=\"1\" class=\"dataframe\">\n",
       "  <thead>\n",
       "    <tr style=\"text-align: right;\">\n",
       "      <th></th>\n",
       "      <th>image_id</th>\n",
       "      <th>grapheme_root</th>\n",
       "      <th>vowel_diacritic</th>\n",
       "      <th>consonant_diacritic</th>\n",
       "      <th>grapheme</th>\n",
       "    </tr>\n",
       "  </thead>\n",
       "  <tbody>\n",
       "    <tr>\n",
       "      <th>0</th>\n",
       "      <td>Train_0</td>\n",
       "      <td>15</td>\n",
       "      <td>9</td>\n",
       "      <td>5</td>\n",
       "      <td>ক্ট্রো</td>\n",
       "    </tr>\n",
       "    <tr>\n",
       "      <th>1</th>\n",
       "      <td>Train_1</td>\n",
       "      <td>159</td>\n",
       "      <td>0</td>\n",
       "      <td>0</td>\n",
       "      <td>হ</td>\n",
       "    </tr>\n",
       "    <tr>\n",
       "      <th>2</th>\n",
       "      <td>Train_2</td>\n",
       "      <td>22</td>\n",
       "      <td>3</td>\n",
       "      <td>5</td>\n",
       "      <td>খ্রী</td>\n",
       "    </tr>\n",
       "    <tr>\n",
       "      <th>3</th>\n",
       "      <td>Train_3</td>\n",
       "      <td>53</td>\n",
       "      <td>2</td>\n",
       "      <td>2</td>\n",
       "      <td>র্টি</td>\n",
       "    </tr>\n",
       "    <tr>\n",
       "      <th>4</th>\n",
       "      <td>Train_4</td>\n",
       "      <td>71</td>\n",
       "      <td>9</td>\n",
       "      <td>5</td>\n",
       "      <td>থ্রো</td>\n",
       "    </tr>\n",
       "  </tbody>\n",
       "</table>\n",
       "</div>"
      ],
      "text/plain": [
       "  image_id  grapheme_root  vowel_diacritic  consonant_diacritic grapheme\n",
       "0  Train_0             15                9                    5   ক্ট্রো\n",
       "1  Train_1            159                0                    0        হ\n",
       "2  Train_2             22                3                    5     খ্রী\n",
       "3  Train_3             53                2                    2     র্টি\n",
       "4  Train_4             71                9                    5     থ্রো"
      ]
     },
     "execution_count": 14,
     "metadata": {},
     "output_type": "execute_result"
    }
   ],
   "source": [
    "train_labels.head()"
   ]
  },
  {
   "cell_type": "code",
   "execution_count": 64,
   "metadata": {},
   "outputs": [
    {
     "data": {
      "text/plain": [
       "(200840, 5)"
      ]
     },
     "execution_count": 64,
     "metadata": {},
     "output_type": "execute_result"
    }
   ],
   "source": [
    "train_labels.shape"
   ]
  },
  {
   "cell_type": "code",
   "execution_count": 70,
   "metadata": {},
   "outputs": [
    {
     "data": {
      "text/plain": [
       "(167,\n",
       " 0,\n",
       " array([ 15, 159,  22,  53,  71, 153,  52, 139,  67,  64, 115, 107,  74,\n",
       "        100,  48,  72,  13,  79, 109,  23,  42,  60, 142,  61, 147,  81,\n",
       "        148, 160,  58,  99, 103,  44, 167, 120,  62, 151,  32, 125,  38,\n",
       "        127,  24, 124,  96,  43, 132, 149, 123,  54,  19,  87,  35,  83,\n",
       "         97,  77, 165,  92, 133, 118,  85,  56,  95, 136, 138, 106,  86,\n",
       "         29,  39, 122,  65,  30,  76,  16,  68, 110,  46, 105, 155, 129,\n",
       "         25,  59,  36,  70, 152,  18,  89, 128, 113, 144,  49, 117, 154,\n",
       "         31,   6,  26, 150,  40, 111,  55,   1, 119, 140,  66,  28,  14,\n",
       "        164,  27, 121, 156,  63,  84, 137,  98, 143,  47, 135,  75, 141,\n",
       "         88, 116,  91,  45,  69,  94,  93, 131, 146, 134, 112, 108,   9,\n",
       "         80,   3, 166,  41,  17, 162,  21, 158,  10,  51, 101,  82,  57,\n",
       "          4,   5,  90,  20,   2, 102, 126,  33, 161,  34,  50,   7, 163,\n",
       "         78,  73, 145, 130,   0, 104,   8,  37,  11, 157, 114,  12]))"
      ]
     },
     "execution_count": 70,
     "metadata": {},
     "output_type": "execute_result"
    }
   ],
   "source": [
    "train_labels['grapheme_root'].max(), train_labels['grapheme_root'].min(), train_labels['grapheme_root'].unique()"
   ]
  },
  {
   "cell_type": "markdown",
   "metadata": {},
   "source": [
    "### The Test Files"
   ]
  },
  {
   "cell_type": "code",
   "execution_count": 15,
   "metadata": {},
   "outputs": [],
   "source": [
    "test_0 = pq.read_pandas('/home/ubuntu/datasets/bengali-ai/test_image_data_0.parquet').to_pandas()"
   ]
  },
  {
   "cell_type": "code",
   "execution_count": 16,
   "metadata": {},
   "outputs": [
    {
     "data": {
      "text/plain": [
       "(3, 32333)"
      ]
     },
     "execution_count": 16,
     "metadata": {},
     "output_type": "execute_result"
    }
   ],
   "source": [
    "test_0.shape"
   ]
  },
  {
   "cell_type": "code",
   "execution_count": 17,
   "metadata": {},
   "outputs": [
    {
     "data": {
      "text/html": [
       "<div>\n",
       "<style scoped>\n",
       "    .dataframe tbody tr th:only-of-type {\n",
       "        vertical-align: middle;\n",
       "    }\n",
       "\n",
       "    .dataframe tbody tr th {\n",
       "        vertical-align: top;\n",
       "    }\n",
       "\n",
       "    .dataframe thead th {\n",
       "        text-align: right;\n",
       "    }\n",
       "</style>\n",
       "<table border=\"1\" class=\"dataframe\">\n",
       "  <thead>\n",
       "    <tr style=\"text-align: right;\">\n",
       "      <th></th>\n",
       "      <th>image_id</th>\n",
       "      <th>0</th>\n",
       "      <th>1</th>\n",
       "      <th>2</th>\n",
       "      <th>3</th>\n",
       "      <th>4</th>\n",
       "      <th>5</th>\n",
       "      <th>6</th>\n",
       "      <th>7</th>\n",
       "      <th>8</th>\n",
       "      <th>...</th>\n",
       "      <th>32322</th>\n",
       "      <th>32323</th>\n",
       "      <th>32324</th>\n",
       "      <th>32325</th>\n",
       "      <th>32326</th>\n",
       "      <th>32327</th>\n",
       "      <th>32328</th>\n",
       "      <th>32329</th>\n",
       "      <th>32330</th>\n",
       "      <th>32331</th>\n",
       "    </tr>\n",
       "  </thead>\n",
       "  <tbody>\n",
       "    <tr>\n",
       "      <th>0</th>\n",
       "      <td>Test_0</td>\n",
       "      <td>247</td>\n",
       "      <td>253</td>\n",
       "      <td>253</td>\n",
       "      <td>252</td>\n",
       "      <td>252</td>\n",
       "      <td>252</td>\n",
       "      <td>252</td>\n",
       "      <td>253</td>\n",
       "      <td>253</td>\n",
       "      <td>...</td>\n",
       "      <td>254</td>\n",
       "      <td>254</td>\n",
       "      <td>254</td>\n",
       "      <td>254</td>\n",
       "      <td>254</td>\n",
       "      <td>254</td>\n",
       "      <td>253</td>\n",
       "      <td>253</td>\n",
       "      <td>252</td>\n",
       "      <td>250</td>\n",
       "    </tr>\n",
       "    <tr>\n",
       "      <th>1</th>\n",
       "      <td>Test_1</td>\n",
       "      <td>253</td>\n",
       "      <td>253</td>\n",
       "      <td>253</td>\n",
       "      <td>253</td>\n",
       "      <td>253</td>\n",
       "      <td>253</td>\n",
       "      <td>253</td>\n",
       "      <td>253</td>\n",
       "      <td>253</td>\n",
       "      <td>...</td>\n",
       "      <td>255</td>\n",
       "      <td>255</td>\n",
       "      <td>255</td>\n",
       "      <td>255</td>\n",
       "      <td>255</td>\n",
       "      <td>255</td>\n",
       "      <td>255</td>\n",
       "      <td>255</td>\n",
       "      <td>255</td>\n",
       "      <td>255</td>\n",
       "    </tr>\n",
       "    <tr>\n",
       "      <th>2</th>\n",
       "      <td>Test_2</td>\n",
       "      <td>253</td>\n",
       "      <td>253</td>\n",
       "      <td>253</td>\n",
       "      <td>253</td>\n",
       "      <td>253</td>\n",
       "      <td>252</td>\n",
       "      <td>251</td>\n",
       "      <td>252</td>\n",
       "      <td>252</td>\n",
       "      <td>...</td>\n",
       "      <td>255</td>\n",
       "      <td>255</td>\n",
       "      <td>255</td>\n",
       "      <td>255</td>\n",
       "      <td>255</td>\n",
       "      <td>255</td>\n",
       "      <td>255</td>\n",
       "      <td>254</td>\n",
       "      <td>253</td>\n",
       "      <td>252</td>\n",
       "    </tr>\n",
       "  </tbody>\n",
       "</table>\n",
       "<p>3 rows × 32333 columns</p>\n",
       "</div>"
      ],
      "text/plain": [
       "  image_id    0    1    2    3    4    5    6    7    8  ...  32322  32323  \\\n",
       "0   Test_0  247  253  253  252  252  252  252  253  253  ...    254    254   \n",
       "1   Test_1  253  253  253  253  253  253  253  253  253  ...    255    255   \n",
       "2   Test_2  253  253  253  253  253  252  251  252  252  ...    255    255   \n",
       "\n",
       "   32324  32325  32326  32327  32328  32329  32330  32331  \n",
       "0    254    254    254    254    253    253    252    250  \n",
       "1    255    255    255    255    255    255    255    255  \n",
       "2    255    255    255    255    255    254    253    252  \n",
       "\n",
       "[3 rows x 32333 columns]"
      ]
     },
     "execution_count": 17,
     "metadata": {},
     "output_type": "execute_result"
    }
   ],
   "source": [
    "test_0[:]"
   ]
  },
  {
   "cell_type": "markdown",
   "metadata": {},
   "source": [
    "### Sample submission format"
   ]
  },
  {
   "cell_type": "code",
   "execution_count": 18,
   "metadata": {},
   "outputs": [],
   "source": [
    "sample_submission = pd.read_csv('/home/ubuntu/datasets/bengali-ai/sample_submission.csv')"
   ]
  },
  {
   "cell_type": "code",
   "execution_count": 19,
   "metadata": {},
   "outputs": [
    {
     "data": {
      "text/html": [
       "<div>\n",
       "<style scoped>\n",
       "    .dataframe tbody tr th:only-of-type {\n",
       "        vertical-align: middle;\n",
       "    }\n",
       "\n",
       "    .dataframe tbody tr th {\n",
       "        vertical-align: top;\n",
       "    }\n",
       "\n",
       "    .dataframe thead th {\n",
       "        text-align: right;\n",
       "    }\n",
       "</style>\n",
       "<table border=\"1\" class=\"dataframe\">\n",
       "  <thead>\n",
       "    <tr style=\"text-align: right;\">\n",
       "      <th></th>\n",
       "      <th>row_id</th>\n",
       "      <th>target</th>\n",
       "    </tr>\n",
       "  </thead>\n",
       "  <tbody>\n",
       "    <tr>\n",
       "      <th>0</th>\n",
       "      <td>Test_0_consonant_diacritic</td>\n",
       "      <td>0</td>\n",
       "    </tr>\n",
       "    <tr>\n",
       "      <th>1</th>\n",
       "      <td>Test_0_grapheme_root</td>\n",
       "      <td>0</td>\n",
       "    </tr>\n",
       "    <tr>\n",
       "      <th>2</th>\n",
       "      <td>Test_0_vowel_diacritic</td>\n",
       "      <td>0</td>\n",
       "    </tr>\n",
       "    <tr>\n",
       "      <th>3</th>\n",
       "      <td>Test_1_consonant_diacritic</td>\n",
       "      <td>0</td>\n",
       "    </tr>\n",
       "    <tr>\n",
       "      <th>4</th>\n",
       "      <td>Test_1_grapheme_root</td>\n",
       "      <td>0</td>\n",
       "    </tr>\n",
       "    <tr>\n",
       "      <th>5</th>\n",
       "      <td>Test_1_vowel_diacritic</td>\n",
       "      <td>0</td>\n",
       "    </tr>\n",
       "    <tr>\n",
       "      <th>6</th>\n",
       "      <td>Test_2_consonant_diacritic</td>\n",
       "      <td>0</td>\n",
       "    </tr>\n",
       "    <tr>\n",
       "      <th>7</th>\n",
       "      <td>Test_2_grapheme_root</td>\n",
       "      <td>0</td>\n",
       "    </tr>\n",
       "    <tr>\n",
       "      <th>8</th>\n",
       "      <td>Test_2_vowel_diacritic</td>\n",
       "      <td>0</td>\n",
       "    </tr>\n",
       "    <tr>\n",
       "      <th>9</th>\n",
       "      <td>Test_3_consonant_diacritic</td>\n",
       "      <td>0</td>\n",
       "    </tr>\n",
       "    <tr>\n",
       "      <th>10</th>\n",
       "      <td>Test_3_grapheme_root</td>\n",
       "      <td>0</td>\n",
       "    </tr>\n",
       "    <tr>\n",
       "      <th>11</th>\n",
       "      <td>Test_3_vowel_diacritic</td>\n",
       "      <td>0</td>\n",
       "    </tr>\n",
       "    <tr>\n",
       "      <th>12</th>\n",
       "      <td>Test_4_consonant_diacritic</td>\n",
       "      <td>0</td>\n",
       "    </tr>\n",
       "    <tr>\n",
       "      <th>13</th>\n",
       "      <td>Test_4_grapheme_root</td>\n",
       "      <td>0</td>\n",
       "    </tr>\n",
       "    <tr>\n",
       "      <th>14</th>\n",
       "      <td>Test_4_vowel_diacritic</td>\n",
       "      <td>0</td>\n",
       "    </tr>\n",
       "    <tr>\n",
       "      <th>15</th>\n",
       "      <td>Test_5_consonant_diacritic</td>\n",
       "      <td>0</td>\n",
       "    </tr>\n",
       "    <tr>\n",
       "      <th>16</th>\n",
       "      <td>Test_5_grapheme_root</td>\n",
       "      <td>0</td>\n",
       "    </tr>\n",
       "    <tr>\n",
       "      <th>17</th>\n",
       "      <td>Test_5_vowel_diacritic</td>\n",
       "      <td>0</td>\n",
       "    </tr>\n",
       "    <tr>\n",
       "      <th>18</th>\n",
       "      <td>Test_6_consonant_diacritic</td>\n",
       "      <td>0</td>\n",
       "    </tr>\n",
       "    <tr>\n",
       "      <th>19</th>\n",
       "      <td>Test_6_grapheme_root</td>\n",
       "      <td>0</td>\n",
       "    </tr>\n",
       "  </tbody>\n",
       "</table>\n",
       "</div>"
      ],
      "text/plain": [
       "                        row_id  target\n",
       "0   Test_0_consonant_diacritic       0\n",
       "1         Test_0_grapheme_root       0\n",
       "2       Test_0_vowel_diacritic       0\n",
       "3   Test_1_consonant_diacritic       0\n",
       "4         Test_1_grapheme_root       0\n",
       "5       Test_1_vowel_diacritic       0\n",
       "6   Test_2_consonant_diacritic       0\n",
       "7         Test_2_grapheme_root       0\n",
       "8       Test_2_vowel_diacritic       0\n",
       "9   Test_3_consonant_diacritic       0\n",
       "10        Test_3_grapheme_root       0\n",
       "11      Test_3_vowel_diacritic       0\n",
       "12  Test_4_consonant_diacritic       0\n",
       "13        Test_4_grapheme_root       0\n",
       "14      Test_4_vowel_diacritic       0\n",
       "15  Test_5_consonant_diacritic       0\n",
       "16        Test_5_grapheme_root       0\n",
       "17      Test_5_vowel_diacritic       0\n",
       "18  Test_6_consonant_diacritic       0\n",
       "19        Test_6_grapheme_root       0"
      ]
     },
     "execution_count": 19,
     "metadata": {},
     "output_type": "execute_result"
    }
   ],
   "source": [
    "sample_submission.head(20)"
   ]
  },
  {
   "cell_type": "code",
   "execution_count": 20,
   "metadata": {},
   "outputs": [
    {
     "name": "stdout",
     "output_type": "stream",
     "text": [
      "total 9126404\r\n",
      "-rw-r--r-- 1 ubuntu ubuntu 4161805187 Jan 16 23:18 bengaliai-cv19.zip\r\n",
      "-rw-r--r-- 1 ubuntu ubuntu       4830 Dec 19 18:22 class_map.csv\r\n",
      "-rw-r--r-- 1 ubuntu ubuntu        944 Dec 19 18:22 sample_submission.csv\r\n",
      "-rw-r--r-- 1 ubuntu ubuntu       1742 Dec 19 18:22 test.csv\r\n",
      "-rw-r--r-- 1 ubuntu ubuntu    9903859 Dec 19 18:22 test_image_data_0.parquet\r\n",
      "-rw-r--r-- 1 ubuntu ubuntu   10003997 Dec 19 18:22 test_image_data_1.parquet\r\n",
      "-rw-r--r-- 1 ubuntu ubuntu    9996850 Dec 19 18:22 test_image_data_2.parquet\r\n",
      "-rw-r--r-- 1 ubuntu ubuntu    9995989 Dec 19 18:22 test_image_data_3.parquet\r\n",
      "-rw-r--r-- 1 ubuntu ubuntu    6281787 Dec 19 18:22 train.csv\r\n",
      "-rw-r--r-- 1 ubuntu ubuntu 1285682162 Dec 19 18:22 train_image_data_0.parquet\r\n",
      "-rw-r--r-- 1 ubuntu ubuntu 1278647926 Dec 19 18:25 train_image_data_1.parquet\r\n",
      "-rw-r--r-- 1 ubuntu ubuntu 1287469785 Dec 19 18:29 train_image_data_2.parquet\r\n",
      "-rw-r--r-- 1 ubuntu ubuntu 1285595675 Dec 19 18:32 train_image_data_3.parquet\r\n"
     ]
    }
   ],
   "source": [
    "!ls -l /home/ubuntu/datasets/bengali-ai/"
   ]
  },
  {
   "cell_type": "markdown",
   "metadata": {},
   "source": [
    "### Understanding the data format"
   ]
  },
  {
   "cell_type": "markdown",
   "metadata": {},
   "source": [
    "(train/test).parquet\n",
    "\n",
    "Each parquet file contains tens of thousands of 137x236 grayscale images. The images have been provided in the parquet format for I/O and space efficiency. Each row in the parquet files contains an image_id column, and the flattened image."
   ]
  },
  {
   "cell_type": "code",
   "execution_count": 21,
   "metadata": {},
   "outputs": [
    {
     "data": {
      "text/plain": [
       "(50210, 32333)"
      ]
     },
     "execution_count": 21,
     "metadata": {},
     "output_type": "execute_result"
    }
   ],
   "source": [
    "train_0.shape"
   ]
  },
  {
   "cell_type": "code",
   "execution_count": 22,
   "metadata": {},
   "outputs": [
    {
     "data": {
      "text/html": [
       "<div>\n",
       "<style scoped>\n",
       "    .dataframe tbody tr th:only-of-type {\n",
       "        vertical-align: middle;\n",
       "    }\n",
       "\n",
       "    .dataframe tbody tr th {\n",
       "        vertical-align: top;\n",
       "    }\n",
       "\n",
       "    .dataframe thead th {\n",
       "        text-align: right;\n",
       "    }\n",
       "</style>\n",
       "<table border=\"1\" class=\"dataframe\">\n",
       "  <thead>\n",
       "    <tr style=\"text-align: right;\">\n",
       "      <th></th>\n",
       "      <th>image_id</th>\n",
       "      <th>0</th>\n",
       "      <th>1</th>\n",
       "      <th>2</th>\n",
       "      <th>3</th>\n",
       "      <th>4</th>\n",
       "      <th>5</th>\n",
       "      <th>6</th>\n",
       "      <th>7</th>\n",
       "      <th>8</th>\n",
       "      <th>...</th>\n",
       "      <th>32322</th>\n",
       "      <th>32323</th>\n",
       "      <th>32324</th>\n",
       "      <th>32325</th>\n",
       "      <th>32326</th>\n",
       "      <th>32327</th>\n",
       "      <th>32328</th>\n",
       "      <th>32329</th>\n",
       "      <th>32330</th>\n",
       "      <th>32331</th>\n",
       "    </tr>\n",
       "  </thead>\n",
       "  <tbody>\n",
       "    <tr>\n",
       "      <th>0</th>\n",
       "      <td>Train_0</td>\n",
       "      <td>254</td>\n",
       "      <td>253</td>\n",
       "      <td>252</td>\n",
       "      <td>253</td>\n",
       "      <td>251</td>\n",
       "      <td>252</td>\n",
       "      <td>253</td>\n",
       "      <td>251</td>\n",
       "      <td>251</td>\n",
       "      <td>...</td>\n",
       "      <td>253</td>\n",
       "      <td>253</td>\n",
       "      <td>253</td>\n",
       "      <td>253</td>\n",
       "      <td>253</td>\n",
       "      <td>253</td>\n",
       "      <td>253</td>\n",
       "      <td>253</td>\n",
       "      <td>253</td>\n",
       "      <td>251</td>\n",
       "    </tr>\n",
       "  </tbody>\n",
       "</table>\n",
       "<p>1 rows × 32333 columns</p>\n",
       "</div>"
      ],
      "text/plain": [
       "  image_id    0    1    2    3    4    5    6    7    8  ...  32322  32323  \\\n",
       "0  Train_0  254  253  252  253  251  252  253  251  251  ...    253    253   \n",
       "\n",
       "   32324  32325  32326  32327  32328  32329  32330  32331  \n",
       "0    253    253    253    253    253    253    253    251  \n",
       "\n",
       "[1 rows x 32333 columns]"
      ]
     },
     "execution_count": 22,
     "metadata": {},
     "output_type": "execute_result"
    }
   ],
   "source": [
    "train_0[:1]"
   ]
  },
  {
   "cell_type": "code",
   "execution_count": 23,
   "metadata": {},
   "outputs": [
    {
     "data": {
      "text/plain": [
       "32332"
      ]
     },
     "execution_count": 23,
     "metadata": {},
     "output_type": "execute_result"
    }
   ],
   "source": [
    "137*236"
   ]
  },
  {
   "cell_type": "code",
   "execution_count": 24,
   "metadata": {},
   "outputs": [
    {
     "data": {
      "text/plain": [
       "(0    Train_0\n",
       " 1    Train_1\n",
       " 2    Train_2\n",
       " 3    Train_3\n",
       " 4    Train_4\n",
       " Name: image_id, dtype: object, 50205    Train_50205\n",
       " 50206    Train_50206\n",
       " 50207    Train_50207\n",
       " 50208    Train_50208\n",
       " 50209    Train_50209\n",
       " Name: image_id, dtype: object)"
      ]
     },
     "execution_count": 24,
     "metadata": {},
     "output_type": "execute_result"
    }
   ],
   "source": [
    "train_0[train_0.columns[0]].head(), train_0[train_0.columns[0]].tail()"
   ]
  },
  {
   "cell_type": "code",
   "execution_count": 25,
   "metadata": {},
   "outputs": [
    {
     "data": {
      "text/plain": [
       "(0    Train_50210\n",
       " 1    Train_50211\n",
       " 2    Train_50212\n",
       " 3    Train_50213\n",
       " 4    Train_50214\n",
       " Name: image_id, dtype: object, 50205    Train_100415\n",
       " 50206    Train_100416\n",
       " 50207    Train_100417\n",
       " 50208    Train_100418\n",
       " 50209    Train_100419\n",
       " Name: image_id, dtype: object)"
      ]
     },
     "execution_count": 25,
     "metadata": {},
     "output_type": "execute_result"
    }
   ],
   "source": [
    "train_1[train_1.columns[0]].head(), train_1[train_1.columns[0]].tail()"
   ]
  },
  {
   "cell_type": "code",
   "execution_count": 26,
   "metadata": {},
   "outputs": [
    {
     "data": {
      "text/plain": [
       "(0    Train_100420\n",
       " 1    Train_100421\n",
       " 2    Train_100422\n",
       " 3    Train_100423\n",
       " 4    Train_100424\n",
       " Name: image_id, dtype: object, 50205    Train_150625\n",
       " 50206    Train_150626\n",
       " 50207    Train_150627\n",
       " 50208    Train_150628\n",
       " 50209    Train_150629\n",
       " Name: image_id, dtype: object)"
      ]
     },
     "execution_count": 26,
     "metadata": {},
     "output_type": "execute_result"
    }
   ],
   "source": [
    "train_2[train_2.columns[0]].head(), train_2[train_2.columns[0]].tail()"
   ]
  },
  {
   "cell_type": "code",
   "execution_count": 27,
   "metadata": {},
   "outputs": [
    {
     "data": {
      "text/plain": [
       "(0    Train_150630\n",
       " 1    Train_150631\n",
       " 2    Train_150632\n",
       " 3    Train_150633\n",
       " 4    Train_150634\n",
       " Name: image_id, dtype: object, 50205    Train_200835\n",
       " 50206    Train_200836\n",
       " 50207    Train_200837\n",
       " 50208    Train_200838\n",
       " 50209    Train_200839\n",
       " Name: image_id, dtype: object)"
      ]
     },
     "execution_count": 27,
     "metadata": {},
     "output_type": "execute_result"
    }
   ],
   "source": [
    "train_3[train_3.columns[0]].head(), train_3[train_3.columns[0]].tail()"
   ]
  },
  {
   "cell_type": "code",
   "execution_count": 28,
   "metadata": {},
   "outputs": [
    {
     "data": {
      "text/plain": [
       "((50210, 32333), (50210, 32333), (200840, 32333))"
      ]
     },
     "execution_count": 28,
     "metadata": {},
     "output_type": "execute_result"
    }
   ],
   "source": [
    "train = pd.concat([train_0, train_1, train_2, train_3],ignore_index=True)\n",
    "train_0.shape, train_1.shape, train.shape"
   ]
  },
  {
   "cell_type": "code",
   "execution_count": 29,
   "metadata": {},
   "outputs": [],
   "source": [
    "# Let's free-up some memory\n",
    "del train_0, train_1, train_2, train_3"
   ]
  },
  {
   "cell_type": "code",
   "execution_count": 178,
   "metadata": {},
   "outputs": [],
   "source": [
    "# train[1:]"
   ]
  },
  {
   "cell_type": "markdown",
   "metadata": {},
   "source": [
    "### Getting the data ready"
   ]
  },
  {
   "cell_type": "code",
   "execution_count": 31,
   "metadata": {},
   "outputs": [],
   "source": [
    "# We need to convert the flat (1D) imaging pixel data into 2D images. \n",
    "# Note as this is character recognition dataset with grayscale images (not in 3-channel formart with usual RGB)"
   ]
  },
  {
   "cell_type": "code",
   "execution_count": 32,
   "metadata": {},
   "outputs": [],
   "source": [
    "# Let's select the data for first 2 images\n",
    "im_2 = train[train.columns[1:]].head(2)"
   ]
  },
  {
   "cell_type": "code",
   "execution_count": 33,
   "metadata": {},
   "outputs": [
    {
     "data": {
      "text/plain": [
       "(2,\n",
       "      0    1    2    3    4    5    6    7    8    9  ...  32322  32323  32324  \\\n",
       " 0  254  253  252  253  251  252  253  251  251  253  ...    253    253    253   \n",
       " 1  251  244  238  245  248  246  246  247  251  252  ...    255    255    255   \n",
       " \n",
       "    32325  32326  32327  32328  32329  32330  32331  \n",
       " 0    253    253    253    253    253    253    251  \n",
       " 1    255    255    255    255    255    255    254  \n",
       " \n",
       " [2 rows x 32332 columns])"
      ]
     },
     "execution_count": 33,
     "metadata": {},
     "output_type": "execute_result"
    }
   ],
   "source": [
    "len(im_2), im_2"
   ]
  },
  {
   "cell_type": "code",
   "execution_count": 34,
   "metadata": {},
   "outputs": [
    {
     "data": {
      "text/plain": [
       "(pandas.core.frame.DataFrame, (2, 32332))"
      ]
     },
     "execution_count": 34,
     "metadata": {},
     "output_type": "execute_result"
    }
   ],
   "source": [
    "type(im_2), im_2.shape"
   ]
  },
  {
   "cell_type": "code",
   "execution_count": 35,
   "metadata": {},
   "outputs": [
    {
     "data": {
      "text/html": [
       "<div>\n",
       "<style scoped>\n",
       "    .dataframe tbody tr th:only-of-type {\n",
       "        vertical-align: middle;\n",
       "    }\n",
       "\n",
       "    .dataframe tbody tr th {\n",
       "        vertical-align: top;\n",
       "    }\n",
       "\n",
       "    .dataframe thead th {\n",
       "        text-align: right;\n",
       "    }\n",
       "</style>\n",
       "<table border=\"1\" class=\"dataframe\">\n",
       "  <thead>\n",
       "    <tr style=\"text-align: right;\">\n",
       "      <th></th>\n",
       "      <th>0</th>\n",
       "      <th>1</th>\n",
       "      <th>2</th>\n",
       "      <th>3</th>\n",
       "      <th>4</th>\n",
       "      <th>5</th>\n",
       "      <th>6</th>\n",
       "      <th>7</th>\n",
       "      <th>8</th>\n",
       "      <th>9</th>\n",
       "      <th>...</th>\n",
       "      <th>32322</th>\n",
       "      <th>32323</th>\n",
       "      <th>32324</th>\n",
       "      <th>32325</th>\n",
       "      <th>32326</th>\n",
       "      <th>32327</th>\n",
       "      <th>32328</th>\n",
       "      <th>32329</th>\n",
       "      <th>32330</th>\n",
       "      <th>32331</th>\n",
       "    </tr>\n",
       "  </thead>\n",
       "  <tbody>\n",
       "    <tr>\n",
       "      <th>1</th>\n",
       "      <td>251</td>\n",
       "      <td>244</td>\n",
       "      <td>238</td>\n",
       "      <td>245</td>\n",
       "      <td>248</td>\n",
       "      <td>246</td>\n",
       "      <td>246</td>\n",
       "      <td>247</td>\n",
       "      <td>251</td>\n",
       "      <td>252</td>\n",
       "      <td>...</td>\n",
       "      <td>255</td>\n",
       "      <td>255</td>\n",
       "      <td>255</td>\n",
       "      <td>255</td>\n",
       "      <td>255</td>\n",
       "      <td>255</td>\n",
       "      <td>255</td>\n",
       "      <td>255</td>\n",
       "      <td>255</td>\n",
       "      <td>254</td>\n",
       "    </tr>\n",
       "  </tbody>\n",
       "</table>\n",
       "<p>1 rows × 32332 columns</p>\n",
       "</div>"
      ],
      "text/plain": [
       "     0    1    2    3    4    5    6    7    8    9  ...  32322  32323  32324  \\\n",
       "1  251  244  238  245  248  246  246  247  251  252  ...    255    255    255   \n",
       "\n",
       "   32325  32326  32327  32328  32329  32330  32331  \n",
       "1    255    255    255    255    255    255    254  \n",
       "\n",
       "[1 rows x 32332 columns]"
      ]
     },
     "execution_count": 35,
     "metadata": {},
     "output_type": "execute_result"
    }
   ],
   "source": [
    "im_2[1:]"
   ]
  },
  {
   "cell_type": "code",
   "execution_count": 36,
   "metadata": {},
   "outputs": [
    {
     "data": {
      "text/plain": [
       "<matplotlib.image.AxesImage at 0x7f394d13b710>"
      ]
     },
     "execution_count": 36,
     "metadata": {},
     "output_type": "execute_result"
    },
    {
     "data": {
      "image/png": "[encoded data removed]",
      "text/plain": [
       "<Figure size 432x288 with 1 Axes>"
      ]
     },
     "metadata": {
      "needs_background": "light"
     },
     "output_type": "display_data"
    }
   ],
   "source": [
    "# Let's create an image from the flat pixel data and display it\n",
    "tt = np.array(im_2.iloc[1]).reshape(137,236)\n",
    "\n",
    "# Image.fromarray would create a 2D numpy array from a row of pandas dataframe\n",
    "img = im.fromarray(obj=tt, mode='L') # The mode could be RGB for 3D data or \"L\", \"I\", \"1\" for 2-D data\n",
    "\n",
    "imshow(img, cmap='gray') # If we don't add cmap arg then we see a colorful image.`"
   ]
  },
  {
   "cell_type": "code",
   "execution_count": 37,
   "metadata": {},
   "outputs": [],
   "source": [
    "# PyTorch databuild libraries and modules\n",
    "import torch.optim as optim\n",
    "from torch.utils.data import Dataset, DataLoader\n",
    "from torchvision import datasets, models, transforms"
   ]
  },
  {
   "cell_type": "code",
   "execution_count": 38,
   "metadata": {},
   "outputs": [],
   "source": [
    "# Let's define the data augmentation and normalization for training\n",
    "# We are not going to flip the images horrizontally or vertically as they contain alphabates\n",
    "# data_transforms = {\n",
    "#     'train': transforms.Compose([\n",
    "#         transforms.Resize(124),\n",
    "#         transforms.ToTensor(),\n",
    "#         transforms.Normalize([0.485, 0.456, 0.406], [0.229, 0.224, 0.225])\n",
    "#     ]),\n",
    "#     'val': transforms.Compose([\n",
    "#         transforms.Resize(124),\n",
    "#         transforms.ToTensor(),\n",
    "#         transforms.Normalize([0.485, 0.456, 0.406], [0.229, 0.224, 0.225])\n",
    "#     ]),\n",
    "# }"
   ]
  },
  {
   "cell_type": "markdown",
   "metadata": {},
   "source": [
    "Let's write a simple function to display an image"
   ]
  },
  {
   "cell_type": "code",
   "execution_count": 39,
   "metadata": {},
   "outputs": [],
   "source": [
    "def show_image(dataframe, n):\n",
    "    img_name = dataframe.iloc[n, 0]\n",
    "    img_data = np.array(dataframe.iloc[n, 1:])\n",
    "    img_data = img_data.astype('float').reshape(137,236)\n",
    "    imshow(img_data, cmap='gray')"
   ]
  },
  {
   "cell_type": "code",
   "execution_count": 40,
   "metadata": {},
   "outputs": [
    {
     "data": {
      "image/png": "[encoded data removed]",
      "text/plain": [
       "<Figure size 432x288 with 1 Axes>"
      ]
     },
     "metadata": {
      "needs_background": "light"
     },
     "output_type": "display_data"
    }
   ],
   "source": [
    "show_image(train, 65)"
   ]
  },
  {
   "cell_type": "markdown",
   "metadata": {},
   "source": [
    "Now let's try to create a class which can help us to get the image data in raw or transformed format."
   ]
  },
  {
   "cell_type": "code",
   "execution_count": 41,
   "metadata": {},
   "outputs": [],
   "source": [
    "import torch\n",
    "from torchvision import datasets, models, transforms"
   ]
  },
  {
   "cell_type": "code",
   "execution_count": 233,
   "metadata": {},
   "outputs": [],
   "source": [
    "class BengaliCharacterDataset(Dataset):\n",
    "    \"\"\"Bengali language handwritten character dataset.\"\"\"\n",
    "    \n",
    "    def __init__(self, dataframe, transform=None):\n",
    "        \"\"\"\n",
    "        Args:\n",
    "            dataframe (string): Dataframe of parquet dataset with image data.\n",
    "            transform (callable, optional): Optional transform to be applied\n",
    "                on a sample.\n",
    "        \"\"\"\n",
    "        self.data_frame = pd.DataFrame(dataframe)\n",
    "        self.transform = transform\n",
    "\n",
    "    def __len__(self):\n",
    "        return len(self.data_frame)\n",
    "\n",
    "    def __getitem__(self, idx):\n",
    "        if torch.is_tensor(idx):\n",
    "            idx = idx.tolist()\n",
    "\n",
    "        img_name = self.data_frame.iloc[idx, 0]\n",
    "        # columns from class_map: image_id, grapheme_root, vowel_diacritic, consonant_diacritic, grapheme\n",
    "        img_label = train_labels.loc[train_labels['image_id'] == img_name, 'grapheme_root'].to_numpy()[0] \n",
    "        # added to.numpy()[0] to remove index number\n",
    "        \n",
    "        img_data = np.array(self.data_frame.iloc[idx, 1:])\n",
    "        img_data = img_data.astype('float').reshape(137,236)\n",
    "        # imshow(img_data, cmap='gray')\n",
    "        \n",
    "        # np_arr_img = im.fromarray(img_data)\n",
    "        # sample = {'img_label': img_label, 'image': np_arr_img}\n",
    "\n",
    "        # sample = {'image': img_data, 'img_label': img_label}\n",
    "        \n",
    "        if self.transform:\n",
    "            img_data = self.transform(im.fromarray(img_data))\n",
    "            # sample = {'img_label': img_label, 'image': img_data}\n",
    "\n",
    "        return img_data, img_label"
   ]
  },
  {
   "cell_type": "code",
   "execution_count": 234,
   "metadata": {},
   "outputs": [
    {
     "data": {
      "text/plain": [
       "87"
      ]
     },
     "execution_count": 234,
     "metadata": {},
     "output_type": "execute_result"
    }
   ],
   "source": [
    "# refer actual class value\n",
    "train_labels.loc[train_labels['image_id'] == 'Train_65', 'grapheme_root'].to_numpy()[0]"
   ]
  },
  {
   "cell_type": "code",
   "execution_count": 235,
   "metadata": {},
   "outputs": [],
   "source": [
    "ben_char_dataset = BengaliCharacterDataset(train)"
   ]
  },
  {
   "cell_type": "code",
   "execution_count": 236,
   "metadata": {},
   "outputs": [
    {
     "data": {
      "text/plain": [
       "200840"
      ]
     },
     "execution_count": 236,
     "metadata": {},
     "output_type": "execute_result"
    }
   ],
   "source": [
    "ben_char_dataset.__len__()"
   ]
  },
  {
   "cell_type": "code",
   "execution_count": 237,
   "metadata": {},
   "outputs": [
    {
     "data": {
      "text/plain": [
       "(tuple, (array([[251., 253., 251., ..., 253., 253., 252.],\n",
       "         [254., 254., 254., ..., 252., 252., 253.],\n",
       "         [253., 254., 255., ..., 251., 251., 252.],\n",
       "         ...,\n",
       "         [250., 254., 254., ..., 253., 254., 254.],\n",
       "         [252., 254., 254., ..., 253., 253., 253.],\n",
       "         [252., 252., 253., ..., 252., 252., 253.]]), 87))"
      ]
     },
     "execution_count": 237,
     "metadata": {},
     "output_type": "execute_result"
    }
   ],
   "source": [
    "tt = ben_char_dataset.__getitem__(idx = 65)\n",
    "type(tt),tt"
   ]
  },
  {
   "cell_type": "code",
   "execution_count": 238,
   "metadata": {},
   "outputs": [
    {
     "data": {
      "text/plain": [
       "87"
      ]
     },
     "execution_count": 238,
     "metadata": {},
     "output_type": "execute_result"
    }
   ],
   "source": [
    "tt[1]"
   ]
  },
  {
   "cell_type": "code",
   "execution_count": 239,
   "metadata": {},
   "outputs": [
    {
     "data": {
      "text/plain": [
       "(87, <matplotlib.image.AxesImage at 0x7f394da8ce80>)"
      ]
     },
     "execution_count": 239,
     "metadata": {},
     "output_type": "execute_result"
    },
    {
     "data": {
      "image/png": "[encoded data removed]",
      "text/plain": [
       "<Figure size 432x288 with 1 Axes>"
      ]
     },
     "metadata": {
      "needs_background": "light"
     },
     "output_type": "display_data"
    }
   ],
   "source": [
    "# We got the raw, non-transformed image with idx = 65\n",
    "np_arr_img = im.fromarray(tt[0])\n",
    "tt[1], imshow(np_arr_img, cmap='gray')"
   ]
  },
  {
   "cell_type": "code",
   "execution_count": 240,
   "metadata": {},
   "outputs": [],
   "source": [
    "# Now let's create a PyTorch Dataset object with transformations\n",
    "transformed_dataset = BengaliCharacterDataset(train,\n",
    "                                           transform=transforms.Compose([\n",
    "                                               transforms.Resize((128,128),interpolation=im.NEAREST),\n",
    "                                               transforms.ToTensor()\n",
    "                                               #transforms.Normalize([0.485, 0.456, 0.406], [0.229, 0.224, 0.225])\n",
    "                                           ]))"
   ]
  },
  {
   "cell_type": "code",
   "execution_count": 48,
   "metadata": {},
   "outputs": [],
   "source": [
    "## NOTE: The default resizing occurs with BILINEAR interpolation, which we have changed to NEAREST\n",
    "# It seems there are many algorithms to resize images, need to explore more on this"
   ]
  },
  {
   "cell_type": "code",
   "execution_count": 241,
   "metadata": {},
   "outputs": [],
   "source": [
    "idx = 65\n",
    "\n",
    "img_name = transformed_dataset.data_frame.iloc[idx, 0]\n",
    "# columns from class_map: image_id, grapheme_root, vowel_diacritic, consonant_diacritic, grapheme\n",
    "img_label = train_labels.loc[train_labels['image_id'] == img_name, 'grapheme_root'].to_numpy()[0] \n",
    "# added to.numpy()[0] to remove index number"
   ]
  },
  {
   "cell_type": "code",
   "execution_count": 203,
   "metadata": {},
   "outputs": [],
   "source": [
    "img_data = np.array(transformed_dataset.data_frame.iloc[idx, 1:])\n",
    "img_data = img_data.astype('float').reshape(137,236)\n",
    "# imshow(img_data, cmap='gray')\n",
    "        \n",
    "        # np_arr_img = im.fromarray(img_data)\n",
    "        # sample = {'img_label': img_label, 'image': np_arr_img}\n",
    "\n",
    "        # sample = {'image': img_data, 'img_label': img_label}"
   ]
  },
  {
   "cell_type": "code",
   "execution_count": 242,
   "metadata": {},
   "outputs": [],
   "source": [
    "tt = transformed_dataset.__getitem__(65)"
   ]
  },
  {
   "cell_type": "code",
   "execution_count": 243,
   "metadata": {},
   "outputs": [
    {
     "data": {
      "text/plain": [
       "(2, (tensor([[[251., 251., 252.,  ..., 254., 253., 252.],\n",
       "           [254., 254., 254.,  ..., 253., 252., 253.],\n",
       "           [253., 255., 255.,  ..., 252., 251., 252.],\n",
       "           ...,\n",
       "           [250., 254., 254.,  ..., 253., 253., 254.],\n",
       "           [252., 254., 254.,  ..., 252., 253., 253.],\n",
       "           [252., 253., 253.,  ..., 253., 252., 253.]]]), 87))"
      ]
     },
     "execution_count": 243,
     "metadata": {},
     "output_type": "execute_result"
    }
   ],
   "source": [
    "len(tt), tt"
   ]
  },
  {
   "cell_type": "code",
   "execution_count": 244,
   "metadata": {},
   "outputs": [
    {
     "data": {
      "text/plain": [
       "tensor([251., 251., 252., 254., 250., 253., 252., 252., 253., 253., 253., 253.,\n",
       "        252., 251., 251., 252., 253., 253., 252., 252., 254., 253., 254., 254.,\n",
       "        253., 253., 253., 254., 254., 254., 253., 253., 253., 253., 254., 254.,\n",
       "        254., 254., 254., 253., 253., 253., 253., 254., 254., 254., 254., 253.,\n",
       "        253., 255., 255., 254., 255., 255., 255., 255., 254., 254., 254., 254.,\n",
       "        254., 254., 254., 253., 253., 253., 254., 254., 254., 253., 253., 253.,\n",
       "        253., 253., 255., 253., 253., 254., 254., 253., 253., 253., 254., 255.,\n",
       "        255., 254., 253., 254., 254., 254., 254., 254., 254., 254., 254., 254.,\n",
       "        254., 254., 253., 254., 253., 250., 251., 254., 252., 250., 250., 251.,\n",
       "        252., 252., 254., 254., 254., 254., 255., 254., 252., 254., 254., 255.,\n",
       "        255., 255., 255., 253., 253., 254., 253., 252.])"
      ]
     },
     "execution_count": 244,
     "metadata": {},
     "output_type": "execute_result"
    }
   ],
   "source": [
    "tt[0][0][0]"
   ]
  },
  {
   "cell_type": "code",
   "execution_count": 245,
   "metadata": {},
   "outputs": [
    {
     "data": {
      "text/plain": [
       "<matplotlib.image.AxesImage at 0x7f394daa7630>"
      ]
     },
     "execution_count": 245,
     "metadata": {},
     "output_type": "execute_result"
    },
    {
     "data": {
      "image/png": "[encoded data removed]",
      "text/plain": [
       "<Figure size 432x288 with 1 Axes>"
      ]
     },
     "metadata": {
      "needs_background": "light"
     },
     "output_type": "display_data"
    }
   ],
   "source": [
    "# to_pil = transforms.ToPILImage() \n",
    "imshow(tt[0][0], cmap='gray')"
   ]
  },
  {
   "cell_type": "markdown",
   "metadata": {},
   "source": [
    "### Creating a validation dataset from training data"
   ]
  },
  {
   "cell_type": "code",
   "execution_count": 246,
   "metadata": {},
   "outputs": [],
   "source": [
    "validation_split = .2\n",
    "shuffle_dataset = True\n",
    "random_seed= 42\n",
    "\n",
    "# Creating data indices for training and validation splits:\n",
    "dataset_size = len(transformed_dataset)\n",
    "indices = list(range(dataset_size))"
   ]
  },
  {
   "cell_type": "code",
   "execution_count": 247,
   "metadata": {},
   "outputs": [
    {
     "data": {
      "text/plain": [
       "(200840, 0, 200839, 0)"
      ]
     },
     "execution_count": 247,
     "metadata": {},
     "output_type": "execute_result"
    }
   ],
   "source": [
    "# Let's make sure there are no duplicates in indices before creating a validation data based on it\n",
    "idx = transformed_dataset.data_frame.index\n",
    "len(idx), min(idx), max(idx), idx.duplicated().sum()"
   ]
  },
  {
   "cell_type": "code",
   "execution_count": 248,
   "metadata": {},
   "outputs": [],
   "source": [
    "from torch.utils.data.sampler import SubsetRandomSampler"
   ]
  },
  {
   "cell_type": "code",
   "execution_count": 249,
   "metadata": {},
   "outputs": [],
   "source": [
    "split = int(np.floor(validation_split * dataset_size))\n",
    "# split = 40,168\n",
    "\n",
    "if shuffle_dataset :\n",
    "    np.random.seed(random_seed)\n",
    "    np.random.shuffle(indices)\n",
    "train_indices, val_indices = indices[split:], indices[:split]\n",
    "\n",
    "# Creating PT data samplers and loaders:\n",
    "train_sampler = SubsetRandomSampler(train_indices)\n",
    "valid_sampler = SubsetRandomSampler(val_indices)"
   ]
  },
  {
   "cell_type": "code",
   "execution_count": 250,
   "metadata": {},
   "outputs": [
    {
     "data": {
      "text/plain": [
       "(160672,\n",
       " 40168,\n",
       " <torch.utils.data.sampler.SubsetRandomSampler at 0x7f394dab6d68>,\n",
       " [21197,\n",
       "  177037,\n",
       "  173023,\n",
       "  116372,\n",
       "  186887,\n",
       "  73520,\n",
       "  145819,\n",
       "  168841,\n",
       "  120425,\n",
       "  194829])"
      ]
     },
     "execution_count": 250,
     "metadata": {},
     "output_type": "execute_result"
    }
   ],
   "source": [
    "# Let's check how it looks\n",
    "len(train_sampler), len(valid_sampler), train_sampler, train_sampler.indices[0:10]"
   ]
  },
  {
   "cell_type": "code",
   "execution_count": 251,
   "metadata": {},
   "outputs": [],
   "source": [
    "sampler= {}\n",
    "sampler['train'] = train_sampler\n",
    "sampler['val'] = valid_sampler"
   ]
  },
  {
   "cell_type": "code",
   "execution_count": 252,
   "metadata": {},
   "outputs": [
    {
     "data": {
      "text/plain": [
       "<torch.utils.data.sampler.SubsetRandomSampler at 0x7f394dab6630>"
      ]
     },
     "execution_count": 252,
     "metadata": {},
     "output_type": "execute_result"
    }
   ],
   "source": [
    "sampler['val']"
   ]
  },
  {
   "cell_type": "markdown",
   "metadata": {},
   "source": [
    "### Getting the dataloader ready"
   ]
  },
  {
   "cell_type": "markdown",
   "metadata": {},
   "source": [
    "Within a Python process, the Global Interpreter Lock (GIL) prevents true fully parallelizing Python code across threads. To avoid blocking computation code with data loading, PyTorch provides an easy switch to perform multi-process data loading by simply setting the argument num_workers to a positive integer."
   ]
  },
  {
   "cell_type": "code",
   "execution_count": 253,
   "metadata": {},
   "outputs": [],
   "source": [
    "dataloaders = {x: DataLoader(transformed_dataset, \n",
    "                             sampler=sampler[x], \n",
    "                             batch_size=4,\n",
    "                             #shuffle=True, \n",
    "                             num_workers=4)\n",
    "              for x in ['train', 'val']}"
   ]
  },
  {
   "cell_type": "code",
   "execution_count": 57,
   "metadata": {},
   "outputs": [],
   "source": [
    "# train_loader = torch.utils.data.DataLoader(transformed_dataset, batch_size=4, \n",
    "#                                            sampler=train_sampler, num_workers=4)\n",
    "\n",
    "# validation_loader = torch.utils.data.DataLoader(transformed_dataset, batch_size=4,\n",
    "#                                                 sampler=valid_sampler, num_workers=4)"
   ]
  },
  {
   "cell_type": "code",
   "execution_count": 254,
   "metadata": {},
   "outputs": [
    {
     "data": {
      "text/plain": [
       "((200840, 32333), (200840, 32333))"
      ]
     },
     "execution_count": 254,
     "metadata": {},
     "output_type": "execute_result"
    }
   ],
   "source": [
    "dataloaders['train'].dataset.data_frame.shape, dataloaders['val'].dataset.data_frame.shape"
   ]
  },
  {
   "cell_type": "code",
   "execution_count": 255,
   "metadata": {},
   "outputs": [],
   "source": [
    "def train_model(model, criterion, optimizer, scheduler, num_epochs=25):\n",
    "    since = time.time()\n",
    "    \n",
    "    device = torch.device(\"cuda:0\" if torch.cuda.is_available() else \"cpu\")\n",
    "\n",
    "    best_model_wts = copy.deepcopy(model.state_dict())\n",
    "    best_acc = 0.0\n",
    "\n",
    "    for epoch in range(num_epochs):\n",
    "        print('Epoch {}/{}'.format(epoch, num_epochs - 1))\n",
    "        print('-' * 10)\n",
    "\n",
    "        # Each epoch has a training and validation phase\n",
    "        for phase in ['train', 'val']:\n",
    "            if phase == 'train':\n",
    "                model.train()  # Set model to training mode\n",
    "            else:\n",
    "                model.eval()   # Set model to evaluate mode\n",
    "\n",
    "            running_loss = 0.0\n",
    "            running_corrects = 0\n",
    "\n",
    "            # Iterate over data.\n",
    "            for inputs, labels in dataloaders[phase]:\n",
    "                inputs = inputs.to(device)\n",
    "                labels = labels.to(device)\n",
    "\n",
    "                # zero the parameter gradients\n",
    "                optimizer.zero_grad()\n",
    "\n",
    "                # forward\n",
    "                # track history if only in train\n",
    "                with torch.set_grad_enabled(phase == 'train'):\n",
    "                    outputs = model(inputs)\n",
    "                    _, preds = torch.max(outputs, 1)\n",
    "                    loss = criterion(outputs, labels)\n",
    "\n",
    "                    # backward + optimize only if in training phase\n",
    "                    if phase == 'train':\n",
    "                        loss.backward()\n",
    "                        optimizer.step()\n",
    "\n",
    "                # statistics\n",
    "                running_loss += loss.item() * inputs.size(0)\n",
    "                running_corrects += torch.sum(preds == labels.data)\n",
    "            if phase == 'train':\n",
    "                scheduler.step()\n",
    "\n",
    "            epoch_loss = running_loss / dataset_sizes[phase]\n",
    "            epoch_acc = running_corrects.double() / dataset_sizes[phase]\n",
    "\n",
    "            print('{} Loss: {:.4f} Acc: {:.4f}'.format(\n",
    "                phase, epoch_loss, epoch_acc))\n",
    "\n",
    "            # deep copy the model\n",
    "            if phase == 'val' and epoch_acc > best_acc:\n",
    "                best_acc = epoch_acc\n",
    "                best_model_wts = copy.deepcopy(model.state_dict())\n",
    "\n",
    "        print()\n",
    "\n",
    "    time_elapsed = time.time() - since\n",
    "    print('Training complete in {:.0f}m {:.0f}s'.format(\n",
    "        time_elapsed // 60, time_elapsed % 60))\n",
    "    print('Best val Acc: {:4f}'.format(best_acc))\n",
    "\n",
    "    # load best model weights\n",
    "    model.load_state_dict(best_model_wts)\n",
    "    return model"
   ]
  },
  {
   "cell_type": "code",
   "execution_count": 256,
   "metadata": {},
   "outputs": [],
   "source": [
    "# PyTorch libraries and modules\n",
    "from torch.optim import lr_scheduler\n",
    "import torch.nn as nn\n",
    "import torch.optim as optim\n",
    "import torch"
   ]
  },
  {
   "cell_type": "code",
   "execution_count": 257,
   "metadata": {},
   "outputs": [],
   "source": [
    "device = torch.device(\"cuda:0\" if torch.cuda.is_available() else \"cpu\")"
   ]
  },
  {
   "cell_type": "code",
   "execution_count": 258,
   "metadata": {},
   "outputs": [],
   "source": [
    "# Load a pretrained model and reset final fully connected layer.\n",
    "\n",
    "model_ft = models.resnet18(pretrained=True)\n",
    "num_ftrs = model_ft.fc.in_features\n",
    "\n",
    "# Here the size of each output sample is set to 168.\n",
    "# Alternatively, it can be generalized to nn.Linear(num_ftrs, len(class_names)).\n",
    "model_ft.fc = nn.Linear(num_ftrs, 168)\n",
    "\n",
    "# Ensuring the model is using GPU\n",
    "model_ft = model_ft.to(device)\n",
    "\n",
    "# As we have two classes (0 or 1) we will use cross-entropy as criterion\n",
    "criterion = nn.CrossEntropyLoss()\n",
    "\n",
    "# Observe that all parameters are being optimized\n",
    "optimizer_ft = optim.SGD(model_ft.parameters(), lr=0.001, momentum=0.9)\n",
    "\n",
    "# Decay LR by a factor of 0.1 every 7 epochs\n",
    "exp_lr_scheduler = lr_scheduler.StepLR(optimizer_ft, step_size=7, gamma=0.1)"
   ]
  },
  {
   "cell_type": "code",
   "execution_count": 259,
   "metadata": {
    "scrolled": true
   },
   "outputs": [
    {
     "name": "stdout",
     "output_type": "stream",
     "text": [
      "Epoch 0/4\n",
      "----------\n"
     ]
    },
    {
     "ename": "RuntimeError",
     "evalue": "Given groups=1, weight of size [64, 3, 7, 7], expected input[4, 1, 128, 128] to have 3 channels, but got 1 channels instead",
     "output_type": "error",
     "traceback": [
      "\u001b[0;31m---------------------------------------------------------------------------\u001b[0m",
      "\u001b[0;31mRuntimeError\u001b[0m                              Traceback (most recent call last)",
      "\u001b[0;32m<ipython-input-259-327733e582a6>\u001b[0m in \u001b[0;36m<module>\u001b[0;34m\u001b[0m\n\u001b[1;32m      1\u001b[0m model_ft = train_model(model_ft, criterion, optimizer_ft, exp_lr_scheduler,\n\u001b[0;32m----> 2\u001b[0;31m                        num_epochs=5)\n\u001b[0m",
      "\u001b[0;32m<ipython-input-255-eeee0cf2d6d3>\u001b[0m in \u001b[0;36mtrain_model\u001b[0;34m(model, criterion, optimizer, scheduler, num_epochs)\u001b[0m\n\u001b[1;32m     32\u001b[0m                 \u001b[0;31m# track history if only in train\u001b[0m\u001b[0;34m\u001b[0m\u001b[0;34m\u001b[0m\u001b[0;34m\u001b[0m\u001b[0m\n\u001b[1;32m     33\u001b[0m                 \u001b[0;32mwith\u001b[0m \u001b[0mtorch\u001b[0m\u001b[0;34m.\u001b[0m\u001b[0mset_grad_enabled\u001b[0m\u001b[0;34m(\u001b[0m\u001b[0mphase\u001b[0m \u001b[0;34m==\u001b[0m \u001b[0;34m'train'\u001b[0m\u001b[0;34m)\u001b[0m\u001b[0;34m:\u001b[0m\u001b[0;34m\u001b[0m\u001b[0;34m\u001b[0m\u001b[0m\n\u001b[0;32m---> 34\u001b[0;31m                     \u001b[0moutputs\u001b[0m \u001b[0;34m=\u001b[0m \u001b[0mmodel\u001b[0m\u001b[0;34m(\u001b[0m\u001b[0minputs\u001b[0m\u001b[0;34m)\u001b[0m\u001b[0;34m\u001b[0m\u001b[0;34m\u001b[0m\u001b[0m\n\u001b[0m\u001b[1;32m     35\u001b[0m                     \u001b[0m_\u001b[0m\u001b[0;34m,\u001b[0m \u001b[0mpreds\u001b[0m \u001b[0;34m=\u001b[0m \u001b[0mtorch\u001b[0m\u001b[0;34m.\u001b[0m\u001b[0mmax\u001b[0m\u001b[0;34m(\u001b[0m\u001b[0moutputs\u001b[0m\u001b[0;34m,\u001b[0m \u001b[0;36m1\u001b[0m\u001b[0;34m)\u001b[0m\u001b[0;34m\u001b[0m\u001b[0;34m\u001b[0m\u001b[0m\n\u001b[1;32m     36\u001b[0m                     \u001b[0mloss\u001b[0m \u001b[0;34m=\u001b[0m \u001b[0mcriterion\u001b[0m\u001b[0;34m(\u001b[0m\u001b[0moutputs\u001b[0m\u001b[0;34m,\u001b[0m \u001b[0mlabels\u001b[0m\u001b[0;34m)\u001b[0m\u001b[0;34m\u001b[0m\u001b[0;34m\u001b[0m\u001b[0m\n",
      "\u001b[0;32m~/anaconda3/lib/python3.7/site-packages/torch/nn/modules/module.py\u001b[0m in \u001b[0;36m__call__\u001b[0;34m(self, *input, **kwargs)\u001b[0m\n\u001b[1;32m    487\u001b[0m             \u001b[0mresult\u001b[0m \u001b[0;34m=\u001b[0m \u001b[0mself\u001b[0m\u001b[0;34m.\u001b[0m\u001b[0m_slow_forward\u001b[0m\u001b[0;34m(\u001b[0m\u001b[0;34m*\u001b[0m\u001b[0minput\u001b[0m\u001b[0;34m,\u001b[0m \u001b[0;34m**\u001b[0m\u001b[0mkwargs\u001b[0m\u001b[0;34m)\u001b[0m\u001b[0;34m\u001b[0m\u001b[0;34m\u001b[0m\u001b[0m\n\u001b[1;32m    488\u001b[0m         \u001b[0;32melse\u001b[0m\u001b[0;34m:\u001b[0m\u001b[0;34m\u001b[0m\u001b[0;34m\u001b[0m\u001b[0m\n\u001b[0;32m--> 489\u001b[0;31m             \u001b[0mresult\u001b[0m \u001b[0;34m=\u001b[0m \u001b[0mself\u001b[0m\u001b[0;34m.\u001b[0m\u001b[0mforward\u001b[0m\u001b[0;34m(\u001b[0m\u001b[0;34m*\u001b[0m\u001b[0minput\u001b[0m\u001b[0;34m,\u001b[0m \u001b[0;34m**\u001b[0m\u001b[0mkwargs\u001b[0m\u001b[0;34m)\u001b[0m\u001b[0;34m\u001b[0m\u001b[0;34m\u001b[0m\u001b[0m\n\u001b[0m\u001b[1;32m    490\u001b[0m         \u001b[0;32mfor\u001b[0m \u001b[0mhook\u001b[0m \u001b[0;32min\u001b[0m \u001b[0mself\u001b[0m\u001b[0;34m.\u001b[0m\u001b[0m_forward_hooks\u001b[0m\u001b[0;34m.\u001b[0m\u001b[0mvalues\u001b[0m\u001b[0;34m(\u001b[0m\u001b[0;34m)\u001b[0m\u001b[0;34m:\u001b[0m\u001b[0;34m\u001b[0m\u001b[0;34m\u001b[0m\u001b[0m\n\u001b[1;32m    491\u001b[0m             \u001b[0mhook_result\u001b[0m \u001b[0;34m=\u001b[0m \u001b[0mhook\u001b[0m\u001b[0;34m(\u001b[0m\u001b[0mself\u001b[0m\u001b[0;34m,\u001b[0m \u001b[0minput\u001b[0m\u001b[0;34m,\u001b[0m \u001b[0mresult\u001b[0m\u001b[0;34m)\u001b[0m\u001b[0;34m\u001b[0m\u001b[0;34m\u001b[0m\u001b[0m\n",
      "\u001b[0;32m~/anaconda3/lib/python3.7/site-packages/torchvision/models/resnet.py\u001b[0m in \u001b[0;36mforward\u001b[0;34m(self, x)\u001b[0m\n\u001b[1;32m    137\u001b[0m \u001b[0;34m\u001b[0m\u001b[0m\n\u001b[1;32m    138\u001b[0m     \u001b[0;32mdef\u001b[0m \u001b[0mforward\u001b[0m\u001b[0;34m(\u001b[0m\u001b[0mself\u001b[0m\u001b[0;34m,\u001b[0m \u001b[0mx\u001b[0m\u001b[0;34m)\u001b[0m\u001b[0;34m:\u001b[0m\u001b[0;34m\u001b[0m\u001b[0;34m\u001b[0m\u001b[0m\n\u001b[0;32m--> 139\u001b[0;31m         \u001b[0mx\u001b[0m \u001b[0;34m=\u001b[0m \u001b[0mself\u001b[0m\u001b[0;34m.\u001b[0m\u001b[0mconv1\u001b[0m\u001b[0;34m(\u001b[0m\u001b[0mx\u001b[0m\u001b[0;34m)\u001b[0m\u001b[0;34m\u001b[0m\u001b[0;34m\u001b[0m\u001b[0m\n\u001b[0m\u001b[1;32m    140\u001b[0m         \u001b[0mx\u001b[0m \u001b[0;34m=\u001b[0m \u001b[0mself\u001b[0m\u001b[0;34m.\u001b[0m\u001b[0mbn1\u001b[0m\u001b[0;34m(\u001b[0m\u001b[0mx\u001b[0m\u001b[0;34m)\u001b[0m\u001b[0;34m\u001b[0m\u001b[0;34m\u001b[0m\u001b[0m\n\u001b[1;32m    141\u001b[0m         \u001b[0mx\u001b[0m \u001b[0;34m=\u001b[0m \u001b[0mself\u001b[0m\u001b[0;34m.\u001b[0m\u001b[0mrelu\u001b[0m\u001b[0;34m(\u001b[0m\u001b[0mx\u001b[0m\u001b[0;34m)\u001b[0m\u001b[0;34m\u001b[0m\u001b[0;34m\u001b[0m\u001b[0m\n",
      "\u001b[0;32m~/anaconda3/lib/python3.7/site-packages/torch/nn/modules/module.py\u001b[0m in \u001b[0;36m__call__\u001b[0;34m(self, *input, **kwargs)\u001b[0m\n\u001b[1;32m    487\u001b[0m             \u001b[0mresult\u001b[0m \u001b[0;34m=\u001b[0m \u001b[0mself\u001b[0m\u001b[0;34m.\u001b[0m\u001b[0m_slow_forward\u001b[0m\u001b[0;34m(\u001b[0m\u001b[0;34m*\u001b[0m\u001b[0minput\u001b[0m\u001b[0;34m,\u001b[0m \u001b[0;34m**\u001b[0m\u001b[0mkwargs\u001b[0m\u001b[0;34m)\u001b[0m\u001b[0;34m\u001b[0m\u001b[0;34m\u001b[0m\u001b[0m\n\u001b[1;32m    488\u001b[0m         \u001b[0;32melse\u001b[0m\u001b[0;34m:\u001b[0m\u001b[0;34m\u001b[0m\u001b[0;34m\u001b[0m\u001b[0m\n\u001b[0;32m--> 489\u001b[0;31m             \u001b[0mresult\u001b[0m \u001b[0;34m=\u001b[0m \u001b[0mself\u001b[0m\u001b[0;34m.\u001b[0m\u001b[0mforward\u001b[0m\u001b[0;34m(\u001b[0m\u001b[0;34m*\u001b[0m\u001b[0minput\u001b[0m\u001b[0;34m,\u001b[0m \u001b[0;34m**\u001b[0m\u001b[0mkwargs\u001b[0m\u001b[0;34m)\u001b[0m\u001b[0;34m\u001b[0m\u001b[0;34m\u001b[0m\u001b[0m\n\u001b[0m\u001b[1;32m    490\u001b[0m         \u001b[0;32mfor\u001b[0m \u001b[0mhook\u001b[0m \u001b[0;32min\u001b[0m \u001b[0mself\u001b[0m\u001b[0;34m.\u001b[0m\u001b[0m_forward_hooks\u001b[0m\u001b[0;34m.\u001b[0m\u001b[0mvalues\u001b[0m\u001b[0;34m(\u001b[0m\u001b[0;34m)\u001b[0m\u001b[0;34m:\u001b[0m\u001b[0;34m\u001b[0m\u001b[0;34m\u001b[0m\u001b[0m\n\u001b[1;32m    491\u001b[0m             \u001b[0mhook_result\u001b[0m \u001b[0;34m=\u001b[0m \u001b[0mhook\u001b[0m\u001b[0;34m(\u001b[0m\u001b[0mself\u001b[0m\u001b[0;34m,\u001b[0m \u001b[0minput\u001b[0m\u001b[0;34m,\u001b[0m \u001b[0mresult\u001b[0m\u001b[0;34m)\u001b[0m\u001b[0;34m\u001b[0m\u001b[0;34m\u001b[0m\u001b[0m\n",
      "\u001b[0;32m~/anaconda3/lib/python3.7/site-packages/torch/nn/modules/conv.py\u001b[0m in \u001b[0;36mforward\u001b[0;34m(self, input)\u001b[0m\n\u001b[1;32m    318\u001b[0m     \u001b[0;32mdef\u001b[0m \u001b[0mforward\u001b[0m\u001b[0;34m(\u001b[0m\u001b[0mself\u001b[0m\u001b[0;34m,\u001b[0m \u001b[0minput\u001b[0m\u001b[0;34m)\u001b[0m\u001b[0;34m:\u001b[0m\u001b[0;34m\u001b[0m\u001b[0;34m\u001b[0m\u001b[0m\n\u001b[1;32m    319\u001b[0m         return F.conv2d(input, self.weight, self.bias, self.stride,\n\u001b[0;32m--> 320\u001b[0;31m                         self.padding, self.dilation, self.groups)\n\u001b[0m\u001b[1;32m    321\u001b[0m \u001b[0;34m\u001b[0m\u001b[0m\n\u001b[1;32m    322\u001b[0m \u001b[0;34m\u001b[0m\u001b[0m\n",
      "\u001b[0;31mRuntimeError\u001b[0m: Given groups=1, weight of size [64, 3, 7, 7], expected input[4, 1, 128, 128] to have 3 channels, but got 1 channels instead"
     ]
    }
   ],
   "source": [
    "model_ft = train_model(model_ft, criterion, optimizer_ft, exp_lr_scheduler,\n",
    "                       num_epochs=5)"
   ]
  },
  {
   "cell_type": "code",
   "execution_count": null,
   "metadata": {},
   "outputs": [],
   "source": []
  }
 ],
 "metadata": {
  "kernelspec": {
   "display_name": "Python 3",
   "language": "python",
   "name": "python3"
  },
  "language_info": {
   "codemirror_mode": {
    "name": "ipython",
    "version": 3
   },
   "file_extension": ".py",
   "mimetype": "text/x-python",
   "name": "python",
   "nbconvert_exporter": "python",
   "pygments_lexer": "ipython3",
   "version": "3.7.3"
  }
 },
 "nbformat": 4,
 "nbformat_minor": 2
}
