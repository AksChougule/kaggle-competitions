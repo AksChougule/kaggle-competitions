{
 "cells": [
  {
   "cell_type": "code",
   "execution_count": 1,
   "metadata": {},
   "outputs": [],
   "source": [
    "import pandas as pd\n",
    "import numpy as np\n",
    "import joblib\n",
    "import glob\n",
    "from tqdm import tqdm"
   ]
  },
  {
   "cell_type": "code",
   "execution_count": 6,
   "metadata": {},
   "outputs": [
    {
     "name": "stderr",
     "output_type": "stream",
     "text": [
      "100%|██████████| 50210/50210 [00:59<00:00, 849.64it/s]\n",
      "100%|██████████| 50210/50210 [00:59<00:00, 845.25it/s]\n",
      "100%|██████████| 50210/50210 [00:56<00:00, 891.32it/s]\n",
      "100%|██████████| 50210/50210 [00:55<00:00, 897.68it/s]\n"
     ]
    }
   ],
   "source": [
    "if __name__ == \"__main__\":\n",
    "    files = glob.glob(\"/home/ubuntu/datasets/bengali-ai/train_*.parquet\")\n",
    "    for f in files:\n",
    "        df = pd.read_parquet(f)\n",
    "        image_ids = df.image_id.values\n",
    "        # If we drop the first column, rest all are pixel values for images\n",
    "        df = df.drop(\"image_id\", axis =1)\n",
    "        image_array = df.values\n",
    "        for j, img_id in tqdm(enumerate(image_ids), total=len(image_ids)):\n",
    "            joblib.dump(image_array[j,:], f\"../input/images_pickles/{img_id}.pkl\")"
   ]
  },
  {
   "cell_type": "code",
   "execution_count": null,
   "metadata": {},
   "outputs": [],
   "source": []
  }
 ],
 "metadata": {
  "kernelspec": {
   "display_name": "Python 3",
   "language": "python",
   "name": "python3"
  },
  "language_info": {
   "codemirror_mode": {
    "name": "ipython",
    "version": 3
   },
   "file_extension": ".py",
   "mimetype": "text/x-python",
   "name": "python",
   "nbconvert_exporter": "python",
   "pygments_lexer": "ipython3",
   "version": "3.7.3"
  }
 },
 "nbformat": 4,
 "nbformat_minor": 2
}
