{
 "cells": [
  {
   "cell_type": "code",
   "execution_count": 4,
   "metadata": {},
   "outputs": [],
   "source": [
    "import pandas as pd\n",
    "from iterstrat.ml_stratifiers import MultilabelStratifiedKFold"
   ]
  },
  {
   "cell_type": "code",
   "execution_count": 14,
   "metadata": {},
   "outputs": [
    {
     "name": "stdout",
     "output_type": "stream",
     "text": [
      "  image_id  grapheme_root  vowel_diacritic  consonant_diacritic grapheme\n",
      "0  Train_0             15                9                    5   ক্ট্রো\n",
      "1  Train_1            159                0                    0        হ\n",
      "2  Train_2             22                3                    5     খ্রী\n",
      "3  Train_3             53                2                    2     র্টি\n",
      "4  Train_4             71                9                    5     থ্রো\n",
      "TRAIN:  [     0      1      2 ... 200836 200837 200838] VALID :  [     7     13     37 ... 200832 200833 200839]\n",
      "TRAIN:  [     0      3      6 ... 200837 200838 200839] VALID :  [     1      2      4 ... 200823 200824 200834]\n",
      "TRAIN:  [     0      1      2 ... 200837 200838 200839] VALID :  [    12     14     35 ... 200830 200831 200836]\n",
      "TRAIN:  [     1      2      3 ... 200836 200837 200839] VALID :  [     0      6     15 ... 200827 200835 200838]\n",
      "TRAIN:  [     0      1      2 ... 200836 200838 200839] VALID :  [     3     18     27 ... 200825 200829 200837]\n",
      "4    40168\n",
      "3    40168\n",
      "2    40168\n",
      "1    40168\n",
      "0    40168\n",
      "Name: kfold, dtype: int64\n"
     ]
    }
   ],
   "source": [
    "if __name__ == \"__main__\":\n",
    "    df = pd.read_csv(\"/home/ubuntu/datasets/bengali-ai/train.csv\")\n",
    "    print(df.head())\n",
    "    df.loc[:,\"kfold\"] = -1\n",
    "    \n",
    "    # random shuffle with fraction = 1 then reset the index\n",
    "    df = df.sample(frac=1).reset_index(drop=True)\n",
    "    \n",
    "    X = df.image_id.values\n",
    "    y = df[[\"grapheme_root\",\"vowel_diacritic\",\"consonant_diacritic\"]].values\n",
    "    \n",
    "    # define how many folds\n",
    "    mskf = MultilabelStratifiedKFold(n_splits=5)\n",
    "    \n",
    "    # Let's go through the iterator and get trai and al indices\n",
    "    for fold, (trn_, val_) in enumerate(mskf.split(X, y)):\n",
    "        print(\"TRAIN: \", trn_, \"VALID : \",val_)\n",
    "        df.loc[val_, \"kfold\"] = fold\n",
    "        \n",
    "    print(df.kfold.value_counts())\n",
    "    df.to_csv(\"../input/train_folds.csv\", index=False)"
   ]
  },
  {
   "cell_type": "code",
   "execution_count": null,
   "metadata": {},
   "outputs": [],
   "source": []
  }
 ],
 "metadata": {
  "kernelspec": {
   "display_name": "Python 3",
   "language": "python",
   "name": "python3"
  },
  "language_info": {
   "codemirror_mode": {
    "name": "ipython",
    "version": 3
   },
   "file_extension": ".py",
   "mimetype": "text/x-python",
   "name": "python",
   "nbconvert_exporter": "python",
   "pygments_lexer": "ipython3",
   "version": "3.7.3"
  }
 },
 "nbformat": 4,
 "nbformat_minor": 2
}
