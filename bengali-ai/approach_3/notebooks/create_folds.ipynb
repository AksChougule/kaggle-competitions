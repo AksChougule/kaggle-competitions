{
 "cells": [
  {
   "cell_type": "code",
   "execution_count": 4,
   "metadata": {},
   "outputs": [
    {
     "name": "stdout",
     "output_type": "stream",
     "text": [
      "WARNING: pip is being invoked by an old script wrapper. This will fail in a future version of pip.\n",
      "Please see https://github.com/pypa/pip/issues/5599 for advice on fixing the underlying issue.\n",
      "To avoid this problem you can invoke Python with '-m pip' instead of running pip directly.\n",
      "Collecting iterative-stratification\n",
      "  Using cached iterative_stratification-0.1.6-py3-none-any.whl (8.7 kB)\n",
      "Requirement already satisfied: scikit-learn in /home/ubuntu/.local/lib/python3.6/site-packages (from iterative-stratification) (0.22.1)\n",
      "Requirement already satisfied: numpy in /home/ubuntu/.local/lib/python3.6/site-packages (from iterative-stratification) (1.18.1)\n",
      "Requirement already satisfied: scipy in /home/ubuntu/.local/lib/python3.6/site-packages (from iterative-stratification) (1.4.1)\n",
      "Requirement already satisfied: joblib>=0.11 in /home/ubuntu/.local/lib/python3.6/site-packages (from scikit-learn->iterative-stratification) (0.14.1)\n",
      "Installing collected packages: iterative-stratification\n",
      "Successfully installed iterative-stratification-0.1.6\n"
     ]
    }
   ],
   "source": [
    "!pip install iterative-stratification"
   ]
  },
  {
   "cell_type": "code",
   "execution_count": 5,
   "metadata": {},
   "outputs": [],
   "source": [
    "import pandas as pd\n",
    "from iterstrat.ml_stratifiers import MultilabelStratifiedKFold"
   ]
  },
  {
   "cell_type": "code",
   "execution_count": 14,
   "metadata": {},
   "outputs": [
    {
     "name": "stdout",
     "output_type": "stream",
     "text": [
      "  image_id  grapheme_root  vowel_diacritic  consonant_diacritic grapheme\n",
      "0  Train_0             15                9                    5   ক্ট্রো\n",
      "1  Train_1            159                0                    0        হ\n",
      "2  Train_2             22                3                    5     খ্রী\n",
      "3  Train_3             53                2                    2     র্টি\n",
      "4  Train_4             71                9                    5     থ্রো\n",
      "TRAIN:  [     0      1      2 ... 200836 200837 200838] VALID :  [     7     13     37 ... 200832 200833 200839]\n",
      "TRAIN:  [     0      3      6 ... 200837 200838 200839] VALID :  [     1      2      4 ... 200823 200824 200834]\n",
      "TRAIN:  [     0      1      2 ... 200837 200838 200839] VALID :  [    12     14     35 ... 200830 200831 200836]\n",
      "TRAIN:  [     1      2      3 ... 200836 200837 200839] VALID :  [     0      6     15 ... 200827 200835 200838]\n",
      "TRAIN:  [     0      1      2 ... 200836 200838 200839] VALID :  [     3     18     27 ... 200825 200829 200837]\n",
      "4    40168\n",
      "3    40168\n",
      "2    40168\n",
      "1    40168\n",
      "0    40168\n",
      "Name: kfold, dtype: int64\n"
     ]
    }
   ],
   "source": [
    "if __name__ == \"__main__\":\n",
    "    df = pd.read_csv(\"/home/ubuntu/datasets/bengali-ai/train.csv\")\n",
    "    print(df.head())\n",
    "    df.loc[:,\"kfold\"] = -1\n",
    "    \n",
    "    # random shuffle with fraction = 1 then reset the index\n",
    "    df = df.sample(frac=1).reset_index(drop=True)\n",
    "    \n",
    "    X = df.image_id.values\n",
    "    y = df[[\"grapheme_root\",\"vowel_diacritic\",\"consonant_diacritic\"]].values\n",
    "    \n",
    "    # define how many folds\n",
    "    mskf = MultilabelStratifiedKFold(n_splits=5)\n",
    "    \n",
    "    # Let's go through the iterator and get trai and al indices\n",
    "    for fold, (trn_, val_) in enumerate(mskf.split(X, y)):\n",
    "        print(\"TRAIN: \", trn_, \"VALID : \",val_)\n",
    "        df.loc[val_, \"kfold\"] = fold\n",
    "        \n",
    "    print(df.kfold.value_counts())\n",
    "    df.to_csv(\"../input/train_folds.csv\", index=False)"
   ]
  },
  {
   "cell_type": "code",
   "execution_count": 8,
   "metadata": {},
   "outputs": [],
   "source": [
    "df = pd.read_csv(\"../input/train_folds.csv\")"
   ]
  },
  {
   "cell_type": "code",
   "execution_count": 9,
   "metadata": {},
   "outputs": [
    {
     "data": {
      "text/html": [
       "<div>\n",
       "<style scoped>\n",
       "    .dataframe tbody tr th:only-of-type {\n",
       "        vertical-align: middle;\n",
       "    }\n",
       "\n",
       "    .dataframe tbody tr th {\n",
       "        vertical-align: top;\n",
       "    }\n",
       "\n",
       "    .dataframe thead th {\n",
       "        text-align: right;\n",
       "    }\n",
       "</style>\n",
       "<table border=\"1\" class=\"dataframe\">\n",
       "  <thead>\n",
       "    <tr style=\"text-align: right;\">\n",
       "      <th></th>\n",
       "      <th>image_id</th>\n",
       "      <th>grapheme_root</th>\n",
       "      <th>vowel_diacritic</th>\n",
       "      <th>consonant_diacritic</th>\n",
       "      <th>grapheme</th>\n",
       "      <th>kfold</th>\n",
       "    </tr>\n",
       "  </thead>\n",
       "  <tbody>\n",
       "    <tr>\n",
       "      <th>0</th>\n",
       "      <td>Train_14284</td>\n",
       "      <td>38</td>\n",
       "      <td>7</td>\n",
       "      <td>2</td>\n",
       "      <td>র্চে</td>\n",
       "      <td>3</td>\n",
       "    </tr>\n",
       "    <tr>\n",
       "      <th>1</th>\n",
       "      <td>Train_37768</td>\n",
       "      <td>38</td>\n",
       "      <td>8</td>\n",
       "      <td>0</td>\n",
       "      <td>চৈ</td>\n",
       "      <td>1</td>\n",
       "    </tr>\n",
       "    <tr>\n",
       "      <th>2</th>\n",
       "      <td>Train_63278</td>\n",
       "      <td>124</td>\n",
       "      <td>7</td>\n",
       "      <td>0</td>\n",
       "      <td>লে</td>\n",
       "      <td>1</td>\n",
       "    </tr>\n",
       "    <tr>\n",
       "      <th>3</th>\n",
       "      <td>Train_15242</td>\n",
       "      <td>103</td>\n",
       "      <td>4</td>\n",
       "      <td>5</td>\n",
       "      <td>ফ্রু</td>\n",
       "      <td>4</td>\n",
       "    </tr>\n",
       "    <tr>\n",
       "      <th>4</th>\n",
       "      <td>Train_13327</td>\n",
       "      <td>150</td>\n",
       "      <td>5</td>\n",
       "      <td>0</td>\n",
       "      <td>স্তূ</td>\n",
       "      <td>1</td>\n",
       "    </tr>\n",
       "  </tbody>\n",
       "</table>\n",
       "</div>"
      ],
      "text/plain": [
       "      image_id  grapheme_root  vowel_diacritic  consonant_diacritic grapheme  \\\n",
       "0  Train_14284             38                7                    2     র্চে   \n",
       "1  Train_37768             38                8                    0       চৈ   \n",
       "2  Train_63278            124                7                    0       লে   \n",
       "3  Train_15242            103                4                    5     ফ্রু   \n",
       "4  Train_13327            150                5                    0     স্তূ   \n",
       "\n",
       "   kfold  \n",
       "0      3  \n",
       "1      1  \n",
       "2      1  \n",
       "3      4  \n",
       "4      1  "
      ]
     },
     "execution_count": 9,
     "metadata": {},
     "output_type": "execute_result"
    }
   ],
   "source": [
    "df.head(5)"
   ]
  },
  {
   "cell_type": "code",
   "execution_count": 10,
   "metadata": {},
   "outputs": [
    {
     "data": {
      "text/html": [
       "<div>\n",
       "<style scoped>\n",
       "    .dataframe tbody tr th:only-of-type {\n",
       "        vertical-align: middle;\n",
       "    }\n",
       "\n",
       "    .dataframe tbody tr th {\n",
       "        vertical-align: top;\n",
       "    }\n",
       "\n",
       "    .dataframe thead th {\n",
       "        text-align: right;\n",
       "    }\n",
       "</style>\n",
       "<table border=\"1\" class=\"dataframe\">\n",
       "  <thead>\n",
       "    <tr style=\"text-align: right;\">\n",
       "      <th></th>\n",
       "      <th>image_id</th>\n",
       "      <th>grapheme_root</th>\n",
       "      <th>vowel_diacritic</th>\n",
       "      <th>consonant_diacritic</th>\n",
       "      <th>grapheme</th>\n",
       "    </tr>\n",
       "    <tr>\n",
       "      <th>kfold</th>\n",
       "      <th></th>\n",
       "      <th></th>\n",
       "      <th></th>\n",
       "      <th></th>\n",
       "      <th></th>\n",
       "    </tr>\n",
       "  </thead>\n",
       "  <tbody>\n",
       "    <tr>\n",
       "      <th>0</th>\n",
       "      <td>40168</td>\n",
       "      <td>40168</td>\n",
       "      <td>40168</td>\n",
       "      <td>40168</td>\n",
       "      <td>40168</td>\n",
       "    </tr>\n",
       "    <tr>\n",
       "      <th>1</th>\n",
       "      <td>40168</td>\n",
       "      <td>40168</td>\n",
       "      <td>40168</td>\n",
       "      <td>40168</td>\n",
       "      <td>40168</td>\n",
       "    </tr>\n",
       "    <tr>\n",
       "      <th>2</th>\n",
       "      <td>40168</td>\n",
       "      <td>40168</td>\n",
       "      <td>40168</td>\n",
       "      <td>40168</td>\n",
       "      <td>40168</td>\n",
       "    </tr>\n",
       "    <tr>\n",
       "      <th>3</th>\n",
       "      <td>40168</td>\n",
       "      <td>40168</td>\n",
       "      <td>40168</td>\n",
       "      <td>40168</td>\n",
       "      <td>40168</td>\n",
       "    </tr>\n",
       "    <tr>\n",
       "      <th>4</th>\n",
       "      <td>40168</td>\n",
       "      <td>40168</td>\n",
       "      <td>40168</td>\n",
       "      <td>40168</td>\n",
       "      <td>40168</td>\n",
       "    </tr>\n",
       "  </tbody>\n",
       "</table>\n",
       "</div>"
      ],
      "text/plain": [
       "       image_id  grapheme_root  vowel_diacritic  consonant_diacritic  grapheme\n",
       "kfold                                                                         \n",
       "0         40168          40168            40168                40168     40168\n",
       "1         40168          40168            40168                40168     40168\n",
       "2         40168          40168            40168                40168     40168\n",
       "3         40168          40168            40168                40168     40168\n",
       "4         40168          40168            40168                40168     40168"
      ]
     },
     "execution_count": 10,
     "metadata": {},
     "output_type": "execute_result"
    }
   ],
   "source": [
    "df.groupby('kfold').count()"
   ]
  },
  {
   "cell_type": "code",
   "execution_count": 17,
   "metadata": {},
   "outputs": [
    {
     "data": {
      "text/plain": [
       "kfold  consonant_diacritic\n",
       "0      0                      25056\n",
       "       1                       1503\n",
       "       2                       4727\n",
       "       3                        128\n",
       "       4                       4240\n",
       "       5                       4243\n",
       "       6                        271\n",
       "1      0                      25056\n",
       "       1                       1463\n",
       "       2                       4710\n",
       "       3                        133\n",
       "       4                       4297\n",
       "       5                       4223\n",
       "       6                        286\n",
       "2      0                      25055\n",
       "       1                       1488\n",
       "       2                       4707\n",
       "       3                        107\n",
       "       4                       4219\n",
       "       5                       4315\n",
       "       6                        277\n",
       "3      0                      25055\n",
       "       1                       1458\n",
       "       2                       4679\n",
       "       3                        140\n",
       "       4                       4289\n",
       "       5                       4269\n",
       "       6                        278\n",
       "4      0                      25056\n",
       "       1                       1512\n",
       "       2                       4642\n",
       "       3                        111\n",
       "       4                       4225\n",
       "       5                       4347\n",
       "       6                        275\n",
       "Name: image_id, dtype: int64"
      ]
     },
     "execution_count": 17,
     "metadata": {},
     "output_type": "execute_result"
    }
   ],
   "source": [
    "df.groupby(['kfold','consonant_diacritic']).image_id.count()"
   ]
  },
  {
   "cell_type": "markdown",
   "metadata": {},
   "source": [
    "__^ As expected, we see classes of consonant diacritic equally divided in all folds above__"
   ]
  }
 ],
 "metadata": {
  "kernelspec": {
   "display_name": "Python 3",
   "language": "python",
   "name": "python3"
  },
  "language_info": {
   "codemirror_mode": {
    "name": "ipython",
    "version": 3
   },
   "file_extension": ".py",
   "mimetype": "text/x-python",
   "name": "python",
   "nbconvert_exporter": "python",
   "pygments_lexer": "ipython3",
   "version": "3.6.10"
  }
 },
 "nbformat": 4,
 "nbformat_minor": 2
}
