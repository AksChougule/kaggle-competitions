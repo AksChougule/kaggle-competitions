{
 "cells": [
  {
   "cell_type": "markdown",
   "metadata": {},
   "source": [
    "### Testing our models"
   ]
  },
  {
   "cell_type": "markdown",
   "metadata": {},
   "source": [
    "This notebook will load saved model and predict the image labels"
   ]
  },
  {
   "cell_type": "code",
   "execution_count": 16,
   "metadata": {},
   "outputs": [],
   "source": [
    "import torch\n",
    "from torchvision.transforms import transforms\n",
    "from PIL import Image\n",
    "from pathlib import Path\n",
    "from torchvision import datasets, models, transforms\n",
    "from torch.utils.data import Dataset, DataLoader"
   ]
  },
  {
   "cell_type": "code",
   "execution_count": 21,
   "metadata": {},
   "outputs": [],
   "source": [
    "import os"
   ]
  },
  {
   "cell_type": "code",
   "execution_count": 4,
   "metadata": {},
   "outputs": [],
   "source": [
    "model = torch.load(Path('/home/ubuntu/codebase/my_github/kaggle-competitions/bengali-ai/approach_2/grapheme-root-base.pth'))"
   ]
  },
  {
   "cell_type": "code",
   "execution_count": 5,
   "metadata": {},
   "outputs": [],
   "source": [
    "trans = transforms.Compose([\n",
    "    transforms.ToTensor(),\n",
    "    transforms.Normalize([0.0692, 0.0692, 0.0692], [0.2051, 0.2051, 0.2051])\n",
    "    ])"
   ]
  },
  {
   "cell_type": "code",
   "execution_count": 7,
   "metadata": {},
   "outputs": [],
   "source": [
    "image = Image.open(Path('/home/ubuntu/datasets/bengali-ai/testing_images/testing_224by224/Test_0.png'))"
   ]
  },
  {
   "cell_type": "code",
   "execution_count": 9,
   "metadata": {},
   "outputs": [],
   "source": [
    "input = trans(image)"
   ]
  },
  {
   "cell_type": "code",
   "execution_count": null,
   "metadata": {},
   "outputs": [],
   "source": [
    "output = model(input)\n",
    "\n",
    "prediction = int(torch.max(output.data, 1)[1].numpy())\n",
    "print(prediction)"
   ]
  },
  {
   "cell_type": "code",
   "execution_count": 25,
   "metadata": {},
   "outputs": [],
   "source": [
    "class BengaliCharacterDataset(Dataset):\n",
    "    \"\"\"Bengali language handwritten character dataset.\"\"\"\n",
    "    \n",
    "    def __init__(self, root_dir, transform=None):\n",
    "        \"\"\"\n",
    "        Args:\n",
    "            dataframe (string): Dataframe of parquet dataset with image data.\n",
    "            transform (callable, optional): Optional transform to be applied\n",
    "                on a sample.\n",
    "        \"\"\"\n",
    "        self.root_dir = root_dir\n",
    "        self.transform = transform\n",
    "\n",
    "    def __len__(self):        \n",
    "        return len(os.listdir(self.root_dir))\n",
    "\n",
    "    def __getitem__(self, idx):\n",
    "        if torch.is_tensor(idx):\n",
    "            idx = idx.tolist()\n",
    "\n",
    "        image_id = 'Train_'+str(idx)\n",
    "        img_name = image_id+'.png'\n",
    "        \n",
    "        # columns from class_map: image_id, grapheme_root, vowel_diacritic, consonant_diacritic, grapheme\n",
    "        # img_label = train_labels.loc[train_labels['image_id'] == image_id, 'grapheme_root'].to_numpy()[0] \n",
    "        # added to.numpy()[0] to remove index number\n",
    "                \n",
    "        img_path = os.path.join(self.root_dir,img_name)\n",
    "        image = io.imread(img_path)\n",
    "\n",
    "        # sample = {'image': img_data, 'img_label': img_label}\n",
    "        \n",
    "        if self.transform:\n",
    "            image = self.transform(im.fromarray(image).convert('RGB'))\n",
    "            # sample = {'img_label': img_label, 'image': img_data}\n",
    "\n",
    "        return image"
   ]
  },
  {
   "cell_type": "code",
   "execution_count": 28,
   "metadata": {},
   "outputs": [],
   "source": [
    "# init the test loader\n",
    "test_loader = torch.utils.data.DataLoader(\n",
    "    BengaliCharacterDataset('/home/ubuntu/datasets/bengali-ai/testing_images/testing_224by224/',\n",
    "                   transform=transforms.Compose([\n",
    "                       transforms.ToTensor(),\n",
    "                       transforms.Normalize((0.0692,0.0692,0.0692), (0.2051,0.2051,0.2051))\n",
    "                   ])),\n",
    "    batch_size=2, shuffle=True\n",
    ")"
   ]
  },
  {
   "cell_type": "code",
   "execution_count": null,
   "metadata": {},
   "outputs": [],
   "source": [
    "single_loaded_img = test_loader.dataset.data[0]\n",
    "single_loaded_img = single_loaded_img.to(device)\n",
    "single_loaded_img = Variable(single_loaded_img)\n",
    "out_predict = model(single_loaded_img)"
   ]
  },
  {
   "cell_type": "code",
   "execution_count": 29,
   "metadata": {},
   "outputs": [
    {
     "data": {
      "text/plain": [
       "<__main__.BengaliCharacterDataset at 0x7f814404cc88>"
      ]
     },
     "execution_count": 29,
     "metadata": {},
     "output_type": "execute_result"
    }
   ],
   "source": [
    "test_loader.dataset.get"
   ]
  }
 ],
 "metadata": {
  "kernelspec": {
   "display_name": "Python 3",
   "language": "python",
   "name": "python3"
  },
  "language_info": {
   "codemirror_mode": {
    "name": "ipython",
    "version": 3
   },
   "file_extension": ".py",
   "mimetype": "text/x-python",
   "name": "python",
   "nbconvert_exporter": "python",
   "pygments_lexer": "ipython3",
   "version": "3.7.3"
  }
 },
 "nbformat": 4,
 "nbformat_minor": 2
}
